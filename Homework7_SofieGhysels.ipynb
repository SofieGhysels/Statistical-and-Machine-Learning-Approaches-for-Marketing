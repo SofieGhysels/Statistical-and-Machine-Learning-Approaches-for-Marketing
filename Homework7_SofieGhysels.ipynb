{
 "cells": [
  {
   "cell_type": "code",
   "execution_count": null,
   "id": "6983bad2",
   "metadata": {},
   "outputs": [],
   "source": [
    "# Sofie Ghysels / Homework 7"
   ]
  },
  {
   "cell_type": "code",
   "execution_count": null,
   "id": "542db896",
   "metadata": {},
   "outputs": [],
   "source": [
    "# Homework: Neural Network - Company Bankruptcy Prediction"
   ]
  },
  {
   "cell_type": "code",
   "execution_count": 50,
   "id": "8a9cc14e",
   "metadata": {},
   "outputs": [
    {
     "name": "stderr",
     "output_type": "stream",
     "text": [
      "Loading required package: Matrix\n",
      "\n",
      "Loaded glmnet 4.1-3\n",
      "\n"
     ]
    }
   ],
   "source": [
    "# Set environment params\n",
    "Sys.setenv(LANG='en')  # English\n",
    "\n",
    "# Import libraries\n",
    "library(mlr)           # ML toolkit\n",
    "library(caret)         # ML toolkit\n",
    "library(nnet)          # class.ind() function\n",
    "library(neuralnet)     # Deep Neural Networks\n",
    "library(randomForest)  # Random Forest\n",
    "library(e1071)         # SVM\n",
    "library(ggplot2)       # Visualization\n",
    "library(glmnet)\n",
    "\n",
    "# Import data\n",
    "library(ISLR)      # Data from the course book\n",
    "library(MASS)      # Boston housing dataset\n",
    "library(datasets)  # US crime dataset\n",
    "\n",
    "# Resize plot\n",
    "library(repr)  # String and binary representations"
   ]
  },
  {
   "cell_type": "code",
   "execution_count": 11,
   "id": "f53d6c74",
   "metadata": {},
   "outputs": [],
   "source": [
    "# importing the dataset\n",
    "data <- read.csv(\"C:/Users/sghysels/OneDrive - IESEG/Documents/2021-2022/SEMESTER 2/4. Statistical and Machine Learning approches for marketing/7/data.csv\")"
   ]
  },
  {
   "cell_type": "code",
   "execution_count": 15,
   "id": "c2acf90a",
   "metadata": {},
   "outputs": [
    {
     "name": "stdout",
     "output_type": "stream",
     "text": [
      "'data.frame':\t6819 obs. of  96 variables:\n",
      " $ Bankrupt.                                              : int  1 1 1 1 1 1 0 0 0 0 ...\n",
      " $ ROA.C..before.interest.and.depreciation.before.interest: num  0.371 0.464 0.426 0.4 0.465 ...\n",
      " $ ROA.A..before.interest.and...after.tax                 : num  0.424 0.538 0.499 0.451 0.538 ...\n",
      " $ ROA.B..before.interest.and.depreciation.after.tax      : num  0.406 0.517 0.472 0.458 0.522 ...\n",
      " $ Operating.Gross.Margin                                 : num  0.601 0.61 0.601 0.584 0.599 ...\n",
      " $ Realized.Sales.Gross.Margin                            : num  0.601 0.61 0.601 0.584 0.599 ...\n",
      " $ Operating.Profit.Rate                                  : num  0.999 0.999 0.999 0.999 0.999 ...\n",
      " $ Pre.tax.net.Interest.Rate                              : num  0.797 0.797 0.796 0.797 0.797 ...\n",
      " $ After.tax.net.Interest.Rate                            : num  0.809 0.809 0.808 0.809 0.809 ...\n",
      " $ Non.industry.income.and.expenditure.revenue            : num  0.303 0.304 0.302 0.303 0.303 ...\n",
      " $ Continuous.interest.rate..after.tax.                   : num  0.781 0.782 0.78 0.781 0.782 ...\n",
      " $ Operating.Expense.Rate                                 : num  1.26e-04 2.90e-04 2.36e-04 1.08e-04 7.89e+09 ...\n",
      " $ Research.and.development.expense.rate                  : num  0.00 0.00 2.55e+07 0.00 0.00 0.00 7.30e+08 5.09e+07 0.00 0.00 ...\n",
      " $ Cash.flow.rate                                         : num  0.458 0.462 0.459 0.466 0.463 ...\n",
      " $ Interest.bearing.debt.interest.rate                    : num  0.000725 0.000647 0.00079 0.000449 0.000686 ...\n",
      " $ Tax.rate..A.                                           : num  0 0 0 0 0 ...\n",
      " $ Net.Value.Per.Share..B.                                : num  0.148 0.182 0.178 0.154 0.168 ...\n",
      " $ Net.Value.Per.Share..A.                                : num  0.148 0.182 0.178 0.154 0.168 ...\n",
      " $ Net.Value.Per.Share..C.                                : num  0.148 0.182 0.194 0.154 0.168 ...\n",
      " $ Persistent.EPS.in.the.Last.Four.Seasons                : num  0.169 0.209 0.181 0.194 0.213 ...\n",
      " $ Cash.Flow.Per.Share                                    : num  0.312 0.318 0.307 0.322 0.319 ...\n",
      " $ Revenue.Per.Share..Yuan.Â..                            : num  0.01756 0.02114 0.00594 0.01437 0.02969 ...\n",
      " $ Operating.Profit.Per.Share..Yuan.Â..                   : num  0.0959 0.0937 0.0923 0.0778 0.0969 ...\n",
      " $ Per.Share.Net.profit.before.tax..Yuan.Â..              : num  0.139 0.17 0.143 0.149 0.168 ...\n",
      " $ Realized.Sales.Gross.Profit.Growth.Rate                : num  0.0221 0.0221 0.0228 0.022 0.0221 ...\n",
      " $ Operating.Profit.Growth.Rate                           : num  0.848 0.848 0.848 0.848 0.848 ...\n",
      " $ After.tax.Net.Profit.Growth.Rate                       : num  0.689 0.69 0.689 0.689 0.69 ...\n",
      " $ Regular.Net.Profit.Growth.Rate                         : num  0.689 0.69 0.689 0.689 0.69 ...\n",
      " $ Continuous.Net.Profit.Growth.Rate                      : num  0.218 0.218 0.218 0.218 0.218 ...\n",
      " $ Total.Asset.Growth.Rate                                : num  4.98e+09 6.11e+09 7.28e+09 4.88e+09 5.51e+09 6.08e+08 5.72e+09 6.63e+09 6.89e+09 5.55e+09 ...\n",
      " $ Net.Value.Growth.Rate                                  : num  0.000327 0.000443 0.000396 0.000382 0.000439 ...\n",
      " $ Total.Asset.Return.Growth.Rate.Ratio                   : num  0.263 0.265 0.264 0.263 0.265 ...\n",
      " $ Cash.Reinvestment..                                    : num  0.364 0.377 0.369 0.384 0.38 ...\n",
      " $ Current.Ratio                                          : num  0.00226 0.00602 0.01154 0.00419 0.00602 ...\n",
      " $ Quick.Ratio                                            : num  0.00121 0.00404 0.00535 0.0029 0.00373 ...\n",
      " $ Interest.Expense.Ratio                                 : num  0.63 0.635 0.63 0.63 0.636 ...\n",
      " $ Total.debt.Total.net.worth                             : num  0.02127 0.0125 0.02125 0.00957 0.00515 ...\n",
      " $ Debt.ratio..                                           : num  0.208 0.171 0.208 0.151 0.107 ...\n",
      " $ Net.worth.Assets                                       : num  0.792 0.829 0.792 0.849 0.893 ...\n",
      " $ Long.term.fund.suitability.ratio..A.                   : num  0.00502 0.00506 0.0051 0.00505 0.0053 ...\n",
      " $ Borrowing.dependency                                   : num  0.39 0.377 0.379 0.38 0.375 ...\n",
      " $ Contingent.liabilities.Net.worth                       : num  0.00648 0.00584 0.00656 0.00537 0.00662 ...\n",
      " $ Operating.profit.Paid.in.capital                       : num  0.0959 0.0937 0.0923 0.0777 0.0969 ...\n",
      " $ Net.profit.before.tax.Paid.in.capital                  : num  0.138 0.169 0.148 0.148 0.167 ...\n",
      " $ Inventory.and.accounts.receivable.Net.value            : num  0.398 0.398 0.407 0.398 0.4 ...\n",
      " $ Total.Asset.Turnover                                   : num  0.087 0.0645 0.015 0.09 0.1754 ...\n",
      " $ Accounts.Receivable.Turnover                           : num  0.00181 0.00129 0.0015 0.00197 0.00145 ...\n",
      " $ Average.Collection.Days                                : num  0.00349 0.00492 0.00423 0.00321 0.00437 ...\n",
      " $ Inventory.Turnover.Rate..times.                        : num  1.82e-04 9.36e+09 6.50e+07 7.13e+09 1.63e-04 ...\n",
      " $ Fixed.Assets.Turnover.Frequency                        : num  1.17e-04 7.19e+08 2.65e+09 9.15e+09 2.94e-04 ...\n",
      " $ Net.Worth.Turnover.Rate..times.                        : num  0.0329 0.0255 0.0134 0.0281 0.0402 ...\n",
      " $ Revenue.per.person                                     : num  0.03416 0.00689 0.029 0.01546 0.05811 ...\n",
      " $ Operating.profit.per.person                            : num  0.393 0.392 0.382 0.378 0.394 ...\n",
      " $ Allocation.rate.per.person                             : num  0.0371 0.0123 0.141 0.0213 0.024 ...\n",
      " $ Working.Capital.to.Total.Assets                        : num  0.673 0.751 0.83 0.726 0.752 ...\n",
      " $ Quick.Assets.Total.Assets                              : num  0.167 0.127 0.34 0.162 0.26 ...\n",
      " $ Current.Assets.Total.Assets                            : num  0.191 0.182 0.603 0.226 0.358 ...\n",
      " $ Cash.Total.Assets                                      : num  0.004094 0.014948 0.000991 0.018851 0.014161 ...\n",
      " $ Quick.Assets.Current.Liability                         : num  0.002 0.00414 0.0063 0.00296 0.00427 ...\n",
      " $ Cash.Current.Liability                                 : num  1.47e-04 1.38e-03 5.34e+09 1.01e-03 6.80e-04 ...\n",
      " $ Current.Liability.to.Assets                            : num  0.1473 0.057 0.0982 0.0987 0.1102 ...\n",
      " $ Operating.Funds.to.Liability                           : num  0.334 0.341 0.337 0.349 0.345 ...\n",
      " $ Inventory.Working.Capital                              : num  0.277 0.29 0.277 0.277 0.288 ...\n",
      " $ Inventory.Current.Liability                            : num  0.00104 0.00521 0.01388 0.00354 0.00487 ...\n",
      " $ Current.Liabilities.Liability                          : num  0.676 0.309 0.446 0.616 0.975 ...\n",
      " $ Working.Capital.Equity                                 : num  0.721 0.732 0.743 0.73 0.732 ...\n",
      " $ Current.Liabilities.Equity                             : num  0.339 0.33 0.335 0.332 0.331 ...\n",
      " $ Long.term.Liability.to.Current.Assets                  : num  0.02559 0.02395 0.00372 0.02217 0 ...\n",
      " $ Retained.Earnings.to.Total.Assets                      : num  0.903 0.931 0.91 0.907 0.914 ...\n",
      " $ Total.income.Total.expense                             : num  0.00202 0.00223 0.00206 0.00183 0.00222 ...\n",
      " $ Total.expense.Assets                                   : num  0.0649 0.0255 0.0214 0.0242 0.0264 ...\n",
      " $ Current.Asset.Turnover.Rate                            : num  7.01e+08 1.07e-04 1.79e-03 8.14e+09 6.68e+09 ...\n",
      " $ Quick.Asset.Turnover.Rate                              : num  6.55e+09 7.70e+09 1.02e-03 6.05e+09 5.05e+09 ...\n",
      " $ Working.capitcal.Turnover.Rate                         : num  0.594 0.594 0.595 0.594 0.594 ...\n",
      " $ Cash.Turnover.Rate                                     : num  4.58e+08 2.49e+09 7.61e+08 2.03e+09 8.24e+08 ...\n",
      " $ Cash.Flow.to.Sales                                     : num  0.672 0.672 0.672 0.672 0.672 ...\n",
      " $ Fixed.Assets.to.Assets                                 : num  0.424 0.469 0.276 0.559 0.31 ...\n",
      " $ Current.Liability.to.Liability                         : num  0.676 0.309 0.446 0.616 0.975 ...\n",
      " $ Current.Liability.to.Equity                            : num  0.339 0.33 0.335 0.332 0.331 ...\n",
      " $ Equity.to.Long.term.Liability                          : num  0.127 0.121 0.118 0.121 0.111 ...\n",
      " $ Cash.Flow.to.Total.Assets                              : num  0.638 0.641 0.643 0.579 0.622 ...\n",
      " $ Cash.Flow.to.Liability                                 : num  0.459 0.459 0.459 0.449 0.454 ...\n",
      " $ CFO.to.Assets                                          : num  0.52 0.567 0.538 0.604 0.578 ...\n",
      " $ Cash.Flow.to.Equity                                    : num  0.313 0.314 0.315 0.302 0.312 ...\n",
      " $ Current.Liability.to.Current.Assets                    : num  0.1183 0.0478 0.0253 0.0672 0.0477 ...\n",
      " $ Liability.Assets.Flag                                  : int  0 0 0 0 0 0 0 0 0 0 ...\n",
      " $ Net.Income.to.Total.Assets                             : num  0.717 0.795 0.775 0.74 0.795 ...\n",
      " $ Total.assets.to.GNP.price                              : num  0.00922 0.00832 0.04 0.00325 0.00388 ...\n",
      " $ No.credit.Interval                                     : num  0.623 0.624 0.624 0.623 0.624 ...\n",
      " $ Gross.Profit.to.Sales                                  : num  0.601 0.61 0.601 0.584 0.599 ...\n",
      " $ Net.Income.to.Stockholder.s.Equity                     : num  0.828 0.84 0.837 0.835 0.84 ...\n",
      " $ Liability.to.Equity                                    : num  0.29 0.284 0.29 0.282 0.279 ...\n",
      " $ Degree.of.Financial.Leverage..DFL.                     : num  0.0266 0.2646 0.0266 0.0267 0.0248 ...\n",
      " $ Interest.Coverage.Ratio..Interest.expense.to.EBIT.     : num  0.564 0.57 0.564 0.565 0.576 ...\n",
      " $ Net.Income.Flag                                        : int  1 1 1 1 1 1 1 1 1 1 ...\n",
      " $ Equity.to.Liability                                    : num  0.0165 0.0208 0.0165 0.024 0.0355 ...\n"
     ]
    }
   ],
   "source": [
    "str(data)"
   ]
  },
  {
   "cell_type": "code",
   "execution_count": 9,
   "id": "e0f04c32",
   "metadata": {},
   "outputs": [
    {
     "name": "stdout",
     "output_type": "stream",
     "text": [
      "package 'neuralnet' successfully unpacked and MD5 sums checked\n",
      "\n",
      "The downloaded binary packages are in\n",
      "\tC:\\Users\\sghysels\\AppData\\Local\\Temp\\RtmpWEPq1w\\downloaded_packages\n"
     ]
    }
   ],
   "source": [
    "install.packages(\"neuralnet\")\n",
    "library('neuralnet')"
   ]
  },
  {
   "cell_type": "code",
   "execution_count": null,
   "id": "d3251001",
   "metadata": {},
   "outputs": [],
   "source": [
    "# Q1: Randomly divide data into train/test as 80/20 (set.seed=1)"
   ]
  },
  {
   "cell_type": "code",
   "execution_count": 19,
   "id": "0a1c4721",
   "metadata": {},
   "outputs": [],
   "source": [
    "#splitting data into training and testing set\n",
    "set.seed(1)\n",
    "train_index <- sample(1:nrow(data), nrow(data) * 0.2)\n",
    "train <- data[train_index, ]\n",
    "test <- data[-train_index, ]"
   ]
  },
  {
   "cell_type": "code",
   "execution_count": null,
   "id": "8e11b4ce",
   "metadata": {},
   "outputs": [],
   "source": [
    "# Q2: Build a NN model with 1 hidden layer of 30 neurons, sigmoid activation function."
   ]
  },
  {
   "cell_type": "code",
   "execution_count": null,
   "id": "a8d8fe6e",
   "metadata": {},
   "outputs": [],
   "source": [
    "n <- neuralnet(data ~ .,\n",
    "               data = train,\n",
    "               hidden = c(30),\n",
    "               linear.output = F,\n",
    "               lifesign = 'full',\n",
    "               rep=1)"
   ]
  },
  {
   "cell_type": "code",
   "execution_count": null,
   "id": "c7dacd59",
   "metadata": {},
   "outputs": [],
   "source": [
    "# visually plot the model \n",
    "plot(n,col.hidden = 'darkgreen',     \n",
    "col.hidden.synapse = 'darkgreen',\n",
    "     show.weights = F,\n",
    "     information = F,\n",
    "     fill = 'lightblue')"
   ]
  },
  {
   "cell_type": "code",
   "execution_count": null,
   "id": "1a0de2e4",
   "metadata": {},
   "outputs": [],
   "source": [
    "# Q3: Build a deep NN model with multiple hidden layers (of your choice) and sigmoid activation function."
   ]
  },
  {
   "cell_type": "code",
   "execution_count": null,
   "id": "a5f8c17b",
   "metadata": {},
   "outputs": [],
   "source": [
    "n2 <- neuralnet(data ~ .,\n",
    "               data = train,\n",
    "               hidden = c(12,7),\n",
    "               linear.output = F,\n",
    "               lifesign = 'full',\n",
    "               rep=1)"
   ]
  },
  {
   "cell_type": "code",
   "execution_count": null,
   "id": "1b4340a9",
   "metadata": {},
   "outputs": [],
   "source": [
    "# visually plot the model \n",
    "plot(n2,col.hidden = 'darkgreen',     \n",
    "col.hidden.synapse = 'darkgreen',\n",
    "     show.weights = F,\n",
    "     information = F,\n",
    "     fill = 'lightblue')"
   ]
  },
  {
   "cell_type": "code",
   "execution_count": null,
   "id": "52b14d69",
   "metadata": {},
   "outputs": [],
   "source": [
    "# Q4: Build 5 other classification models and compare with the 2 previous NN models"
   ]
  },
  {
   "cell_type": "code",
   "execution_count": null,
   "id": "cc4b44c2",
   "metadata": {},
   "outputs": [],
   "source": [
    "# Logistic regression"
   ]
  },
  {
   "cell_type": "code",
   "execution_count": 42,
   "id": "178af7f6",
   "metadata": {},
   "outputs": [
    {
     "name": "stderr",
     "output_type": "stream",
     "text": [
      "Warning message:\n",
      "\"glm.fit: algorithm did not converge\"\n",
      "Warning message:\n",
      "\"glm.fit: fitted probabilities numerically 0 or 1 occurred\"\n"
     ]
    }
   ],
   "source": [
    "log.model <- glm(Bankrupt. ~ ., data = data, family = 'binomial')"
   ]
  },
  {
   "cell_type": "code",
   "execution_count": 43,
   "id": "0e1e26dc",
   "metadata": {},
   "outputs": [
    {
     "data": {
      "text/plain": [
       "\n",
       "Call:\n",
       "glm(formula = Bankrupt. ~ ., family = \"binomial\", data = data)\n",
       "\n",
       "Deviance Residuals: \n",
       "   Min      1Q  Median      3Q     Max  \n",
       " -8.49    0.00    0.00    0.00    8.49  \n",
       "\n",
       "Coefficients: (4 not defined because of singularities)\n",
       "                                                          Estimate Std. Error\n",
       "(Intercept)                                              6.218e+23  4.542e+15\n",
       "ROA.C..before.interest.and.depreciation.before.interest -8.574e+16  1.114e+08\n",
       "ROA.A..before.interest.and...after.tax                   1.731e+15  8.205e+07\n",
       "ROA.B..before.interest.and.depreciation.after.tax        5.856e+16  1.339e+08\n",
       "Operating.Gross.Margin                                   5.919e+19  3.942e+11\n",
       "Realized.Sales.Gross.Margin                              1.034e+17  1.577e+09\n",
       "Operating.Profit.Rate                                   -8.037e+21  1.414e+13\n",
       "Pre.tax.net.Interest.Rate                                6.718e+21  1.181e+13\n",
       "After.tax.net.Interest.Rate                             -1.130e+18  2.552e+09\n",
       "Non.industry.income.and.expenditure.revenue             -3.844e+21  6.760e+12\n",
       "Continuous.interest.rate..after.tax.                    -5.372e+17  1.179e+09\n",
       "Operating.Expense.Rate                                   3.712e+04  2.820e-04\n",
       "Research.and.development.expense.rate                    4.054e+04  3.270e-04\n",
       "Cash.flow.rate                                          -2.899e+16  1.316e+08\n",
       "Interest.bearing.debt.interest.rate                      1.823e+06  7.666e-03\n",
       "Tax.rate..A.                                            -2.854e+15  6.757e+06\n",
       "Net.Value.Per.Share..B.                                 -1.045e+17  6.809e+08\n",
       "Net.Value.Per.Share..A.                                 -1.182e+17  1.519e+09\n",
       "Net.Value.Per.Share..C.                                  2.158e+17  1.358e+09\n",
       "Persistent.EPS.in.the.Last.Four.Seasons                 -6.668e+15  1.384e+08\n",
       "Cash.Flow.Per.Share                                     -1.306e+15  9.505e+07\n",
       "Revenue.Per.Share..Yuan.Â..                              1.170e+06  3.289e-02\n",
       "Operating.Profit.Per.Share..Yuan.Â..                     7.983e+16  7.349e+08\n",
       "Per.Share.Net.profit.before.tax..Yuan.Â..                1.888e+16  1.142e+08\n",
       "Realized.Sales.Gross.Profit.Growth.Rate                 -1.231e+15  6.861e+07\n",
       "Operating.Profit.Growth.Rate                            -6.353e+15  1.051e+08\n",
       "After.tax.Net.Profit.Growth.Rate                        -4.847e+16  6.781e+08\n",
       "Regular.Net.Profit.Growth.Rate                           4.840e+16  6.733e+08\n",
       "Continuous.Net.Profit.Growth.Rate                       -3.290e+15  8.171e+07\n",
       "Total.Asset.Growth.Rate                                 -9.241e+04  2.976e-04\n",
       "Net.Value.Growth.Rate                                   -4.879e+04  8.219e-03\n",
       "Total.Asset.Return.Growth.Rate.Ratio                    -9.711e+15  1.141e+08\n",
       "Cash.Reinvestment..                                      2.604e+16  7.586e+07\n",
       "Current.Ratio                                           -2.269e+05  2.847e-02\n",
       "Quick.Ratio                                             -7.835e+04  3.420e-03\n",
       "Interest.Expense.Ratio                                  -2.097e+15  7.267e+07\n",
       "Total.debt.Total.net.worth                              -4.650e+05  6.054e-03\n",
       "Debt.ratio..                                             4.824e+16  7.990e+07\n",
       "Net.worth.Assets                                                NA         NA\n",
       "Long.term.fund.suitability.ratio..A.                    -1.265e+14  3.503e+07\n",
       "Borrowing.dependency                                     6.807e+16  3.055e+08\n",
       "Contingent.liabilities.Net.worth                        -2.145e+16  2.097e+08\n",
       "Operating.profit.Paid.in.capital                        -8.999e+16  7.395e+08\n",
       "Net.profit.before.tax.Paid.in.capital                   -9.408e+15  1.449e+08\n",
       "Inventory.and.accounts.receivable.Net.value             -4.164e+16  3.677e+08\n",
       "Total.Asset.Turnover                                    -1.273e+16  1.973e+07\n",
       "Accounts.Receivable.Turnover                            -7.825e+05  3.663e-03\n",
       "Average.Collection.Days                                 -5.513e+05  3.627e-03\n",
       "Inventory.Turnover.Rate..times.                         -3.009e+04  2.674e-04\n",
       "Fixed.Assets.Turnover.Frequency                          1.830e+05  3.804e-04\n",
       "Net.Worth.Turnover.Rate..times.                         -8.432e+14  5.654e+07\n",
       "Revenue.per.person                                       6.370e+05  1.088e-02\n",
       "Operating.profit.per.person                             -1.128e+16  3.143e+07\n",
       "Allocation.rate.per.person                              -7.674e+04  2.962e-03\n",
       "Working.Capital.to.Total.Assets                         -8.219e+23  6.041e+15\n",
       "Quick.Assets.Total.Assets                                8.303e+14  8.885e+06\n",
       "Current.Assets.Total.Assets                              2.251e+23  1.654e+15\n",
       "Cash.Total.Assets                                       -4.179e+14  1.034e+07\n",
       "Quick.Assets.Current.Liability                           1.339e+05  5.309e-03\n",
       "Cash.Current.Liability                                   1.504e+05  1.644e-03\n",
       "Current.Liability.to.Assets                             -7.331e+23  5.388e+15\n",
       "Operating.Funds.to.Liability                             1.299e+16  6.797e+07\n",
       "Inventory.Working.Capital                                5.940e+15  8.107e+07\n",
       "Inventory.Current.Liability                             -3.110e+05  1.448e-03\n",
       "Current.Liabilities.Liability                            4.462e+15  1.155e+07\n",
       "Working.Capital.Equity                                  -2.021e+16  4.566e+08\n",
       "Current.Liabilities.Equity                               1.115e+17  1.030e+09\n",
       "Long.term.Liability.to.Current.Assets                    1.361e+05  1.446e-03\n",
       "Retained.Earnings.to.Total.Assets                        1.577e+16  6.200e+07\n",
       "Total.income.Total.expense                               8.421e+15  7.788e+07\n",
       "Total.expense.Assets                                    -6.701e+15  5.524e+07\n",
       "Current.Asset.Turnover.Rate                              3.727e+04  3.548e-04\n",
       "Quick.Asset.Turnover.Rate                                9.659e+03  2.891e-04\n",
       "Working.capitcal.Turnover.Rate                           2.941e+16  8.448e+08\n",
       "Cash.Turnover.Rate                                      -1.337e+05  2.969e-04\n",
       "Cash.Flow.to.Sales                                      -3.555e+16  4.489e+08\n",
       "Fixed.Assets.to.Assets                                   8.466e+05  8.898e-03\n",
       "Current.Liability.to.Liability                                  NA         NA\n",
       "Current.Liability.to.Equity                                     NA         NA\n",
       "Equity.to.Long.term.Liability                            2.045e+16  2.803e+08\n",
       "Cash.Flow.to.Total.Assets                                6.450e+14  3.716e+07\n",
       "Cash.Flow.to.Liability                                  -5.441e+15  4.561e+07\n",
       "CFO.to.Assets                                           -7.844e+15  3.800e+07\n",
       "Cash.Flow.to.Equity                                      9.808e+15  1.155e+08\n",
       "Current.Liability.to.Current.Assets                      4.901e+15  4.654e+07\n",
       "Liability.Assets.Flag                                   -3.850e+15  3.563e+07\n",
       "Net.Income.to.Total.Assets                              -3.394e+16  1.092e+08\n",
       "Total.assets.to.GNP.price                                1.151e+05  2.256e-03\n",
       "No.credit.Interval                                      -1.221e+15  6.668e+07\n",
       "Gross.Profit.to.Sales                                   -5.933e+19  3.941e+11\n",
       "Net.Income.to.Stockholder.s.Equity                       2.830e+16  1.665e+08\n",
       "Liability.to.Equity                                     -1.443e+17  1.219e+09\n",
       "Degree.of.Financial.Leverage..DFL.                       6.321e+14  5.200e+07\n",
       "Interest.Coverage.Ratio..Interest.expense.to.EBIT.      -1.056e+15  6.176e+07\n",
       "Net.Income.Flag                                                 NA         NA\n",
       "Equity.to.Liability                                      5.654e+15  2.885e+07\n",
       "                                                           z value Pr(>|z|)    \n",
       "(Intercept)                                              136901347   <2e-16 ***\n",
       "ROA.C..before.interest.and.depreciation.before.interest -769711222   <2e-16 ***\n",
       "ROA.A..before.interest.and...after.tax                    21097055   <2e-16 ***\n",
       "ROA.B..before.interest.and.depreciation.after.tax        437345459   <2e-16 ***\n",
       "Operating.Gross.Margin                                   150177720   <2e-16 ***\n",
       "Realized.Sales.Gross.Margin                               65611412   <2e-16 ***\n",
       "Operating.Profit.Rate                                   -568371983   <2e-16 ***\n",
       "Pre.tax.net.Interest.Rate                                568861388   <2e-16 ***\n",
       "After.tax.net.Interest.Rate                             -442999805   <2e-16 ***\n",
       "Non.industry.income.and.expenditure.revenue             -568700535   <2e-16 ***\n",
       "Continuous.interest.rate..after.tax.                    -455646583   <2e-16 ***\n",
       "Operating.Expense.Rate                                   131643945   <2e-16 ***\n",
       "Research.and.development.expense.rate                    123984643   <2e-16 ***\n",
       "Cash.flow.rate                                          -220247476   <2e-16 ***\n",
       "Interest.bearing.debt.interest.rate                      237782863   <2e-16 ***\n",
       "Tax.rate..A.                                            -422311905   <2e-16 ***\n",
       "Net.Value.Per.Share..B.                                 -153501259   <2e-16 ***\n",
       "Net.Value.Per.Share..A.                                  -77792719   <2e-16 ***\n",
       "Net.Value.Per.Share..C.                                  158976881   <2e-16 ***\n",
       "Persistent.EPS.in.the.Last.Four.Seasons                  -48180700   <2e-16 ***\n",
       "Cash.Flow.Per.Share                                      -13735579   <2e-16 ***\n",
       "Revenue.Per.Share..Yuan.Â..                               35564331   <2e-16 ***\n",
       "Operating.Profit.Per.Share..Yuan.Â..                     108627199   <2e-16 ***\n",
       "Per.Share.Net.profit.before.tax..Yuan.Â..                165322636   <2e-16 ***\n",
       "Realized.Sales.Gross.Profit.Growth.Rate                  -17946611   <2e-16 ***\n",
       "Operating.Profit.Growth.Rate                             -60429526   <2e-16 ***\n",
       "After.tax.Net.Profit.Growth.Rate                         -71472897   <2e-16 ***\n",
       "Regular.Net.Profit.Growth.Rate                            71894907   <2e-16 ***\n",
       "Continuous.Net.Profit.Growth.Rate                        -40265124   <2e-16 ***\n",
       "Total.Asset.Growth.Rate                                 -310502243   <2e-16 ***\n",
       "Net.Value.Growth.Rate                                     -5935833   <2e-16 ***\n",
       "Total.Asset.Return.Growth.Rate.Ratio                     -85147243   <2e-16 ***\n",
       "Cash.Reinvestment..                                      343301902   <2e-16 ***\n",
       "Current.Ratio                                             -7969004   <2e-16 ***\n",
       "Quick.Ratio                                              -22909139   <2e-16 ***\n",
       "Interest.Expense.Ratio                                   -28854088   <2e-16 ***\n",
       "Total.debt.Total.net.worth                               -76803294   <2e-16 ***\n",
       "Debt.ratio..                                             603701300   <2e-16 ***\n",
       "Net.worth.Assets                                                NA       NA    \n",
       "Long.term.fund.suitability.ratio..A.                      -3610155   <2e-16 ***\n",
       "Borrowing.dependency                                     222779760   <2e-16 ***\n",
       "Contingent.liabilities.Net.worth                        -102327921   <2e-16 ***\n",
       "Operating.profit.Paid.in.capital                        -121687790   <2e-16 ***\n",
       "Net.profit.before.tax.Paid.in.capital                    -64937163   <2e-16 ***\n",
       "Inventory.and.accounts.receivable.Net.value             -113246350   <2e-16 ***\n",
       "Total.Asset.Turnover                                    -644843083   <2e-16 ***\n",
       "Accounts.Receivable.Turnover                            -213639723   <2e-16 ***\n",
       "Average.Collection.Days                                 -152011058   <2e-16 ***\n",
       "Inventory.Turnover.Rate..times.                         -112552137   <2e-16 ***\n",
       "Fixed.Assets.Turnover.Frequency                          481061125   <2e-16 ***\n",
       "Net.Worth.Turnover.Rate..times.                          -14913401   <2e-16 ***\n",
       "Revenue.per.person                                        58570975   <2e-16 ***\n",
       "Operating.profit.per.person                             -358842163   <2e-16 ***\n",
       "Allocation.rate.per.person                               -25909975   <2e-16 ***\n",
       "Working.Capital.to.Total.Assets                         -136056972   <2e-16 ***\n",
       "Quick.Assets.Total.Assets                                 93445370   <2e-16 ***\n",
       "Current.Assets.Total.Assets                              136056973   <2e-16 ***\n",
       "Cash.Total.Assets                                        -40428114   <2e-16 ***\n",
       "Quick.Assets.Current.Liability                            25222246   <2e-16 ***\n",
       "Cash.Current.Liability                                    91452431   <2e-16 ***\n",
       "Current.Liability.to.Assets                             -136056977   <2e-16 ***\n",
       "Operating.Funds.to.Liability                             191137389   <2e-16 ***\n",
       "Inventory.Working.Capital                                 73270164   <2e-16 ***\n",
       "Inventory.Current.Liability                             -214864708   <2e-16 ***\n",
       "Current.Liabilities.Liability                            386178049   <2e-16 ***\n",
       "Working.Capital.Equity                                   -44269545   <2e-16 ***\n",
       "Current.Liabilities.Equity                               108275441   <2e-16 ***\n",
       "Long.term.Liability.to.Current.Assets                     94112234   <2e-16 ***\n",
       "Retained.Earnings.to.Total.Assets                        254412312   <2e-16 ***\n",
       "Total.income.Total.expense                               108134803   <2e-16 ***\n",
       "Total.expense.Assets                                    -121303450   <2e-16 ***\n",
       "Current.Asset.Turnover.Rate                              105030627   <2e-16 ***\n",
       "Quick.Asset.Turnover.Rate                                 33412730   <2e-16 ***\n",
       "Working.capitcal.Turnover.Rate                            34806102   <2e-16 ***\n",
       "Cash.Turnover.Rate                                      -450254081   <2e-16 ***\n",
       "Cash.Flow.to.Sales                                       -79178306   <2e-16 ***\n",
       "Fixed.Assets.to.Assets                                    95142392   <2e-16 ***\n",
       "Current.Liability.to.Liability                                  NA       NA    \n",
       "Current.Liability.to.Equity                                     NA       NA    \n",
       "Equity.to.Long.term.Liability                             72974910   <2e-16 ***\n",
       "Cash.Flow.to.Total.Assets                                 17358539   <2e-16 ***\n",
       "Cash.Flow.to.Liability                                  -119293910   <2e-16 ***\n",
       "CFO.to.Assets                                           -206426647   <2e-16 ***\n",
       "Cash.Flow.to.Equity                                       84938324   <2e-16 ***\n",
       "Current.Liability.to.Current.Assets                      105315179   <2e-16 ***\n",
       "Liability.Assets.Flag                                   -108058303   <2e-16 ***\n",
       "Net.Income.to.Total.Assets                              -310780549   <2e-16 ***\n",
       "Total.assets.to.GNP.price                                 51002467   <2e-16 ***\n",
       "No.credit.Interval                                       -18314334   <2e-16 ***\n",
       "Gross.Profit.to.Sales                                   -150532872   <2e-16 ***\n",
       "Net.Income.to.Stockholder.s.Equity                       169949367   <2e-16 ***\n",
       "Liability.to.Equity                                     -118396627   <2e-16 ***\n",
       "Degree.of.Financial.Leverage..DFL.                        12155047   <2e-16 ***\n",
       "Interest.Coverage.Ratio..Interest.expense.to.EBIT.       -17093526   <2e-16 ***\n",
       "Net.Income.Flag                                                 NA       NA    \n",
       "Equity.to.Liability                                      195981229   <2e-16 ***\n",
       "---\n",
       "Signif. codes:  0 '***' 0.001 '**' 0.01 '*' 0.05 '.' 0.1 ' ' 1\n",
       "\n",
       "(Dispersion parameter for binomial family taken to be 1)\n",
       "\n",
       "    Null deviance:  1943.7  on 6818  degrees of freedom\n",
       "Residual deviance: 15354.6  on 6727  degrees of freedom\n",
       "AIC: 15539\n",
       "\n",
       "Number of Fisher Scoring iterations: 25\n"
      ]
     },
     "metadata": {},
     "output_type": "display_data"
    }
   ],
   "source": [
    "summary(log.model)"
   ]
  },
  {
   "cell_type": "code",
   "execution_count": 44,
   "id": "4eae60a2",
   "metadata": {},
   "outputs": [
    {
     "data": {
      "text/html": [
       "<table class=\"dataframe\">\n",
       "<caption>A matrix: 92 × 4 of type dbl</caption>\n",
       "<thead>\n",
       "\t<tr><th></th><th scope=col>Estimate</th><th scope=col>Std. Error</th><th scope=col>z value</th><th scope=col>Pr(&gt;|z|)</th></tr>\n",
       "</thead>\n",
       "<tbody>\n",
       "\t<tr><th scope=row>(Intercept)</th><td> 6.218429e+23</td><td>4.542270e+15</td><td> 136901347</td><td>0</td></tr>\n",
       "\t<tr><th scope=row>ROA.C..before.interest.and.depreciation.before.interest</th><td>-8.574363e+16</td><td>1.113971e+08</td><td>-769711222</td><td>0</td></tr>\n",
       "\t<tr><th scope=row>ROA.A..before.interest.and...after.tax</th><td> 1.731090e+15</td><td>8.205362e+07</td><td>  21097055</td><td>0</td></tr>\n",
       "\t<tr><th scope=row>ROA.B..before.interest.and.depreciation.after.tax</th><td> 5.856197e+16</td><td>1.339032e+08</td><td> 437345459</td><td>0</td></tr>\n",
       "\t<tr><th scope=row>Operating.Gross.Margin</th><td> 5.919309e+19</td><td>3.941536e+11</td><td> 150177720</td><td>0</td></tr>\n",
       "\t<tr><th scope=row>Realized.Sales.Gross.Margin</th><td> 1.034424e+17</td><td>1.576592e+09</td><td>  65611412</td><td>0</td></tr>\n",
       "\t<tr><th scope=row>Operating.Profit.Rate</th><td>-8.036622e+21</td><td>1.413972e+13</td><td>-568371983</td><td>0</td></tr>\n",
       "\t<tr><th scope=row>Pre.tax.net.Interest.Rate</th><td> 6.718265e+21</td><td>1.181002e+13</td><td> 568861388</td><td>0</td></tr>\n",
       "\t<tr><th scope=row>After.tax.net.Interest.Rate</th><td>-1.130392e+18</td><td>2.551675e+09</td><td>-442999805</td><td>0</td></tr>\n",
       "\t<tr><th scope=row>Non.industry.income.and.expenditure.revenue</th><td>-3.844230e+21</td><td>6.759673e+12</td><td>-568700535</td><td>0</td></tr>\n",
       "\t<tr><th scope=row>Continuous.interest.rate..after.tax.</th><td>-5.372147e+17</td><td>1.179016e+09</td><td>-455646583</td><td>0</td></tr>\n",
       "\t<tr><th scope=row>Operating.Expense.Rate</th><td> 3.711995e+04</td><td>2.819723e-04</td><td> 131643945</td><td>0</td></tr>\n",
       "\t<tr><th scope=row>Research.and.development.expense.rate</th><td> 4.054195e+04</td><td>3.269917e-04</td><td> 123984643</td><td>0</td></tr>\n",
       "\t<tr><th scope=row>Cash.flow.rate</th><td>-2.898706e+16</td><td>1.316113e+08</td><td>-220247476</td><td>0</td></tr>\n",
       "\t<tr><th scope=row>Interest.bearing.debt.interest.rate</th><td> 1.822837e+06</td><td>7.665975e-03</td><td> 237782863</td><td>0</td></tr>\n",
       "\t<tr><th scope=row>Tax.rate..A.</th><td>-2.853530e+15</td><td>6.756926e+06</td><td>-422311905</td><td>0</td></tr>\n",
       "\t<tr><th scope=row>Net.Value.Per.Share..B.</th><td>-1.045207e+17</td><td>6.809110e+08</td><td>-153501259</td><td>0</td></tr>\n",
       "\t<tr><th scope=row>Net.Value.Per.Share..A.</th><td>-1.181584e+17</td><td>1.518888e+09</td><td> -77792719</td><td>0</td></tr>\n",
       "\t<tr><th scope=row>Net.Value.Per.Share..C.</th><td> 2.158167e+17</td><td>1.357535e+09</td><td> 158976881</td><td>0</td></tr>\n",
       "\t<tr><th scope=row>Persistent.EPS.in.the.Last.Four.Seasons</th><td>-6.668417e+15</td><td>1.384043e+08</td><td> -48180700</td><td>0</td></tr>\n",
       "\t<tr><th scope=row>Cash.Flow.Per.Share</th><td>-1.305542e+15</td><td>9.504817e+07</td><td> -13735579</td><td>0</td></tr>\n",
       "\t<tr><th scope=row>Revenue.Per.Share..Yuan.Â..</th><td> 1.169771e+06</td><td>3.289168e-02</td><td>  35564331</td><td>0</td></tr>\n",
       "\t<tr><th scope=row>Operating.Profit.Per.Share..Yuan.Â..</th><td> 7.982535e+16</td><td>7.348560e+08</td><td> 108627199</td><td>0</td></tr>\n",
       "\t<tr><th scope=row>Per.Share.Net.profit.before.tax..Yuan.Â..</th><td> 1.887703e+16</td><td>1.141830e+08</td><td> 165322636</td><td>0</td></tr>\n",
       "\t<tr><th scope=row>Realized.Sales.Gross.Profit.Growth.Rate</th><td>-1.231259e+15</td><td>6.860678e+07</td><td> -17946611</td><td>0</td></tr>\n",
       "\t<tr><th scope=row>Operating.Profit.Growth.Rate</th><td>-6.352949e+15</td><td>1.051299e+08</td><td> -60429526</td><td>0</td></tr>\n",
       "\t<tr><th scope=row>After.tax.Net.Profit.Growth.Rate</th><td>-4.846584e+16</td><td>6.781009e+08</td><td> -71472897</td><td>0</td></tr>\n",
       "\t<tr><th scope=row>Regular.Net.Profit.Growth.Rate</th><td> 4.840364e+16</td><td>6.732555e+08</td><td>  71894907</td><td>0</td></tr>\n",
       "\t<tr><th scope=row>Continuous.Net.Profit.Growth.Rate</th><td>-3.290167e+15</td><td>8.171257e+07</td><td> -40265124</td><td>0</td></tr>\n",
       "\t<tr><th scope=row>Total.Asset.Growth.Rate</th><td>-9.240652e+04</td><td>2.976034e-04</td><td>-310502243</td><td>0</td></tr>\n",
       "\t<tr><th scope=row>⋮</th><td>⋮</td><td>⋮</td><td>⋮</td><td>⋮</td></tr>\n",
       "\t<tr><th scope=row>Inventory.Current.Liability</th><td>-3.110115e+05</td><td>1.447476e-03</td><td>-214864708</td><td>0</td></tr>\n",
       "\t<tr><th scope=row>Current.Liabilities.Liability</th><td> 4.461772e+15</td><td>1.155367e+07</td><td> 386178049</td><td>0</td></tr>\n",
       "\t<tr><th scope=row>Working.Capital.Equity</th><td>-2.021251e+16</td><td>4.565782e+08</td><td> -44269545</td><td>0</td></tr>\n",
       "\t<tr><th scope=row>Current.Liabilities.Equity</th><td> 1.115476e+17</td><td>1.030221e+09</td><td> 108275441</td><td>0</td></tr>\n",
       "\t<tr><th scope=row>Long.term.Liability.to.Current.Assets</th><td> 1.361278e+05</td><td>1.446441e-03</td><td>  94112234</td><td>0</td></tr>\n",
       "\t<tr><th scope=row>Retained.Earnings.to.Total.Assets</th><td> 1.577366e+16</td><td>6.200037e+07</td><td> 254412312</td><td>0</td></tr>\n",
       "\t<tr><th scope=row>Total.income.Total.expense</th><td> 8.421280e+15</td><td>7.787761e+07</td><td> 108134803</td><td>0</td></tr>\n",
       "\t<tr><th scope=row>Total.expense.Assets</th><td>-6.701301e+15</td><td>5.524411e+07</td><td>-121303450</td><td>0</td></tr>\n",
       "\t<tr><th scope=row>Current.Asset.Turnover.Rate</th><td> 3.726562e+04</td><td>3.548072e-04</td><td> 105030627</td><td>0</td></tr>\n",
       "\t<tr><th scope=row>Quick.Asset.Turnover.Rate</th><td> 9.658848e+03</td><td>2.890769e-04</td><td>  33412730</td><td>0</td></tr>\n",
       "\t<tr><th scope=row>Working.capitcal.Turnover.Rate</th><td> 2.940592e+16</td><td>8.448495e+08</td><td>  34806102</td><td>0</td></tr>\n",
       "\t<tr><th scope=row>Cash.Turnover.Rate</th><td>-1.336723e+05</td><td>2.968819e-04</td><td>-450254081</td><td>0</td></tr>\n",
       "\t<tr><th scope=row>Cash.Flow.to.Sales</th><td>-3.554695e+16</td><td>4.489481e+08</td><td> -79178306</td><td>0</td></tr>\n",
       "\t<tr><th scope=row>Fixed.Assets.to.Assets</th><td> 8.466164e+05</td><td>8.898414e-03</td><td>  95142392</td><td>0</td></tr>\n",
       "\t<tr><th scope=row>Equity.to.Long.term.Liability</th><td> 2.045262e+16</td><td>2.802692e+08</td><td>  72974910</td><td>0</td></tr>\n",
       "\t<tr><th scope=row>Cash.Flow.to.Total.Assets</th><td> 6.449620e+14</td><td>3.715532e+07</td><td>  17358539</td><td>0</td></tr>\n",
       "\t<tr><th scope=row>Cash.Flow.to.Liability</th><td>-5.440818e+15</td><td>4.560852e+07</td><td>-119293910</td><td>0</td></tr>\n",
       "\t<tr><th scope=row>CFO.to.Assets</th><td>-7.843584e+15</td><td>3.799696e+07</td><td>-206426647</td><td>0</td></tr>\n",
       "\t<tr><th scope=row>Cash.Flow.to.Equity</th><td> 9.808075e+15</td><td>1.154729e+08</td><td>  84938324</td><td>0</td></tr>\n",
       "\t<tr><th scope=row>Current.Liability.to.Current.Assets</th><td> 4.901391e+15</td><td>4.654022e+07</td><td> 105315179</td><td>0</td></tr>\n",
       "\t<tr><th scope=row>Liability.Assets.Flag</th><td>-3.850118e+15</td><td>3.563001e+07</td><td>-108058303</td><td>0</td></tr>\n",
       "\t<tr><th scope=row>Net.Income.to.Total.Assets</th><td>-3.394154e+16</td><td>1.092139e+08</td><td>-310780549</td><td>0</td></tr>\n",
       "\t<tr><th scope=row>Total.assets.to.GNP.price</th><td> 1.150790e+05</td><td>2.256342e-03</td><td>  51002467</td><td>0</td></tr>\n",
       "\t<tr><th scope=row>No.credit.Interval</th><td>-1.221251e+15</td><td>6.668281e+07</td><td> -18314334</td><td>0</td></tr>\n",
       "\t<tr><th scope=row>Gross.Profit.to.Sales</th><td>-5.933098e+19</td><td>3.941397e+11</td><td>-150532872</td><td>0</td></tr>\n",
       "\t<tr><th scope=row>Net.Income.to.Stockholder.s.Equity</th><td> 2.830015e+16</td><td>1.665211e+08</td><td> 169949367</td><td>0</td></tr>\n",
       "\t<tr><th scope=row>Liability.to.Equity</th><td>-1.443476e+17</td><td>1.219187e+09</td><td>-118396627</td><td>0</td></tr>\n",
       "\t<tr><th scope=row>Degree.of.Financial.Leverage..DFL.</th><td> 6.320891e+14</td><td>5.200219e+07</td><td>  12155047</td><td>0</td></tr>\n",
       "\t<tr><th scope=row>Interest.Coverage.Ratio..Interest.expense.to.EBIT.</th><td>-1.055740e+15</td><td>6.176257e+07</td><td> -17093526</td><td>0</td></tr>\n",
       "\t<tr><th scope=row>Equity.to.Liability</th><td> 5.653916e+15</td><td>2.884927e+07</td><td> 195981229</td><td>0</td></tr>\n",
       "</tbody>\n",
       "</table>\n"
      ],
      "text/latex": [
       "A matrix: 92 × 4 of type dbl\n",
       "\\begin{tabular}{r|llll}\n",
       "  & Estimate & Std. Error & z value & Pr(>\\textbar{}z\\textbar{})\\\\\n",
       "\\hline\n",
       "\t(Intercept) &  6.218429e+23 & 4.542270e+15 &  136901347 & 0\\\\\n",
       "\tROA.C..before.interest.and.depreciation.before.interest & -8.574363e+16 & 1.113971e+08 & -769711222 & 0\\\\\n",
       "\tROA.A..before.interest.and...after.tax &  1.731090e+15 & 8.205362e+07 &   21097055 & 0\\\\\n",
       "\tROA.B..before.interest.and.depreciation.after.tax &  5.856197e+16 & 1.339032e+08 &  437345459 & 0\\\\\n",
       "\tOperating.Gross.Margin &  5.919309e+19 & 3.941536e+11 &  150177720 & 0\\\\\n",
       "\tRealized.Sales.Gross.Margin &  1.034424e+17 & 1.576592e+09 &   65611412 & 0\\\\\n",
       "\tOperating.Profit.Rate & -8.036622e+21 & 1.413972e+13 & -568371983 & 0\\\\\n",
       "\tPre.tax.net.Interest.Rate &  6.718265e+21 & 1.181002e+13 &  568861388 & 0\\\\\n",
       "\tAfter.tax.net.Interest.Rate & -1.130392e+18 & 2.551675e+09 & -442999805 & 0\\\\\n",
       "\tNon.industry.income.and.expenditure.revenue & -3.844230e+21 & 6.759673e+12 & -568700535 & 0\\\\\n",
       "\tContinuous.interest.rate..after.tax. & -5.372147e+17 & 1.179016e+09 & -455646583 & 0\\\\\n",
       "\tOperating.Expense.Rate &  3.711995e+04 & 2.819723e-04 &  131643945 & 0\\\\\n",
       "\tResearch.and.development.expense.rate &  4.054195e+04 & 3.269917e-04 &  123984643 & 0\\\\\n",
       "\tCash.flow.rate & -2.898706e+16 & 1.316113e+08 & -220247476 & 0\\\\\n",
       "\tInterest.bearing.debt.interest.rate &  1.822837e+06 & 7.665975e-03 &  237782863 & 0\\\\\n",
       "\tTax.rate..A. & -2.853530e+15 & 6.756926e+06 & -422311905 & 0\\\\\n",
       "\tNet.Value.Per.Share..B. & -1.045207e+17 & 6.809110e+08 & -153501259 & 0\\\\\n",
       "\tNet.Value.Per.Share..A. & -1.181584e+17 & 1.518888e+09 &  -77792719 & 0\\\\\n",
       "\tNet.Value.Per.Share..C. &  2.158167e+17 & 1.357535e+09 &  158976881 & 0\\\\\n",
       "\tPersistent.EPS.in.the.Last.Four.Seasons & -6.668417e+15 & 1.384043e+08 &  -48180700 & 0\\\\\n",
       "\tCash.Flow.Per.Share & -1.305542e+15 & 9.504817e+07 &  -13735579 & 0\\\\\n",
       "\tRevenue.Per.Share..Yuan.Â.. &  1.169771e+06 & 3.289168e-02 &   35564331 & 0\\\\\n",
       "\tOperating.Profit.Per.Share..Yuan.Â.. &  7.982535e+16 & 7.348560e+08 &  108627199 & 0\\\\\n",
       "\tPer.Share.Net.profit.before.tax..Yuan.Â.. &  1.887703e+16 & 1.141830e+08 &  165322636 & 0\\\\\n",
       "\tRealized.Sales.Gross.Profit.Growth.Rate & -1.231259e+15 & 6.860678e+07 &  -17946611 & 0\\\\\n",
       "\tOperating.Profit.Growth.Rate & -6.352949e+15 & 1.051299e+08 &  -60429526 & 0\\\\\n",
       "\tAfter.tax.Net.Profit.Growth.Rate & -4.846584e+16 & 6.781009e+08 &  -71472897 & 0\\\\\n",
       "\tRegular.Net.Profit.Growth.Rate &  4.840364e+16 & 6.732555e+08 &   71894907 & 0\\\\\n",
       "\tContinuous.Net.Profit.Growth.Rate & -3.290167e+15 & 8.171257e+07 &  -40265124 & 0\\\\\n",
       "\tTotal.Asset.Growth.Rate & -9.240652e+04 & 2.976034e-04 & -310502243 & 0\\\\\n",
       "\t⋮ & ⋮ & ⋮ & ⋮ & ⋮\\\\\n",
       "\tInventory.Current.Liability & -3.110115e+05 & 1.447476e-03 & -214864708 & 0\\\\\n",
       "\tCurrent.Liabilities.Liability &  4.461772e+15 & 1.155367e+07 &  386178049 & 0\\\\\n",
       "\tWorking.Capital.Equity & -2.021251e+16 & 4.565782e+08 &  -44269545 & 0\\\\\n",
       "\tCurrent.Liabilities.Equity &  1.115476e+17 & 1.030221e+09 &  108275441 & 0\\\\\n",
       "\tLong.term.Liability.to.Current.Assets &  1.361278e+05 & 1.446441e-03 &   94112234 & 0\\\\\n",
       "\tRetained.Earnings.to.Total.Assets &  1.577366e+16 & 6.200037e+07 &  254412312 & 0\\\\\n",
       "\tTotal.income.Total.expense &  8.421280e+15 & 7.787761e+07 &  108134803 & 0\\\\\n",
       "\tTotal.expense.Assets & -6.701301e+15 & 5.524411e+07 & -121303450 & 0\\\\\n",
       "\tCurrent.Asset.Turnover.Rate &  3.726562e+04 & 3.548072e-04 &  105030627 & 0\\\\\n",
       "\tQuick.Asset.Turnover.Rate &  9.658848e+03 & 2.890769e-04 &   33412730 & 0\\\\\n",
       "\tWorking.capitcal.Turnover.Rate &  2.940592e+16 & 8.448495e+08 &   34806102 & 0\\\\\n",
       "\tCash.Turnover.Rate & -1.336723e+05 & 2.968819e-04 & -450254081 & 0\\\\\n",
       "\tCash.Flow.to.Sales & -3.554695e+16 & 4.489481e+08 &  -79178306 & 0\\\\\n",
       "\tFixed.Assets.to.Assets &  8.466164e+05 & 8.898414e-03 &   95142392 & 0\\\\\n",
       "\tEquity.to.Long.term.Liability &  2.045262e+16 & 2.802692e+08 &   72974910 & 0\\\\\n",
       "\tCash.Flow.to.Total.Assets &  6.449620e+14 & 3.715532e+07 &   17358539 & 0\\\\\n",
       "\tCash.Flow.to.Liability & -5.440818e+15 & 4.560852e+07 & -119293910 & 0\\\\\n",
       "\tCFO.to.Assets & -7.843584e+15 & 3.799696e+07 & -206426647 & 0\\\\\n",
       "\tCash.Flow.to.Equity &  9.808075e+15 & 1.154729e+08 &   84938324 & 0\\\\\n",
       "\tCurrent.Liability.to.Current.Assets &  4.901391e+15 & 4.654022e+07 &  105315179 & 0\\\\\n",
       "\tLiability.Assets.Flag & -3.850118e+15 & 3.563001e+07 & -108058303 & 0\\\\\n",
       "\tNet.Income.to.Total.Assets & -3.394154e+16 & 1.092139e+08 & -310780549 & 0\\\\\n",
       "\tTotal.assets.to.GNP.price &  1.150790e+05 & 2.256342e-03 &   51002467 & 0\\\\\n",
       "\tNo.credit.Interval & -1.221251e+15 & 6.668281e+07 &  -18314334 & 0\\\\\n",
       "\tGross.Profit.to.Sales & -5.933098e+19 & 3.941397e+11 & -150532872 & 0\\\\\n",
       "\tNet.Income.to.Stockholder.s.Equity &  2.830015e+16 & 1.665211e+08 &  169949367 & 0\\\\\n",
       "\tLiability.to.Equity & -1.443476e+17 & 1.219187e+09 & -118396627 & 0\\\\\n",
       "\tDegree.of.Financial.Leverage..DFL. &  6.320891e+14 & 5.200219e+07 &   12155047 & 0\\\\\n",
       "\tInterest.Coverage.Ratio..Interest.expense.to.EBIT. & -1.055740e+15 & 6.176257e+07 &  -17093526 & 0\\\\\n",
       "\tEquity.to.Liability &  5.653916e+15 & 2.884927e+07 &  195981229 & 0\\\\\n",
       "\\end{tabular}\n"
      ],
      "text/markdown": [
       "\n",
       "A matrix: 92 × 4 of type dbl\n",
       "\n",
       "| <!--/--> | Estimate | Std. Error | z value | Pr(&gt;|z|) |\n",
       "|---|---|---|---|---|\n",
       "| (Intercept) |  6.218429e+23 | 4.542270e+15 |  136901347 | 0 |\n",
       "| ROA.C..before.interest.and.depreciation.before.interest | -8.574363e+16 | 1.113971e+08 | -769711222 | 0 |\n",
       "| ROA.A..before.interest.and...after.tax |  1.731090e+15 | 8.205362e+07 |   21097055 | 0 |\n",
       "| ROA.B..before.interest.and.depreciation.after.tax |  5.856197e+16 | 1.339032e+08 |  437345459 | 0 |\n",
       "| Operating.Gross.Margin |  5.919309e+19 | 3.941536e+11 |  150177720 | 0 |\n",
       "| Realized.Sales.Gross.Margin |  1.034424e+17 | 1.576592e+09 |   65611412 | 0 |\n",
       "| Operating.Profit.Rate | -8.036622e+21 | 1.413972e+13 | -568371983 | 0 |\n",
       "| Pre.tax.net.Interest.Rate |  6.718265e+21 | 1.181002e+13 |  568861388 | 0 |\n",
       "| After.tax.net.Interest.Rate | -1.130392e+18 | 2.551675e+09 | -442999805 | 0 |\n",
       "| Non.industry.income.and.expenditure.revenue | -3.844230e+21 | 6.759673e+12 | -568700535 | 0 |\n",
       "| Continuous.interest.rate..after.tax. | -5.372147e+17 | 1.179016e+09 | -455646583 | 0 |\n",
       "| Operating.Expense.Rate |  3.711995e+04 | 2.819723e-04 |  131643945 | 0 |\n",
       "| Research.and.development.expense.rate |  4.054195e+04 | 3.269917e-04 |  123984643 | 0 |\n",
       "| Cash.flow.rate | -2.898706e+16 | 1.316113e+08 | -220247476 | 0 |\n",
       "| Interest.bearing.debt.interest.rate |  1.822837e+06 | 7.665975e-03 |  237782863 | 0 |\n",
       "| Tax.rate..A. | -2.853530e+15 | 6.756926e+06 | -422311905 | 0 |\n",
       "| Net.Value.Per.Share..B. | -1.045207e+17 | 6.809110e+08 | -153501259 | 0 |\n",
       "| Net.Value.Per.Share..A. | -1.181584e+17 | 1.518888e+09 |  -77792719 | 0 |\n",
       "| Net.Value.Per.Share..C. |  2.158167e+17 | 1.357535e+09 |  158976881 | 0 |\n",
       "| Persistent.EPS.in.the.Last.Four.Seasons | -6.668417e+15 | 1.384043e+08 |  -48180700 | 0 |\n",
       "| Cash.Flow.Per.Share | -1.305542e+15 | 9.504817e+07 |  -13735579 | 0 |\n",
       "| Revenue.Per.Share..Yuan.Â.. |  1.169771e+06 | 3.289168e-02 |   35564331 | 0 |\n",
       "| Operating.Profit.Per.Share..Yuan.Â.. |  7.982535e+16 | 7.348560e+08 |  108627199 | 0 |\n",
       "| Per.Share.Net.profit.before.tax..Yuan.Â.. |  1.887703e+16 | 1.141830e+08 |  165322636 | 0 |\n",
       "| Realized.Sales.Gross.Profit.Growth.Rate | -1.231259e+15 | 6.860678e+07 |  -17946611 | 0 |\n",
       "| Operating.Profit.Growth.Rate | -6.352949e+15 | 1.051299e+08 |  -60429526 | 0 |\n",
       "| After.tax.Net.Profit.Growth.Rate | -4.846584e+16 | 6.781009e+08 |  -71472897 | 0 |\n",
       "| Regular.Net.Profit.Growth.Rate |  4.840364e+16 | 6.732555e+08 |   71894907 | 0 |\n",
       "| Continuous.Net.Profit.Growth.Rate | -3.290167e+15 | 8.171257e+07 |  -40265124 | 0 |\n",
       "| Total.Asset.Growth.Rate | -9.240652e+04 | 2.976034e-04 | -310502243 | 0 |\n",
       "| ⋮ | ⋮ | ⋮ | ⋮ | ⋮ |\n",
       "| Inventory.Current.Liability | -3.110115e+05 | 1.447476e-03 | -214864708 | 0 |\n",
       "| Current.Liabilities.Liability |  4.461772e+15 | 1.155367e+07 |  386178049 | 0 |\n",
       "| Working.Capital.Equity | -2.021251e+16 | 4.565782e+08 |  -44269545 | 0 |\n",
       "| Current.Liabilities.Equity |  1.115476e+17 | 1.030221e+09 |  108275441 | 0 |\n",
       "| Long.term.Liability.to.Current.Assets |  1.361278e+05 | 1.446441e-03 |   94112234 | 0 |\n",
       "| Retained.Earnings.to.Total.Assets |  1.577366e+16 | 6.200037e+07 |  254412312 | 0 |\n",
       "| Total.income.Total.expense |  8.421280e+15 | 7.787761e+07 |  108134803 | 0 |\n",
       "| Total.expense.Assets | -6.701301e+15 | 5.524411e+07 | -121303450 | 0 |\n",
       "| Current.Asset.Turnover.Rate |  3.726562e+04 | 3.548072e-04 |  105030627 | 0 |\n",
       "| Quick.Asset.Turnover.Rate |  9.658848e+03 | 2.890769e-04 |   33412730 | 0 |\n",
       "| Working.capitcal.Turnover.Rate |  2.940592e+16 | 8.448495e+08 |   34806102 | 0 |\n",
       "| Cash.Turnover.Rate | -1.336723e+05 | 2.968819e-04 | -450254081 | 0 |\n",
       "| Cash.Flow.to.Sales | -3.554695e+16 | 4.489481e+08 |  -79178306 | 0 |\n",
       "| Fixed.Assets.to.Assets |  8.466164e+05 | 8.898414e-03 |   95142392 | 0 |\n",
       "| Equity.to.Long.term.Liability |  2.045262e+16 | 2.802692e+08 |   72974910 | 0 |\n",
       "| Cash.Flow.to.Total.Assets |  6.449620e+14 | 3.715532e+07 |   17358539 | 0 |\n",
       "| Cash.Flow.to.Liability | -5.440818e+15 | 4.560852e+07 | -119293910 | 0 |\n",
       "| CFO.to.Assets | -7.843584e+15 | 3.799696e+07 | -206426647 | 0 |\n",
       "| Cash.Flow.to.Equity |  9.808075e+15 | 1.154729e+08 |   84938324 | 0 |\n",
       "| Current.Liability.to.Current.Assets |  4.901391e+15 | 4.654022e+07 |  105315179 | 0 |\n",
       "| Liability.Assets.Flag | -3.850118e+15 | 3.563001e+07 | -108058303 | 0 |\n",
       "| Net.Income.to.Total.Assets | -3.394154e+16 | 1.092139e+08 | -310780549 | 0 |\n",
       "| Total.assets.to.GNP.price |  1.150790e+05 | 2.256342e-03 |   51002467 | 0 |\n",
       "| No.credit.Interval | -1.221251e+15 | 6.668281e+07 |  -18314334 | 0 |\n",
       "| Gross.Profit.to.Sales | -5.933098e+19 | 3.941397e+11 | -150532872 | 0 |\n",
       "| Net.Income.to.Stockholder.s.Equity |  2.830015e+16 | 1.665211e+08 |  169949367 | 0 |\n",
       "| Liability.to.Equity | -1.443476e+17 | 1.219187e+09 | -118396627 | 0 |\n",
       "| Degree.of.Financial.Leverage..DFL. |  6.320891e+14 | 5.200219e+07 |   12155047 | 0 |\n",
       "| Interest.Coverage.Ratio..Interest.expense.to.EBIT. | -1.055740e+15 | 6.176257e+07 |  -17093526 | 0 |\n",
       "| Equity.to.Liability |  5.653916e+15 | 2.884927e+07 |  195981229 | 0 |\n",
       "\n"
      ],
      "text/plain": [
       "                                                        Estimate     \n",
       "(Intercept)                                              6.218429e+23\n",
       "ROA.C..before.interest.and.depreciation.before.interest -8.574363e+16\n",
       "ROA.A..before.interest.and...after.tax                   1.731090e+15\n",
       "ROA.B..before.interest.and.depreciation.after.tax        5.856197e+16\n",
       "Operating.Gross.Margin                                   5.919309e+19\n",
       "Realized.Sales.Gross.Margin                              1.034424e+17\n",
       "Operating.Profit.Rate                                   -8.036622e+21\n",
       "Pre.tax.net.Interest.Rate                                6.718265e+21\n",
       "After.tax.net.Interest.Rate                             -1.130392e+18\n",
       "Non.industry.income.and.expenditure.revenue             -3.844230e+21\n",
       "Continuous.interest.rate..after.tax.                    -5.372147e+17\n",
       "Operating.Expense.Rate                                   3.711995e+04\n",
       "Research.and.development.expense.rate                    4.054195e+04\n",
       "Cash.flow.rate                                          -2.898706e+16\n",
       "Interest.bearing.debt.interest.rate                      1.822837e+06\n",
       "Tax.rate..A.                                            -2.853530e+15\n",
       "Net.Value.Per.Share..B.                                 -1.045207e+17\n",
       "Net.Value.Per.Share..A.                                 -1.181584e+17\n",
       "Net.Value.Per.Share..C.                                  2.158167e+17\n",
       "Persistent.EPS.in.the.Last.Four.Seasons                 -6.668417e+15\n",
       "Cash.Flow.Per.Share                                     -1.305542e+15\n",
       "Revenue.Per.Share..Yuan.Â..                              1.169771e+06\n",
       "Operating.Profit.Per.Share..Yuan.Â..                     7.982535e+16\n",
       "Per.Share.Net.profit.before.tax..Yuan.Â..                1.887703e+16\n",
       "Realized.Sales.Gross.Profit.Growth.Rate                 -1.231259e+15\n",
       "Operating.Profit.Growth.Rate                            -6.352949e+15\n",
       "After.tax.Net.Profit.Growth.Rate                        -4.846584e+16\n",
       "Regular.Net.Profit.Growth.Rate                           4.840364e+16\n",
       "Continuous.Net.Profit.Growth.Rate                       -3.290167e+15\n",
       "Total.Asset.Growth.Rate                                 -9.240652e+04\n",
       "<U+22EE>                                                       <U+22EE>     \n",
       "Inventory.Current.Liability                             -3.110115e+05\n",
       "Current.Liabilities.Liability                            4.461772e+15\n",
       "Working.Capital.Equity                                  -2.021251e+16\n",
       "Current.Liabilities.Equity                               1.115476e+17\n",
       "Long.term.Liability.to.Current.Assets                    1.361278e+05\n",
       "Retained.Earnings.to.Total.Assets                        1.577366e+16\n",
       "Total.income.Total.expense                               8.421280e+15\n",
       "Total.expense.Assets                                    -6.701301e+15\n",
       "Current.Asset.Turnover.Rate                              3.726562e+04\n",
       "Quick.Asset.Turnover.Rate                                9.658848e+03\n",
       "Working.capitcal.Turnover.Rate                           2.940592e+16\n",
       "Cash.Turnover.Rate                                      -1.336723e+05\n",
       "Cash.Flow.to.Sales                                      -3.554695e+16\n",
       "Fixed.Assets.to.Assets                                   8.466164e+05\n",
       "Equity.to.Long.term.Liability                            2.045262e+16\n",
       "Cash.Flow.to.Total.Assets                                6.449620e+14\n",
       "Cash.Flow.to.Liability                                  -5.440818e+15\n",
       "CFO.to.Assets                                           -7.843584e+15\n",
       "Cash.Flow.to.Equity                                      9.808075e+15\n",
       "Current.Liability.to.Current.Assets                      4.901391e+15\n",
       "Liability.Assets.Flag                                   -3.850118e+15\n",
       "Net.Income.to.Total.Assets                              -3.394154e+16\n",
       "Total.assets.to.GNP.price                                1.150790e+05\n",
       "No.credit.Interval                                      -1.221251e+15\n",
       "Gross.Profit.to.Sales                                   -5.933098e+19\n",
       "Net.Income.to.Stockholder.s.Equity                       2.830015e+16\n",
       "Liability.to.Equity                                     -1.443476e+17\n",
       "Degree.of.Financial.Leverage..DFL.                       6.320891e+14\n",
       "Interest.Coverage.Ratio..Interest.expense.to.EBIT.      -1.055740e+15\n",
       "Equity.to.Liability                                      5.653916e+15\n",
       "                                                        Std. Error   z value   \n",
       "(Intercept)                                             4.542270e+15  136901347\n",
       "ROA.C..before.interest.and.depreciation.before.interest 1.113971e+08 -769711222\n",
       "ROA.A..before.interest.and...after.tax                  8.205362e+07   21097055\n",
       "ROA.B..before.interest.and.depreciation.after.tax       1.339032e+08  437345459\n",
       "Operating.Gross.Margin                                  3.941536e+11  150177720\n",
       "Realized.Sales.Gross.Margin                             1.576592e+09   65611412\n",
       "Operating.Profit.Rate                                   1.413972e+13 -568371983\n",
       "Pre.tax.net.Interest.Rate                               1.181002e+13  568861388\n",
       "After.tax.net.Interest.Rate                             2.551675e+09 -442999805\n",
       "Non.industry.income.and.expenditure.revenue             6.759673e+12 -568700535\n",
       "Continuous.interest.rate..after.tax.                    1.179016e+09 -455646583\n",
       "Operating.Expense.Rate                                  2.819723e-04  131643945\n",
       "Research.and.development.expense.rate                   3.269917e-04  123984643\n",
       "Cash.flow.rate                                          1.316113e+08 -220247476\n",
       "Interest.bearing.debt.interest.rate                     7.665975e-03  237782863\n",
       "Tax.rate..A.                                            6.756926e+06 -422311905\n",
       "Net.Value.Per.Share..B.                                 6.809110e+08 -153501259\n",
       "Net.Value.Per.Share..A.                                 1.518888e+09  -77792719\n",
       "Net.Value.Per.Share..C.                                 1.357535e+09  158976881\n",
       "Persistent.EPS.in.the.Last.Four.Seasons                 1.384043e+08  -48180700\n",
       "Cash.Flow.Per.Share                                     9.504817e+07  -13735579\n",
       "Revenue.Per.Share..Yuan.Â..                             3.289168e-02   35564331\n",
       "Operating.Profit.Per.Share..Yuan.Â..                    7.348560e+08  108627199\n",
       "Per.Share.Net.profit.before.tax..Yuan.Â..               1.141830e+08  165322636\n",
       "Realized.Sales.Gross.Profit.Growth.Rate                 6.860678e+07  -17946611\n",
       "Operating.Profit.Growth.Rate                            1.051299e+08  -60429526\n",
       "After.tax.Net.Profit.Growth.Rate                        6.781009e+08  -71472897\n",
       "Regular.Net.Profit.Growth.Rate                          6.732555e+08   71894907\n",
       "Continuous.Net.Profit.Growth.Rate                       8.171257e+07  -40265124\n",
       "Total.Asset.Growth.Rate                                 2.976034e-04 -310502243\n",
       "<U+22EE>                                                       <U+22EE>     <U+22EE>  \n",
       "Inventory.Current.Liability                             1.447476e-03 -214864708\n",
       "Current.Liabilities.Liability                           1.155367e+07  386178049\n",
       "Working.Capital.Equity                                  4.565782e+08  -44269545\n",
       "Current.Liabilities.Equity                              1.030221e+09  108275441\n",
       "Long.term.Liability.to.Current.Assets                   1.446441e-03   94112234\n",
       "Retained.Earnings.to.Total.Assets                       6.200037e+07  254412312\n",
       "Total.income.Total.expense                              7.787761e+07  108134803\n",
       "Total.expense.Assets                                    5.524411e+07 -121303450\n",
       "Current.Asset.Turnover.Rate                             3.548072e-04  105030627\n",
       "Quick.Asset.Turnover.Rate                               2.890769e-04   33412730\n",
       "Working.capitcal.Turnover.Rate                          8.448495e+08   34806102\n",
       "Cash.Turnover.Rate                                      2.968819e-04 -450254081\n",
       "Cash.Flow.to.Sales                                      4.489481e+08  -79178306\n",
       "Fixed.Assets.to.Assets                                  8.898414e-03   95142392\n",
       "Equity.to.Long.term.Liability                           2.802692e+08   72974910\n",
       "Cash.Flow.to.Total.Assets                               3.715532e+07   17358539\n",
       "Cash.Flow.to.Liability                                  4.560852e+07 -119293910\n",
       "CFO.to.Assets                                           3.799696e+07 -206426647\n",
       "Cash.Flow.to.Equity                                     1.154729e+08   84938324\n",
       "Current.Liability.to.Current.Assets                     4.654022e+07  105315179\n",
       "Liability.Assets.Flag                                   3.563001e+07 -108058303\n",
       "Net.Income.to.Total.Assets                              1.092139e+08 -310780549\n",
       "Total.assets.to.GNP.price                               2.256342e-03   51002467\n",
       "No.credit.Interval                                      6.668281e+07  -18314334\n",
       "Gross.Profit.to.Sales                                   3.941397e+11 -150532872\n",
       "Net.Income.to.Stockholder.s.Equity                      1.665211e+08  169949367\n",
       "Liability.to.Equity                                     1.219187e+09 -118396627\n",
       "Degree.of.Financial.Leverage..DFL.                      5.200219e+07   12155047\n",
       "Interest.Coverage.Ratio..Interest.expense.to.EBIT.      6.176257e+07  -17093526\n",
       "Equity.to.Liability                                     2.884927e+07  195981229\n",
       "                                                        Pr(>|z|)\n",
       "(Intercept)                                             0       \n",
       "ROA.C..before.interest.and.depreciation.before.interest 0       \n",
       "ROA.A..before.interest.and...after.tax                  0       \n",
       "ROA.B..before.interest.and.depreciation.after.tax       0       \n",
       "Operating.Gross.Margin                                  0       \n",
       "Realized.Sales.Gross.Margin                             0       \n",
       "Operating.Profit.Rate                                   0       \n",
       "Pre.tax.net.Interest.Rate                               0       \n",
       "After.tax.net.Interest.Rate                             0       \n",
       "Non.industry.income.and.expenditure.revenue             0       \n",
       "Continuous.interest.rate..after.tax.                    0       \n",
       "Operating.Expense.Rate                                  0       \n",
       "Research.and.development.expense.rate                   0       \n",
       "Cash.flow.rate                                          0       \n",
       "Interest.bearing.debt.interest.rate                     0       \n",
       "Tax.rate..A.                                            0       \n",
       "Net.Value.Per.Share..B.                                 0       \n",
       "Net.Value.Per.Share..A.                                 0       \n",
       "Net.Value.Per.Share..C.                                 0       \n",
       "Persistent.EPS.in.the.Last.Four.Seasons                 0       \n",
       "Cash.Flow.Per.Share                                     0       \n",
       "Revenue.Per.Share..Yuan.Â..                             0       \n",
       "Operating.Profit.Per.Share..Yuan.Â..                    0       \n",
       "Per.Share.Net.profit.before.tax..Yuan.Â..               0       \n",
       "Realized.Sales.Gross.Profit.Growth.Rate                 0       \n",
       "Operating.Profit.Growth.Rate                            0       \n",
       "After.tax.Net.Profit.Growth.Rate                        0       \n",
       "Regular.Net.Profit.Growth.Rate                          0       \n",
       "Continuous.Net.Profit.Growth.Rate                       0       \n",
       "Total.Asset.Growth.Rate                                 0       \n",
       "<U+22EE>                                                       <U+22EE>\n",
       "Inventory.Current.Liability                             0       \n",
       "Current.Liabilities.Liability                           0       \n",
       "Working.Capital.Equity                                  0       \n",
       "Current.Liabilities.Equity                              0       \n",
       "Long.term.Liability.to.Current.Assets                   0       \n",
       "Retained.Earnings.to.Total.Assets                       0       \n",
       "Total.income.Total.expense                              0       \n",
       "Total.expense.Assets                                    0       \n",
       "Current.Asset.Turnover.Rate                             0       \n",
       "Quick.Asset.Turnover.Rate                               0       \n",
       "Working.capitcal.Turnover.Rate                          0       \n",
       "Cash.Turnover.Rate                                      0       \n",
       "Cash.Flow.to.Sales                                      0       \n",
       "Fixed.Assets.to.Assets                                  0       \n",
       "Equity.to.Long.term.Liability                           0       \n",
       "Cash.Flow.to.Total.Assets                               0       \n",
       "Cash.Flow.to.Liability                                  0       \n",
       "CFO.to.Assets                                           0       \n",
       "Cash.Flow.to.Equity                                     0       \n",
       "Current.Liability.to.Current.Assets                     0       \n",
       "Liability.Assets.Flag                                   0       \n",
       "Net.Income.to.Total.Assets                              0       \n",
       "Total.assets.to.GNP.price                               0       \n",
       "No.credit.Interval                                      0       \n",
       "Gross.Profit.to.Sales                                   0       \n",
       "Net.Income.to.Stockholder.s.Equity                      0       \n",
       "Liability.to.Equity                                     0       \n",
       "Degree.of.Financial.Leverage..DFL.                      0       \n",
       "Interest.Coverage.Ratio..Interest.expense.to.EBIT.      0       \n",
       "Equity.to.Liability                                     0       "
      ]
     },
     "metadata": {},
     "output_type": "display_data"
    }
   ],
   "source": [
    "summary(log.model)$coefficients"
   ]
  },
  {
   "cell_type": "code",
   "execution_count": null,
   "id": "30e31352",
   "metadata": {},
   "outputs": [],
   "source": [
    "# Ridge regression model"
   ]
  },
  {
   "cell_type": "code",
   "execution_count": 54,
   "id": "6a6b91fe",
   "metadata": {},
   "outputs": [
    {
     "name": "stdout",
     "output_type": "stream",
     "text": [
      "[1] \"Best lambda = 191.561029251535\"\n"
     ]
    },
    {
     "data": {
      "image/png": "[encoded data removed]",
      "text/plain": [
       "plot without title"
      ]
     },
     "metadata": {
      "image/png": {
       "height": 420,
       "width": 420
      }
     },
     "output_type": "display_data"
    }
   ],
   "source": [
    "# Find the best lambda using CV\n",
    "lr <- cv.glmnet(as.matrix(train[,1-96]), train$Bankrupt., alpha=0)\n",
    "plot(lr)\n",
    "best_lr2 <- lr$lambda.min\n",
    "print(paste('Best lambda =', best_lr2))"
   ]
  },
  {
   "cell_type": "code",
   "execution_count": 56,
   "id": "536a9edd",
   "metadata": {},
   "outputs": [
    {
     "data": {
      "text/html": [
       "0.0298978146033387"
      ],
      "text/latex": [
       "0.0298978146033387"
      ],
      "text/markdown": [
       "0.0298978146033387"
      ],
      "text/plain": [
       "[1] 0.02989781"
      ]
     },
     "metadata": {},
     "output_type": "display_data"
    }
   ],
   "source": [
    "# Refit the model using best lambda selected\n",
    "lr3 <- glmnet(as.matrix(train[, 1-96]), train$Bankrupt., alpha=0)\n",
    "pred <- predict(lr3, s=191.561029251535, newx=as.matrix(test[, 1-96]))\n",
    "mse <- mean((pred - test$Bankrupt.)^2)\n",
    "mse"
   ]
  },
  {
   "cell_type": "code",
   "execution_count": null,
   "id": "c97c7665",
   "metadata": {},
   "outputs": [],
   "source": [
    "# Lasso regression model "
   ]
  },
  {
   "cell_type": "code",
   "execution_count": 57,
   "id": "571119f8",
   "metadata": {},
   "outputs": [
    {
     "name": "stdout",
     "output_type": "stream",
     "text": [
      "[1] \"Best lambda = 0.00558410565037631\"\n"
     ]
    },
    {
     "data": {
      "image/png": "[encoded data removed]",
      "text/plain": [
       "plot without title"
      ]
     },
     "metadata": {
      "image/png": {
       "height": 420,
       "width": 420
      }
     },
     "output_type": "display_data"
    }
   ],
   "source": [
    "# Find the best lambda using CV\n",
    "lr <- cv.glmnet(as.matrix(train[, 1-96]), train$Bankrupt., alpha=1)\n",
    "plot(lr)\n",
    "best_lambda <- lr$lambda.min\n",
    "print(paste('Best lambda =', best_lambda))"
   ]
  },
  {
   "cell_type": "code",
   "execution_count": 58,
   "id": "4dfea98b",
   "metadata": {},
   "outputs": [
    {
     "data": {
      "text/html": [
       "2.54057706853336e-05"
      ],
      "text/latex": [
       "2.54057706853336e-05"
      ],
      "text/markdown": [
       "2.54057706853336e-05"
      ],
      "text/plain": [
       "[1] 2.540577e-05"
      ]
     },
     "metadata": {},
     "output_type": "display_data"
    }
   ],
   "source": [
    "# Refit the model using best lambda selected from CV\n",
    "lr <- glmnet(as.matrix(train[, 1-96]), train$Bankrupt., alpha=1)\n",
    "pred <- predict(lr, s=0.00558410565037631, newx=as.matrix(test[, 1-96]))\n",
    "mse <- mean((pred - test$Bankrupt.)^2)\n",
    "mse"
   ]
  },
  {
   "cell_type": "code",
   "execution_count": null,
   "id": "9aee53a7",
   "metadata": {},
   "outputs": [],
   "source": [
    "# Random forest"
   ]
  },
  {
   "cell_type": "code",
   "execution_count": 62,
   "id": "9ccb4fc2",
   "metadata": {},
   "outputs": [
    {
     "name": "stderr",
     "output_type": "stream",
     "text": [
      "Warning message in randomForest.default(m, y, ...):\n",
      "\"The response has five or fewer unique values.  Are you sure you want to do regression?\"\n"
     ]
    },
    {
     "name": "stdout",
     "output_type": "stream",
     "text": [
      "\n",
      "Call:\n",
      " randomForest(formula = Bankrupt. ~ ., data = train, proximity = TRUE) \n",
      "               Type of random forest: regression\n",
      "                     Number of trees: 500\n",
      "No. of variables tried at each split: 31\n",
      "\n",
      "          Mean of squared residuals: 0.02751811\n",
      "                    % Var explained: 25.01\n"
     ]
    }
   ],
   "source": [
    "rf <- randomForest(Bankrupt. ~ ., data=train, proximity=TRUE) \n",
    "print(rf)"
   ]
  },
  {
   "cell_type": "code",
   "execution_count": null,
   "id": "626b5156",
   "metadata": {},
   "outputs": [],
   "source": [
    "p1 <- predict(rf, train)\n",
    "confusionMatrix(p1, train$Bankrupt.)"
   ]
  },
  {
   "cell_type": "code",
   "execution_count": null,
   "id": "b8134f30",
   "metadata": {},
   "outputs": [],
   "source": [
    "p2 <- predict(rf, test)\n",
    "confusionMatrix(p2, test$Bankrupt.)"
   ]
  },
  {
   "cell_type": "code",
   "execution_count": null,
   "id": "ef5e26ea",
   "metadata": {},
   "outputs": [],
   "source": [
    "# Support vector "
   ]
  },
  {
   "cell_type": "code",
   "execution_count": null,
   "id": "6fd2ad09",
   "metadata": {},
   "outputs": [
    {
     "name": "stderr",
     "output_type": "stream",
     "text": [
      "Warning message in svm.default(x, y, scale = scale, ..., na.action = na.action):\n",
      "\"Variable(s) 'Net.Income.Flag' constant. Cannot scale data.\"\n"
     ]
    }
   ],
   "source": [
    "classifier = svm(formula = Bankrupt. ~ .,\n",
    "                 data = train,\n",
    "                 type = 'C-classification',\n",
    "                 kernel = 'linear')"
   ]
  },
  {
   "cell_type": "code",
   "execution_count": null,
   "id": "12a6e774",
   "metadata": {},
   "outputs": [],
   "source": []
  }
 ],
 "metadata": {
  "kernelspec": {
   "display_name": "R",
   "language": "R",
   "name": "ir"
  },
  "language_info": {
   "codemirror_mode": "r",
   "file_extension": ".r",
   "mimetype": "text/x-r-source",
   "name": "R",
   "pygments_lexer": "r",
   "version": "4.0.5"
  }
 },
 "nbformat": 4,
 "nbformat_minor": 5
}
