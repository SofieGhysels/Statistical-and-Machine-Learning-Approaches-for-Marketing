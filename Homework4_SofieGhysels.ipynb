{
 "cells": [
  {
   "cell_type": "code",
   "execution_count": 1,
   "id": "b4d7f649",
   "metadata": {},
   "outputs": [],
   "source": [
    "# Homework 4 / Sofie Ghysels / Statistical and Machine Learning approaches for marketing "
   ]
  },
  {
   "cell_type": "code",
   "execution_count": 2,
   "id": "8a527a3c",
   "metadata": {},
   "outputs": [],
   "source": [
    "# Exercise 3 (p.332, Chap.8)"
   ]
  },
  {
   "cell_type": "code",
   "execution_count": 3,
   "id": "6fdeb751",
   "metadata": {},
   "outputs": [
    {
     "data": {
      "image/png": "[encoded data removed]",
      "text/plain": [
       "plot without title"
      ]
     },
     "metadata": {
      "image/png": {
       "height": 420,
       "width": 420
      }
     },
     "output_type": "display_data"
    }
   ],
   "source": [
    "p = seq(0, 1, 0.01)\n",
    "gini = p * (1 - p) * 2\n",
    "entropy = -(p * log(p) + (1 - p) * log(1 - p))\n",
    "class.err = 1 - pmax(p, 1 - p)\n",
    "matplot(p, cbind(gini, entropy, class.err), col = c(\"red\", \"green\", \"blue\"))"
   ]
  },
  {
   "cell_type": "code",
   "execution_count": 4,
   "id": "49623086",
   "metadata": {},
   "outputs": [],
   "source": [
    "# Exercise 5 (p.332, Chap.8)"
   ]
  },
  {
   "cell_type": "code",
   "execution_count": 5,
   "id": "470b2812",
   "metadata": {},
   "outputs": [
    {
     "data": {
      "text/html": [
       "<style>\n",
       ".list-inline {list-style: none; margin:0; padding: 0}\n",
       ".list-inline>li {display: inline-block}\n",
       ".list-inline>li:not(:last-child)::after {content: \"\\00b7\"; padding: 0 .5ex}\n",
       "</style>\n",
       "<ol class=list-inline><li>0.1</li><li>0.15</li><li>0.2</li><li>0.2</li><li>0.55</li><li>0.6</li><li>0.6</li><li>0.65</li><li>0.7</li><li>0.75</li></ol>\n"
      ],
      "text/latex": [
       "\\begin{enumerate*}\n",
       "\\item 0.1\n",
       "\\item 0.15\n",
       "\\item 0.2\n",
       "\\item 0.2\n",
       "\\item 0.55\n",
       "\\item 0.6\n",
       "\\item 0.6\n",
       "\\item 0.65\n",
       "\\item 0.7\n",
       "\\item 0.75\n",
       "\\end{enumerate*}\n"
      ],
      "text/markdown": [
       "1. 0.1\n",
       "2. 0.15\n",
       "3. 0.2\n",
       "4. 0.2\n",
       "5. 0.55\n",
       "6. 0.6\n",
       "7. 0.6\n",
       "8. 0.65\n",
       "9. 0.7\n",
       "10. 0.75\n",
       "\n",
       "\n"
      ],
      "text/plain": [
       " [1] 0.10 0.15 0.20 0.20 0.55 0.60 0.60 0.65 0.70 0.75"
      ]
     },
     "metadata": {},
     "output_type": "display_data"
    }
   ],
   "source": [
    "p = c(0.1, 0.15, 0.2, 0.2, 0.55, 0.6, 0.6, 0.65, 0.7, 0.75)\n",
    "p"
   ]
  },
  {
   "cell_type": "code",
   "execution_count": 6,
   "id": "fa3ab9dc",
   "metadata": {},
   "outputs": [
    {
     "data": {
      "text/html": [
       "TRUE"
      ],
      "text/latex": [
       "TRUE"
      ],
      "text/markdown": [
       "TRUE"
      ],
      "text/plain": [
       "[1] TRUE"
      ]
     },
     "metadata": {},
     "output_type": "display_data"
    }
   ],
   "source": [
    "# majority \n",
    "sum(p >= 0.5) > sum(p < 0.5)\n",
    "# there are more red predictions than green predictions "
   ]
  },
  {
   "cell_type": "code",
   "execution_count": 7,
   "id": "50290ba2",
   "metadata": {},
   "outputs": [
    {
     "data": {
      "text/html": [
       "0.45"
      ],
      "text/latex": [
       "0.45"
      ],
      "text/markdown": [
       "0.45"
      ],
      "text/plain": [
       "[1] 0.45"
      ]
     },
     "metadata": {},
     "output_type": "display_data"
    }
   ],
   "source": [
    "# mean \n",
    "mean(p)\n",
    "# more probability of green "
   ]
  },
  {
   "cell_type": "code",
   "execution_count": 8,
   "id": "e5a27c70",
   "metadata": {},
   "outputs": [],
   "source": [
    "# Exercise 8 (p.333, Chap.8)"
   ]
  },
  {
   "cell_type": "code",
   "execution_count": 9,
   "id": "d20f1564",
   "metadata": {},
   "outputs": [],
   "source": [
    "# A - splitting data into test and train "
   ]
  },
  {
   "cell_type": "code",
   "execution_count": 10,
   "id": "a0e73087",
   "metadata": {},
   "outputs": [],
   "source": [
    "library(ISLR)\n",
    "attach(Carseats)\n",
    "set.seed(1)"
   ]
  },
  {
   "cell_type": "code",
   "execution_count": 11,
   "id": "4d6f4566",
   "metadata": {},
   "outputs": [],
   "source": [
    "set.seed(123)\n",
    "train <- sample(1:nrow(Carseats), 200)\n",
    "carseats.train <- Carseats[train, ]\n",
    "carseats.test <- Carseats[-train, ]"
   ]
  },
  {
   "cell_type": "code",
   "execution_count": 12,
   "id": "ebcda625",
   "metadata": {},
   "outputs": [
    {
     "data": {
      "text/html": [
       "<table class=\"dataframe\">\n",
       "<caption>A data.frame: 6 × 11</caption>\n",
       "<thead>\n",
       "\t<tr><th></th><th scope=col>Sales</th><th scope=col>CompPrice</th><th scope=col>Income</th><th scope=col>Advertising</th><th scope=col>Population</th><th scope=col>Price</th><th scope=col>ShelveLoc</th><th scope=col>Age</th><th scope=col>Education</th><th scope=col>Urban</th><th scope=col>US</th></tr>\n",
       "\t<tr><th></th><th scope=col>&lt;dbl&gt;</th><th scope=col>&lt;dbl&gt;</th><th scope=col>&lt;dbl&gt;</th><th scope=col>&lt;dbl&gt;</th><th scope=col>&lt;dbl&gt;</th><th scope=col>&lt;dbl&gt;</th><th scope=col>&lt;fct&gt;</th><th scope=col>&lt;dbl&gt;</th><th scope=col>&lt;dbl&gt;</th><th scope=col>&lt;fct&gt;</th><th scope=col>&lt;fct&gt;</th></tr>\n",
       "</thead>\n",
       "<tbody>\n",
       "\t<tr><th scope=row>179</th><td>10.66</td><td>104</td><td>71</td><td>14</td><td> 89</td><td> 81</td><td>Medium</td><td>25</td><td>14</td><td>No </td><td>Yes</td></tr>\n",
       "\t<tr><th scope=row>14</th><td>10.96</td><td>115</td><td>28</td><td>11</td><td> 29</td><td> 86</td><td>Good  </td><td>53</td><td>18</td><td>Yes</td><td>Yes</td></tr>\n",
       "\t<tr><th scope=row>195</th><td> 7.23</td><td>112</td><td>98</td><td>18</td><td>481</td><td>128</td><td>Medium</td><td>45</td><td>11</td><td>Yes</td><td>Yes</td></tr>\n",
       "\t<tr><th scope=row>306</th><td> 8.03</td><td>115</td><td>29</td><td>26</td><td>394</td><td>132</td><td>Medium</td><td>33</td><td>13</td><td>Yes</td><td>Yes</td></tr>\n",
       "\t<tr><th scope=row>118</th><td> 8.80</td><td>145</td><td>53</td><td> 0</td><td>507</td><td>119</td><td>Medium</td><td>41</td><td>12</td><td>Yes</td><td>No </td></tr>\n",
       "\t<tr><th scope=row>299</th><td>10.98</td><td>148</td><td>63</td><td> 0</td><td>312</td><td>130</td><td>Good  </td><td>63</td><td>15</td><td>Yes</td><td>No </td></tr>\n",
       "</tbody>\n",
       "</table>\n"
      ],
      "text/latex": [
       "A data.frame: 6 × 11\n",
       "\\begin{tabular}{r|lllllllllll}\n",
       "  & Sales & CompPrice & Income & Advertising & Population & Price & ShelveLoc & Age & Education & Urban & US\\\\\n",
       "  & <dbl> & <dbl> & <dbl> & <dbl> & <dbl> & <dbl> & <fct> & <dbl> & <dbl> & <fct> & <fct>\\\\\n",
       "\\hline\n",
       "\t179 & 10.66 & 104 & 71 & 14 &  89 &  81 & Medium & 25 & 14 & No  & Yes\\\\\n",
       "\t14 & 10.96 & 115 & 28 & 11 &  29 &  86 & Good   & 53 & 18 & Yes & Yes\\\\\n",
       "\t195 &  7.23 & 112 & 98 & 18 & 481 & 128 & Medium & 45 & 11 & Yes & Yes\\\\\n",
       "\t306 &  8.03 & 115 & 29 & 26 & 394 & 132 & Medium & 33 & 13 & Yes & Yes\\\\\n",
       "\t118 &  8.80 & 145 & 53 &  0 & 507 & 119 & Medium & 41 & 12 & Yes & No \\\\\n",
       "\t299 & 10.98 & 148 & 63 &  0 & 312 & 130 & Good   & 63 & 15 & Yes & No \\\\\n",
       "\\end{tabular}\n"
      ],
      "text/markdown": [
       "\n",
       "A data.frame: 6 × 11\n",
       "\n",
       "| <!--/--> | Sales &lt;dbl&gt; | CompPrice &lt;dbl&gt; | Income &lt;dbl&gt; | Advertising &lt;dbl&gt; | Population &lt;dbl&gt; | Price &lt;dbl&gt; | ShelveLoc &lt;fct&gt; | Age &lt;dbl&gt; | Education &lt;dbl&gt; | Urban &lt;fct&gt; | US &lt;fct&gt; |\n",
       "|---|---|---|---|---|---|---|---|---|---|---|---|\n",
       "| 179 | 10.66 | 104 | 71 | 14 |  89 |  81 | Medium | 25 | 14 | No  | Yes |\n",
       "| 14 | 10.96 | 115 | 28 | 11 |  29 |  86 | Good   | 53 | 18 | Yes | Yes |\n",
       "| 195 |  7.23 | 112 | 98 | 18 | 481 | 128 | Medium | 45 | 11 | Yes | Yes |\n",
       "| 306 |  8.03 | 115 | 29 | 26 | 394 | 132 | Medium | 33 | 13 | Yes | Yes |\n",
       "| 118 |  8.80 | 145 | 53 |  0 | 507 | 119 | Medium | 41 | 12 | Yes | No  |\n",
       "| 299 | 10.98 | 148 | 63 |  0 | 312 | 130 | Good   | 63 | 15 | Yes | No  |\n",
       "\n"
      ],
      "text/plain": [
       "    Sales CompPrice Income Advertising Population Price ShelveLoc Age Education\n",
       "179 10.66 104       71     14           89         81   Medium    25  14       \n",
       "14  10.96 115       28     11           29         86   Good      53  18       \n",
       "195  7.23 112       98     18          481        128   Medium    45  11       \n",
       "306  8.03 115       29     26          394        132   Medium    33  13       \n",
       "118  8.80 145       53      0          507        119   Medium    41  12       \n",
       "299 10.98 148       63      0          312        130   Good      63  15       \n",
       "    Urban US \n",
       "179 No    Yes\n",
       "14  Yes   Yes\n",
       "195 Yes   Yes\n",
       "306 Yes   Yes\n",
       "118 Yes   No \n",
       "299 Yes   No "
      ]
     },
     "metadata": {},
     "output_type": "display_data"
    }
   ],
   "source": [
    "head(carseats.train)"
   ]
  },
  {
   "cell_type": "code",
   "execution_count": 13,
   "id": "5ff038c9",
   "metadata": {},
   "outputs": [
    {
     "data": {
      "text/html": [
       "<table class=\"dataframe\">\n",
       "<caption>A data.frame: 6 × 11</caption>\n",
       "<thead>\n",
       "\t<tr><th></th><th scope=col>Sales</th><th scope=col>CompPrice</th><th scope=col>Income</th><th scope=col>Advertising</th><th scope=col>Population</th><th scope=col>Price</th><th scope=col>ShelveLoc</th><th scope=col>Age</th><th scope=col>Education</th><th scope=col>Urban</th><th scope=col>US</th></tr>\n",
       "\t<tr><th></th><th scope=col>&lt;dbl&gt;</th><th scope=col>&lt;dbl&gt;</th><th scope=col>&lt;dbl&gt;</th><th scope=col>&lt;dbl&gt;</th><th scope=col>&lt;dbl&gt;</th><th scope=col>&lt;dbl&gt;</th><th scope=col>&lt;fct&gt;</th><th scope=col>&lt;dbl&gt;</th><th scope=col>&lt;dbl&gt;</th><th scope=col>&lt;fct&gt;</th><th scope=col>&lt;fct&gt;</th></tr>\n",
       "</thead>\n",
       "<tbody>\n",
       "\t<tr><th scope=row>1</th><td> 9.50</td><td>138</td><td> 73</td><td>11</td><td>276</td><td>120</td><td>Bad   </td><td>42</td><td>17</td><td>Yes</td><td>Yes</td></tr>\n",
       "\t<tr><th scope=row>2</th><td>11.22</td><td>111</td><td> 48</td><td>16</td><td>260</td><td> 83</td><td>Good  </td><td>65</td><td>10</td><td>Yes</td><td>Yes</td></tr>\n",
       "\t<tr><th scope=row>3</th><td>10.06</td><td>113</td><td> 35</td><td>10</td><td>269</td><td> 80</td><td>Medium</td><td>59</td><td>12</td><td>Yes</td><td>Yes</td></tr>\n",
       "\t<tr><th scope=row>6</th><td>10.81</td><td>124</td><td>113</td><td>13</td><td>501</td><td> 72</td><td>Bad   </td><td>78</td><td>16</td><td>No </td><td>Yes</td></tr>\n",
       "\t<tr><th scope=row>8</th><td>11.85</td><td>136</td><td> 81</td><td>15</td><td>425</td><td>120</td><td>Good  </td><td>67</td><td>10</td><td>Yes</td><td>Yes</td></tr>\n",
       "\t<tr><th scope=row>12</th><td>11.96</td><td>117</td><td> 94</td><td> 4</td><td>503</td><td> 94</td><td>Good  </td><td>50</td><td>13</td><td>Yes</td><td>Yes</td></tr>\n",
       "</tbody>\n",
       "</table>\n"
      ],
      "text/latex": [
       "A data.frame: 6 × 11\n",
       "\\begin{tabular}{r|lllllllllll}\n",
       "  & Sales & CompPrice & Income & Advertising & Population & Price & ShelveLoc & Age & Education & Urban & US\\\\\n",
       "  & <dbl> & <dbl> & <dbl> & <dbl> & <dbl> & <dbl> & <fct> & <dbl> & <dbl> & <fct> & <fct>\\\\\n",
       "\\hline\n",
       "\t1 &  9.50 & 138 &  73 & 11 & 276 & 120 & Bad    & 42 & 17 & Yes & Yes\\\\\n",
       "\t2 & 11.22 & 111 &  48 & 16 & 260 &  83 & Good   & 65 & 10 & Yes & Yes\\\\\n",
       "\t3 & 10.06 & 113 &  35 & 10 & 269 &  80 & Medium & 59 & 12 & Yes & Yes\\\\\n",
       "\t6 & 10.81 & 124 & 113 & 13 & 501 &  72 & Bad    & 78 & 16 & No  & Yes\\\\\n",
       "\t8 & 11.85 & 136 &  81 & 15 & 425 & 120 & Good   & 67 & 10 & Yes & Yes\\\\\n",
       "\t12 & 11.96 & 117 &  94 &  4 & 503 &  94 & Good   & 50 & 13 & Yes & Yes\\\\\n",
       "\\end{tabular}\n"
      ],
      "text/markdown": [
       "\n",
       "A data.frame: 6 × 11\n",
       "\n",
       "| <!--/--> | Sales &lt;dbl&gt; | CompPrice &lt;dbl&gt; | Income &lt;dbl&gt; | Advertising &lt;dbl&gt; | Population &lt;dbl&gt; | Price &lt;dbl&gt; | ShelveLoc &lt;fct&gt; | Age &lt;dbl&gt; | Education &lt;dbl&gt; | Urban &lt;fct&gt; | US &lt;fct&gt; |\n",
       "|---|---|---|---|---|---|---|---|---|---|---|---|\n",
       "| 1 |  9.50 | 138 |  73 | 11 | 276 | 120 | Bad    | 42 | 17 | Yes | Yes |\n",
       "| 2 | 11.22 | 111 |  48 | 16 | 260 |  83 | Good   | 65 | 10 | Yes | Yes |\n",
       "| 3 | 10.06 | 113 |  35 | 10 | 269 |  80 | Medium | 59 | 12 | Yes | Yes |\n",
       "| 6 | 10.81 | 124 | 113 | 13 | 501 |  72 | Bad    | 78 | 16 | No  | Yes |\n",
       "| 8 | 11.85 | 136 |  81 | 15 | 425 | 120 | Good   | 67 | 10 | Yes | Yes |\n",
       "| 12 | 11.96 | 117 |  94 |  4 | 503 |  94 | Good   | 50 | 13 | Yes | Yes |\n",
       "\n"
      ],
      "text/plain": [
       "   Sales CompPrice Income Advertising Population Price ShelveLoc Age Education\n",
       "1   9.50 138        73    11          276        120   Bad       42  17       \n",
       "2  11.22 111        48    16          260         83   Good      65  10       \n",
       "3  10.06 113        35    10          269         80   Medium    59  12       \n",
       "6  10.81 124       113    13          501         72   Bad       78  16       \n",
       "8  11.85 136        81    15          425        120   Good      67  10       \n",
       "12 11.96 117        94     4          503         94   Good      50  13       \n",
       "   Urban US \n",
       "1  Yes   Yes\n",
       "2  Yes   Yes\n",
       "3  Yes   Yes\n",
       "6  No    Yes\n",
       "8  Yes   Yes\n",
       "12 Yes   Yes"
      ]
     },
     "metadata": {},
     "output_type": "display_data"
    }
   ],
   "source": [
    "head(carseats.test)"
   ]
  },
  {
   "cell_type": "code",
   "execution_count": 14,
   "id": "8f66cd36",
   "metadata": {},
   "outputs": [],
   "source": [
    "# B - Fit regression tree to training set"
   ]
  },
  {
   "cell_type": "code",
   "execution_count": 15,
   "id": "70b2fc46",
   "metadata": {},
   "outputs": [
    {
     "data": {
      "text/plain": [
       "\n",
       "Regression tree:\n",
       "tree(formula = Sales ~ ., data = carseats.train)\n",
       "Variables actually used in tree construction:\n",
       "[1] \"ShelveLoc\"   \"Price\"       \"Income\"      \"Age\"         \"Population\" \n",
       "[6] \"Education\"   \"CompPrice\"   \"Advertising\"\n",
       "Number of terminal nodes:  18 \n",
       "Residual mean deviance:  2.132 = 388.1 / 182 \n",
       "Distribution of residuals:\n",
       "    Min.  1st Qu.   Median     Mean  3rd Qu.     Max. \n",
       "-4.08000 -0.92870  0.06244  0.00000  0.87020  3.71700 "
      ]
     },
     "metadata": {},
     "output_type": "display_data"
    }
   ],
   "source": [
    "library(tree)\n",
    "tree.carseats = tree(Sales ~ ., data = carseats.train)\n",
    "summary(tree.carseats)"
   ]
  },
  {
   "cell_type": "code",
   "execution_count": 16,
   "id": "20b033bd",
   "metadata": {},
   "outputs": [
    {
     "data": {
      "image/png": "[encoded data removed]",
      "text/plain": [
       "plot without title"
      ]
     },
     "metadata": {
      "image/png": {
       "height": 420,
       "width": 420
      }
     },
     "output_type": "display_data"
    }
   ],
   "source": [
    "plot(tree.carseats)\n",
    "text(tree.carseats)"
   ]
  },
  {
   "cell_type": "code",
   "execution_count": 24,
   "id": "145e4584",
   "metadata": {},
   "outputs": [
    {
     "data": {
      "text/html": [
       "4.39535740766638"
      ],
      "text/latex": [
       "4.39535740766638"
      ],
      "text/markdown": [
       "4.39535740766638"
      ],
      "text/plain": [
       "[1] 4.395357"
      ]
     },
     "metadata": {},
     "output_type": "display_data"
    }
   ],
   "source": [
    "pred.carseats = predict(tree.carseats, carseats.test)\n",
    "mean((carseats.test$Sales - pred.carseats)^2)"
   ]
  },
  {
   "cell_type": "code",
   "execution_count": null,
   "id": "040662b7",
   "metadata": {},
   "outputs": [],
   "source": [
    "# C - Cross validation"
   ]
  },
  {
   "cell_type": "code",
   "execution_count": 25,
   "id": "7f86b9e3",
   "metadata": {},
   "outputs": [
    {
     "data": {
      "image/png": "[encoded data removed]",
      "text/plain": [
       "plot without title"
      ]
     },
     "metadata": {
      "image/png": {
       "height": 420,
       "width": 420
      }
     },
     "output_type": "display_data"
    }
   ],
   "source": [
    "cv.carseats = cv.tree(tree.carseats, FUN = prune.tree)\n",
    "par(mfrow = c(1, 2))\n",
    "plot(cv.carseats$size, cv.carseats$dev, type = \"b\")\n",
    "plot(cv.carseats$k, cv.carseats$dev, type = \"b\")"
   ]
  },
  {
   "cell_type": "code",
   "execution_count": 26,
   "id": "8a476140",
   "metadata": {},
   "outputs": [
    {
     "data": {
      "image/png": "[encoded data removed]",
      "text/plain": [
       "plot without title"
      ]
     },
     "metadata": {
      "image/png": {
       "height": 420,
       "width": 420
      }
     },
     "output_type": "display_data"
    }
   ],
   "source": [
    "pruned.carseats = prune.tree(tree.carseats, best = 9)\n",
    "par(mfrow = c(1, 1))\n",
    "plot(pruned.carseats)\n",
    "text(pruned.carseats)"
   ]
  },
  {
   "cell_type": "code",
   "execution_count": 28,
   "id": "34fa8a5b",
   "metadata": {},
   "outputs": [
    {
     "data": {
      "text/html": [
       "4.53450185873551"
      ],
      "text/latex": [
       "4.53450185873551"
      ],
      "text/markdown": [
       "4.53450185873551"
      ],
      "text/plain": [
       "[1] 4.534502"
      ]
     },
     "metadata": {},
     "output_type": "display_data"
    }
   ],
   "source": [
    "pred.pruned = predict(pruned.carseats, carseats.test)\n",
    "mean((carseats.test$Sales - pred.pruned)^2)"
   ]
  },
  {
   "cell_type": "code",
   "execution_count": null,
   "id": "288c7cfb",
   "metadata": {},
   "outputs": [],
   "source": [
    "# D - Bagging"
   ]
  },
  {
   "cell_type": "code",
   "execution_count": 29,
   "id": "5332bc00",
   "metadata": {},
   "outputs": [
    {
     "name": "stderr",
     "output_type": "stream",
     "text": [
      "randomForest 4.6-14\n",
      "\n",
      "Type rfNews() to see new features/changes/bug fixes.\n",
      "\n"
     ]
    }
   ],
   "source": [
    "library(randomForest)"
   ]
  },
  {
   "cell_type": "code",
   "execution_count": 31,
   "id": "007a95a7",
   "metadata": {},
   "outputs": [
    {
     "data": {
      "text/html": [
       "2.68999562511563"
      ],
      "text/latex": [
       "2.68999562511563"
      ],
      "text/markdown": [
       "2.68999562511563"
      ],
      "text/plain": [
       "[1] 2.689996"
      ]
     },
     "metadata": {},
     "output_type": "display_data"
    }
   ],
   "source": [
    "bag.carseats = randomForest(Sales ~ ., data = carseats.train, mtry = 10, ntree = 500, \n",
    "    importance = T)\n",
    "bag.pred = predict(bag.carseats, carseats.test)\n",
    "mean((carseats.test$Sales - bag.pred)^2)"
   ]
  },
  {
   "cell_type": "code",
   "execution_count": 32,
   "id": "071895a7",
   "metadata": {},
   "outputs": [
    {
     "data": {
      "text/html": [
       "<table class=\"dataframe\">\n",
       "<caption>A matrix: 10 × 2 of type dbl</caption>\n",
       "<thead>\n",
       "\t<tr><th></th><th scope=col>%IncMSE</th><th scope=col>IncNodePurity</th></tr>\n",
       "</thead>\n",
       "<tbody>\n",
       "\t<tr><th scope=row>CompPrice</th><td>19.74043204</td><td>164.872571</td></tr>\n",
       "\t<tr><th scope=row>Income</th><td> 6.07429322</td><td> 86.836945</td></tr>\n",
       "\t<tr><th scope=row>Advertising</th><td> 6.08829792</td><td> 79.903603</td></tr>\n",
       "\t<tr><th scope=row>Population</th><td>-1.32984513</td><td> 54.133346</td></tr>\n",
       "\t<tr><th scope=row>Price</th><td>44.42919719</td><td>379.645564</td></tr>\n",
       "\t<tr><th scope=row>ShelveLoc</th><td>47.17176976</td><td>375.789048</td></tr>\n",
       "\t<tr><th scope=row>Age</th><td>15.95243833</td><td>177.604705</td></tr>\n",
       "\t<tr><th scope=row>Education</th><td> 2.36593202</td><td> 59.128238</td></tr>\n",
       "\t<tr><th scope=row>Urban</th><td> 0.16258987</td><td>  8.045304</td></tr>\n",
       "\t<tr><th scope=row>US</th><td> 0.01902933</td><td>  5.224573</td></tr>\n",
       "</tbody>\n",
       "</table>\n"
      ],
      "text/latex": [
       "A matrix: 10 × 2 of type dbl\n",
       "\\begin{tabular}{r|ll}\n",
       "  & \\%IncMSE & IncNodePurity\\\\\n",
       "\\hline\n",
       "\tCompPrice & 19.74043204 & 164.872571\\\\\n",
       "\tIncome &  6.07429322 &  86.836945\\\\\n",
       "\tAdvertising &  6.08829792 &  79.903603\\\\\n",
       "\tPopulation & -1.32984513 &  54.133346\\\\\n",
       "\tPrice & 44.42919719 & 379.645564\\\\\n",
       "\tShelveLoc & 47.17176976 & 375.789048\\\\\n",
       "\tAge & 15.95243833 & 177.604705\\\\\n",
       "\tEducation &  2.36593202 &  59.128238\\\\\n",
       "\tUrban &  0.16258987 &   8.045304\\\\\n",
       "\tUS &  0.01902933 &   5.224573\\\\\n",
       "\\end{tabular}\n"
      ],
      "text/markdown": [
       "\n",
       "A matrix: 10 × 2 of type dbl\n",
       "\n",
       "| <!--/--> | %IncMSE | IncNodePurity |\n",
       "|---|---|---|\n",
       "| CompPrice | 19.74043204 | 164.872571 |\n",
       "| Income |  6.07429322 |  86.836945 |\n",
       "| Advertising |  6.08829792 |  79.903603 |\n",
       "| Population | -1.32984513 |  54.133346 |\n",
       "| Price | 44.42919719 | 379.645564 |\n",
       "| ShelveLoc | 47.17176976 | 375.789048 |\n",
       "| Age | 15.95243833 | 177.604705 |\n",
       "| Education |  2.36593202 |  59.128238 |\n",
       "| Urban |  0.16258987 |   8.045304 |\n",
       "| US |  0.01902933 |   5.224573 |\n",
       "\n"
      ],
      "text/plain": [
       "            %IncMSE     IncNodePurity\n",
       "CompPrice   19.74043204 164.872571   \n",
       "Income       6.07429322  86.836945   \n",
       "Advertising  6.08829792  79.903603   \n",
       "Population  -1.32984513  54.133346   \n",
       "Price       44.42919719 379.645564   \n",
       "ShelveLoc   47.17176976 375.789048   \n",
       "Age         15.95243833 177.604705   \n",
       "Education    2.36593202  59.128238   \n",
       "Urban        0.16258987   8.045304   \n",
       "US           0.01902933   5.224573   "
      ]
     },
     "metadata": {},
     "output_type": "display_data"
    }
   ],
   "source": [
    "importance(bag.carseats)\n",
    "# Price, ShelveLoc and Age are three most important predictors"
   ]
  },
  {
   "cell_type": "code",
   "execution_count": null,
   "id": "1f865635",
   "metadata": {},
   "outputs": [],
   "source": [
    "# E - Random forests "
   ]
  },
  {
   "cell_type": "code",
   "execution_count": 36,
   "id": "eeec76bf",
   "metadata": {},
   "outputs": [
    {
     "data": {
      "text/html": [
       "3.03921982453925"
      ],
      "text/latex": [
       "3.03921982453925"
      ],
      "text/markdown": [
       "3.03921982453925"
      ],
      "text/plain": [
       "[1] 3.03922"
      ]
     },
     "metadata": {},
     "output_type": "display_data"
    }
   ],
   "source": [
    "rf.carseats = randomForest(Sales ~ ., data = carseats.train, mtry = 5, ntree = 500, \n",
    "    importance = T)\n",
    "rf.pred = predict(rf.carseats, carseats.test)\n",
    "mean((carseats.test$Sales - rf.pred)^2)"
   ]
  },
  {
   "cell_type": "code",
   "execution_count": 37,
   "id": "9105621c",
   "metadata": {},
   "outputs": [
    {
     "data": {
      "text/html": [
       "<table class=\"dataframe\">\n",
       "<caption>A matrix: 10 × 2 of type dbl</caption>\n",
       "<thead>\n",
       "\t<tr><th></th><th scope=col>%IncMSE</th><th scope=col>IncNodePurity</th></tr>\n",
       "</thead>\n",
       "<tbody>\n",
       "\t<tr><th scope=row>CompPrice</th><td>14.7898295</td><td>149.306703</td></tr>\n",
       "\t<tr><th scope=row>Income</th><td> 7.3671384</td><td>104.029478</td></tr>\n",
       "\t<tr><th scope=row>Advertising</th><td> 7.1711267</td><td> 90.961911</td></tr>\n",
       "\t<tr><th scope=row>Population</th><td> 0.5338106</td><td> 80.109538</td></tr>\n",
       "\t<tr><th scope=row>Price</th><td>36.2512459</td><td>328.796774</td></tr>\n",
       "\t<tr><th scope=row>ShelveLoc</th><td>37.4954268</td><td>326.234797</td></tr>\n",
       "\t<tr><th scope=row>Age</th><td>17.2920678</td><td>206.144652</td></tr>\n",
       "\t<tr><th scope=row>Education</th><td> 1.8089497</td><td> 64.237698</td></tr>\n",
       "\t<tr><th scope=row>Urban</th><td> 0.7107411</td><td> 10.892372</td></tr>\n",
       "\t<tr><th scope=row>US</th><td> 0.4041394</td><td>  9.603097</td></tr>\n",
       "</tbody>\n",
       "</table>\n"
      ],
      "text/latex": [
       "A matrix: 10 × 2 of type dbl\n",
       "\\begin{tabular}{r|ll}\n",
       "  & \\%IncMSE & IncNodePurity\\\\\n",
       "\\hline\n",
       "\tCompPrice & 14.7898295 & 149.306703\\\\\n",
       "\tIncome &  7.3671384 & 104.029478\\\\\n",
       "\tAdvertising &  7.1711267 &  90.961911\\\\\n",
       "\tPopulation &  0.5338106 &  80.109538\\\\\n",
       "\tPrice & 36.2512459 & 328.796774\\\\\n",
       "\tShelveLoc & 37.4954268 & 326.234797\\\\\n",
       "\tAge & 17.2920678 & 206.144652\\\\\n",
       "\tEducation &  1.8089497 &  64.237698\\\\\n",
       "\tUrban &  0.7107411 &  10.892372\\\\\n",
       "\tUS &  0.4041394 &   9.603097\\\\\n",
       "\\end{tabular}\n"
      ],
      "text/markdown": [
       "\n",
       "A matrix: 10 × 2 of type dbl\n",
       "\n",
       "| <!--/--> | %IncMSE | IncNodePurity |\n",
       "|---|---|---|\n",
       "| CompPrice | 14.7898295 | 149.306703 |\n",
       "| Income |  7.3671384 | 104.029478 |\n",
       "| Advertising |  7.1711267 |  90.961911 |\n",
       "| Population |  0.5338106 |  80.109538 |\n",
       "| Price | 36.2512459 | 328.796774 |\n",
       "| ShelveLoc | 37.4954268 | 326.234797 |\n",
       "| Age | 17.2920678 | 206.144652 |\n",
       "| Education |  1.8089497 |  64.237698 |\n",
       "| Urban |  0.7107411 |  10.892372 |\n",
       "| US |  0.4041394 |   9.603097 |\n",
       "\n"
      ],
      "text/plain": [
       "            %IncMSE    IncNodePurity\n",
       "CompPrice   14.7898295 149.306703   \n",
       "Income       7.3671384 104.029478   \n",
       "Advertising  7.1711267  90.961911   \n",
       "Population   0.5338106  80.109538   \n",
       "Price       36.2512459 328.796774   \n",
       "ShelveLoc   37.4954268 326.234797   \n",
       "Age         17.2920678 206.144652   \n",
       "Education    1.8089497  64.237698   \n",
       "Urban        0.7107411  10.892372   \n",
       "US           0.4041394   9.603097   "
      ]
     },
     "metadata": {},
     "output_type": "display_data"
    }
   ],
   "source": [
    "importance(rf.carseats)\n",
    "# Price , ShelveLoc and Age are three most important predictors "
   ]
  },
  {
   "cell_type": "code",
   "execution_count": null,
   "id": "3085d581",
   "metadata": {},
   "outputs": [],
   "source": [
    "# Exercise 9 (p.334, Chap.8)"
   ]
  },
  {
   "cell_type": "code",
   "execution_count": null,
   "id": "97cf17ec",
   "metadata": {},
   "outputs": [],
   "source": [
    "# A - create training and test set"
   ]
  },
  {
   "cell_type": "code",
   "execution_count": 38,
   "id": "02dd421c",
   "metadata": {},
   "outputs": [
    {
     "name": "stdout",
     "output_type": "stream",
     "text": [
      "'data.frame':\t800 obs. of  18 variables:\n",
      " $ Purchase      : Factor w/ 2 levels \"CH\",\"MM\": 1 1 2 2 1 1 1 2 1 1 ...\n",
      " $ WeekofPurchase: num  249 272 275 276 278 267 260 243 267 276 ...\n",
      " $ StoreID       : num  2 4 1 7 3 7 7 1 7 2 ...\n",
      " $ PriceCH       : num  1.89 1.99 1.96 1.99 2.09 1.86 1.86 1.86 1.86 1.99 ...\n",
      " $ PriceMM       : num  2.09 2.09 2.13 2.13 2.09 2.13 2.13 1.99 2.13 2.18 ...\n",
      " $ DiscCH        : num  0 0 0 0 0.2 0 0 0 0 0 ...\n",
      " $ DiscMM        : num  0 0.4 0.74 0.54 0 0 0.24 0.8 0 0 ...\n",
      " $ SpecialCH     : num  0 0 0 0 0 1 0 0 1 0 ...\n",
      " $ SpecialMM     : num  0 0 1 1 0 0 0 1 0 1 ...\n",
      " $ LoyalCH       : num  0.917 0.952 0.477 0.589 0.986 ...\n",
      " $ SalePriceMM   : num  2.09 1.69 1.39 1.59 2.09 2.13 1.89 1.19 2.13 2.18 ...\n",
      " $ SalePriceCH   : num  1.89 1.99 1.96 1.99 1.89 1.86 1.86 1.86 1.86 1.99 ...\n",
      " $ PriceDiff     : num  0.2 -0.3 -0.57 -0.4 0.2 0.27 0.03 -0.67 0.27 0.19 ...\n",
      " $ Store7        : Factor w/ 2 levels \"No\",\"Yes\": 1 1 1 2 1 2 2 1 2 1 ...\n",
      " $ PctDiscMM     : num  0 0.191 0.347 0.254 0 ...\n",
      " $ PctDiscCH     : num  0 0 0 0 0.0957 ...\n",
      " $ ListPriceDiff : num  0.2 0.1 0.17 0.14 0 0.27 0.27 0.13 0.27 0.19 ...\n",
      " $ STORE         : num  2 4 1 0 3 0 0 1 0 2 ...\n",
      "'data.frame':\t270 obs. of  18 variables:\n",
      " $ Purchase      : Factor w/ 2 levels \"CH\",\"MM\": 1 2 1 1 1 1 1 2 1 1 ...\n",
      " $ WeekofPurchase: num  239 227 228 232 235 238 276 269 254 265 ...\n",
      " $ StoreID       : num  1 1 7 7 7 7 7 2 7 7 ...\n",
      " $ PriceCH       : num  1.75 1.69 1.69 1.69 1.75 1.75 1.99 1.86 1.86 1.86 ...\n",
      " $ PriceMM       : num  1.99 1.69 1.69 1.99 1.99 1.99 2.13 2.18 2.18 2.13 ...\n",
      " $ DiscCH        : num  0 0 0 0 0 0 0 0 0 0.37 ...\n",
      " $ DiscMM        : num  0.3 0 0 0.4 0.4 0.4 0.54 0 0 0 ...\n",
      " $ SpecialCH     : num  0 0 0 1 0 0 0 0 0 1 ...\n",
      " $ SpecialMM     : num  1 0 0 1 0 0 1 0 0 0 ...\n",
      " $ LoyalCH       : num  0.6 0.4 0.957 0.972 0.982 ...\n",
      " $ SalePriceMM   : num  1.69 1.69 1.69 1.59 1.59 1.59 1.59 2.18 2.18 2.13 ...\n",
      " $ SalePriceCH   : num  1.75 1.69 1.69 1.69 1.75 1.75 1.99 1.86 1.86 1.49 ...\n",
      " $ PriceDiff     : num  -0.06 0 0 -0.1 -0.16 -0.16 -0.4 0.32 0.32 0.64 ...\n",
      " $ Store7        : Factor w/ 2 levels \"No\",\"Yes\": 1 1 2 2 2 2 2 1 2 2 ...\n",
      " $ PctDiscMM     : num  0.151 0 0 0.201 0.201 ...\n",
      " $ PctDiscCH     : num  0 0 0 0 0 ...\n",
      " $ ListPriceDiff : num  0.24 0 0 0.3 0.24 0.24 0.14 0.32 0.32 0.27 ...\n",
      " $ STORE         : num  1 1 0 0 0 0 0 2 0 0 ...\n"
     ]
    }
   ],
   "source": [
    "set.seed(112)\n",
    "train <- sample(1:nrow(OJ), 800)\n",
    "OJ.train <- OJ[train, ]\n",
    "OJ.test <- OJ[-train, ]\n",
    "str(OJ.train)\n",
    "str(OJ.test)"
   ]
  },
  {
   "cell_type": "code",
   "execution_count": null,
   "id": "02aebf42",
   "metadata": {},
   "outputs": [],
   "source": [
    "# B - fit tree to training data"
   ]
  },
  {
   "cell_type": "code",
   "execution_count": 39,
   "id": "8c2c17c5",
   "metadata": {},
   "outputs": [
    {
     "data": {
      "text/plain": [
       "\n",
       "Classification tree:\n",
       "tree(formula = Purchase ~ ., data = OJ.train)\n",
       "Variables actually used in tree construction:\n",
       "[1] \"LoyalCH\"   \"PriceDiff\" \"DiscMM\"   \n",
       "Number of terminal nodes:  7 \n",
       "Residual mean deviance:  0.7781 = 617 / 793 \n",
       "Misclassification error rate: 0.1662 = 133 / 800 "
      ]
     },
     "metadata": {},
     "output_type": "display_data"
    }
   ],
   "source": [
    "library(tree)\n",
    "oj.tree = tree(Purchase ~ ., data = OJ.train)\n",
    "summary(oj.tree)\n",
    "# tree uses two variables: LoyalCH and PriceDiff / 7 terminal nodes / Training error rate is 0.155"
   ]
  },
  {
   "cell_type": "code",
   "execution_count": null,
   "id": "6257da1d",
   "metadata": {},
   "outputs": [],
   "source": [
    "# C - type name of tree object"
   ]
  },
  {
   "cell_type": "code",
   "execution_count": 40,
   "id": "86b56d22",
   "metadata": {},
   "outputs": [
    {
     "data": {
      "text/plain": [
       "node), split, n, deviance, yval, (yprob)\n",
       "      * denotes terminal node\n",
       "\n",
       " 1) root 800 1070.00 CH ( 0.61000 0.39000 )  \n",
       "   2) LoyalCH < 0.450956 280  296.10 MM ( 0.22143 0.77857 )  \n",
       "     4) LoyalCH < 0.276142 164  109.20 MM ( 0.10366 0.89634 ) *\n",
       "     5) LoyalCH > 0.276142 116  154.90 MM ( 0.38793 0.61207 )  \n",
       "      10) PriceDiff < 0.05 54   51.75 MM ( 0.18519 0.81481 ) *\n",
       "      11) PriceDiff > 0.05 62   84.92 CH ( 0.56452 0.43548 ) *\n",
       "   3) LoyalCH > 0.450956 520  491.50 CH ( 0.81923 0.18077 )  \n",
       "     6) LoyalCH < 0.764572 255  318.80 CH ( 0.68235 0.31765 )  \n",
       "      12) PriceDiff < 0.085 93  127.60 MM ( 0.44086 0.55914 )  \n",
       "        24) DiscMM < 0.47 74  102.40 CH ( 0.52703 0.47297 ) *\n",
       "        25) DiscMM > 0.47 19   12.79 MM ( 0.10526 0.89474 ) *\n",
       "      13) PriceDiff > 0.085 162  152.20 CH ( 0.82099 0.17901 ) *\n",
       "     7) LoyalCH > 0.764572 265  103.70 CH ( 0.95094 0.04906 ) *"
      ]
     },
     "metadata": {},
     "output_type": "display_data"
    }
   ],
   "source": [
    "oj.tree"
   ]
  },
  {
   "cell_type": "code",
   "execution_count": null,
   "id": "0d6010fa",
   "metadata": {},
   "outputs": [],
   "source": [
    "# D - create plot "
   ]
  },
  {
   "cell_type": "code",
   "execution_count": 41,
   "id": "27efc37b",
   "metadata": {},
   "outputs": [
    {
     "data": {
      "image/png": "[encoded data removed]",
      "text/plain": [
       "plot without title"
      ]
     },
     "metadata": {
      "image/png": {
       "height": 420,
       "width": 420
      }
     },
     "output_type": "display_data"
    }
   ],
   "source": [
    "plot(oj.tree)\n",
    "text(oj.tree)"
   ]
  },
  {
   "cell_type": "code",
   "execution_count": null,
   "id": "e668acd7",
   "metadata": {},
   "outputs": [],
   "source": [
    "# E - predict response on test data and produce confusion matrix "
   ]
  },
  {
   "cell_type": "code",
   "execution_count": 47,
   "id": "ebbd2b3c",
   "metadata": {},
   "outputs": [
    {
     "data": {
      "text/plain": [
       "      Predicted\n",
       "Actual  CH  MM\n",
       "    CH 150  15\n",
       "    MM  40  65"
      ]
     },
     "metadata": {},
     "output_type": "display_data"
    }
   ],
   "source": [
    "oj.pred = predict(oj.tree, OJ.test, type = \"class\")\n",
    "test.tab<-table(OJ.test$Purchase, oj.pred, dnn = c(\"Actual\",\"Predicted\"))\n",
    "test.tab"
   ]
  },
  {
   "cell_type": "code",
   "execution_count": null,
   "id": "90191d9c",
   "metadata": {},
   "outputs": [],
   "source": [
    "# F - apply cv.tree function to training set"
   ]
  },
  {
   "cell_type": "code",
   "execution_count": 49,
   "id": "73102355",
   "metadata": {},
   "outputs": [
    {
     "data": {
      "text/plain": [
       "$size\n",
       "[1] 7 6 5 4 3 2 1\n",
       "\n",
       "$dev\n",
       "[1]  720.1585  693.4468  691.9336  737.7064  757.3542  835.8315 1071.2941\n",
       "\n",
       "$k\n",
       "[1]      -Inf  12.46495  18.26776  31.90515  38.92596  68.93196 282.45905\n",
       "\n",
       "$method\n",
       "[1] \"deviance\"\n",
       "\n",
       "attr(,\"class\")\n",
       "[1] \"prune\"         \"tree.sequence\""
      ]
     },
     "metadata": {},
     "output_type": "display_data"
    }
   ],
   "source": [
    "cv.oj = cv.tree(oj.tree,FUN=prune.tree)\n",
    "cv.oj"
   ]
  },
  {
   "cell_type": "code",
   "execution_count": null,
   "id": "9413427e",
   "metadata": {},
   "outputs": [],
   "source": [
    "# G - create plot "
   ]
  },
  {
   "cell_type": "code",
   "execution_count": 51,
   "id": "f4011ddc",
   "metadata": {},
   "outputs": [
    {
     "data": {
      "image/png": "[encoded data removed]",
      "text/plain": [
       "plot without title"
      ]
     },
     "metadata": {
      "image/png": {
       "height": 420,
       "width": 420
      }
     },
     "output_type": "display_data"
    }
   ],
   "source": [
    "plot(cv.oj$size, cv.oj$dev, type = \"b\", xlab = \"Tree Size\", ylab = \"Deviance\")"
   ]
  },
  {
   "cell_type": "code",
   "execution_count": null,
   "id": "47e3cd79",
   "metadata": {},
   "outputs": [],
   "source": [
    "# H - tree size "
   ]
  },
  {
   "cell_type": "code",
   "execution_count": null,
   "id": "bcf96c9c",
   "metadata": {},
   "outputs": [],
   "source": [
    "# 5 has the lowest cross-validation error"
   ]
  },
  {
   "cell_type": "code",
   "execution_count": null,
   "id": "41250f9b",
   "metadata": {},
   "outputs": [],
   "source": [
    "# I - produce pruned tree"
   ]
  },
  {
   "cell_type": "code",
   "execution_count": 53,
   "id": "02b8de8c",
   "metadata": {},
   "outputs": [
    {
     "data": {
      "text/plain": [
       "node), split, n, deviance, yval, (yprob)\n",
       "      * denotes terminal node\n",
       "\n",
       " 1) root 800 1070.0 CH ( 0.61000 0.39000 )  \n",
       "   2) LoyalCH < 0.450956 280  296.1 MM ( 0.22143 0.77857 )  \n",
       "     4) LoyalCH < 0.276142 164  109.2 MM ( 0.10366 0.89634 ) *\n",
       "     5) LoyalCH > 0.276142 116  154.9 MM ( 0.38793 0.61207 ) *\n",
       "   3) LoyalCH > 0.450956 520  491.5 CH ( 0.81923 0.18077 )  \n",
       "     6) LoyalCH < 0.764572 255  318.8 CH ( 0.68235 0.31765 )  \n",
       "      12) PriceDiff < 0.085 93  127.6 MM ( 0.44086 0.55914 ) *\n",
       "      13) PriceDiff > 0.085 162  152.2 CH ( 0.82099 0.17901 ) *\n",
       "     7) LoyalCH > 0.764572 265  103.7 CH ( 0.95094 0.04906 ) *"
      ]
     },
     "metadata": {},
     "output_type": "display_data"
    }
   ],
   "source": [
    "oj.pruned = prune.tree(oj.tree, best = 5)\n",
    "oj.pruned"
   ]
  },
  {
   "cell_type": "code",
   "execution_count": null,
   "id": "d07fe1ba",
   "metadata": {},
   "outputs": [],
   "source": [
    "# J - compare training error rates"
   ]
  },
  {
   "cell_type": "code",
   "execution_count": 54,
   "id": "f5bac4d7",
   "metadata": {},
   "outputs": [
    {
     "data": {
      "text/plain": [
       "\n",
       "Classification tree:\n",
       "snip.tree(tree = oj.tree, nodes = c(12L, 5L))\n",
       "Variables actually used in tree construction:\n",
       "[1] \"LoyalCH\"   \"PriceDiff\"\n",
       "Number of terminal nodes:  5 \n",
       "Residual mean deviance:  0.8148 = 647.8 / 795 \n",
       "Misclassification error rate: 0.1812 = 145 / 800 "
      ]
     },
     "metadata": {},
     "output_type": "display_data"
    }
   ],
   "source": [
    "summary(oj.pruned)"
   ]
  },
  {
   "cell_type": "code",
   "execution_count": null,
   "id": "31cf2f9f",
   "metadata": {},
   "outputs": [],
   "source": [
    "# K - compare test error rates \n",
    "# unpruned has the highest error rate "
   ]
  },
  {
   "cell_type": "code",
   "execution_count": 55,
   "id": "b3408a41",
   "metadata": {},
   "outputs": [
    {
     "data": {
      "text/html": [
       "0.203703703703704"
      ],
      "text/latex": [
       "0.203703703703704"
      ],
      "text/markdown": [
       "0.203703703703704"
      ],
      "text/plain": [
       "[1] 0.2037037"
      ]
     },
     "metadata": {},
     "output_type": "display_data"
    }
   ],
   "source": [
    "pred.unpruned = predict(oj.tree, OJ.test, type = \"class\")\n",
    "misclass.unpruned = sum(OJ.test$Purchase != pred.unpruned)\n",
    "misclass.unpruned/length(pred.unpruned)"
   ]
  },
  {
   "cell_type": "code",
   "execution_count": 56,
   "id": "cf8722f9",
   "metadata": {},
   "outputs": [
    {
     "data": {
      "text/html": [
       "0.188888888888889"
      ],
      "text/latex": [
       "0.188888888888889"
      ],
      "text/markdown": [
       "0.188888888888889"
      ],
      "text/plain": [
       "[1] 0.1888889"
      ]
     },
     "metadata": {},
     "output_type": "display_data"
    }
   ],
   "source": [
    "pred.pruned = predict(oj.pruned, OJ.test, type = \"class\")\n",
    "misclass.pruned = sum(OJ.test$Purchase != pred.pruned)\n",
    "misclass.pruned/length(pred.pruned)"
   ]
  },
  {
   "cell_type": "code",
   "execution_count": null,
   "id": "5e70947e",
   "metadata": {},
   "outputs": [],
   "source": [
    "# Exercise 10 (p.334, Chap.8)"
   ]
  },
  {
   "cell_type": "code",
   "execution_count": null,
   "id": "8594f3ff",
   "metadata": {},
   "outputs": [],
   "source": [
    "# A "
   ]
  },
  {
   "cell_type": "code",
   "execution_count": 58,
   "id": "73bf62e0",
   "metadata": {},
   "outputs": [
    {
     "data": {
      "text/html": [
       "59"
      ],
      "text/latex": [
       "59"
      ],
      "text/markdown": [
       "59"
      ],
      "text/plain": [
       "[1] 59"
      ]
     },
     "metadata": {},
     "output_type": "display_data"
    }
   ],
   "source": [
    "library(ISLR)\n",
    "sum(is.na(Hitters$Salary))"
   ]
  },
  {
   "cell_type": "code",
   "execution_count": 59,
   "id": "3c4b80a4",
   "metadata": {},
   "outputs": [],
   "source": [
    "Hitters <- na.omit(Hitters)\n",
    "Hitters$Salary <- log(Hitters$Salary)"
   ]
  },
  {
   "cell_type": "code",
   "execution_count": null,
   "id": "e8af1c84",
   "metadata": {},
   "outputs": [],
   "source": [
    "# B"
   ]
  },
  {
   "cell_type": "code",
   "execution_count": 60,
   "id": "a228e891",
   "metadata": {},
   "outputs": [],
   "source": [
    "train <- 1:200\n",
    "Hitters.train <- Hitters[train, ]\n",
    "Hitters.test <- Hitters[-train, ]"
   ]
  },
  {
   "cell_type": "code",
   "execution_count": 61,
   "id": "1b5cf698",
   "metadata": {},
   "outputs": [
    {
     "data": {
      "text/html": [
       "<table class=\"dataframe\">\n",
       "<caption>A data.frame: 200 × 20</caption>\n",
       "<thead>\n",
       "\t<tr><th></th><th scope=col>AtBat</th><th scope=col>Hits</th><th scope=col>HmRun</th><th scope=col>Runs</th><th scope=col>RBI</th><th scope=col>Walks</th><th scope=col>Years</th><th scope=col>CAtBat</th><th scope=col>CHits</th><th scope=col>CHmRun</th><th scope=col>CRuns</th><th scope=col>CRBI</th><th scope=col>CWalks</th><th scope=col>League</th><th scope=col>Division</th><th scope=col>PutOuts</th><th scope=col>Assists</th><th scope=col>Errors</th><th scope=col>Salary</th><th scope=col>NewLeague</th></tr>\n",
       "\t<tr><th></th><th scope=col>&lt;int&gt;</th><th scope=col>&lt;int&gt;</th><th scope=col>&lt;int&gt;</th><th scope=col>&lt;int&gt;</th><th scope=col>&lt;int&gt;</th><th scope=col>&lt;int&gt;</th><th scope=col>&lt;int&gt;</th><th scope=col>&lt;int&gt;</th><th scope=col>&lt;int&gt;</th><th scope=col>&lt;int&gt;</th><th scope=col>&lt;int&gt;</th><th scope=col>&lt;int&gt;</th><th scope=col>&lt;int&gt;</th><th scope=col>&lt;fct&gt;</th><th scope=col>&lt;fct&gt;</th><th scope=col>&lt;int&gt;</th><th scope=col>&lt;int&gt;</th><th scope=col>&lt;int&gt;</th><th scope=col>&lt;dbl&gt;</th><th scope=col>&lt;fct&gt;</th></tr>\n",
       "</thead>\n",
       "<tbody>\n",
       "\t<tr><th scope=row>-Alan Ashby</th><td>315</td><td> 81</td><td> 7</td><td> 24</td><td> 38</td><td>39</td><td>14</td><td>3449</td><td> 835</td><td> 69</td><td> 321</td><td> 414</td><td>375</td><td>N</td><td>W</td><td> 632</td><td> 43</td><td>10</td><td>6.163315</td><td>N</td></tr>\n",
       "\t<tr><th scope=row>-Alvin Davis</th><td>479</td><td>130</td><td>18</td><td> 66</td><td> 72</td><td>76</td><td> 3</td><td>1624</td><td> 457</td><td> 63</td><td> 224</td><td> 266</td><td>263</td><td>A</td><td>W</td><td> 880</td><td> 82</td><td>14</td><td>6.173786</td><td>A</td></tr>\n",
       "\t<tr><th scope=row>-Andre Dawson</th><td>496</td><td>141</td><td>20</td><td> 65</td><td> 78</td><td>37</td><td>11</td><td>5628</td><td>1575</td><td>225</td><td> 828</td><td> 838</td><td>354</td><td>N</td><td>E</td><td> 200</td><td> 11</td><td> 3</td><td>6.214608</td><td>N</td></tr>\n",
       "\t<tr><th scope=row>-Andres Galarraga</th><td>321</td><td> 87</td><td>10</td><td> 39</td><td> 42</td><td>30</td><td> 2</td><td> 396</td><td> 101</td><td> 12</td><td>  48</td><td>  46</td><td> 33</td><td>N</td><td>E</td><td> 805</td><td> 40</td><td> 4</td><td>4.516339</td><td>N</td></tr>\n",
       "\t<tr><th scope=row>-Alfredo Griffin</th><td>594</td><td>169</td><td> 4</td><td> 74</td><td> 51</td><td>35</td><td>11</td><td>4408</td><td>1133</td><td> 19</td><td> 501</td><td> 336</td><td>194</td><td>A</td><td>W</td><td> 282</td><td>421</td><td>25</td><td>6.620073</td><td>A</td></tr>\n",
       "\t<tr><th scope=row>-Al Newman</th><td>185</td><td> 37</td><td> 1</td><td> 23</td><td>  8</td><td>21</td><td> 2</td><td> 214</td><td>  42</td><td>  1</td><td>  30</td><td>   9</td><td> 24</td><td>N</td><td>E</td><td>  76</td><td>127</td><td> 7</td><td>4.248495</td><td>A</td></tr>\n",
       "\t<tr><th scope=row>-Argenis Salazar</th><td>298</td><td> 73</td><td> 0</td><td> 24</td><td> 24</td><td> 7</td><td> 3</td><td> 509</td><td> 108</td><td>  0</td><td>  41</td><td>  37</td><td> 12</td><td>A</td><td>W</td><td> 121</td><td>283</td><td> 9</td><td>4.605170</td><td>A</td></tr>\n",
       "\t<tr><th scope=row>-Andres Thomas</th><td>323</td><td> 81</td><td> 6</td><td> 26</td><td> 32</td><td> 8</td><td> 2</td><td> 341</td><td>  86</td><td>  6</td><td>  32</td><td>  34</td><td>  8</td><td>N</td><td>W</td><td> 143</td><td>290</td><td>19</td><td>4.317488</td><td>N</td></tr>\n",
       "\t<tr><th scope=row>-Andre Thornton</th><td>401</td><td> 92</td><td>17</td><td> 49</td><td> 66</td><td>65</td><td>13</td><td>5206</td><td>1332</td><td>253</td><td> 784</td><td> 890</td><td>866</td><td>A</td><td>E</td><td>   0</td><td>  0</td><td> 0</td><td>7.003065</td><td>A</td></tr>\n",
       "\t<tr><th scope=row>-Alan Trammell</th><td>574</td><td>159</td><td>21</td><td>107</td><td> 75</td><td>59</td><td>10</td><td>4631</td><td>1300</td><td> 90</td><td> 702</td><td> 504</td><td>488</td><td>A</td><td>E</td><td> 238</td><td>445</td><td>22</td><td>6.248319</td><td>A</td></tr>\n",
       "\t<tr><th scope=row>-Alex Trevino</th><td>202</td><td> 53</td><td> 4</td><td> 31</td><td> 26</td><td>27</td><td> 9</td><td>1876</td><td> 467</td><td> 15</td><td> 192</td><td> 186</td><td>161</td><td>N</td><td>W</td><td> 304</td><td> 45</td><td>11</td><td>6.239301</td><td>N</td></tr>\n",
       "\t<tr><th scope=row>-Andy VanSlyke</th><td>418</td><td>113</td><td>13</td><td> 48</td><td> 61</td><td>47</td><td> 4</td><td>1512</td><td> 392</td><td> 41</td><td> 205</td><td> 204</td><td>203</td><td>N</td><td>E</td><td> 211</td><td> 11</td><td> 7</td><td>6.309918</td><td>N</td></tr>\n",
       "\t<tr><th scope=row>-Alan Wiggins</th><td>239</td><td> 60</td><td> 0</td><td> 30</td><td> 11</td><td>22</td><td> 6</td><td>1941</td><td> 510</td><td>  4</td><td> 309</td><td> 103</td><td>207</td><td>A</td><td>E</td><td> 121</td><td>151</td><td> 6</td><td>6.551080</td><td>A</td></tr>\n",
       "\t<tr><th scope=row>-Bill Almon</th><td>196</td><td> 43</td><td> 7</td><td> 29</td><td> 27</td><td>30</td><td>13</td><td>3231</td><td> 825</td><td> 36</td><td> 376</td><td> 290</td><td>238</td><td>N</td><td>E</td><td>  80</td><td> 45</td><td> 8</td><td>5.480639</td><td>N</td></tr>\n",
       "\t<tr><th scope=row>-Buddy Bell</th><td>568</td><td>158</td><td>20</td><td> 89</td><td> 75</td><td>73</td><td>15</td><td>8068</td><td>2273</td><td>177</td><td>1045</td><td> 993</td><td>732</td><td>N</td><td>W</td><td> 105</td><td>290</td><td>10</td><td>6.652863</td><td>N</td></tr>\n",
       "\t<tr><th scope=row>-Buddy Biancalana</th><td>190</td><td> 46</td><td> 2</td><td> 24</td><td>  8</td><td>15</td><td> 5</td><td> 479</td><td> 102</td><td>  5</td><td>  65</td><td>  23</td><td> 39</td><td>A</td><td>W</td><td> 102</td><td>177</td><td>16</td><td>5.164786</td><td>A</td></tr>\n",
       "\t<tr><th scope=row>-Bruce Bochy</th><td>127</td><td> 32</td><td> 8</td><td> 16</td><td> 22</td><td>14</td><td> 8</td><td> 727</td><td> 180</td><td> 24</td><td>  67</td><td>  82</td><td> 56</td><td>N</td><td>W</td><td> 202</td><td> 22</td><td> 2</td><td>4.905275</td><td>N</td></tr>\n",
       "\t<tr><th scope=row>-Barry Bonds</th><td>413</td><td> 92</td><td>16</td><td> 72</td><td> 48</td><td>65</td><td> 1</td><td> 413</td><td>  92</td><td> 16</td><td>  72</td><td>  48</td><td> 65</td><td>N</td><td>E</td><td> 280</td><td>  9</td><td> 5</td><td>4.605170</td><td>N</td></tr>\n",
       "\t<tr><th scope=row>-Bobby Bonilla</th><td>426</td><td>109</td><td> 3</td><td> 55</td><td> 43</td><td>62</td><td> 1</td><td> 426</td><td> 109</td><td>  3</td><td>  55</td><td>  43</td><td> 62</td><td>A</td><td>W</td><td> 361</td><td> 22</td><td> 2</td><td>4.744932</td><td>N</td></tr>\n",
       "\t<tr><th scope=row>-Bob Brenly</th><td>472</td><td>116</td><td>16</td><td> 60</td><td> 62</td><td>74</td><td> 6</td><td>1924</td><td> 489</td><td> 67</td><td> 242</td><td> 251</td><td>240</td><td>N</td><td>W</td><td> 518</td><td> 55</td><td> 3</td><td>6.396930</td><td>N</td></tr>\n",
       "\t<tr><th scope=row>-Bill Buckner</th><td>629</td><td>168</td><td>18</td><td> 73</td><td>102</td><td>40</td><td>18</td><td>8424</td><td>2464</td><td>164</td><td>1008</td><td>1072</td><td>402</td><td>A</td><td>E</td><td>1067</td><td>157</td><td>14</td><td>6.655012</td><td>A</td></tr>\n",
       "\t<tr><th scope=row>-Brett Butler</th><td>587</td><td>163</td><td> 4</td><td> 92</td><td> 51</td><td>70</td><td> 6</td><td>2695</td><td> 747</td><td> 17</td><td> 442</td><td> 198</td><td>317</td><td>A</td><td>E</td><td> 434</td><td>  9</td><td> 3</td><td>6.639876</td><td>A</td></tr>\n",
       "\t<tr><th scope=row>-Bob Dernier</th><td>324</td><td> 73</td><td> 4</td><td> 32</td><td> 18</td><td>22</td><td> 7</td><td>1931</td><td> 491</td><td> 13</td><td> 291</td><td> 108</td><td>180</td><td>N</td><td>E</td><td> 222</td><td>  3</td><td> 3</td><td>6.562914</td><td>N</td></tr>\n",
       "\t<tr><th scope=row>-Bo Diaz</th><td>474</td><td>129</td><td>10</td><td> 50</td><td> 56</td><td>40</td><td>10</td><td>2331</td><td> 604</td><td> 61</td><td> 246</td><td> 327</td><td>166</td><td>N</td><td>W</td><td> 732</td><td> 83</td><td>13</td><td>6.620073</td><td>N</td></tr>\n",
       "\t<tr><th scope=row>-Bill Doran</th><td>550</td><td>152</td><td> 6</td><td> 92</td><td> 37</td><td>81</td><td> 5</td><td>2308</td><td> 633</td><td> 32</td><td> 349</td><td> 182</td><td>308</td><td>N</td><td>W</td><td> 262</td><td>329</td><td>16</td><td>6.437752</td><td>N</td></tr>\n",
       "\t<tr><th scope=row>-Brian Downing</th><td>513</td><td>137</td><td>20</td><td> 90</td><td> 95</td><td>90</td><td>14</td><td>5201</td><td>1382</td><td>166</td><td> 763</td><td> 734</td><td>784</td><td>A</td><td>W</td><td> 267</td><td>  5</td><td> 3</td><td>6.802395</td><td>A</td></tr>\n",
       "\t<tr><th scope=row>-Billy Hatcher</th><td>419</td><td>108</td><td> 6</td><td> 55</td><td> 36</td><td>22</td><td> 3</td><td> 591</td><td> 149</td><td>  8</td><td>  80</td><td>  46</td><td> 31</td><td>N</td><td>W</td><td> 226</td><td>  7</td><td> 4</td><td>4.700480</td><td>N</td></tr>\n",
       "\t<tr><th scope=row>-Brook Jacoby</th><td>583</td><td>168</td><td>17</td><td> 83</td><td> 80</td><td>56</td><td> 5</td><td>1646</td><td> 452</td><td> 44</td><td> 219</td><td> 208</td><td>136</td><td>A</td><td>E</td><td> 109</td><td>292</td><td>25</td><td>6.417549</td><td>A</td></tr>\n",
       "\t<tr><th scope=row>-Bob Kearney</th><td>204</td><td> 49</td><td> 6</td><td> 23</td><td> 25</td><td>12</td><td> 7</td><td>1309</td><td> 308</td><td> 27</td><td> 126</td><td> 132</td><td> 66</td><td>A</td><td>W</td><td> 419</td><td> 46</td><td> 5</td><td>5.703782</td><td>A</td></tr>\n",
       "\t<tr><th scope=row>-Bill Madlock</th><td>379</td><td>106</td><td>10</td><td> 38</td><td> 60</td><td>30</td><td>14</td><td>6207</td><td>1906</td><td>146</td><td> 859</td><td> 803</td><td>571</td><td>N</td><td>W</td><td>  72</td><td>170</td><td>24</td><td>6.745236</td><td>N</td></tr>\n",
       "\t<tr><th scope=row>⋮</th><td>⋮</td><td>⋮</td><td>⋮</td><td>⋮</td><td>⋮</td><td>⋮</td><td>⋮</td><td>⋮</td><td>⋮</td><td>⋮</td><td>⋮</td><td>⋮</td><td>⋮</td><td>⋮</td><td>⋮</td><td>⋮</td><td>⋮</td><td>⋮</td><td>⋮</td><td>⋮</td></tr>\n",
       "\t<tr><th scope=row>-Mike Pagliarulo</th><td>504</td><td>120</td><td>28</td><td> 71</td><td>71</td><td>54</td><td> 3</td><td> 1085</td><td> 259</td><td> 54</td><td> 150</td><td> 167</td><td> 114</td><td>A</td><td>E</td><td>103</td><td>283</td><td>19</td><td>5.164786</td><td>A</td></tr>\n",
       "\t<tr><th scope=row>-Mark Salas</th><td>258</td><td> 60</td><td> 8</td><td> 28</td><td>33</td><td>18</td><td> 3</td><td>  638</td><td> 170</td><td> 17</td><td>  80</td><td>  75</td><td>  36</td><td>A</td><td>W</td><td>358</td><td> 32</td><td> 8</td><td>4.919981</td><td>A</td></tr>\n",
       "\t<tr><th scope=row>-Mike Schmidt</th><td> 20</td><td>  1</td><td> 0</td><td>  0</td><td> 0</td><td> 0</td><td> 2</td><td>   41</td><td>   9</td><td>  2</td><td>   6</td><td>   7</td><td>   4</td><td>N</td><td>E</td><td> 78</td><td>220</td><td> 6</td><td>7.662624</td><td>N</td></tr>\n",
       "\t<tr><th scope=row>-Mike Scioscia</th><td>374</td><td> 94</td><td> 5</td><td> 36</td><td>26</td><td>62</td><td> 7</td><td> 1968</td><td> 519</td><td> 26</td><td> 181</td><td> 199</td><td> 288</td><td>N</td><td>W</td><td>756</td><td> 64</td><td>15</td><td>6.774224</td><td>N</td></tr>\n",
       "\t<tr><th scope=row>-Mickey Tettleton</th><td>211</td><td> 43</td><td>10</td><td> 26</td><td>35</td><td>39</td><td> 3</td><td>  498</td><td> 116</td><td> 14</td><td>  59</td><td>  55</td><td>  78</td><td>A</td><td>W</td><td>463</td><td> 32</td><td> 8</td><td>4.787492</td><td>A</td></tr>\n",
       "\t<tr><th scope=row>-Milt Thompson</th><td>299</td><td> 75</td><td> 6</td><td> 38</td><td>23</td><td>26</td><td> 3</td><td>  580</td><td> 160</td><td>  8</td><td>  71</td><td>  33</td><td>  44</td><td>N</td><td>E</td><td>212</td><td>  1</td><td> 2</td><td>4.941642</td><td>N</td></tr>\n",
       "\t<tr><th scope=row>-Mitch Webster</th><td>576</td><td>167</td><td> 8</td><td> 89</td><td>49</td><td>57</td><td> 4</td><td>  822</td><td> 232</td><td> 19</td><td> 132</td><td>  83</td><td>  79</td><td>N</td><td>E</td><td>325</td><td> 12</td><td> 8</td><td>5.347108</td><td>N</td></tr>\n",
       "\t<tr><th scope=row>-Mookie Wilson</th><td>381</td><td>110</td><td> 9</td><td> 61</td><td>45</td><td>32</td><td> 7</td><td> 3015</td><td> 834</td><td> 40</td><td> 451</td><td> 249</td><td> 168</td><td>N</td><td>E</td><td>228</td><td>  7</td><td> 5</td><td>6.684612</td><td>N</td></tr>\n",
       "\t<tr><th scope=row>-Marvell Wynne</th><td>288</td><td> 76</td><td> 7</td><td> 34</td><td>37</td><td>15</td><td> 4</td><td> 1644</td><td> 408</td><td> 16</td><td> 198</td><td> 120</td><td> 113</td><td>N</td><td>W</td><td>203</td><td>  3</td><td> 3</td><td>5.480639</td><td>N</td></tr>\n",
       "\t<tr><th scope=row>-Mike Young</th><td>369</td><td> 93</td><td> 9</td><td> 43</td><td>42</td><td>49</td><td> 5</td><td> 1258</td><td> 323</td><td> 54</td><td> 181</td><td> 177</td><td> 157</td><td>A</td><td>E</td><td>149</td><td>  1</td><td> 6</td><td>5.857933</td><td>A</td></tr>\n",
       "\t<tr><th scope=row>-Ozzie Guillen</th><td>547</td><td>137</td><td> 2</td><td> 58</td><td>47</td><td>12</td><td> 2</td><td> 1038</td><td> 271</td><td>  3</td><td> 129</td><td>  80</td><td>  24</td><td>A</td><td>W</td><td>261</td><td>459</td><td>22</td><td>5.164786</td><td>A</td></tr>\n",
       "\t<tr><th scope=row>-Oddibe McDowell</th><td>572</td><td>152</td><td>18</td><td>105</td><td>49</td><td>65</td><td> 2</td><td>  978</td><td> 249</td><td> 36</td><td> 168</td><td>  91</td><td> 101</td><td>A</td><td>W</td><td>325</td><td> 13</td><td> 3</td><td>5.298317</td><td>A</td></tr>\n",
       "\t<tr><th scope=row>-Ozzie Smith</th><td>514</td><td>144</td><td> 0</td><td> 67</td><td>54</td><td>79</td><td> 9</td><td> 4739</td><td>1169</td><td> 13</td><td> 583</td><td> 374</td><td> 528</td><td>N</td><td>E</td><td>229</td><td>453</td><td>15</td><td>7.570443</td><td>N</td></tr>\n",
       "\t<tr><th scope=row>-Ozzie Virgil</th><td>359</td><td> 80</td><td>15</td><td> 45</td><td>48</td><td>63</td><td> 7</td><td> 1493</td><td> 359</td><td> 61</td><td> 176</td><td> 202</td><td> 175</td><td>N</td><td>W</td><td>682</td><td> 93</td><td>13</td><td>6.551080</td><td>N</td></tr>\n",
       "\t<tr><th scope=row>-Phil Bradley</th><td>526</td><td>163</td><td>12</td><td> 88</td><td>50</td><td>77</td><td> 4</td><td> 1556</td><td> 470</td><td> 38</td><td> 245</td><td> 167</td><td> 174</td><td>A</td><td>W</td><td>250</td><td> 11</td><td> 1</td><td>6.620073</td><td>A</td></tr>\n",
       "\t<tr><th scope=row>-Phil Garner</th><td>313</td><td> 83</td><td> 9</td><td> 43</td><td>41</td><td>30</td><td>14</td><td> 5885</td><td>1543</td><td>104</td><td> 751</td><td> 714</td><td> 535</td><td>N</td><td>W</td><td> 58</td><td>141</td><td>23</td><td>6.109248</td><td>N</td></tr>\n",
       "\t<tr><th scope=row>-Pete Incaviglia</th><td>540</td><td>135</td><td>30</td><td> 82</td><td>88</td><td>55</td><td> 1</td><td>  540</td><td> 135</td><td> 30</td><td>  82</td><td>  88</td><td>  55</td><td>A</td><td>W</td><td>157</td><td>  6</td><td>14</td><td>5.147494</td><td>A</td></tr>\n",
       "\t<tr><th scope=row>-Paul Molitor</th><td>437</td><td>123</td><td> 9</td><td> 62</td><td>55</td><td>40</td><td> 9</td><td> 4139</td><td>1203</td><td> 79</td><td> 676</td><td> 390</td><td> 364</td><td>A</td><td>E</td><td> 82</td><td>170</td><td>15</td><td>7.138867</td><td>A</td></tr>\n",
       "\t<tr><th scope=row>-Pete Rose</th><td>237</td><td> 52</td><td> 0</td><td> 15</td><td>25</td><td>30</td><td>24</td><td>14053</td><td>4256</td><td>160</td><td>2165</td><td>1314</td><td>1566</td><td>N</td><td>W</td><td>523</td><td> 43</td><td> 6</td><td>6.620073</td><td>N</td></tr>\n",
       "\t<tr><th scope=row>-Pat Sheridan</th><td>236</td><td> 56</td><td> 6</td><td> 41</td><td>19</td><td>21</td><td> 5</td><td> 1257</td><td> 329</td><td> 24</td><td> 166</td><td> 125</td><td> 105</td><td>A</td><td>E</td><td>172</td><td>  1</td><td> 4</td><td>5.247024</td><td>A</td></tr>\n",
       "\t<tr><th scope=row>-Pat Tabler</th><td>473</td><td>154</td><td> 6</td><td> 61</td><td>48</td><td>29</td><td> 6</td><td> 1966</td><td> 566</td><td> 29</td><td> 250</td><td> 252</td><td> 178</td><td>A</td><td>E</td><td>846</td><td> 84</td><td> 9</td><td>6.363028</td><td>A</td></tr>\n",
       "\t<tr><th scope=row>-Rafael Belliard</th><td>309</td><td> 72</td><td> 0</td><td> 33</td><td>31</td><td>26</td><td> 5</td><td>  354</td><td>  82</td><td>  0</td><td>  41</td><td>  32</td><td>  26</td><td>N</td><td>E</td><td>117</td><td>269</td><td>12</td><td>4.867534</td><td>N</td></tr>\n",
       "\t<tr><th scope=row>-Rick Burleson</th><td>271</td><td> 77</td><td> 5</td><td> 35</td><td>29</td><td>33</td><td>12</td><td> 4933</td><td>1358</td><td> 48</td><td> 630</td><td> 435</td><td> 403</td><td>A</td><td>W</td><td> 62</td><td> 90</td><td> 3</td><td>6.109248</td><td>A</td></tr>\n",
       "\t<tr><th scope=row>-Randy Bush</th><td>357</td><td> 96</td><td> 7</td><td> 50</td><td>45</td><td>39</td><td> 5</td><td> 1394</td><td> 344</td><td> 43</td><td> 178</td><td> 192</td><td> 136</td><td>A</td><td>W</td><td>167</td><td>  2</td><td> 4</td><td>5.703782</td><td>A</td></tr>\n",
       "\t<tr><th scope=row>-Rick Cerone</th><td>216</td><td> 56</td><td> 4</td><td> 22</td><td>18</td><td>15</td><td>12</td><td> 2796</td><td> 665</td><td> 43</td><td> 266</td><td> 304</td><td> 198</td><td>A</td><td>E</td><td>391</td><td> 44</td><td> 4</td><td>5.521461</td><td>A</td></tr>\n",
       "\t<tr><th scope=row>-Ron Cey</th><td>256</td><td> 70</td><td>13</td><td> 42</td><td>36</td><td>44</td><td>16</td><td> 7058</td><td>1845</td><td>312</td><td> 965</td><td>1128</td><td> 990</td><td>N</td><td>E</td><td> 41</td><td>118</td><td> 8</td><td>6.956545</td><td>A</td></tr>\n",
       "\t<tr><th scope=row>-Rob Deer</th><td>466</td><td>108</td><td>33</td><td> 75</td><td>86</td><td>72</td><td> 3</td><td>  652</td><td> 142</td><td> 44</td><td> 102</td><td> 109</td><td> 102</td><td>A</td><td>E</td><td>286</td><td>  8</td><td> 8</td><td>5.370638</td><td>A</td></tr>\n",
       "\t<tr><th scope=row>-Rick Dempsey</th><td>327</td><td> 68</td><td>13</td><td> 42</td><td>29</td><td>45</td><td>18</td><td> 3949</td><td> 939</td><td> 78</td><td> 438</td><td> 380</td><td> 466</td><td>A</td><td>E</td><td>659</td><td> 53</td><td> 7</td><td>5.991465</td><td>A</td></tr>\n",
       "\t<tr><th scope=row>-Ron Hassey</th><td>341</td><td>110</td><td> 9</td><td> 45</td><td>49</td><td>46</td><td> 9</td><td> 2331</td><td> 658</td><td> 50</td><td> 249</td><td> 322</td><td> 274</td><td>A</td><td>E</td><td>251</td><td>  9</td><td> 4</td><td>6.327937</td><td>A</td></tr>\n",
       "\t<tr><th scope=row>-Rickey Henderson</th><td>608</td><td>160</td><td>28</td><td>130</td><td>74</td><td>89</td><td> 8</td><td> 4071</td><td>1182</td><td>103</td><td> 862</td><td> 417</td><td> 708</td><td>A</td><td>E</td><td>426</td><td>  4</td><td> 6</td><td>7.420579</td><td>A</td></tr>\n",
       "</tbody>\n",
       "</table>\n"
      ],
      "text/latex": [
       "A data.frame: 200 × 20\n",
       "\\begin{tabular}{r|llllllllllllllllllll}\n",
       "  & AtBat & Hits & HmRun & Runs & RBI & Walks & Years & CAtBat & CHits & CHmRun & CRuns & CRBI & CWalks & League & Division & PutOuts & Assists & Errors & Salary & NewLeague\\\\\n",
       "  & <int> & <int> & <int> & <int> & <int> & <int> & <int> & <int> & <int> & <int> & <int> & <int> & <int> & <fct> & <fct> & <int> & <int> & <int> & <dbl> & <fct>\\\\\n",
       "\\hline\n",
       "\t-Alan Ashby & 315 &  81 &  7 &  24 &  38 & 39 & 14 & 3449 &  835 &  69 &  321 &  414 & 375 & N & W &  632 &  43 & 10 & 6.163315 & N\\\\\n",
       "\t-Alvin Davis & 479 & 130 & 18 &  66 &  72 & 76 &  3 & 1624 &  457 &  63 &  224 &  266 & 263 & A & W &  880 &  82 & 14 & 6.173786 & A\\\\\n",
       "\t-Andre Dawson & 496 & 141 & 20 &  65 &  78 & 37 & 11 & 5628 & 1575 & 225 &  828 &  838 & 354 & N & E &  200 &  11 &  3 & 6.214608 & N\\\\\n",
       "\t-Andres Galarraga & 321 &  87 & 10 &  39 &  42 & 30 &  2 &  396 &  101 &  12 &   48 &   46 &  33 & N & E &  805 &  40 &  4 & 4.516339 & N\\\\\n",
       "\t-Alfredo Griffin & 594 & 169 &  4 &  74 &  51 & 35 & 11 & 4408 & 1133 &  19 &  501 &  336 & 194 & A & W &  282 & 421 & 25 & 6.620073 & A\\\\\n",
       "\t-Al Newman & 185 &  37 &  1 &  23 &   8 & 21 &  2 &  214 &   42 &   1 &   30 &    9 &  24 & N & E &   76 & 127 &  7 & 4.248495 & A\\\\\n",
       "\t-Argenis Salazar & 298 &  73 &  0 &  24 &  24 &  7 &  3 &  509 &  108 &   0 &   41 &   37 &  12 & A & W &  121 & 283 &  9 & 4.605170 & A\\\\\n",
       "\t-Andres Thomas & 323 &  81 &  6 &  26 &  32 &  8 &  2 &  341 &   86 &   6 &   32 &   34 &   8 & N & W &  143 & 290 & 19 & 4.317488 & N\\\\\n",
       "\t-Andre Thornton & 401 &  92 & 17 &  49 &  66 & 65 & 13 & 5206 & 1332 & 253 &  784 &  890 & 866 & A & E &    0 &   0 &  0 & 7.003065 & A\\\\\n",
       "\t-Alan Trammell & 574 & 159 & 21 & 107 &  75 & 59 & 10 & 4631 & 1300 &  90 &  702 &  504 & 488 & A & E &  238 & 445 & 22 & 6.248319 & A\\\\\n",
       "\t-Alex Trevino & 202 &  53 &  4 &  31 &  26 & 27 &  9 & 1876 &  467 &  15 &  192 &  186 & 161 & N & W &  304 &  45 & 11 & 6.239301 & N\\\\\n",
       "\t-Andy VanSlyke & 418 & 113 & 13 &  48 &  61 & 47 &  4 & 1512 &  392 &  41 &  205 &  204 & 203 & N & E &  211 &  11 &  7 & 6.309918 & N\\\\\n",
       "\t-Alan Wiggins & 239 &  60 &  0 &  30 &  11 & 22 &  6 & 1941 &  510 &   4 &  309 &  103 & 207 & A & E &  121 & 151 &  6 & 6.551080 & A\\\\\n",
       "\t-Bill Almon & 196 &  43 &  7 &  29 &  27 & 30 & 13 & 3231 &  825 &  36 &  376 &  290 & 238 & N & E &   80 &  45 &  8 & 5.480639 & N\\\\\n",
       "\t-Buddy Bell & 568 & 158 & 20 &  89 &  75 & 73 & 15 & 8068 & 2273 & 177 & 1045 &  993 & 732 & N & W &  105 & 290 & 10 & 6.652863 & N\\\\\n",
       "\t-Buddy Biancalana & 190 &  46 &  2 &  24 &   8 & 15 &  5 &  479 &  102 &   5 &   65 &   23 &  39 & A & W &  102 & 177 & 16 & 5.164786 & A\\\\\n",
       "\t-Bruce Bochy & 127 &  32 &  8 &  16 &  22 & 14 &  8 &  727 &  180 &  24 &   67 &   82 &  56 & N & W &  202 &  22 &  2 & 4.905275 & N\\\\\n",
       "\t-Barry Bonds & 413 &  92 & 16 &  72 &  48 & 65 &  1 &  413 &   92 &  16 &   72 &   48 &  65 & N & E &  280 &   9 &  5 & 4.605170 & N\\\\\n",
       "\t-Bobby Bonilla & 426 & 109 &  3 &  55 &  43 & 62 &  1 &  426 &  109 &   3 &   55 &   43 &  62 & A & W &  361 &  22 &  2 & 4.744932 & N\\\\\n",
       "\t-Bob Brenly & 472 & 116 & 16 &  60 &  62 & 74 &  6 & 1924 &  489 &  67 &  242 &  251 & 240 & N & W &  518 &  55 &  3 & 6.396930 & N\\\\\n",
       "\t-Bill Buckner & 629 & 168 & 18 &  73 & 102 & 40 & 18 & 8424 & 2464 & 164 & 1008 & 1072 & 402 & A & E & 1067 & 157 & 14 & 6.655012 & A\\\\\n",
       "\t-Brett Butler & 587 & 163 &  4 &  92 &  51 & 70 &  6 & 2695 &  747 &  17 &  442 &  198 & 317 & A & E &  434 &   9 &  3 & 6.639876 & A\\\\\n",
       "\t-Bob Dernier & 324 &  73 &  4 &  32 &  18 & 22 &  7 & 1931 &  491 &  13 &  291 &  108 & 180 & N & E &  222 &   3 &  3 & 6.562914 & N\\\\\n",
       "\t-Bo Diaz & 474 & 129 & 10 &  50 &  56 & 40 & 10 & 2331 &  604 &  61 &  246 &  327 & 166 & N & W &  732 &  83 & 13 & 6.620073 & N\\\\\n",
       "\t-Bill Doran & 550 & 152 &  6 &  92 &  37 & 81 &  5 & 2308 &  633 &  32 &  349 &  182 & 308 & N & W &  262 & 329 & 16 & 6.437752 & N\\\\\n",
       "\t-Brian Downing & 513 & 137 & 20 &  90 &  95 & 90 & 14 & 5201 & 1382 & 166 &  763 &  734 & 784 & A & W &  267 &   5 &  3 & 6.802395 & A\\\\\n",
       "\t-Billy Hatcher & 419 & 108 &  6 &  55 &  36 & 22 &  3 &  591 &  149 &   8 &   80 &   46 &  31 & N & W &  226 &   7 &  4 & 4.700480 & N\\\\\n",
       "\t-Brook Jacoby & 583 & 168 & 17 &  83 &  80 & 56 &  5 & 1646 &  452 &  44 &  219 &  208 & 136 & A & E &  109 & 292 & 25 & 6.417549 & A\\\\\n",
       "\t-Bob Kearney & 204 &  49 &  6 &  23 &  25 & 12 &  7 & 1309 &  308 &  27 &  126 &  132 &  66 & A & W &  419 &  46 &  5 & 5.703782 & A\\\\\n",
       "\t-Bill Madlock & 379 & 106 & 10 &  38 &  60 & 30 & 14 & 6207 & 1906 & 146 &  859 &  803 & 571 & N & W &   72 & 170 & 24 & 6.745236 & N\\\\\n",
       "\t⋮ & ⋮ & ⋮ & ⋮ & ⋮ & ⋮ & ⋮ & ⋮ & ⋮ & ⋮ & ⋮ & ⋮ & ⋮ & ⋮ & ⋮ & ⋮ & ⋮ & ⋮ & ⋮ & ⋮ & ⋮\\\\\n",
       "\t-Mike Pagliarulo & 504 & 120 & 28 &  71 & 71 & 54 &  3 &  1085 &  259 &  54 &  150 &  167 &  114 & A & E & 103 & 283 & 19 & 5.164786 & A\\\\\n",
       "\t-Mark Salas & 258 &  60 &  8 &  28 & 33 & 18 &  3 &   638 &  170 &  17 &   80 &   75 &   36 & A & W & 358 &  32 &  8 & 4.919981 & A\\\\\n",
       "\t-Mike Schmidt &  20 &   1 &  0 &   0 &  0 &  0 &  2 &    41 &    9 &   2 &    6 &    7 &    4 & N & E &  78 & 220 &  6 & 7.662624 & N\\\\\n",
       "\t-Mike Scioscia & 374 &  94 &  5 &  36 & 26 & 62 &  7 &  1968 &  519 &  26 &  181 &  199 &  288 & N & W & 756 &  64 & 15 & 6.774224 & N\\\\\n",
       "\t-Mickey Tettleton & 211 &  43 & 10 &  26 & 35 & 39 &  3 &   498 &  116 &  14 &   59 &   55 &   78 & A & W & 463 &  32 &  8 & 4.787492 & A\\\\\n",
       "\t-Milt Thompson & 299 &  75 &  6 &  38 & 23 & 26 &  3 &   580 &  160 &   8 &   71 &   33 &   44 & N & E & 212 &   1 &  2 & 4.941642 & N\\\\\n",
       "\t-Mitch Webster & 576 & 167 &  8 &  89 & 49 & 57 &  4 &   822 &  232 &  19 &  132 &   83 &   79 & N & E & 325 &  12 &  8 & 5.347108 & N\\\\\n",
       "\t-Mookie Wilson & 381 & 110 &  9 &  61 & 45 & 32 &  7 &  3015 &  834 &  40 &  451 &  249 &  168 & N & E & 228 &   7 &  5 & 6.684612 & N\\\\\n",
       "\t-Marvell Wynne & 288 &  76 &  7 &  34 & 37 & 15 &  4 &  1644 &  408 &  16 &  198 &  120 &  113 & N & W & 203 &   3 &  3 & 5.480639 & N\\\\\n",
       "\t-Mike Young & 369 &  93 &  9 &  43 & 42 & 49 &  5 &  1258 &  323 &  54 &  181 &  177 &  157 & A & E & 149 &   1 &  6 & 5.857933 & A\\\\\n",
       "\t-Ozzie Guillen & 547 & 137 &  2 &  58 & 47 & 12 &  2 &  1038 &  271 &   3 &  129 &   80 &   24 & A & W & 261 & 459 & 22 & 5.164786 & A\\\\\n",
       "\t-Oddibe McDowell & 572 & 152 & 18 & 105 & 49 & 65 &  2 &   978 &  249 &  36 &  168 &   91 &  101 & A & W & 325 &  13 &  3 & 5.298317 & A\\\\\n",
       "\t-Ozzie Smith & 514 & 144 &  0 &  67 & 54 & 79 &  9 &  4739 & 1169 &  13 &  583 &  374 &  528 & N & E & 229 & 453 & 15 & 7.570443 & N\\\\\n",
       "\t-Ozzie Virgil & 359 &  80 & 15 &  45 & 48 & 63 &  7 &  1493 &  359 &  61 &  176 &  202 &  175 & N & W & 682 &  93 & 13 & 6.551080 & N\\\\\n",
       "\t-Phil Bradley & 526 & 163 & 12 &  88 & 50 & 77 &  4 &  1556 &  470 &  38 &  245 &  167 &  174 & A & W & 250 &  11 &  1 & 6.620073 & A\\\\\n",
       "\t-Phil Garner & 313 &  83 &  9 &  43 & 41 & 30 & 14 &  5885 & 1543 & 104 &  751 &  714 &  535 & N & W &  58 & 141 & 23 & 6.109248 & N\\\\\n",
       "\t-Pete Incaviglia & 540 & 135 & 30 &  82 & 88 & 55 &  1 &   540 &  135 &  30 &   82 &   88 &   55 & A & W & 157 &   6 & 14 & 5.147494 & A\\\\\n",
       "\t-Paul Molitor & 437 & 123 &  9 &  62 & 55 & 40 &  9 &  4139 & 1203 &  79 &  676 &  390 &  364 & A & E &  82 & 170 & 15 & 7.138867 & A\\\\\n",
       "\t-Pete Rose & 237 &  52 &  0 &  15 & 25 & 30 & 24 & 14053 & 4256 & 160 & 2165 & 1314 & 1566 & N & W & 523 &  43 &  6 & 6.620073 & N\\\\\n",
       "\t-Pat Sheridan & 236 &  56 &  6 &  41 & 19 & 21 &  5 &  1257 &  329 &  24 &  166 &  125 &  105 & A & E & 172 &   1 &  4 & 5.247024 & A\\\\\n",
       "\t-Pat Tabler & 473 & 154 &  6 &  61 & 48 & 29 &  6 &  1966 &  566 &  29 &  250 &  252 &  178 & A & E & 846 &  84 &  9 & 6.363028 & A\\\\\n",
       "\t-Rafael Belliard & 309 &  72 &  0 &  33 & 31 & 26 &  5 &   354 &   82 &   0 &   41 &   32 &   26 & N & E & 117 & 269 & 12 & 4.867534 & N\\\\\n",
       "\t-Rick Burleson & 271 &  77 &  5 &  35 & 29 & 33 & 12 &  4933 & 1358 &  48 &  630 &  435 &  403 & A & W &  62 &  90 &  3 & 6.109248 & A\\\\\n",
       "\t-Randy Bush & 357 &  96 &  7 &  50 & 45 & 39 &  5 &  1394 &  344 &  43 &  178 &  192 &  136 & A & W & 167 &   2 &  4 & 5.703782 & A\\\\\n",
       "\t-Rick Cerone & 216 &  56 &  4 &  22 & 18 & 15 & 12 &  2796 &  665 &  43 &  266 &  304 &  198 & A & E & 391 &  44 &  4 & 5.521461 & A\\\\\n",
       "\t-Ron Cey & 256 &  70 & 13 &  42 & 36 & 44 & 16 &  7058 & 1845 & 312 &  965 & 1128 &  990 & N & E &  41 & 118 &  8 & 6.956545 & A\\\\\n",
       "\t-Rob Deer & 466 & 108 & 33 &  75 & 86 & 72 &  3 &   652 &  142 &  44 &  102 &  109 &  102 & A & E & 286 &   8 &  8 & 5.370638 & A\\\\\n",
       "\t-Rick Dempsey & 327 &  68 & 13 &  42 & 29 & 45 & 18 &  3949 &  939 &  78 &  438 &  380 &  466 & A & E & 659 &  53 &  7 & 5.991465 & A\\\\\n",
       "\t-Ron Hassey & 341 & 110 &  9 &  45 & 49 & 46 &  9 &  2331 &  658 &  50 &  249 &  322 &  274 & A & E & 251 &   9 &  4 & 6.327937 & A\\\\\n",
       "\t-Rickey Henderson & 608 & 160 & 28 & 130 & 74 & 89 &  8 &  4071 & 1182 & 103 &  862 &  417 &  708 & A & E & 426 &   4 &  6 & 7.420579 & A\\\\\n",
       "\\end{tabular}\n"
      ],
      "text/markdown": [
       "\n",
       "A data.frame: 200 × 20\n",
       "\n",
       "| <!--/--> | AtBat &lt;int&gt; | Hits &lt;int&gt; | HmRun &lt;int&gt; | Runs &lt;int&gt; | RBI &lt;int&gt; | Walks &lt;int&gt; | Years &lt;int&gt; | CAtBat &lt;int&gt; | CHits &lt;int&gt; | CHmRun &lt;int&gt; | CRuns &lt;int&gt; | CRBI &lt;int&gt; | CWalks &lt;int&gt; | League &lt;fct&gt; | Division &lt;fct&gt; | PutOuts &lt;int&gt; | Assists &lt;int&gt; | Errors &lt;int&gt; | Salary &lt;dbl&gt; | NewLeague &lt;fct&gt; |\n",
       "|---|---|---|---|---|---|---|---|---|---|---|---|---|---|---|---|---|---|---|---|---|\n",
       "| -Alan Ashby | 315 |  81 |  7 |  24 |  38 | 39 | 14 | 3449 |  835 |  69 |  321 |  414 | 375 | N | W |  632 |  43 | 10 | 6.163315 | N |\n",
       "| -Alvin Davis | 479 | 130 | 18 |  66 |  72 | 76 |  3 | 1624 |  457 |  63 |  224 |  266 | 263 | A | W |  880 |  82 | 14 | 6.173786 | A |\n",
       "| -Andre Dawson | 496 | 141 | 20 |  65 |  78 | 37 | 11 | 5628 | 1575 | 225 |  828 |  838 | 354 | N | E |  200 |  11 |  3 | 6.214608 | N |\n",
       "| -Andres Galarraga | 321 |  87 | 10 |  39 |  42 | 30 |  2 |  396 |  101 |  12 |   48 |   46 |  33 | N | E |  805 |  40 |  4 | 4.516339 | N |\n",
       "| -Alfredo Griffin | 594 | 169 |  4 |  74 |  51 | 35 | 11 | 4408 | 1133 |  19 |  501 |  336 | 194 | A | W |  282 | 421 | 25 | 6.620073 | A |\n",
       "| -Al Newman | 185 |  37 |  1 |  23 |   8 | 21 |  2 |  214 |   42 |   1 |   30 |    9 |  24 | N | E |   76 | 127 |  7 | 4.248495 | A |\n",
       "| -Argenis Salazar | 298 |  73 |  0 |  24 |  24 |  7 |  3 |  509 |  108 |   0 |   41 |   37 |  12 | A | W |  121 | 283 |  9 | 4.605170 | A |\n",
       "| -Andres Thomas | 323 |  81 |  6 |  26 |  32 |  8 |  2 |  341 |   86 |   6 |   32 |   34 |   8 | N | W |  143 | 290 | 19 | 4.317488 | N |\n",
       "| -Andre Thornton | 401 |  92 | 17 |  49 |  66 | 65 | 13 | 5206 | 1332 | 253 |  784 |  890 | 866 | A | E |    0 |   0 |  0 | 7.003065 | A |\n",
       "| -Alan Trammell | 574 | 159 | 21 | 107 |  75 | 59 | 10 | 4631 | 1300 |  90 |  702 |  504 | 488 | A | E |  238 | 445 | 22 | 6.248319 | A |\n",
       "| -Alex Trevino | 202 |  53 |  4 |  31 |  26 | 27 |  9 | 1876 |  467 |  15 |  192 |  186 | 161 | N | W |  304 |  45 | 11 | 6.239301 | N |\n",
       "| -Andy VanSlyke | 418 | 113 | 13 |  48 |  61 | 47 |  4 | 1512 |  392 |  41 |  205 |  204 | 203 | N | E |  211 |  11 |  7 | 6.309918 | N |\n",
       "| -Alan Wiggins | 239 |  60 |  0 |  30 |  11 | 22 |  6 | 1941 |  510 |   4 |  309 |  103 | 207 | A | E |  121 | 151 |  6 | 6.551080 | A |\n",
       "| -Bill Almon | 196 |  43 |  7 |  29 |  27 | 30 | 13 | 3231 |  825 |  36 |  376 |  290 | 238 | N | E |   80 |  45 |  8 | 5.480639 | N |\n",
       "| -Buddy Bell | 568 | 158 | 20 |  89 |  75 | 73 | 15 | 8068 | 2273 | 177 | 1045 |  993 | 732 | N | W |  105 | 290 | 10 | 6.652863 | N |\n",
       "| -Buddy Biancalana | 190 |  46 |  2 |  24 |   8 | 15 |  5 |  479 |  102 |   5 |   65 |   23 |  39 | A | W |  102 | 177 | 16 | 5.164786 | A |\n",
       "| -Bruce Bochy | 127 |  32 |  8 |  16 |  22 | 14 |  8 |  727 |  180 |  24 |   67 |   82 |  56 | N | W |  202 |  22 |  2 | 4.905275 | N |\n",
       "| -Barry Bonds | 413 |  92 | 16 |  72 |  48 | 65 |  1 |  413 |   92 |  16 |   72 |   48 |  65 | N | E |  280 |   9 |  5 | 4.605170 | N |\n",
       "| -Bobby Bonilla | 426 | 109 |  3 |  55 |  43 | 62 |  1 |  426 |  109 |   3 |   55 |   43 |  62 | A | W |  361 |  22 |  2 | 4.744932 | N |\n",
       "| -Bob Brenly | 472 | 116 | 16 |  60 |  62 | 74 |  6 | 1924 |  489 |  67 |  242 |  251 | 240 | N | W |  518 |  55 |  3 | 6.396930 | N |\n",
       "| -Bill Buckner | 629 | 168 | 18 |  73 | 102 | 40 | 18 | 8424 | 2464 | 164 | 1008 | 1072 | 402 | A | E | 1067 | 157 | 14 | 6.655012 | A |\n",
       "| -Brett Butler | 587 | 163 |  4 |  92 |  51 | 70 |  6 | 2695 |  747 |  17 |  442 |  198 | 317 | A | E |  434 |   9 |  3 | 6.639876 | A |\n",
       "| -Bob Dernier | 324 |  73 |  4 |  32 |  18 | 22 |  7 | 1931 |  491 |  13 |  291 |  108 | 180 | N | E |  222 |   3 |  3 | 6.562914 | N |\n",
       "| -Bo Diaz | 474 | 129 | 10 |  50 |  56 | 40 | 10 | 2331 |  604 |  61 |  246 |  327 | 166 | N | W |  732 |  83 | 13 | 6.620073 | N |\n",
       "| -Bill Doran | 550 | 152 |  6 |  92 |  37 | 81 |  5 | 2308 |  633 |  32 |  349 |  182 | 308 | N | W |  262 | 329 | 16 | 6.437752 | N |\n",
       "| -Brian Downing | 513 | 137 | 20 |  90 |  95 | 90 | 14 | 5201 | 1382 | 166 |  763 |  734 | 784 | A | W |  267 |   5 |  3 | 6.802395 | A |\n",
       "| -Billy Hatcher | 419 | 108 |  6 |  55 |  36 | 22 |  3 |  591 |  149 |   8 |   80 |   46 |  31 | N | W |  226 |   7 |  4 | 4.700480 | N |\n",
       "| -Brook Jacoby | 583 | 168 | 17 |  83 |  80 | 56 |  5 | 1646 |  452 |  44 |  219 |  208 | 136 | A | E |  109 | 292 | 25 | 6.417549 | A |\n",
       "| -Bob Kearney | 204 |  49 |  6 |  23 |  25 | 12 |  7 | 1309 |  308 |  27 |  126 |  132 |  66 | A | W |  419 |  46 |  5 | 5.703782 | A |\n",
       "| -Bill Madlock | 379 | 106 | 10 |  38 |  60 | 30 | 14 | 6207 | 1906 | 146 |  859 |  803 | 571 | N | W |   72 | 170 | 24 | 6.745236 | N |\n",
       "| ⋮ | ⋮ | ⋮ | ⋮ | ⋮ | ⋮ | ⋮ | ⋮ | ⋮ | ⋮ | ⋮ | ⋮ | ⋮ | ⋮ | ⋮ | ⋮ | ⋮ | ⋮ | ⋮ | ⋮ | ⋮ |\n",
       "| -Mike Pagliarulo | 504 | 120 | 28 |  71 | 71 | 54 |  3 |  1085 |  259 |  54 |  150 |  167 |  114 | A | E | 103 | 283 | 19 | 5.164786 | A |\n",
       "| -Mark Salas | 258 |  60 |  8 |  28 | 33 | 18 |  3 |   638 |  170 |  17 |   80 |   75 |   36 | A | W | 358 |  32 |  8 | 4.919981 | A |\n",
       "| -Mike Schmidt |  20 |   1 |  0 |   0 |  0 |  0 |  2 |    41 |    9 |   2 |    6 |    7 |    4 | N | E |  78 | 220 |  6 | 7.662624 | N |\n",
       "| -Mike Scioscia | 374 |  94 |  5 |  36 | 26 | 62 |  7 |  1968 |  519 |  26 |  181 |  199 |  288 | N | W | 756 |  64 | 15 | 6.774224 | N |\n",
       "| -Mickey Tettleton | 211 |  43 | 10 |  26 | 35 | 39 |  3 |   498 |  116 |  14 |   59 |   55 |   78 | A | W | 463 |  32 |  8 | 4.787492 | A |\n",
       "| -Milt Thompson | 299 |  75 |  6 |  38 | 23 | 26 |  3 |   580 |  160 |   8 |   71 |   33 |   44 | N | E | 212 |   1 |  2 | 4.941642 | N |\n",
       "| -Mitch Webster | 576 | 167 |  8 |  89 | 49 | 57 |  4 |   822 |  232 |  19 |  132 |   83 |   79 | N | E | 325 |  12 |  8 | 5.347108 | N |\n",
       "| -Mookie Wilson | 381 | 110 |  9 |  61 | 45 | 32 |  7 |  3015 |  834 |  40 |  451 |  249 |  168 | N | E | 228 |   7 |  5 | 6.684612 | N |\n",
       "| -Marvell Wynne | 288 |  76 |  7 |  34 | 37 | 15 |  4 |  1644 |  408 |  16 |  198 |  120 |  113 | N | W | 203 |   3 |  3 | 5.480639 | N |\n",
       "| -Mike Young | 369 |  93 |  9 |  43 | 42 | 49 |  5 |  1258 |  323 |  54 |  181 |  177 |  157 | A | E | 149 |   1 |  6 | 5.857933 | A |\n",
       "| -Ozzie Guillen | 547 | 137 |  2 |  58 | 47 | 12 |  2 |  1038 |  271 |   3 |  129 |   80 |   24 | A | W | 261 | 459 | 22 | 5.164786 | A |\n",
       "| -Oddibe McDowell | 572 | 152 | 18 | 105 | 49 | 65 |  2 |   978 |  249 |  36 |  168 |   91 |  101 | A | W | 325 |  13 |  3 | 5.298317 | A |\n",
       "| -Ozzie Smith | 514 | 144 |  0 |  67 | 54 | 79 |  9 |  4739 | 1169 |  13 |  583 |  374 |  528 | N | E | 229 | 453 | 15 | 7.570443 | N |\n",
       "| -Ozzie Virgil | 359 |  80 | 15 |  45 | 48 | 63 |  7 |  1493 |  359 |  61 |  176 |  202 |  175 | N | W | 682 |  93 | 13 | 6.551080 | N |\n",
       "| -Phil Bradley | 526 | 163 | 12 |  88 | 50 | 77 |  4 |  1556 |  470 |  38 |  245 |  167 |  174 | A | W | 250 |  11 |  1 | 6.620073 | A |\n",
       "| -Phil Garner | 313 |  83 |  9 |  43 | 41 | 30 | 14 |  5885 | 1543 | 104 |  751 |  714 |  535 | N | W |  58 | 141 | 23 | 6.109248 | N |\n",
       "| -Pete Incaviglia | 540 | 135 | 30 |  82 | 88 | 55 |  1 |   540 |  135 |  30 |   82 |   88 |   55 | A | W | 157 |   6 | 14 | 5.147494 | A |\n",
       "| -Paul Molitor | 437 | 123 |  9 |  62 | 55 | 40 |  9 |  4139 | 1203 |  79 |  676 |  390 |  364 | A | E |  82 | 170 | 15 | 7.138867 | A |\n",
       "| -Pete Rose | 237 |  52 |  0 |  15 | 25 | 30 | 24 | 14053 | 4256 | 160 | 2165 | 1314 | 1566 | N | W | 523 |  43 |  6 | 6.620073 | N |\n",
       "| -Pat Sheridan | 236 |  56 |  6 |  41 | 19 | 21 |  5 |  1257 |  329 |  24 |  166 |  125 |  105 | A | E | 172 |   1 |  4 | 5.247024 | A |\n",
       "| -Pat Tabler | 473 | 154 |  6 |  61 | 48 | 29 |  6 |  1966 |  566 |  29 |  250 |  252 |  178 | A | E | 846 |  84 |  9 | 6.363028 | A |\n",
       "| -Rafael Belliard | 309 |  72 |  0 |  33 | 31 | 26 |  5 |   354 |   82 |   0 |   41 |   32 |   26 | N | E | 117 | 269 | 12 | 4.867534 | N |\n",
       "| -Rick Burleson | 271 |  77 |  5 |  35 | 29 | 33 | 12 |  4933 | 1358 |  48 |  630 |  435 |  403 | A | W |  62 |  90 |  3 | 6.109248 | A |\n",
       "| -Randy Bush | 357 |  96 |  7 |  50 | 45 | 39 |  5 |  1394 |  344 |  43 |  178 |  192 |  136 | A | W | 167 |   2 |  4 | 5.703782 | A |\n",
       "| -Rick Cerone | 216 |  56 |  4 |  22 | 18 | 15 | 12 |  2796 |  665 |  43 |  266 |  304 |  198 | A | E | 391 |  44 |  4 | 5.521461 | A |\n",
       "| -Ron Cey | 256 |  70 | 13 |  42 | 36 | 44 | 16 |  7058 | 1845 | 312 |  965 | 1128 |  990 | N | E |  41 | 118 |  8 | 6.956545 | A |\n",
       "| -Rob Deer | 466 | 108 | 33 |  75 | 86 | 72 |  3 |   652 |  142 |  44 |  102 |  109 |  102 | A | E | 286 |   8 |  8 | 5.370638 | A |\n",
       "| -Rick Dempsey | 327 |  68 | 13 |  42 | 29 | 45 | 18 |  3949 |  939 |  78 |  438 |  380 |  466 | A | E | 659 |  53 |  7 | 5.991465 | A |\n",
       "| -Ron Hassey | 341 | 110 |  9 |  45 | 49 | 46 |  9 |  2331 |  658 |  50 |  249 |  322 |  274 | A | E | 251 |   9 |  4 | 6.327937 | A |\n",
       "| -Rickey Henderson | 608 | 160 | 28 | 130 | 74 | 89 |  8 |  4071 | 1182 | 103 |  862 |  417 |  708 | A | E | 426 |   4 |  6 | 7.420579 | A |\n",
       "\n"
      ],
      "text/plain": [
       "                  AtBat Hits HmRun Runs RBI Walks Years CAtBat CHits CHmRun\n",
       "-Alan Ashby       315    81   7     24   38 39    14    3449    835   69   \n",
       "-Alvin Davis      479   130  18     66   72 76     3    1624    457   63   \n",
       "-Andre Dawson     496   141  20     65   78 37    11    5628   1575  225   \n",
       "-Andres Galarraga 321    87  10     39   42 30     2     396    101   12   \n",
       "-Alfredo Griffin  594   169   4     74   51 35    11    4408   1133   19   \n",
       "-Al Newman        185    37   1     23    8 21     2     214     42    1   \n",
       "-Argenis Salazar  298    73   0     24   24  7     3     509    108    0   \n",
       "-Andres Thomas    323    81   6     26   32  8     2     341     86    6   \n",
       "-Andre Thornton   401    92  17     49   66 65    13    5206   1332  253   \n",
       "-Alan Trammell    574   159  21    107   75 59    10    4631   1300   90   \n",
       "-Alex Trevino     202    53   4     31   26 27     9    1876    467   15   \n",
       "-Andy VanSlyke    418   113  13     48   61 47     4    1512    392   41   \n",
       "-Alan Wiggins     239    60   0     30   11 22     6    1941    510    4   \n",
       "-Bill Almon       196    43   7     29   27 30    13    3231    825   36   \n",
       "-Buddy Bell       568   158  20     89   75 73    15    8068   2273  177   \n",
       "-Buddy Biancalana 190    46   2     24    8 15     5     479    102    5   \n",
       "-Bruce Bochy      127    32   8     16   22 14     8     727    180   24   \n",
       "-Barry Bonds      413    92  16     72   48 65     1     413     92   16   \n",
       "-Bobby Bonilla    426   109   3     55   43 62     1     426    109    3   \n",
       "-Bob Brenly       472   116  16     60   62 74     6    1924    489   67   \n",
       "-Bill Buckner     629   168  18     73  102 40    18    8424   2464  164   \n",
       "-Brett Butler     587   163   4     92   51 70     6    2695    747   17   \n",
       "-Bob Dernier      324    73   4     32   18 22     7    1931    491   13   \n",
       "-Bo Diaz          474   129  10     50   56 40    10    2331    604   61   \n",
       "-Bill Doran       550   152   6     92   37 81     5    2308    633   32   \n",
       "-Brian Downing    513   137  20     90   95 90    14    5201   1382  166   \n",
       "-Billy Hatcher    419   108   6     55   36 22     3     591    149    8   \n",
       "-Brook Jacoby     583   168  17     83   80 56     5    1646    452   44   \n",
       "-Bob Kearney      204    49   6     23   25 12     7    1309    308   27   \n",
       "-Bill Madlock     379   106  10     38   60 30    14    6207   1906  146   \n",
       "<U+22EE>                 <U+22EE> <U+22EE> <U+22EE> <U+22EE> <U+22EE> <U+22EE> <U+22EE> <U+22EE> <U+22EE> <U+22EE>\n",
       "-Mike Pagliarulo  504   120  28     71  71  54     3     1085   259   54   \n",
       "-Mark Salas       258    60   8     28  33  18     3      638   170   17   \n",
       "-Mike Schmidt      20     1   0      0   0   0     2       41     9    2   \n",
       "-Mike Scioscia    374    94   5     36  26  62     7     1968   519   26   \n",
       "-Mickey Tettleton 211    43  10     26  35  39     3      498   116   14   \n",
       "-Milt Thompson    299    75   6     38  23  26     3      580   160    8   \n",
       "-Mitch Webster    576   167   8     89  49  57     4      822   232   19   \n",
       "-Mookie Wilson    381   110   9     61  45  32     7     3015   834   40   \n",
       "-Marvell Wynne    288    76   7     34  37  15     4     1644   408   16   \n",
       "-Mike Young       369    93   9     43  42  49     5     1258   323   54   \n",
       "-Ozzie Guillen    547   137   2     58  47  12     2     1038   271    3   \n",
       "-Oddibe McDowell  572   152  18    105  49  65     2      978   249   36   \n",
       "-Ozzie Smith      514   144   0     67  54  79     9     4739  1169   13   \n",
       "-Ozzie Virgil     359    80  15     45  48  63     7     1493   359   61   \n",
       "-Phil Bradley     526   163  12     88  50  77     4     1556   470   38   \n",
       "-Phil Garner      313    83   9     43  41  30    14     5885  1543  104   \n",
       "-Pete Incaviglia  540   135  30     82  88  55     1      540   135   30   \n",
       "-Paul Molitor     437   123   9     62  55  40     9     4139  1203   79   \n",
       "-Pete Rose        237    52   0     15  25  30    24    14053  4256  160   \n",
       "-Pat Sheridan     236    56   6     41  19  21     5     1257   329   24   \n",
       "-Pat Tabler       473   154   6     61  48  29     6     1966   566   29   \n",
       "-Rafael Belliard  309    72   0     33  31  26     5      354    82    0   \n",
       "-Rick Burleson    271    77   5     35  29  33    12     4933  1358   48   \n",
       "-Randy Bush       357    96   7     50  45  39     5     1394   344   43   \n",
       "-Rick Cerone      216    56   4     22  18  15    12     2796   665   43   \n",
       "-Ron Cey          256    70  13     42  36  44    16     7058  1845  312   \n",
       "-Rob Deer         466   108  33     75  86  72     3      652   142   44   \n",
       "-Rick Dempsey     327    68  13     42  29  45    18     3949   939   78   \n",
       "-Ron Hassey       341   110   9     45  49  46     9     2331   658   50   \n",
       "-Rickey Henderson 608   160  28    130  74  89     8     4071  1182  103   \n",
       "                  CRuns CRBI CWalks League Division PutOuts Assists Errors\n",
       "-Alan Ashby        321   414 375    N      W         632     43     10    \n",
       "-Alvin Davis       224   266 263    A      W         880     82     14    \n",
       "-Andre Dawson      828   838 354    N      E         200     11      3    \n",
       "-Andres Galarraga   48    46  33    N      E         805     40      4    \n",
       "-Alfredo Griffin   501   336 194    A      W         282    421     25    \n",
       "-Al Newman          30     9  24    N      E          76    127      7    \n",
       "-Argenis Salazar    41    37  12    A      W         121    283      9    \n",
       "-Andres Thomas      32    34   8    N      W         143    290     19    \n",
       "-Andre Thornton    784   890 866    A      E           0      0      0    \n",
       "-Alan Trammell     702   504 488    A      E         238    445     22    \n",
       "-Alex Trevino      192   186 161    N      W         304     45     11    \n",
       "-Andy VanSlyke     205   204 203    N      E         211     11      7    \n",
       "-Alan Wiggins      309   103 207    A      E         121    151      6    \n",
       "-Bill Almon        376   290 238    N      E          80     45      8    \n",
       "-Buddy Bell       1045   993 732    N      W         105    290     10    \n",
       "-Buddy Biancalana   65    23  39    A      W         102    177     16    \n",
       "-Bruce Bochy        67    82  56    N      W         202     22      2    \n",
       "-Barry Bonds        72    48  65    N      E         280      9      5    \n",
       "-Bobby Bonilla      55    43  62    A      W         361     22      2    \n",
       "-Bob Brenly        242   251 240    N      W         518     55      3    \n",
       "-Bill Buckner     1008  1072 402    A      E        1067    157     14    \n",
       "-Brett Butler      442   198 317    A      E         434      9      3    \n",
       "-Bob Dernier       291   108 180    N      E         222      3      3    \n",
       "-Bo Diaz           246   327 166    N      W         732     83     13    \n",
       "-Bill Doran        349   182 308    N      W         262    329     16    \n",
       "-Brian Downing     763   734 784    A      W         267      5      3    \n",
       "-Billy Hatcher      80    46  31    N      W         226      7      4    \n",
       "-Brook Jacoby      219   208 136    A      E         109    292     25    \n",
       "-Bob Kearney       126   132  66    A      W         419     46      5    \n",
       "-Bill Madlock      859   803 571    N      W          72    170     24    \n",
       "<U+22EE>                 <U+22EE> <U+22EE> <U+22EE> <U+22EE> <U+22EE> <U+22EE> <U+22EE> <U+22EE>\n",
       "-Mike Pagliarulo   150   167  114   A      E        103     283     19    \n",
       "-Mark Salas         80    75   36   A      W        358      32      8    \n",
       "-Mike Schmidt        6     7    4   N      E         78     220      6    \n",
       "-Mike Scioscia     181   199  288   N      W        756      64     15    \n",
       "-Mickey Tettleton   59    55   78   A      W        463      32      8    \n",
       "-Milt Thompson      71    33   44   N      E        212       1      2    \n",
       "-Mitch Webster     132    83   79   N      E        325      12      8    \n",
       "-Mookie Wilson     451   249  168   N      E        228       7      5    \n",
       "-Marvell Wynne     198   120  113   N      W        203       3      3    \n",
       "-Mike Young        181   177  157   A      E        149       1      6    \n",
       "-Ozzie Guillen     129    80   24   A      W        261     459     22    \n",
       "-Oddibe McDowell   168    91  101   A      W        325      13      3    \n",
       "-Ozzie Smith       583   374  528   N      E        229     453     15    \n",
       "-Ozzie Virgil      176   202  175   N      W        682      93     13    \n",
       "-Phil Bradley      245   167  174   A      W        250      11      1    \n",
       "-Phil Garner       751   714  535   N      W         58     141     23    \n",
       "-Pete Incaviglia    82    88   55   A      W        157       6     14    \n",
       "-Paul Molitor      676   390  364   A      E         82     170     15    \n",
       "-Pete Rose        2165  1314 1566   N      W        523      43      6    \n",
       "-Pat Sheridan      166   125  105   A      E        172       1      4    \n",
       "-Pat Tabler        250   252  178   A      E        846      84      9    \n",
       "-Rafael Belliard    41    32   26   N      E        117     269     12    \n",
       "-Rick Burleson     630   435  403   A      W         62      90      3    \n",
       "-Randy Bush        178   192  136   A      W        167       2      4    \n",
       "-Rick Cerone       266   304  198   A      E        391      44      4    \n",
       "-Ron Cey           965  1128  990   N      E         41     118      8    \n",
       "-Rob Deer          102   109  102   A      E        286       8      8    \n",
       "-Rick Dempsey      438   380  466   A      E        659      53      7    \n",
       "-Ron Hassey        249   322  274   A      E        251       9      4    \n",
       "-Rickey Henderson  862   417  708   A      E        426       4      6    \n",
       "                  Salary   NewLeague\n",
       "-Alan Ashby       6.163315 N        \n",
       "-Alvin Davis      6.173786 A        \n",
       "-Andre Dawson     6.214608 N        \n",
       "-Andres Galarraga 4.516339 N        \n",
       "-Alfredo Griffin  6.620073 A        \n",
       "-Al Newman        4.248495 A        \n",
       "-Argenis Salazar  4.605170 A        \n",
       "-Andres Thomas    4.317488 N        \n",
       "-Andre Thornton   7.003065 A        \n",
       "-Alan Trammell    6.248319 A        \n",
       "-Alex Trevino     6.239301 N        \n",
       "-Andy VanSlyke    6.309918 N        \n",
       "-Alan Wiggins     6.551080 A        \n",
       "-Bill Almon       5.480639 N        \n",
       "-Buddy Bell       6.652863 N        \n",
       "-Buddy Biancalana 5.164786 A        \n",
       "-Bruce Bochy      4.905275 N        \n",
       "-Barry Bonds      4.605170 N        \n",
       "-Bobby Bonilla    4.744932 N        \n",
       "-Bob Brenly       6.396930 N        \n",
       "-Bill Buckner     6.655012 A        \n",
       "-Brett Butler     6.639876 A        \n",
       "-Bob Dernier      6.562914 N        \n",
       "-Bo Diaz          6.620073 N        \n",
       "-Bill Doran       6.437752 N        \n",
       "-Brian Downing    6.802395 A        \n",
       "-Billy Hatcher    4.700480 N        \n",
       "-Brook Jacoby     6.417549 A        \n",
       "-Bob Kearney      5.703782 A        \n",
       "-Bill Madlock     6.745236 N        \n",
       "<U+22EE>                 <U+22EE> <U+22EE> \n",
       "-Mike Pagliarulo  5.164786 A        \n",
       "-Mark Salas       4.919981 A        \n",
       "-Mike Schmidt     7.662624 N        \n",
       "-Mike Scioscia    6.774224 N        \n",
       "-Mickey Tettleton 4.787492 A        \n",
       "-Milt Thompson    4.941642 N        \n",
       "-Mitch Webster    5.347108 N        \n",
       "-Mookie Wilson    6.684612 N        \n",
       "-Marvell Wynne    5.480639 N        \n",
       "-Mike Young       5.857933 A        \n",
       "-Ozzie Guillen    5.164786 A        \n",
       "-Oddibe McDowell  5.298317 A        \n",
       "-Ozzie Smith      7.570443 N        \n",
       "-Ozzie Virgil     6.551080 N        \n",
       "-Phil Bradley     6.620073 A        \n",
       "-Phil Garner      6.109248 N        \n",
       "-Pete Incaviglia  5.147494 A        \n",
       "-Paul Molitor     7.138867 A        \n",
       "-Pete Rose        6.620073 N        \n",
       "-Pat Sheridan     5.247024 A        \n",
       "-Pat Tabler       6.363028 A        \n",
       "-Rafael Belliard  4.867534 N        \n",
       "-Rick Burleson    6.109248 A        \n",
       "-Randy Bush       5.703782 A        \n",
       "-Rick Cerone      5.521461 A        \n",
       "-Ron Cey          6.956545 A        \n",
       "-Rob Deer         5.370638 A        \n",
       "-Rick Dempsey     5.991465 A        \n",
       "-Ron Hassey       6.327937 A        \n",
       "-Rickey Henderson 7.420579 A        "
      ]
     },
     "metadata": {},
     "output_type": "display_data"
    }
   ],
   "source": [
    "Hitters.train"
   ]
  },
  {
   "cell_type": "code",
   "execution_count": 62,
   "id": "7b7de6fd",
   "metadata": {},
   "outputs": [
    {
     "data": {
      "text/html": [
       "<table class=\"dataframe\">\n",
       "<caption>A data.frame: 63 × 20</caption>\n",
       "<thead>\n",
       "\t<tr><th></th><th scope=col>AtBat</th><th scope=col>Hits</th><th scope=col>HmRun</th><th scope=col>Runs</th><th scope=col>RBI</th><th scope=col>Walks</th><th scope=col>Years</th><th scope=col>CAtBat</th><th scope=col>CHits</th><th scope=col>CHmRun</th><th scope=col>CRuns</th><th scope=col>CRBI</th><th scope=col>CWalks</th><th scope=col>League</th><th scope=col>Division</th><th scope=col>PutOuts</th><th scope=col>Assists</th><th scope=col>Errors</th><th scope=col>Salary</th><th scope=col>NewLeague</th></tr>\n",
       "\t<tr><th></th><th scope=col>&lt;int&gt;</th><th scope=col>&lt;int&gt;</th><th scope=col>&lt;int&gt;</th><th scope=col>&lt;int&gt;</th><th scope=col>&lt;int&gt;</th><th scope=col>&lt;int&gt;</th><th scope=col>&lt;int&gt;</th><th scope=col>&lt;int&gt;</th><th scope=col>&lt;int&gt;</th><th scope=col>&lt;int&gt;</th><th scope=col>&lt;int&gt;</th><th scope=col>&lt;int&gt;</th><th scope=col>&lt;int&gt;</th><th scope=col>&lt;fct&gt;</th><th scope=col>&lt;fct&gt;</th><th scope=col>&lt;int&gt;</th><th scope=col>&lt;int&gt;</th><th scope=col>&lt;int&gt;</th><th scope=col>&lt;dbl&gt;</th><th scope=col>&lt;fct&gt;</th></tr>\n",
       "</thead>\n",
       "<tbody>\n",
       "\t<tr><th scope=row>-Reggie Jackson</th><td>419</td><td>101</td><td>18</td><td>65</td><td>58</td><td>92</td><td>20</td><td>9528</td><td>2510</td><td>548</td><td>1509</td><td>1659</td><td>1342</td><td>A</td><td>W</td><td>   0</td><td>  0</td><td> 0</td><td>6.189290</td><td>A</td></tr>\n",
       "\t<tr><th scope=row>-Ron Kittle</th><td>376</td><td> 82</td><td>21</td><td>42</td><td>60</td><td>35</td><td> 5</td><td>1770</td><td> 408</td><td>115</td><td> 238</td><td> 299</td><td> 157</td><td>A</td><td>W</td><td>   0</td><td>  0</td><td> 0</td><td>6.052089</td><td>A</td></tr>\n",
       "\t<tr><th scope=row>-Ray Knight</th><td>486</td><td>145</td><td>11</td><td>51</td><td>76</td><td>40</td><td>11</td><td>3967</td><td>1102</td><td> 67</td><td> 410</td><td> 497</td><td> 284</td><td>N</td><td>E</td><td>  88</td><td>204</td><td>16</td><td>6.214608</td><td>A</td></tr>\n",
       "\t<tr><th scope=row>-Rick Leach</th><td>246</td><td> 76</td><td> 5</td><td>35</td><td>39</td><td>13</td><td> 6</td><td> 912</td><td> 234</td><td> 12</td><td> 102</td><td>  96</td><td>  80</td><td>A</td><td>E</td><td>  44</td><td>  0</td><td> 1</td><td>5.521461</td><td>A</td></tr>\n",
       "\t<tr><th scope=row>-Rick Manning</th><td>205</td><td> 52</td><td> 8</td><td>31</td><td>27</td><td>17</td><td>12</td><td>5134</td><td>1323</td><td> 56</td><td> 643</td><td> 445</td><td> 459</td><td>A</td><td>E</td><td> 155</td><td>  3</td><td> 2</td><td>5.991465</td><td>A</td></tr>\n",
       "\t<tr><th scope=row>-Rance Mulliniks</th><td>348</td><td> 90</td><td>11</td><td>50</td><td>45</td><td>43</td><td>10</td><td>2288</td><td> 614</td><td> 43</td><td> 295</td><td> 273</td><td> 269</td><td>A</td><td>E</td><td>  60</td><td>176</td><td> 6</td><td>6.109248</td><td>A</td></tr>\n",
       "\t<tr><th scope=row>-Ron Oester</th><td>523</td><td>135</td><td> 8</td><td>52</td><td>44</td><td>52</td><td> 9</td><td>3368</td><td> 895</td><td> 39</td><td> 377</td><td> 284</td><td> 296</td><td>N</td><td>W</td><td> 367</td><td>475</td><td>19</td><td>6.620073</td><td>N</td></tr>\n",
       "\t<tr><th scope=row>-Rey Quinones</th><td>312</td><td> 68</td><td> 2</td><td>32</td><td>22</td><td>24</td><td> 1</td><td> 312</td><td>  68</td><td>  2</td><td>  32</td><td>  22</td><td>  24</td><td>A</td><td>E</td><td>  86</td><td>150</td><td>15</td><td>4.248495</td><td>A</td></tr>\n",
       "\t<tr><th scope=row>-Rafael Ramirez</th><td>496</td><td>119</td><td> 8</td><td>57</td><td>33</td><td>21</td><td> 7</td><td>3358</td><td> 882</td><td> 36</td><td> 365</td><td> 280</td><td> 165</td><td>N</td><td>W</td><td> 155</td><td>371</td><td>29</td><td>6.774224</td><td>N</td></tr>\n",
       "\t<tr><th scope=row>-Ronn Reynolds</th><td>126</td><td> 27</td><td> 3</td><td> 8</td><td>10</td><td> 5</td><td> 4</td><td> 239</td><td>  49</td><td>  3</td><td>  16</td><td>  13</td><td>  14</td><td>N</td><td>E</td><td> 190</td><td>  2</td><td> 9</td><td>5.247024</td><td>N</td></tr>\n",
       "\t<tr><th scope=row>-Ron Roenicke</th><td>275</td><td> 68</td><td> 5</td><td>42</td><td>42</td><td>61</td><td> 6</td><td> 961</td><td> 238</td><td> 16</td><td> 128</td><td> 104</td><td> 172</td><td>N</td><td>E</td><td> 181</td><td>  3</td><td> 2</td><td>5.252273</td><td>N</td></tr>\n",
       "\t<tr><th scope=row>-Ryne Sandberg</th><td>627</td><td>178</td><td>14</td><td>68</td><td>76</td><td>46</td><td> 6</td><td>3146</td><td> 902</td><td> 74</td><td> 494</td><td> 345</td><td> 242</td><td>N</td><td>E</td><td> 309</td><td>492</td><td> 5</td><td>6.606650</td><td>N</td></tr>\n",
       "\t<tr><th scope=row>-Rafael Santana</th><td>394</td><td> 86</td><td> 1</td><td>38</td><td>28</td><td>36</td><td> 4</td><td>1089</td><td> 267</td><td>  3</td><td>  94</td><td>  71</td><td>  76</td><td>N</td><td>E</td><td> 203</td><td>369</td><td>16</td><td>5.521461</td><td>N</td></tr>\n",
       "\t<tr><th scope=row>-Rick Schu</th><td>208</td><td> 57</td><td> 8</td><td>32</td><td>25</td><td>18</td><td> 3</td><td> 653</td><td> 170</td><td> 17</td><td>  98</td><td>  54</td><td>  62</td><td>N</td><td>E</td><td>  42</td><td> 94</td><td>13</td><td>4.941642</td><td>N</td></tr>\n",
       "\t<tr><th scope=row>-Ruben Sierra</th><td>382</td><td>101</td><td>16</td><td>50</td><td>55</td><td>22</td><td> 1</td><td> 382</td><td> 101</td><td> 16</td><td>  50</td><td>  55</td><td>  22</td><td>A</td><td>W</td><td> 200</td><td>  7</td><td> 6</td><td>4.579852</td><td>A</td></tr>\n",
       "\t<tr><th scope=row>-Roy Smalley</th><td>459</td><td>113</td><td>20</td><td>59</td><td>57</td><td>68</td><td>12</td><td>5348</td><td>1369</td><td>155</td><td> 713</td><td> 660</td><td> 735</td><td>A</td><td>W</td><td>   0</td><td>  0</td><td> 0</td><td>6.606650</td><td>A</td></tr>\n",
       "\t<tr><th scope=row>-Robby Thompson</th><td>549</td><td>149</td><td> 7</td><td>73</td><td>47</td><td>42</td><td> 1</td><td> 549</td><td> 149</td><td>  7</td><td>  73</td><td>  47</td><td>  42</td><td>N</td><td>W</td><td> 255</td><td>450</td><td>17</td><td>4.941642</td><td>N</td></tr>\n",
       "\t<tr><th scope=row>-Rob Wilfong</th><td>288</td><td> 63</td><td> 3</td><td>25</td><td>33</td><td>16</td><td>10</td><td>2682</td><td> 667</td><td> 38</td><td> 315</td><td> 259</td><td> 204</td><td>A</td><td>W</td><td> 135</td><td>257</td><td> 7</td><td>5.833837</td><td>A</td></tr>\n",
       "\t<tr><th scope=row>-Robin Yount</th><td>522</td><td>163</td><td> 9</td><td>82</td><td>46</td><td>62</td><td>13</td><td>7037</td><td>2019</td><td>153</td><td>1043</td><td> 827</td><td> 535</td><td>A</td><td>E</td><td> 352</td><td>  9</td><td> 1</td><td>6.907755</td><td>A</td></tr>\n",
       "\t<tr><th scope=row>-Steve Balboni</th><td>512</td><td>117</td><td>29</td><td>54</td><td>88</td><td>43</td><td> 6</td><td>1750</td><td> 412</td><td>100</td><td> 204</td><td> 276</td><td> 155</td><td>A</td><td>W</td><td>1236</td><td> 98</td><td>18</td><td>4.605170</td><td>A</td></tr>\n",
       "\t<tr><th scope=row>-Scott Bradley</th><td>220</td><td> 66</td><td> 5</td><td>20</td><td>28</td><td>13</td><td> 3</td><td> 290</td><td>  80</td><td>  5</td><td>  27</td><td>  31</td><td>  15</td><td>A</td><td>W</td><td> 281</td><td> 21</td><td> 3</td><td>4.499810</td><td>A</td></tr>\n",
       "\t<tr><th scope=row>-Sid Bream</th><td>522</td><td>140</td><td>16</td><td>73</td><td>77</td><td>60</td><td> 4</td><td> 730</td><td> 185</td><td> 22</td><td>  93</td><td> 106</td><td>  86</td><td>N</td><td>E</td><td>1320</td><td>166</td><td>17</td><td>5.298317</td><td>N</td></tr>\n",
       "\t<tr><th scope=row>-Steve Buechele</th><td>461</td><td>112</td><td>18</td><td>54</td><td>54</td><td>35</td><td> 2</td><td> 680</td><td> 160</td><td> 24</td><td>  76</td><td>  75</td><td>  49</td><td>A</td><td>W</td><td> 111</td><td>226</td><td>11</td><td>4.905275</td><td>A</td></tr>\n",
       "\t<tr><th scope=row>-Shawon Dunston</th><td>581</td><td>145</td><td>17</td><td>66</td><td>68</td><td>21</td><td> 2</td><td> 831</td><td> 210</td><td> 21</td><td> 106</td><td>  86</td><td>  40</td><td>N</td><td>E</td><td> 320</td><td>465</td><td>32</td><td>5.043425</td><td>N</td></tr>\n",
       "\t<tr><th scope=row>-Scott Fletcher</th><td>530</td><td>159</td><td> 3</td><td>82</td><td>50</td><td>47</td><td> 6</td><td>1619</td><td> 426</td><td> 11</td><td> 218</td><td> 149</td><td> 163</td><td>A</td><td>W</td><td> 196</td><td>354</td><td>15</td><td>6.163315</td><td>A</td></tr>\n",
       "\t<tr><th scope=row>-Steve Garvey</th><td>557</td><td>142</td><td>21</td><td>58</td><td>81</td><td>23</td><td>18</td><td>8759</td><td>2583</td><td>271</td><td>1138</td><td>1299</td><td> 478</td><td>N</td><td>W</td><td>1160</td><td> 53</td><td> 7</td><td>7.279319</td><td>N</td></tr>\n",
       "\t<tr><th scope=row>-Steve Jeltz</th><td>439</td><td> 96</td><td> 0</td><td>44</td><td>36</td><td>65</td><td> 4</td><td> 711</td><td> 148</td><td>  1</td><td>  68</td><td>  56</td><td>  99</td><td>N</td><td>E</td><td> 229</td><td>406</td><td>22</td><td>5.010635</td><td>N</td></tr>\n",
       "\t<tr><th scope=row>-Steve Lombardozzi</th><td>453</td><td>103</td><td> 8</td><td>53</td><td>33</td><td>52</td><td> 2</td><td> 507</td><td> 123</td><td>  8</td><td>  63</td><td>  39</td><td>  58</td><td>A</td><td>W</td><td> 289</td><td>407</td><td> 6</td><td>4.653960</td><td>A</td></tr>\n",
       "\t<tr><th scope=row>-Spike Owen</th><td>528</td><td>122</td><td> 1</td><td>67</td><td>45</td><td>51</td><td> 4</td><td>1716</td><td> 403</td><td> 12</td><td> 211</td><td> 146</td><td> 155</td><td>A</td><td>W</td><td> 209</td><td>372</td><td>17</td><td>5.857933</td><td>A</td></tr>\n",
       "\t<tr><th scope=row>-Steve Sax</th><td>633</td><td>210</td><td> 6</td><td>91</td><td>56</td><td>59</td><td> 6</td><td>3070</td><td> 872</td><td> 19</td><td> 420</td><td> 230</td><td> 274</td><td>N</td><td>W</td><td> 367</td><td>432</td><td>16</td><td>4.499810</td><td>N</td></tr>\n",
       "\t<tr><th scope=row>⋮</th><td>⋮</td><td>⋮</td><td>⋮</td><td>⋮</td><td>⋮</td><td>⋮</td><td>⋮</td><td>⋮</td><td>⋮</td><td>⋮</td><td>⋮</td><td>⋮</td><td>⋮</td><td>⋮</td><td>⋮</td><td>⋮</td><td>⋮</td><td>⋮</td><td>⋮</td><td>⋮</td></tr>\n",
       "\t<tr><th scope=row>-Tony Fernandez</th><td>687</td><td>213</td><td>10</td><td> 91</td><td> 65</td><td> 27</td><td> 4</td><td>1518</td><td> 448</td><td> 15</td><td> 196</td><td> 137</td><td> 89</td><td>A</td><td>E</td><td> 294</td><td>445</td><td>13</td><td>5.857933</td><td>A</td></tr>\n",
       "\t<tr><th scope=row>-Tim Flannery</th><td>368</td><td>103</td><td> 3</td><td> 48</td><td> 28</td><td> 54</td><td> 8</td><td>1897</td><td> 493</td><td>  9</td><td> 207</td><td> 162</td><td>198</td><td>N</td><td>W</td><td> 209</td><td>246</td><td> 3</td><td>5.788941</td><td>N</td></tr>\n",
       "\t<tr><th scope=row>-Tom Foley</th><td>263</td><td> 70</td><td> 1</td><td> 26</td><td> 23</td><td> 30</td><td> 4</td><td> 888</td><td> 220</td><td>  9</td><td>  83</td><td>  82</td><td> 86</td><td>N</td><td>E</td><td>  81</td><td>147</td><td> 4</td><td>5.521461</td><td>N</td></tr>\n",
       "\t<tr><th scope=row>-Tony Gwynn</th><td>642</td><td>211</td><td>14</td><td>107</td><td> 59</td><td> 52</td><td> 5</td><td>2364</td><td> 770</td><td> 27</td><td> 352</td><td> 230</td><td>193</td><td>N</td><td>W</td><td> 337</td><td> 19</td><td> 4</td><td>6.606650</td><td>N</td></tr>\n",
       "\t<tr><th scope=row>-Terry Harper</th><td>265</td><td> 68</td><td> 8</td><td> 26</td><td> 30</td><td> 29</td><td> 7</td><td>1337</td><td> 339</td><td> 32</td><td> 135</td><td> 163</td><td>128</td><td>N</td><td>W</td><td>  92</td><td>  5</td><td> 3</td><td>6.052089</td><td>A</td></tr>\n",
       "\t<tr><th scope=row>-Tommy Herr</th><td>559</td><td>141</td><td> 2</td><td> 48</td><td> 61</td><td> 73</td><td> 8</td><td>3162</td><td> 874</td><td> 16</td><td> 421</td><td> 349</td><td>359</td><td>N</td><td>E</td><td> 352</td><td>414</td><td> 9</td><td>6.829794</td><td>N</td></tr>\n",
       "\t<tr><th scope=row>-Tim Hulett</th><td>520</td><td>120</td><td>17</td><td> 53</td><td> 44</td><td> 21</td><td> 4</td><td> 927</td><td> 227</td><td> 22</td><td> 106</td><td>  80</td><td> 52</td><td>A</td><td>W</td><td>  70</td><td>144</td><td>11</td><td>5.220356</td><td>A</td></tr>\n",
       "\t<tr><th scope=row>-Terry Kennedy</th><td> 19</td><td>  4</td><td> 1</td><td>  2</td><td>  3</td><td>  1</td><td> 1</td><td>  19</td><td>   4</td><td>  1</td><td>   2</td><td>   3</td><td>  1</td><td>N</td><td>W</td><td> 692</td><td> 70</td><td> 8</td><td>6.824374</td><td>A</td></tr>\n",
       "\t<tr><th scope=row>-Tito Landrum</th><td>205</td><td> 43</td><td> 2</td><td> 24</td><td> 17</td><td> 20</td><td> 7</td><td> 854</td><td> 219</td><td> 12</td><td> 105</td><td>  99</td><td> 71</td><td>N</td><td>E</td><td> 131</td><td>  6</td><td> 1</td><td>5.658321</td><td>N</td></tr>\n",
       "\t<tr><th scope=row>-Tim Laudner</th><td>193</td><td> 47</td><td>10</td><td> 21</td><td> 29</td><td> 24</td><td> 6</td><td>1136</td><td> 256</td><td> 42</td><td> 129</td><td> 139</td><td>106</td><td>A</td><td>W</td><td> 299</td><td> 13</td><td> 5</td><td>5.501258</td><td>A</td></tr>\n",
       "\t<tr><th scope=row>-Tom Paciorek</th><td>213</td><td> 61</td><td> 4</td><td> 17</td><td> 22</td><td>  3</td><td>17</td><td>4061</td><td>1145</td><td> 83</td><td> 488</td><td> 491</td><td>244</td><td>A</td><td>W</td><td> 178</td><td> 45</td><td> 4</td><td>5.459586</td><td>A</td></tr>\n",
       "\t<tr><th scope=row>-Tony Pena</th><td>510</td><td>147</td><td>10</td><td> 56</td><td> 52</td><td> 53</td><td> 7</td><td>2872</td><td> 821</td><td> 63</td><td> 307</td><td> 340</td><td>174</td><td>N</td><td>E</td><td> 810</td><td> 99</td><td>18</td><td>7.047517</td><td>N</td></tr>\n",
       "\t<tr><th scope=row>-Terry Pendleton</th><td>578</td><td>138</td><td> 1</td><td> 56</td><td> 59</td><td> 34</td><td> 3</td><td>1399</td><td> 357</td><td>  7</td><td> 149</td><td> 161</td><td> 87</td><td>N</td><td>E</td><td> 133</td><td>371</td><td>20</td><td>5.075174</td><td>N</td></tr>\n",
       "\t<tr><th scope=row>-Tony Phillips</th><td>441</td><td>113</td><td> 5</td><td> 76</td><td> 52</td><td> 76</td><td> 5</td><td>1546</td><td> 397</td><td> 17</td><td> 226</td><td> 149</td><td>191</td><td>A</td><td>W</td><td> 160</td><td>290</td><td>11</td><td>6.052089</td><td>A</td></tr>\n",
       "\t<tr><th scope=row>-Terry Puhl</th><td>172</td><td> 42</td><td> 3</td><td> 17</td><td> 14</td><td> 15</td><td>10</td><td>4086</td><td>1150</td><td> 57</td><td> 579</td><td> 363</td><td>406</td><td>N</td><td>W</td><td>  65</td><td>  0</td><td> 0</td><td>6.802395</td><td>N</td></tr>\n",
       "\t<tr><th scope=row>-Ted Simmons</th><td>127</td><td> 32</td><td> 4</td><td> 14</td><td> 25</td><td> 12</td><td>19</td><td>8396</td><td>2402</td><td>242</td><td>1048</td><td>1348</td><td>819</td><td>N</td><td>W</td><td> 167</td><td> 18</td><td> 6</td><td>6.214608</td><td>N</td></tr>\n",
       "\t<tr><th scope=row>-Tim Teufel</th><td>279</td><td> 69</td><td> 4</td><td> 35</td><td> 31</td><td> 32</td><td> 4</td><td>1359</td><td> 355</td><td> 31</td><td> 180</td><td> 148</td><td>158</td><td>N</td><td>E</td><td> 133</td><td>173</td><td> 9</td><td>5.625821</td><td>N</td></tr>\n",
       "\t<tr><th scope=row>-Tim Wallach</th><td>480</td><td>112</td><td>18</td><td> 50</td><td> 71</td><td> 44</td><td> 7</td><td>3031</td><td> 771</td><td>110</td><td> 338</td><td> 406</td><td>239</td><td>N</td><td>E</td><td>  94</td><td>270</td><td>16</td><td>6.620073</td><td>N</td></tr>\n",
       "\t<tr><th scope=row>-Vince Coleman</th><td>600</td><td>139</td><td> 0</td><td> 94</td><td> 29</td><td> 60</td><td> 2</td><td>1236</td><td> 309</td><td>  1</td><td> 201</td><td>  69</td><td>110</td><td>N</td><td>E</td><td> 300</td><td> 12</td><td> 9</td><td>5.075174</td><td>N</td></tr>\n",
       "\t<tr><th scope=row>-Von Hayes</th><td>610</td><td>186</td><td>19</td><td>107</td><td> 98</td><td> 74</td><td> 6</td><td>2728</td><td> 753</td><td> 69</td><td> 399</td><td> 366</td><td>286</td><td>N</td><td>E</td><td>1182</td><td> 96</td><td>13</td><td>7.170120</td><td>N</td></tr>\n",
       "\t<tr><th scope=row>-Vance Law</th><td>360</td><td> 81</td><td> 5</td><td> 37</td><td> 44</td><td> 37</td><td> 7</td><td>2268</td><td> 566</td><td> 41</td><td> 279</td><td> 257</td><td>246</td><td>N</td><td>E</td><td> 170</td><td>284</td><td> 3</td><td>6.263398</td><td>N</td></tr>\n",
       "\t<tr><th scope=row>-Wally Backman</th><td>387</td><td>124</td><td> 1</td><td> 67</td><td> 27</td><td> 36</td><td> 7</td><td>1775</td><td> 506</td><td>  6</td><td> 272</td><td> 125</td><td>194</td><td>N</td><td>E</td><td> 186</td><td>290</td><td>17</td><td>6.309918</td><td>N</td></tr>\n",
       "\t<tr><th scope=row>-Wade Boggs</th><td>580</td><td>207</td><td> 8</td><td>107</td><td> 71</td><td>105</td><td> 5</td><td>2778</td><td> 978</td><td> 32</td><td> 474</td><td> 322</td><td>417</td><td>A</td><td>E</td><td> 121</td><td>267</td><td>19</td><td>7.377759</td><td>A</td></tr>\n",
       "\t<tr><th scope=row>-Will Clark</th><td>408</td><td>117</td><td>11</td><td> 66</td><td> 41</td><td> 34</td><td> 1</td><td> 408</td><td> 117</td><td> 11</td><td>  66</td><td>  41</td><td> 34</td><td>N</td><td>W</td><td> 942</td><td> 72</td><td>11</td><td>4.787492</td><td>N</td></tr>\n",
       "\t<tr><th scope=row>-Wally Joyner</th><td>593</td><td>172</td><td>22</td><td> 82</td><td>100</td><td> 57</td><td> 1</td><td> 593</td><td> 172</td><td> 22</td><td>  82</td><td> 100</td><td> 57</td><td>A</td><td>W</td><td>1222</td><td>139</td><td>15</td><td>5.105945</td><td>A</td></tr>\n",
       "\t<tr><th scope=row>-Willie McGee</th><td>497</td><td>127</td><td> 7</td><td> 65</td><td> 48</td><td> 37</td><td> 5</td><td>2703</td><td> 806</td><td> 32</td><td> 379</td><td> 311</td><td>138</td><td>N</td><td>E</td><td> 325</td><td>  9</td><td> 3</td><td>6.551080</td><td>N</td></tr>\n",
       "\t<tr><th scope=row>-Willie Randolph</th><td>492</td><td>136</td><td> 5</td><td> 76</td><td> 50</td><td> 94</td><td>12</td><td>5511</td><td>1511</td><td> 39</td><td> 897</td><td> 451</td><td>875</td><td>A</td><td>E</td><td> 313</td><td>381</td><td>20</td><td>6.774224</td><td>A</td></tr>\n",
       "\t<tr><th scope=row>-Wayne Tolleson</th><td>475</td><td>126</td><td> 3</td><td> 61</td><td> 43</td><td> 52</td><td> 6</td><td>1700</td><td> 433</td><td>  7</td><td> 217</td><td>  93</td><td>146</td><td>A</td><td>W</td><td>  37</td><td>113</td><td> 7</td><td>5.953243</td><td>A</td></tr>\n",
       "\t<tr><th scope=row>-Willie Upshaw</th><td>573</td><td>144</td><td> 9</td><td> 85</td><td> 60</td><td> 78</td><td> 8</td><td>3198</td><td> 857</td><td> 97</td><td> 470</td><td> 420</td><td>332</td><td>A</td><td>E</td><td>1314</td><td>131</td><td>12</td><td>6.866933</td><td>A</td></tr>\n",
       "\t<tr><th scope=row>-Willie Wilson</th><td>631</td><td>170</td><td> 9</td><td> 77</td><td> 44</td><td> 31</td><td>11</td><td>4908</td><td>1457</td><td> 30</td><td> 775</td><td> 357</td><td>249</td><td>A</td><td>W</td><td> 408</td><td>  4</td><td> 3</td><td>6.907755</td><td>A</td></tr>\n",
       "</tbody>\n",
       "</table>\n"
      ],
      "text/latex": [
       "A data.frame: 63 × 20\n",
       "\\begin{tabular}{r|llllllllllllllllllll}\n",
       "  & AtBat & Hits & HmRun & Runs & RBI & Walks & Years & CAtBat & CHits & CHmRun & CRuns & CRBI & CWalks & League & Division & PutOuts & Assists & Errors & Salary & NewLeague\\\\\n",
       "  & <int> & <int> & <int> & <int> & <int> & <int> & <int> & <int> & <int> & <int> & <int> & <int> & <int> & <fct> & <fct> & <int> & <int> & <int> & <dbl> & <fct>\\\\\n",
       "\\hline\n",
       "\t-Reggie Jackson & 419 & 101 & 18 & 65 & 58 & 92 & 20 & 9528 & 2510 & 548 & 1509 & 1659 & 1342 & A & W &    0 &   0 &  0 & 6.189290 & A\\\\\n",
       "\t-Ron Kittle & 376 &  82 & 21 & 42 & 60 & 35 &  5 & 1770 &  408 & 115 &  238 &  299 &  157 & A & W &    0 &   0 &  0 & 6.052089 & A\\\\\n",
       "\t-Ray Knight & 486 & 145 & 11 & 51 & 76 & 40 & 11 & 3967 & 1102 &  67 &  410 &  497 &  284 & N & E &   88 & 204 & 16 & 6.214608 & A\\\\\n",
       "\t-Rick Leach & 246 &  76 &  5 & 35 & 39 & 13 &  6 &  912 &  234 &  12 &  102 &   96 &   80 & A & E &   44 &   0 &  1 & 5.521461 & A\\\\\n",
       "\t-Rick Manning & 205 &  52 &  8 & 31 & 27 & 17 & 12 & 5134 & 1323 &  56 &  643 &  445 &  459 & A & E &  155 &   3 &  2 & 5.991465 & A\\\\\n",
       "\t-Rance Mulliniks & 348 &  90 & 11 & 50 & 45 & 43 & 10 & 2288 &  614 &  43 &  295 &  273 &  269 & A & E &   60 & 176 &  6 & 6.109248 & A\\\\\n",
       "\t-Ron Oester & 523 & 135 &  8 & 52 & 44 & 52 &  9 & 3368 &  895 &  39 &  377 &  284 &  296 & N & W &  367 & 475 & 19 & 6.620073 & N\\\\\n",
       "\t-Rey Quinones & 312 &  68 &  2 & 32 & 22 & 24 &  1 &  312 &   68 &   2 &   32 &   22 &   24 & A & E &   86 & 150 & 15 & 4.248495 & A\\\\\n",
       "\t-Rafael Ramirez & 496 & 119 &  8 & 57 & 33 & 21 &  7 & 3358 &  882 &  36 &  365 &  280 &  165 & N & W &  155 & 371 & 29 & 6.774224 & N\\\\\n",
       "\t-Ronn Reynolds & 126 &  27 &  3 &  8 & 10 &  5 &  4 &  239 &   49 &   3 &   16 &   13 &   14 & N & E &  190 &   2 &  9 & 5.247024 & N\\\\\n",
       "\t-Ron Roenicke & 275 &  68 &  5 & 42 & 42 & 61 &  6 &  961 &  238 &  16 &  128 &  104 &  172 & N & E &  181 &   3 &  2 & 5.252273 & N\\\\\n",
       "\t-Ryne Sandberg & 627 & 178 & 14 & 68 & 76 & 46 &  6 & 3146 &  902 &  74 &  494 &  345 &  242 & N & E &  309 & 492 &  5 & 6.606650 & N\\\\\n",
       "\t-Rafael Santana & 394 &  86 &  1 & 38 & 28 & 36 &  4 & 1089 &  267 &   3 &   94 &   71 &   76 & N & E &  203 & 369 & 16 & 5.521461 & N\\\\\n",
       "\t-Rick Schu & 208 &  57 &  8 & 32 & 25 & 18 &  3 &  653 &  170 &  17 &   98 &   54 &   62 & N & E &   42 &  94 & 13 & 4.941642 & N\\\\\n",
       "\t-Ruben Sierra & 382 & 101 & 16 & 50 & 55 & 22 &  1 &  382 &  101 &  16 &   50 &   55 &   22 & A & W &  200 &   7 &  6 & 4.579852 & A\\\\\n",
       "\t-Roy Smalley & 459 & 113 & 20 & 59 & 57 & 68 & 12 & 5348 & 1369 & 155 &  713 &  660 &  735 & A & W &    0 &   0 &  0 & 6.606650 & A\\\\\n",
       "\t-Robby Thompson & 549 & 149 &  7 & 73 & 47 & 42 &  1 &  549 &  149 &   7 &   73 &   47 &   42 & N & W &  255 & 450 & 17 & 4.941642 & N\\\\\n",
       "\t-Rob Wilfong & 288 &  63 &  3 & 25 & 33 & 16 & 10 & 2682 &  667 &  38 &  315 &  259 &  204 & A & W &  135 & 257 &  7 & 5.833837 & A\\\\\n",
       "\t-Robin Yount & 522 & 163 &  9 & 82 & 46 & 62 & 13 & 7037 & 2019 & 153 & 1043 &  827 &  535 & A & E &  352 &   9 &  1 & 6.907755 & A\\\\\n",
       "\t-Steve Balboni & 512 & 117 & 29 & 54 & 88 & 43 &  6 & 1750 &  412 & 100 &  204 &  276 &  155 & A & W & 1236 &  98 & 18 & 4.605170 & A\\\\\n",
       "\t-Scott Bradley & 220 &  66 &  5 & 20 & 28 & 13 &  3 &  290 &   80 &   5 &   27 &   31 &   15 & A & W &  281 &  21 &  3 & 4.499810 & A\\\\\n",
       "\t-Sid Bream & 522 & 140 & 16 & 73 & 77 & 60 &  4 &  730 &  185 &  22 &   93 &  106 &   86 & N & E & 1320 & 166 & 17 & 5.298317 & N\\\\\n",
       "\t-Steve Buechele & 461 & 112 & 18 & 54 & 54 & 35 &  2 &  680 &  160 &  24 &   76 &   75 &   49 & A & W &  111 & 226 & 11 & 4.905275 & A\\\\\n",
       "\t-Shawon Dunston & 581 & 145 & 17 & 66 & 68 & 21 &  2 &  831 &  210 &  21 &  106 &   86 &   40 & N & E &  320 & 465 & 32 & 5.043425 & N\\\\\n",
       "\t-Scott Fletcher & 530 & 159 &  3 & 82 & 50 & 47 &  6 & 1619 &  426 &  11 &  218 &  149 &  163 & A & W &  196 & 354 & 15 & 6.163315 & A\\\\\n",
       "\t-Steve Garvey & 557 & 142 & 21 & 58 & 81 & 23 & 18 & 8759 & 2583 & 271 & 1138 & 1299 &  478 & N & W & 1160 &  53 &  7 & 7.279319 & N\\\\\n",
       "\t-Steve Jeltz & 439 &  96 &  0 & 44 & 36 & 65 &  4 &  711 &  148 &   1 &   68 &   56 &   99 & N & E &  229 & 406 & 22 & 5.010635 & N\\\\\n",
       "\t-Steve Lombardozzi & 453 & 103 &  8 & 53 & 33 & 52 &  2 &  507 &  123 &   8 &   63 &   39 &   58 & A & W &  289 & 407 &  6 & 4.653960 & A\\\\\n",
       "\t-Spike Owen & 528 & 122 &  1 & 67 & 45 & 51 &  4 & 1716 &  403 &  12 &  211 &  146 &  155 & A & W &  209 & 372 & 17 & 5.857933 & A\\\\\n",
       "\t-Steve Sax & 633 & 210 &  6 & 91 & 56 & 59 &  6 & 3070 &  872 &  19 &  420 &  230 &  274 & N & W &  367 & 432 & 16 & 4.499810 & N\\\\\n",
       "\t⋮ & ⋮ & ⋮ & ⋮ & ⋮ & ⋮ & ⋮ & ⋮ & ⋮ & ⋮ & ⋮ & ⋮ & ⋮ & ⋮ & ⋮ & ⋮ & ⋮ & ⋮ & ⋮ & ⋮ & ⋮\\\\\n",
       "\t-Tony Fernandez & 687 & 213 & 10 &  91 &  65 &  27 &  4 & 1518 &  448 &  15 &  196 &  137 &  89 & A & E &  294 & 445 & 13 & 5.857933 & A\\\\\n",
       "\t-Tim Flannery & 368 & 103 &  3 &  48 &  28 &  54 &  8 & 1897 &  493 &   9 &  207 &  162 & 198 & N & W &  209 & 246 &  3 & 5.788941 & N\\\\\n",
       "\t-Tom Foley & 263 &  70 &  1 &  26 &  23 &  30 &  4 &  888 &  220 &   9 &   83 &   82 &  86 & N & E &   81 & 147 &  4 & 5.521461 & N\\\\\n",
       "\t-Tony Gwynn & 642 & 211 & 14 & 107 &  59 &  52 &  5 & 2364 &  770 &  27 &  352 &  230 & 193 & N & W &  337 &  19 &  4 & 6.606650 & N\\\\\n",
       "\t-Terry Harper & 265 &  68 &  8 &  26 &  30 &  29 &  7 & 1337 &  339 &  32 &  135 &  163 & 128 & N & W &   92 &   5 &  3 & 6.052089 & A\\\\\n",
       "\t-Tommy Herr & 559 & 141 &  2 &  48 &  61 &  73 &  8 & 3162 &  874 &  16 &  421 &  349 & 359 & N & E &  352 & 414 &  9 & 6.829794 & N\\\\\n",
       "\t-Tim Hulett & 520 & 120 & 17 &  53 &  44 &  21 &  4 &  927 &  227 &  22 &  106 &   80 &  52 & A & W &   70 & 144 & 11 & 5.220356 & A\\\\\n",
       "\t-Terry Kennedy &  19 &   4 &  1 &   2 &   3 &   1 &  1 &   19 &    4 &   1 &    2 &    3 &   1 & N & W &  692 &  70 &  8 & 6.824374 & A\\\\\n",
       "\t-Tito Landrum & 205 &  43 &  2 &  24 &  17 &  20 &  7 &  854 &  219 &  12 &  105 &   99 &  71 & N & E &  131 &   6 &  1 & 5.658321 & N\\\\\n",
       "\t-Tim Laudner & 193 &  47 & 10 &  21 &  29 &  24 &  6 & 1136 &  256 &  42 &  129 &  139 & 106 & A & W &  299 &  13 &  5 & 5.501258 & A\\\\\n",
       "\t-Tom Paciorek & 213 &  61 &  4 &  17 &  22 &   3 & 17 & 4061 & 1145 &  83 &  488 &  491 & 244 & A & W &  178 &  45 &  4 & 5.459586 & A\\\\\n",
       "\t-Tony Pena & 510 & 147 & 10 &  56 &  52 &  53 &  7 & 2872 &  821 &  63 &  307 &  340 & 174 & N & E &  810 &  99 & 18 & 7.047517 & N\\\\\n",
       "\t-Terry Pendleton & 578 & 138 &  1 &  56 &  59 &  34 &  3 & 1399 &  357 &   7 &  149 &  161 &  87 & N & E &  133 & 371 & 20 & 5.075174 & N\\\\\n",
       "\t-Tony Phillips & 441 & 113 &  5 &  76 &  52 &  76 &  5 & 1546 &  397 &  17 &  226 &  149 & 191 & A & W &  160 & 290 & 11 & 6.052089 & A\\\\\n",
       "\t-Terry Puhl & 172 &  42 &  3 &  17 &  14 &  15 & 10 & 4086 & 1150 &  57 &  579 &  363 & 406 & N & W &   65 &   0 &  0 & 6.802395 & N\\\\\n",
       "\t-Ted Simmons & 127 &  32 &  4 &  14 &  25 &  12 & 19 & 8396 & 2402 & 242 & 1048 & 1348 & 819 & N & W &  167 &  18 &  6 & 6.214608 & N\\\\\n",
       "\t-Tim Teufel & 279 &  69 &  4 &  35 &  31 &  32 &  4 & 1359 &  355 &  31 &  180 &  148 & 158 & N & E &  133 & 173 &  9 & 5.625821 & N\\\\\n",
       "\t-Tim Wallach & 480 & 112 & 18 &  50 &  71 &  44 &  7 & 3031 &  771 & 110 &  338 &  406 & 239 & N & E &   94 & 270 & 16 & 6.620073 & N\\\\\n",
       "\t-Vince Coleman & 600 & 139 &  0 &  94 &  29 &  60 &  2 & 1236 &  309 &   1 &  201 &   69 & 110 & N & E &  300 &  12 &  9 & 5.075174 & N\\\\\n",
       "\t-Von Hayes & 610 & 186 & 19 & 107 &  98 &  74 &  6 & 2728 &  753 &  69 &  399 &  366 & 286 & N & E & 1182 &  96 & 13 & 7.170120 & N\\\\\n",
       "\t-Vance Law & 360 &  81 &  5 &  37 &  44 &  37 &  7 & 2268 &  566 &  41 &  279 &  257 & 246 & N & E &  170 & 284 &  3 & 6.263398 & N\\\\\n",
       "\t-Wally Backman & 387 & 124 &  1 &  67 &  27 &  36 &  7 & 1775 &  506 &   6 &  272 &  125 & 194 & N & E &  186 & 290 & 17 & 6.309918 & N\\\\\n",
       "\t-Wade Boggs & 580 & 207 &  8 & 107 &  71 & 105 &  5 & 2778 &  978 &  32 &  474 &  322 & 417 & A & E &  121 & 267 & 19 & 7.377759 & A\\\\\n",
       "\t-Will Clark & 408 & 117 & 11 &  66 &  41 &  34 &  1 &  408 &  117 &  11 &   66 &   41 &  34 & N & W &  942 &  72 & 11 & 4.787492 & N\\\\\n",
       "\t-Wally Joyner & 593 & 172 & 22 &  82 & 100 &  57 &  1 &  593 &  172 &  22 &   82 &  100 &  57 & A & W & 1222 & 139 & 15 & 5.105945 & A\\\\\n",
       "\t-Willie McGee & 497 & 127 &  7 &  65 &  48 &  37 &  5 & 2703 &  806 &  32 &  379 &  311 & 138 & N & E &  325 &   9 &  3 & 6.551080 & N\\\\\n",
       "\t-Willie Randolph & 492 & 136 &  5 &  76 &  50 &  94 & 12 & 5511 & 1511 &  39 &  897 &  451 & 875 & A & E &  313 & 381 & 20 & 6.774224 & A\\\\\n",
       "\t-Wayne Tolleson & 475 & 126 &  3 &  61 &  43 &  52 &  6 & 1700 &  433 &   7 &  217 &   93 & 146 & A & W &   37 & 113 &  7 & 5.953243 & A\\\\\n",
       "\t-Willie Upshaw & 573 & 144 &  9 &  85 &  60 &  78 &  8 & 3198 &  857 &  97 &  470 &  420 & 332 & A & E & 1314 & 131 & 12 & 6.866933 & A\\\\\n",
       "\t-Willie Wilson & 631 & 170 &  9 &  77 &  44 &  31 & 11 & 4908 & 1457 &  30 &  775 &  357 & 249 & A & W &  408 &   4 &  3 & 6.907755 & A\\\\\n",
       "\\end{tabular}\n"
      ],
      "text/markdown": [
       "\n",
       "A data.frame: 63 × 20\n",
       "\n",
       "| <!--/--> | AtBat &lt;int&gt; | Hits &lt;int&gt; | HmRun &lt;int&gt; | Runs &lt;int&gt; | RBI &lt;int&gt; | Walks &lt;int&gt; | Years &lt;int&gt; | CAtBat &lt;int&gt; | CHits &lt;int&gt; | CHmRun &lt;int&gt; | CRuns &lt;int&gt; | CRBI &lt;int&gt; | CWalks &lt;int&gt; | League &lt;fct&gt; | Division &lt;fct&gt; | PutOuts &lt;int&gt; | Assists &lt;int&gt; | Errors &lt;int&gt; | Salary &lt;dbl&gt; | NewLeague &lt;fct&gt; |\n",
       "|---|---|---|---|---|---|---|---|---|---|---|---|---|---|---|---|---|---|---|---|---|\n",
       "| -Reggie Jackson | 419 | 101 | 18 | 65 | 58 | 92 | 20 | 9528 | 2510 | 548 | 1509 | 1659 | 1342 | A | W |    0 |   0 |  0 | 6.189290 | A |\n",
       "| -Ron Kittle | 376 |  82 | 21 | 42 | 60 | 35 |  5 | 1770 |  408 | 115 |  238 |  299 |  157 | A | W |    0 |   0 |  0 | 6.052089 | A |\n",
       "| -Ray Knight | 486 | 145 | 11 | 51 | 76 | 40 | 11 | 3967 | 1102 |  67 |  410 |  497 |  284 | N | E |   88 | 204 | 16 | 6.214608 | A |\n",
       "| -Rick Leach | 246 |  76 |  5 | 35 | 39 | 13 |  6 |  912 |  234 |  12 |  102 |   96 |   80 | A | E |   44 |   0 |  1 | 5.521461 | A |\n",
       "| -Rick Manning | 205 |  52 |  8 | 31 | 27 | 17 | 12 | 5134 | 1323 |  56 |  643 |  445 |  459 | A | E |  155 |   3 |  2 | 5.991465 | A |\n",
       "| -Rance Mulliniks | 348 |  90 | 11 | 50 | 45 | 43 | 10 | 2288 |  614 |  43 |  295 |  273 |  269 | A | E |   60 | 176 |  6 | 6.109248 | A |\n",
       "| -Ron Oester | 523 | 135 |  8 | 52 | 44 | 52 |  9 | 3368 |  895 |  39 |  377 |  284 |  296 | N | W |  367 | 475 | 19 | 6.620073 | N |\n",
       "| -Rey Quinones | 312 |  68 |  2 | 32 | 22 | 24 |  1 |  312 |   68 |   2 |   32 |   22 |   24 | A | E |   86 | 150 | 15 | 4.248495 | A |\n",
       "| -Rafael Ramirez | 496 | 119 |  8 | 57 | 33 | 21 |  7 | 3358 |  882 |  36 |  365 |  280 |  165 | N | W |  155 | 371 | 29 | 6.774224 | N |\n",
       "| -Ronn Reynolds | 126 |  27 |  3 |  8 | 10 |  5 |  4 |  239 |   49 |   3 |   16 |   13 |   14 | N | E |  190 |   2 |  9 | 5.247024 | N |\n",
       "| -Ron Roenicke | 275 |  68 |  5 | 42 | 42 | 61 |  6 |  961 |  238 |  16 |  128 |  104 |  172 | N | E |  181 |   3 |  2 | 5.252273 | N |\n",
       "| -Ryne Sandberg | 627 | 178 | 14 | 68 | 76 | 46 |  6 | 3146 |  902 |  74 |  494 |  345 |  242 | N | E |  309 | 492 |  5 | 6.606650 | N |\n",
       "| -Rafael Santana | 394 |  86 |  1 | 38 | 28 | 36 |  4 | 1089 |  267 |   3 |   94 |   71 |   76 | N | E |  203 | 369 | 16 | 5.521461 | N |\n",
       "| -Rick Schu | 208 |  57 |  8 | 32 | 25 | 18 |  3 |  653 |  170 |  17 |   98 |   54 |   62 | N | E |   42 |  94 | 13 | 4.941642 | N |\n",
       "| -Ruben Sierra | 382 | 101 | 16 | 50 | 55 | 22 |  1 |  382 |  101 |  16 |   50 |   55 |   22 | A | W |  200 |   7 |  6 | 4.579852 | A |\n",
       "| -Roy Smalley | 459 | 113 | 20 | 59 | 57 | 68 | 12 | 5348 | 1369 | 155 |  713 |  660 |  735 | A | W |    0 |   0 |  0 | 6.606650 | A |\n",
       "| -Robby Thompson | 549 | 149 |  7 | 73 | 47 | 42 |  1 |  549 |  149 |   7 |   73 |   47 |   42 | N | W |  255 | 450 | 17 | 4.941642 | N |\n",
       "| -Rob Wilfong | 288 |  63 |  3 | 25 | 33 | 16 | 10 | 2682 |  667 |  38 |  315 |  259 |  204 | A | W |  135 | 257 |  7 | 5.833837 | A |\n",
       "| -Robin Yount | 522 | 163 |  9 | 82 | 46 | 62 | 13 | 7037 | 2019 | 153 | 1043 |  827 |  535 | A | E |  352 |   9 |  1 | 6.907755 | A |\n",
       "| -Steve Balboni | 512 | 117 | 29 | 54 | 88 | 43 |  6 | 1750 |  412 | 100 |  204 |  276 |  155 | A | W | 1236 |  98 | 18 | 4.605170 | A |\n",
       "| -Scott Bradley | 220 |  66 |  5 | 20 | 28 | 13 |  3 |  290 |   80 |   5 |   27 |   31 |   15 | A | W |  281 |  21 |  3 | 4.499810 | A |\n",
       "| -Sid Bream | 522 | 140 | 16 | 73 | 77 | 60 |  4 |  730 |  185 |  22 |   93 |  106 |   86 | N | E | 1320 | 166 | 17 | 5.298317 | N |\n",
       "| -Steve Buechele | 461 | 112 | 18 | 54 | 54 | 35 |  2 |  680 |  160 |  24 |   76 |   75 |   49 | A | W |  111 | 226 | 11 | 4.905275 | A |\n",
       "| -Shawon Dunston | 581 | 145 | 17 | 66 | 68 | 21 |  2 |  831 |  210 |  21 |  106 |   86 |   40 | N | E |  320 | 465 | 32 | 5.043425 | N |\n",
       "| -Scott Fletcher | 530 | 159 |  3 | 82 | 50 | 47 |  6 | 1619 |  426 |  11 |  218 |  149 |  163 | A | W |  196 | 354 | 15 | 6.163315 | A |\n",
       "| -Steve Garvey | 557 | 142 | 21 | 58 | 81 | 23 | 18 | 8759 | 2583 | 271 | 1138 | 1299 |  478 | N | W | 1160 |  53 |  7 | 7.279319 | N |\n",
       "| -Steve Jeltz | 439 |  96 |  0 | 44 | 36 | 65 |  4 |  711 |  148 |   1 |   68 |   56 |   99 | N | E |  229 | 406 | 22 | 5.010635 | N |\n",
       "| -Steve Lombardozzi | 453 | 103 |  8 | 53 | 33 | 52 |  2 |  507 |  123 |   8 |   63 |   39 |   58 | A | W |  289 | 407 |  6 | 4.653960 | A |\n",
       "| -Spike Owen | 528 | 122 |  1 | 67 | 45 | 51 |  4 | 1716 |  403 |  12 |  211 |  146 |  155 | A | W |  209 | 372 | 17 | 5.857933 | A |\n",
       "| -Steve Sax | 633 | 210 |  6 | 91 | 56 | 59 |  6 | 3070 |  872 |  19 |  420 |  230 |  274 | N | W |  367 | 432 | 16 | 4.499810 | N |\n",
       "| ⋮ | ⋮ | ⋮ | ⋮ | ⋮ | ⋮ | ⋮ | ⋮ | ⋮ | ⋮ | ⋮ | ⋮ | ⋮ | ⋮ | ⋮ | ⋮ | ⋮ | ⋮ | ⋮ | ⋮ | ⋮ |\n",
       "| -Tony Fernandez | 687 | 213 | 10 |  91 |  65 |  27 |  4 | 1518 |  448 |  15 |  196 |  137 |  89 | A | E |  294 | 445 | 13 | 5.857933 | A |\n",
       "| -Tim Flannery | 368 | 103 |  3 |  48 |  28 |  54 |  8 | 1897 |  493 |   9 |  207 |  162 | 198 | N | W |  209 | 246 |  3 | 5.788941 | N |\n",
       "| -Tom Foley | 263 |  70 |  1 |  26 |  23 |  30 |  4 |  888 |  220 |   9 |   83 |   82 |  86 | N | E |   81 | 147 |  4 | 5.521461 | N |\n",
       "| -Tony Gwynn | 642 | 211 | 14 | 107 |  59 |  52 |  5 | 2364 |  770 |  27 |  352 |  230 | 193 | N | W |  337 |  19 |  4 | 6.606650 | N |\n",
       "| -Terry Harper | 265 |  68 |  8 |  26 |  30 |  29 |  7 | 1337 |  339 |  32 |  135 |  163 | 128 | N | W |   92 |   5 |  3 | 6.052089 | A |\n",
       "| -Tommy Herr | 559 | 141 |  2 |  48 |  61 |  73 |  8 | 3162 |  874 |  16 |  421 |  349 | 359 | N | E |  352 | 414 |  9 | 6.829794 | N |\n",
       "| -Tim Hulett | 520 | 120 | 17 |  53 |  44 |  21 |  4 |  927 |  227 |  22 |  106 |   80 |  52 | A | W |   70 | 144 | 11 | 5.220356 | A |\n",
       "| -Terry Kennedy |  19 |   4 |  1 |   2 |   3 |   1 |  1 |   19 |    4 |   1 |    2 |    3 |   1 | N | W |  692 |  70 |  8 | 6.824374 | A |\n",
       "| -Tito Landrum | 205 |  43 |  2 |  24 |  17 |  20 |  7 |  854 |  219 |  12 |  105 |   99 |  71 | N | E |  131 |   6 |  1 | 5.658321 | N |\n",
       "| -Tim Laudner | 193 |  47 | 10 |  21 |  29 |  24 |  6 | 1136 |  256 |  42 |  129 |  139 | 106 | A | W |  299 |  13 |  5 | 5.501258 | A |\n",
       "| -Tom Paciorek | 213 |  61 |  4 |  17 |  22 |   3 | 17 | 4061 | 1145 |  83 |  488 |  491 | 244 | A | W |  178 |  45 |  4 | 5.459586 | A |\n",
       "| -Tony Pena | 510 | 147 | 10 |  56 |  52 |  53 |  7 | 2872 |  821 |  63 |  307 |  340 | 174 | N | E |  810 |  99 | 18 | 7.047517 | N |\n",
       "| -Terry Pendleton | 578 | 138 |  1 |  56 |  59 |  34 |  3 | 1399 |  357 |   7 |  149 |  161 |  87 | N | E |  133 | 371 | 20 | 5.075174 | N |\n",
       "| -Tony Phillips | 441 | 113 |  5 |  76 |  52 |  76 |  5 | 1546 |  397 |  17 |  226 |  149 | 191 | A | W |  160 | 290 | 11 | 6.052089 | A |\n",
       "| -Terry Puhl | 172 |  42 |  3 |  17 |  14 |  15 | 10 | 4086 | 1150 |  57 |  579 |  363 | 406 | N | W |   65 |   0 |  0 | 6.802395 | N |\n",
       "| -Ted Simmons | 127 |  32 |  4 |  14 |  25 |  12 | 19 | 8396 | 2402 | 242 | 1048 | 1348 | 819 | N | W |  167 |  18 |  6 | 6.214608 | N |\n",
       "| -Tim Teufel | 279 |  69 |  4 |  35 |  31 |  32 |  4 | 1359 |  355 |  31 |  180 |  148 | 158 | N | E |  133 | 173 |  9 | 5.625821 | N |\n",
       "| -Tim Wallach | 480 | 112 | 18 |  50 |  71 |  44 |  7 | 3031 |  771 | 110 |  338 |  406 | 239 | N | E |   94 | 270 | 16 | 6.620073 | N |\n",
       "| -Vince Coleman | 600 | 139 |  0 |  94 |  29 |  60 |  2 | 1236 |  309 |   1 |  201 |   69 | 110 | N | E |  300 |  12 |  9 | 5.075174 | N |\n",
       "| -Von Hayes | 610 | 186 | 19 | 107 |  98 |  74 |  6 | 2728 |  753 |  69 |  399 |  366 | 286 | N | E | 1182 |  96 | 13 | 7.170120 | N |\n",
       "| -Vance Law | 360 |  81 |  5 |  37 |  44 |  37 |  7 | 2268 |  566 |  41 |  279 |  257 | 246 | N | E |  170 | 284 |  3 | 6.263398 | N |\n",
       "| -Wally Backman | 387 | 124 |  1 |  67 |  27 |  36 |  7 | 1775 |  506 |   6 |  272 |  125 | 194 | N | E |  186 | 290 | 17 | 6.309918 | N |\n",
       "| -Wade Boggs | 580 | 207 |  8 | 107 |  71 | 105 |  5 | 2778 |  978 |  32 |  474 |  322 | 417 | A | E |  121 | 267 | 19 | 7.377759 | A |\n",
       "| -Will Clark | 408 | 117 | 11 |  66 |  41 |  34 |  1 |  408 |  117 |  11 |   66 |   41 |  34 | N | W |  942 |  72 | 11 | 4.787492 | N |\n",
       "| -Wally Joyner | 593 | 172 | 22 |  82 | 100 |  57 |  1 |  593 |  172 |  22 |   82 |  100 |  57 | A | W | 1222 | 139 | 15 | 5.105945 | A |\n",
       "| -Willie McGee | 497 | 127 |  7 |  65 |  48 |  37 |  5 | 2703 |  806 |  32 |  379 |  311 | 138 | N | E |  325 |   9 |  3 | 6.551080 | N |\n",
       "| -Willie Randolph | 492 | 136 |  5 |  76 |  50 |  94 | 12 | 5511 | 1511 |  39 |  897 |  451 | 875 | A | E |  313 | 381 | 20 | 6.774224 | A |\n",
       "| -Wayne Tolleson | 475 | 126 |  3 |  61 |  43 |  52 |  6 | 1700 |  433 |   7 |  217 |   93 | 146 | A | W |   37 | 113 |  7 | 5.953243 | A |\n",
       "| -Willie Upshaw | 573 | 144 |  9 |  85 |  60 |  78 |  8 | 3198 |  857 |  97 |  470 |  420 | 332 | A | E | 1314 | 131 | 12 | 6.866933 | A |\n",
       "| -Willie Wilson | 631 | 170 |  9 |  77 |  44 |  31 | 11 | 4908 | 1457 |  30 |  775 |  357 | 249 | A | W |  408 |   4 |  3 | 6.907755 | A |\n",
       "\n"
      ],
      "text/plain": [
       "                   AtBat Hits HmRun Runs RBI Walks Years CAtBat CHits CHmRun\n",
       "-Reggie Jackson    419   101  18    65   58  92    20    9528   2510  548   \n",
       "-Ron Kittle        376    82  21    42   60  35     5    1770    408  115   \n",
       "-Ray Knight        486   145  11    51   76  40    11    3967   1102   67   \n",
       "-Rick Leach        246    76   5    35   39  13     6     912    234   12   \n",
       "-Rick Manning      205    52   8    31   27  17    12    5134   1323   56   \n",
       "-Rance Mulliniks   348    90  11    50   45  43    10    2288    614   43   \n",
       "-Ron Oester        523   135   8    52   44  52     9    3368    895   39   \n",
       "-Rey Quinones      312    68   2    32   22  24     1     312     68    2   \n",
       "-Rafael Ramirez    496   119   8    57   33  21     7    3358    882   36   \n",
       "-Ronn Reynolds     126    27   3     8   10   5     4     239     49    3   \n",
       "-Ron Roenicke      275    68   5    42   42  61     6     961    238   16   \n",
       "-Ryne Sandberg     627   178  14    68   76  46     6    3146    902   74   \n",
       "-Rafael Santana    394    86   1    38   28  36     4    1089    267    3   \n",
       "-Rick Schu         208    57   8    32   25  18     3     653    170   17   \n",
       "-Ruben Sierra      382   101  16    50   55  22     1     382    101   16   \n",
       "-Roy Smalley       459   113  20    59   57  68    12    5348   1369  155   \n",
       "-Robby Thompson    549   149   7    73   47  42     1     549    149    7   \n",
       "-Rob Wilfong       288    63   3    25   33  16    10    2682    667   38   \n",
       "-Robin Yount       522   163   9    82   46  62    13    7037   2019  153   \n",
       "-Steve Balboni     512   117  29    54   88  43     6    1750    412  100   \n",
       "-Scott Bradley     220    66   5    20   28  13     3     290     80    5   \n",
       "-Sid Bream         522   140  16    73   77  60     4     730    185   22   \n",
       "-Steve Buechele    461   112  18    54   54  35     2     680    160   24   \n",
       "-Shawon Dunston    581   145  17    66   68  21     2     831    210   21   \n",
       "-Scott Fletcher    530   159   3    82   50  47     6    1619    426   11   \n",
       "-Steve Garvey      557   142  21    58   81  23    18    8759   2583  271   \n",
       "-Steve Jeltz       439    96   0    44   36  65     4     711    148    1   \n",
       "-Steve Lombardozzi 453   103   8    53   33  52     2     507    123    8   \n",
       "-Spike Owen        528   122   1    67   45  51     4    1716    403   12   \n",
       "-Steve Sax         633   210   6    91   56  59     6    3070    872   19   \n",
       "<U+22EE>                  <U+22EE> <U+22EE> <U+22EE> <U+22EE> <U+22EE> <U+22EE> <U+22EE> <U+22EE> <U+22EE> <U+22EE>\n",
       "-Tony Fernandez    687   213  10     91   65  27    4    1518    448   15   \n",
       "-Tim Flannery      368   103   3     48   28  54    8    1897    493    9   \n",
       "-Tom Foley         263    70   1     26   23  30    4     888    220    9   \n",
       "-Tony Gwynn        642   211  14    107   59  52    5    2364    770   27   \n",
       "-Terry Harper      265    68   8     26   30  29    7    1337    339   32   \n",
       "-Tommy Herr        559   141   2     48   61  73    8    3162    874   16   \n",
       "-Tim Hulett        520   120  17     53   44  21    4     927    227   22   \n",
       "-Terry Kennedy      19     4   1      2    3   1    1      19      4    1   \n",
       "-Tito Landrum      205    43   2     24   17  20    7     854    219   12   \n",
       "-Tim Laudner       193    47  10     21   29  24    6    1136    256   42   \n",
       "-Tom Paciorek      213    61   4     17   22   3   17    4061   1145   83   \n",
       "-Tony Pena         510   147  10     56   52  53    7    2872    821   63   \n",
       "-Terry Pendleton   578   138   1     56   59  34    3    1399    357    7   \n",
       "-Tony Phillips     441   113   5     76   52  76    5    1546    397   17   \n",
       "-Terry Puhl        172    42   3     17   14  15   10    4086   1150   57   \n",
       "-Ted Simmons       127    32   4     14   25  12   19    8396   2402  242   \n",
       "-Tim Teufel        279    69   4     35   31  32    4    1359    355   31   \n",
       "-Tim Wallach       480   112  18     50   71  44    7    3031    771  110   \n",
       "-Vince Coleman     600   139   0     94   29  60    2    1236    309    1   \n",
       "-Von Hayes         610   186  19    107   98  74    6    2728    753   69   \n",
       "-Vance Law         360    81   5     37   44  37    7    2268    566   41   \n",
       "-Wally Backman     387   124   1     67   27  36    7    1775    506    6   \n",
       "-Wade Boggs        580   207   8    107   71 105    5    2778    978   32   \n",
       "-Will Clark        408   117  11     66   41  34    1     408    117   11   \n",
       "-Wally Joyner      593   172  22     82  100  57    1     593    172   22   \n",
       "-Willie McGee      497   127   7     65   48  37    5    2703    806   32   \n",
       "-Willie Randolph   492   136   5     76   50  94   12    5511   1511   39   \n",
       "-Wayne Tolleson    475   126   3     61   43  52    6    1700    433    7   \n",
       "-Willie Upshaw     573   144   9     85   60  78    8    3198    857   97   \n",
       "-Willie Wilson     631   170   9     77   44  31   11    4908   1457   30   \n",
       "                   CRuns CRBI CWalks League Division PutOuts Assists Errors\n",
       "-Reggie Jackson    1509  1659 1342   A      W           0      0      0    \n",
       "-Ron Kittle         238   299  157   A      W           0      0      0    \n",
       "-Ray Knight         410   497  284   N      E          88    204     16    \n",
       "-Rick Leach         102    96   80   A      E          44      0      1    \n",
       "-Rick Manning       643   445  459   A      E         155      3      2    \n",
       "-Rance Mulliniks    295   273  269   A      E          60    176      6    \n",
       "-Ron Oester         377   284  296   N      W         367    475     19    \n",
       "-Rey Quinones        32    22   24   A      E          86    150     15    \n",
       "-Rafael Ramirez     365   280  165   N      W         155    371     29    \n",
       "-Ronn Reynolds       16    13   14   N      E         190      2      9    \n",
       "-Ron Roenicke       128   104  172   N      E         181      3      2    \n",
       "-Ryne Sandberg      494   345  242   N      E         309    492      5    \n",
       "-Rafael Santana      94    71   76   N      E         203    369     16    \n",
       "-Rick Schu           98    54   62   N      E          42     94     13    \n",
       "-Ruben Sierra        50    55   22   A      W         200      7      6    \n",
       "-Roy Smalley        713   660  735   A      W           0      0      0    \n",
       "-Robby Thompson      73    47   42   N      W         255    450     17    \n",
       "-Rob Wilfong        315   259  204   A      W         135    257      7    \n",
       "-Robin Yount       1043   827  535   A      E         352      9      1    \n",
       "-Steve Balboni      204   276  155   A      W        1236     98     18    \n",
       "-Scott Bradley       27    31   15   A      W         281     21      3    \n",
       "-Sid Bream           93   106   86   N      E        1320    166     17    \n",
       "-Steve Buechele      76    75   49   A      W         111    226     11    \n",
       "-Shawon Dunston     106    86   40   N      E         320    465     32    \n",
       "-Scott Fletcher     218   149  163   A      W         196    354     15    \n",
       "-Steve Garvey      1138  1299  478   N      W        1160     53      7    \n",
       "-Steve Jeltz         68    56   99   N      E         229    406     22    \n",
       "-Steve Lombardozzi   63    39   58   A      W         289    407      6    \n",
       "-Spike Owen         211   146  155   A      W         209    372     17    \n",
       "-Steve Sax          420   230  274   N      W         367    432     16    \n",
       "<U+22EE>                  <U+22EE> <U+22EE> <U+22EE> <U+22EE> <U+22EE> <U+22EE> <U+22EE> <U+22EE>\n",
       "-Tony Fernandez     196   137  89    A      E         294    445     13    \n",
       "-Tim Flannery       207   162 198    N      W         209    246      3    \n",
       "-Tom Foley           83    82  86    N      E          81    147      4    \n",
       "-Tony Gwynn         352   230 193    N      W         337     19      4    \n",
       "-Terry Harper       135   163 128    N      W          92      5      3    \n",
       "-Tommy Herr         421   349 359    N      E         352    414      9    \n",
       "-Tim Hulett         106    80  52    A      W          70    144     11    \n",
       "-Terry Kennedy        2     3   1    N      W         692     70      8    \n",
       "-Tito Landrum       105    99  71    N      E         131      6      1    \n",
       "-Tim Laudner        129   139 106    A      W         299     13      5    \n",
       "-Tom Paciorek       488   491 244    A      W         178     45      4    \n",
       "-Tony Pena          307   340 174    N      E         810     99     18    \n",
       "-Terry Pendleton    149   161  87    N      E         133    371     20    \n",
       "-Tony Phillips      226   149 191    A      W         160    290     11    \n",
       "-Terry Puhl         579   363 406    N      W          65      0      0    \n",
       "-Ted Simmons       1048  1348 819    N      W         167     18      6    \n",
       "-Tim Teufel         180   148 158    N      E         133    173      9    \n",
       "-Tim Wallach        338   406 239    N      E          94    270     16    \n",
       "-Vince Coleman      201    69 110    N      E         300     12      9    \n",
       "-Von Hayes          399   366 286    N      E        1182     96     13    \n",
       "-Vance Law          279   257 246    N      E         170    284      3    \n",
       "-Wally Backman      272   125 194    N      E         186    290     17    \n",
       "-Wade Boggs         474   322 417    A      E         121    267     19    \n",
       "-Will Clark          66    41  34    N      W         942     72     11    \n",
       "-Wally Joyner        82   100  57    A      W        1222    139     15    \n",
       "-Willie McGee       379   311 138    N      E         325      9      3    \n",
       "-Willie Randolph    897   451 875    A      E         313    381     20    \n",
       "-Wayne Tolleson     217    93 146    A      W          37    113      7    \n",
       "-Willie Upshaw      470   420 332    A      E        1314    131     12    \n",
       "-Willie Wilson      775   357 249    A      W         408      4      3    \n",
       "                   Salary   NewLeague\n",
       "-Reggie Jackson    6.189290 A        \n",
       "-Ron Kittle        6.052089 A        \n",
       "-Ray Knight        6.214608 A        \n",
       "-Rick Leach        5.521461 A        \n",
       "-Rick Manning      5.991465 A        \n",
       "-Rance Mulliniks   6.109248 A        \n",
       "-Ron Oester        6.620073 N        \n",
       "-Rey Quinones      4.248495 A        \n",
       "-Rafael Ramirez    6.774224 N        \n",
       "-Ronn Reynolds     5.247024 N        \n",
       "-Ron Roenicke      5.252273 N        \n",
       "-Ryne Sandberg     6.606650 N        \n",
       "-Rafael Santana    5.521461 N        \n",
       "-Rick Schu         4.941642 N        \n",
       "-Ruben Sierra      4.579852 A        \n",
       "-Roy Smalley       6.606650 A        \n",
       "-Robby Thompson    4.941642 N        \n",
       "-Rob Wilfong       5.833837 A        \n",
       "-Robin Yount       6.907755 A        \n",
       "-Steve Balboni     4.605170 A        \n",
       "-Scott Bradley     4.499810 A        \n",
       "-Sid Bream         5.298317 N        \n",
       "-Steve Buechele    4.905275 A        \n",
       "-Shawon Dunston    5.043425 N        \n",
       "-Scott Fletcher    6.163315 A        \n",
       "-Steve Garvey      7.279319 N        \n",
       "-Steve Jeltz       5.010635 N        \n",
       "-Steve Lombardozzi 4.653960 A        \n",
       "-Spike Owen        5.857933 A        \n",
       "-Steve Sax         4.499810 N        \n",
       "<U+22EE>                  <U+22EE> <U+22EE> \n",
       "-Tony Fernandez    5.857933 A        \n",
       "-Tim Flannery      5.788941 N        \n",
       "-Tom Foley         5.521461 N        \n",
       "-Tony Gwynn        6.606650 N        \n",
       "-Terry Harper      6.052089 A        \n",
       "-Tommy Herr        6.829794 N        \n",
       "-Tim Hulett        5.220356 A        \n",
       "-Terry Kennedy     6.824374 A        \n",
       "-Tito Landrum      5.658321 N        \n",
       "-Tim Laudner       5.501258 A        \n",
       "-Tom Paciorek      5.459586 A        \n",
       "-Tony Pena         7.047517 N        \n",
       "-Terry Pendleton   5.075174 N        \n",
       "-Tony Phillips     6.052089 A        \n",
       "-Terry Puhl        6.802395 N        \n",
       "-Ted Simmons       6.214608 N        \n",
       "-Tim Teufel        5.625821 N        \n",
       "-Tim Wallach       6.620073 N        \n",
       "-Vince Coleman     5.075174 N        \n",
       "-Von Hayes         7.170120 N        \n",
       "-Vance Law         6.263398 N        \n",
       "-Wally Backman     6.309918 N        \n",
       "-Wade Boggs        7.377759 A        \n",
       "-Will Clark        4.787492 N        \n",
       "-Wally Joyner      5.105945 A        \n",
       "-Willie McGee      6.551080 N        \n",
       "-Willie Randolph   6.774224 A        \n",
       "-Wayne Tolleson    5.953243 A        \n",
       "-Willie Upshaw     6.866933 A        \n",
       "-Willie Wilson     6.907755 A        "
      ]
     },
     "metadata": {},
     "output_type": "display_data"
    }
   ],
   "source": [
    "Hitters.test"
   ]
  },
  {
   "cell_type": "code",
   "execution_count": null,
   "id": "4e599f60",
   "metadata": {},
   "outputs": [],
   "source": [
    "# C"
   ]
  },
  {
   "cell_type": "code",
   "execution_count": 66,
   "id": "76355525",
   "metadata": {},
   "outputs": [
    {
     "name": "stderr",
     "output_type": "stream",
     "text": [
      "Warning message:\n",
      "\"package 'gbm' is in use and will not be installed\"\n"
     ]
    },
    {
     "data": {
      "image/png": "[encoded data removed]",
      "text/plain": [
       "plot without title"
      ]
     },
     "metadata": {
      "image/png": {
       "height": 420,
       "width": 420
      }
     },
     "output_type": "display_data"
    }
   ],
   "source": [
    "install.packages(\"gbm\")\n",
    "library(gbm)\n",
    "set.seed(103)\n",
    "pows = seq(-10, -0.2, by = 0.1)\n",
    "lambdas = 10^pows\n",
    "length.lambdas = length(lambdas)\n",
    "train.errors = rep(NA, length.lambdas)\n",
    "test.errors = rep(NA, length.lambdas)\n",
    "for (i in 1:length.lambdas) {\n",
    "    boost.hitters = gbm(Salary ~ ., data = Hitters.train, distribution = \"gaussian\", \n",
    "        n.trees = 1000, shrinkage = lambdas[i])\n",
    "    train.pred = predict(boost.hitters, Hitters.train, n.trees = 1000)\n",
    "    test.pred = predict(boost.hitters, Hitters.test, n.trees = 1000)\n",
    "    train.errors[i] = mean((Hitters.train$Salary - train.pred)^2)\n",
    "    test.errors[i] = mean((Hitters.test$Salary - test.pred)^2)\n",
    "}\n",
    "\n",
    "plot(lambdas, train.errors, type = \"b\", xlab = \"Shrinkage\", ylab = \"Train MSE\", \n",
    "    col = \"blue\", pch = 20)"
   ]
  },
  {
   "cell_type": "code",
   "execution_count": null,
   "id": "91fc0d07",
   "metadata": {},
   "outputs": [],
   "source": [
    "# D"
   ]
  },
  {
   "cell_type": "code",
   "execution_count": 67,
   "id": "496388cc",
   "metadata": {},
   "outputs": [
    {
     "data": {
      "image/png": "[encoded data removed]",
      "text/plain": [
       "plot without title"
      ]
     },
     "metadata": {
      "image/png": {
       "height": 420,
       "width": 420
      }
     },
     "output_type": "display_data"
    }
   ],
   "source": [
    "plot(lambdas, test.errors, type = \"b\", xlab = \"Shrinkage\", ylab = \"Test MSE\", \n",
    "    col = \"red\", pch = 20)"
   ]
  },
  {
   "cell_type": "code",
   "execution_count": null,
   "id": "60e75568",
   "metadata": {},
   "outputs": [],
   "source": [
    "# E"
   ]
  },
  {
   "cell_type": "code",
   "execution_count": 68,
   "id": "285ec774",
   "metadata": {},
   "outputs": [
    {
     "data": {
      "text/html": [
       "0.491795937545494"
      ],
      "text/latex": [
       "0.491795937545494"
      ],
      "text/markdown": [
       "0.491795937545494"
      ],
      "text/plain": [
       "[1] 0.4917959"
      ]
     },
     "metadata": {},
     "output_type": "display_data"
    }
   ],
   "source": [
    "lm.fit = lm(Salary ~ ., data = Hitters.train)\n",
    "lm.pred = predict(lm.fit, Hitters.test)\n",
    "mean((Hitters.test$Salary - lm.pred)^2)"
   ]
  },
  {
   "cell_type": "code",
   "execution_count": null,
   "id": "501b673f",
   "metadata": {},
   "outputs": [],
   "source": [
    "# F"
   ]
  },
  {
   "cell_type": "code",
   "execution_count": 69,
   "id": "481085ae",
   "metadata": {},
   "outputs": [
    {
     "data": {
      "text/html": [
       "<table class=\"dataframe\">\n",
       "<caption>A data.frame: 19 × 2</caption>\n",
       "<thead>\n",
       "\t<tr><th></th><th scope=col>var</th><th scope=col>rel.inf</th></tr>\n",
       "\t<tr><th></th><th scope=col>&lt;chr&gt;</th><th scope=col>&lt;dbl&gt;</th></tr>\n",
       "</thead>\n",
       "<tbody>\n",
       "\t<tr><th scope=row>CAtBat</th><td>CAtBat   </td><td>22.4725600</td></tr>\n",
       "\t<tr><th scope=row>CRBI</th><td>CRBI     </td><td> 9.4228158</td></tr>\n",
       "\t<tr><th scope=row>CWalks</th><td>CWalks   </td><td> 8.0438716</td></tr>\n",
       "\t<tr><th scope=row>PutOuts</th><td>PutOuts  </td><td> 7.2699327</td></tr>\n",
       "\t<tr><th scope=row>CRuns</th><td>CRuns    </td><td> 6.9200701</td></tr>\n",
       "\t<tr><th scope=row>Years</th><td>Years    </td><td> 6.8842314</td></tr>\n",
       "\t<tr><th scope=row>Walks</th><td>Walks    </td><td> 6.5726615</td></tr>\n",
       "\t<tr><th scope=row>CHits</th><td>CHits    </td><td> 4.3379630</td></tr>\n",
       "\t<tr><th scope=row>CHmRun</th><td>CHmRun   </td><td> 4.0828590</td></tr>\n",
       "\t<tr><th scope=row>Hits</th><td>Hits     </td><td> 3.9128992</td></tr>\n",
       "\t<tr><th scope=row>Assists</th><td>Assists  </td><td> 3.8006018</td></tr>\n",
       "\t<tr><th scope=row>RBI</th><td>RBI      </td><td> 3.4245704</td></tr>\n",
       "\t<tr><th scope=row>Runs</th><td>Runs     </td><td> 3.3058025</td></tr>\n",
       "\t<tr><th scope=row>AtBat</th><td>AtBat    </td><td> 3.0756858</td></tr>\n",
       "\t<tr><th scope=row>HmRun</th><td>HmRun    </td><td> 2.7226182</td></tr>\n",
       "\t<tr><th scope=row>Errors</th><td>Errors   </td><td> 2.4843099</td></tr>\n",
       "\t<tr><th scope=row>NewLeague</th><td>NewLeague</td><td> 0.7230633</td></tr>\n",
       "\t<tr><th scope=row>Division</th><td>Division </td><td> 0.5434839</td></tr>\n",
       "\t<tr><th scope=row>League</th><td>League   </td><td> 0.0000000</td></tr>\n",
       "</tbody>\n",
       "</table>\n"
      ],
      "text/latex": [
       "A data.frame: 19 × 2\n",
       "\\begin{tabular}{r|ll}\n",
       "  & var & rel.inf\\\\\n",
       "  & <chr> & <dbl>\\\\\n",
       "\\hline\n",
       "\tCAtBat & CAtBat    & 22.4725600\\\\\n",
       "\tCRBI & CRBI      &  9.4228158\\\\\n",
       "\tCWalks & CWalks    &  8.0438716\\\\\n",
       "\tPutOuts & PutOuts   &  7.2699327\\\\\n",
       "\tCRuns & CRuns     &  6.9200701\\\\\n",
       "\tYears & Years     &  6.8842314\\\\\n",
       "\tWalks & Walks     &  6.5726615\\\\\n",
       "\tCHits & CHits     &  4.3379630\\\\\n",
       "\tCHmRun & CHmRun    &  4.0828590\\\\\n",
       "\tHits & Hits      &  3.9128992\\\\\n",
       "\tAssists & Assists   &  3.8006018\\\\\n",
       "\tRBI & RBI       &  3.4245704\\\\\n",
       "\tRuns & Runs      &  3.3058025\\\\\n",
       "\tAtBat & AtBat     &  3.0756858\\\\\n",
       "\tHmRun & HmRun     &  2.7226182\\\\\n",
       "\tErrors & Errors    &  2.4843099\\\\\n",
       "\tNewLeague & NewLeague &  0.7230633\\\\\n",
       "\tDivision & Division  &  0.5434839\\\\\n",
       "\tLeague & League    &  0.0000000\\\\\n",
       "\\end{tabular}\n"
      ],
      "text/markdown": [
       "\n",
       "A data.frame: 19 × 2\n",
       "\n",
       "| <!--/--> | var &lt;chr&gt; | rel.inf &lt;dbl&gt; |\n",
       "|---|---|---|\n",
       "| CAtBat | CAtBat    | 22.4725600 |\n",
       "| CRBI | CRBI      |  9.4228158 |\n",
       "| CWalks | CWalks    |  8.0438716 |\n",
       "| PutOuts | PutOuts   |  7.2699327 |\n",
       "| CRuns | CRuns     |  6.9200701 |\n",
       "| Years | Years     |  6.8842314 |\n",
       "| Walks | Walks     |  6.5726615 |\n",
       "| CHits | CHits     |  4.3379630 |\n",
       "| CHmRun | CHmRun    |  4.0828590 |\n",
       "| Hits | Hits      |  3.9128992 |\n",
       "| Assists | Assists   |  3.8006018 |\n",
       "| RBI | RBI       |  3.4245704 |\n",
       "| Runs | Runs      |  3.3058025 |\n",
       "| AtBat | AtBat     |  3.0756858 |\n",
       "| HmRun | HmRun     |  2.7226182 |\n",
       "| Errors | Errors    |  2.4843099 |\n",
       "| NewLeague | NewLeague |  0.7230633 |\n",
       "| Division | Division  |  0.5434839 |\n",
       "| League | League    |  0.0000000 |\n",
       "\n"
      ],
      "text/plain": [
       "          var       rel.inf   \n",
       "CAtBat    CAtBat    22.4725600\n",
       "CRBI      CRBI       9.4228158\n",
       "CWalks    CWalks     8.0438716\n",
       "PutOuts   PutOuts    7.2699327\n",
       "CRuns     CRuns      6.9200701\n",
       "Years     Years      6.8842314\n",
       "Walks     Walks      6.5726615\n",
       "CHits     CHits      4.3379630\n",
       "CHmRun    CHmRun     4.0828590\n",
       "Hits      Hits       3.9128992\n",
       "Assists   Assists    3.8006018\n",
       "RBI       RBI        3.4245704\n",
       "Runs      Runs       3.3058025\n",
       "AtBat     AtBat      3.0756858\n",
       "HmRun     HmRun      2.7226182\n",
       "Errors    Errors     2.4843099\n",
       "NewLeague NewLeague  0.7230633\n",
       "Division  Division   0.5434839\n",
       "League    League     0.0000000"
      ]
     },
     "metadata": {},
     "output_type": "display_data"
    },
    {
     "data": {
      "image/png": "[encoded data removed]",
      "text/plain": [
       "plot without title"
      ]
     },
     "metadata": {
      "image/png": {
       "height": 420,
       "width": 420
      }
     },
     "output_type": "display_data"
    }
   ],
   "source": [
    "boost.best = gbm(Salary ~ ., data = Hitters.train, distribution = \"gaussian\", \n",
    "    n.trees = 1000, shrinkage = lambdas[which.min(test.errors)])\n",
    "summary(boost.best)\n",
    "# CAtBat, CRBI and CWalks are the most imporant ones "
   ]
  },
  {
   "cell_type": "code",
   "execution_count": null,
   "id": "e24a179a",
   "metadata": {},
   "outputs": [],
   "source": [
    "# G"
   ]
  },
  {
   "cell_type": "code",
   "execution_count": 70,
   "id": "824068b1",
   "metadata": {},
   "outputs": [
    {
     "data": {
      "text/html": [
       "0.230391897514157"
      ],
      "text/latex": [
       "0.230391897514157"
      ],
      "text/markdown": [
       "0.230391897514157"
      ],
      "text/plain": [
       "[1] 0.2303919"
      ]
     },
     "metadata": {},
     "output_type": "display_data"
    }
   ],
   "source": [
    "set.seed(21)\n",
    "rf.hitters = randomForest(Salary ~ ., data = Hitters.train, ntree = 500, mtry = 19)\n",
    "rf.pred = predict(rf.hitters, Hitters.test)\n",
    "mean((Hitters.test$Salary - rf.pred)^2)"
   ]
  }
 ],
 "metadata": {
  "kernelspec": {
   "display_name": "R",
   "language": "R",
   "name": "ir"
  },
  "language_info": {
   "codemirror_mode": "r",
   "file_extension": ".r",
   "mimetype": "text/x-r-source",
   "name": "R",
   "pygments_lexer": "r",
   "version": "4.0.5"
  }
 },
 "nbformat": 4,
 "nbformat_minor": 5
}
