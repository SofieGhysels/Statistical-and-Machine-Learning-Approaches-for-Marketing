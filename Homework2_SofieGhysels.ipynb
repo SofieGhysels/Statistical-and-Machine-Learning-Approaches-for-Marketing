{
 "cells": [
  {
   "cell_type": "code",
   "execution_count": 31,
   "id": "407d7aef",
   "metadata": {},
   "outputs": [],
   "source": [
    "# Homework 2 / Sofie Ghysels"
   ]
  },
  {
   "cell_type": "code",
   "execution_count": 32,
   "id": "b2f69de7",
   "metadata": {},
   "outputs": [],
   "source": [
    "# Exercise 6 (p.170, Chap.4)"
   ]
  },
  {
   "cell_type": "code",
   "execution_count": 33,
   "id": "ded27e80",
   "metadata": {},
   "outputs": [
    {
     "data": {
      "text/html": [
       "0.377540668798145"
      ],
      "text/latex": [
       "0.377540668798145"
      ],
      "text/markdown": [
       "0.377540668798145"
      ],
      "text/plain": [
       "[1] 0.3775407"
      ]
     },
     "metadata": {},
     "output_type": "display_data"
    }
   ],
   "source": [
    "# A\n",
    "(exp(-6+0.05*40+3.5))/(1+exp(-6+0.05*40+3.5))"
   ]
  },
  {
   "cell_type": "code",
   "execution_count": 34,
   "id": "9beebbdd",
   "metadata": {},
   "outputs": [
    {
     "data": {
      "text/html": [
       "50"
      ],
      "text/latex": [
       "50"
      ],
      "text/markdown": [
       "50"
      ],
      "text/plain": [
       "[1] 50"
      ]
     },
     "metadata": {},
     "output_type": "display_data"
    }
   ],
   "source": [
    "X1=2.5/0.05\n",
    "X1"
   ]
  },
  {
   "cell_type": "code",
   "execution_count": 35,
   "id": "6b85424e",
   "metadata": {},
   "outputs": [],
   "source": [
    "# Exercise 8 (p.170, Chap.4)"
   ]
  },
  {
   "cell_type": "code",
   "execution_count": 36,
   "id": "64f8dbab",
   "metadata": {},
   "outputs": [],
   "source": [
    "# We will better go for the regression model"
   ]
  },
  {
   "cell_type": "code",
   "execution_count": 37,
   "id": "0ac18832",
   "metadata": {},
   "outputs": [],
   "source": [
    "# Exercise 9 (p.170, Chap.4)"
   ]
  },
  {
   "cell_type": "code",
   "execution_count": 38,
   "id": "7f7e5429",
   "metadata": {},
   "outputs": [
    {
     "data": {
      "text/html": [
       "0.217647058823529"
      ],
      "text/latex": [
       "0.217647058823529"
      ],
      "text/markdown": [
       "0.217647058823529"
      ],
      "text/plain": [
       "[1] 0.2176471"
      ]
     },
     "metadata": {},
     "output_type": "display_data"
    }
   ],
   "source": [
    "# A\n",
    "p = 0.37 / (1 + 0.7)\n",
    "p\n",
    "# 21% of people"
   ]
  },
  {
   "cell_type": "code",
   "execution_count": 39,
   "id": "554ebfea",
   "metadata": {},
   "outputs": [
    {
     "data": {
      "text/html": [
       "0.19047619047619"
      ],
      "text/latex": [
       "0.19047619047619"
      ],
      "text/markdown": [
       "0.19047619047619"
      ],
      "text/plain": [
       "[1] 0.1904762"
      ]
     },
     "metadata": {},
     "output_type": "display_data"
    }
   ],
   "source": [
    "# B\n",
    "odd = 0.16 / (1 - 0.16)\n",
    "odd\n",
    "# 19% of people"
   ]
  },
  {
   "cell_type": "code",
   "execution_count": 40,
   "id": "cf503eaf",
   "metadata": {},
   "outputs": [],
   "source": [
    "# Exercise 10 (p.171, Chap.4)"
   ]
  },
  {
   "cell_type": "code",
   "execution_count": 41,
   "id": "f016ad45",
   "metadata": {},
   "outputs": [],
   "source": [
    "library(ISLR)"
   ]
  },
  {
   "cell_type": "code",
   "execution_count": 42,
   "id": "bc7d6da1",
   "metadata": {},
   "outputs": [
    {
     "data": {
      "text/html": [
       "<table class=\"dataframe\">\n",
       "<caption>A data.frame: 6 × 9</caption>\n",
       "<thead>\n",
       "\t<tr><th></th><th scope=col>Year</th><th scope=col>Lag1</th><th scope=col>Lag2</th><th scope=col>Lag3</th><th scope=col>Lag4</th><th scope=col>Lag5</th><th scope=col>Volume</th><th scope=col>Today</th><th scope=col>Direction</th></tr>\n",
       "\t<tr><th></th><th scope=col>&lt;dbl&gt;</th><th scope=col>&lt;dbl&gt;</th><th scope=col>&lt;dbl&gt;</th><th scope=col>&lt;dbl&gt;</th><th scope=col>&lt;dbl&gt;</th><th scope=col>&lt;dbl&gt;</th><th scope=col>&lt;dbl&gt;</th><th scope=col>&lt;dbl&gt;</th><th scope=col>&lt;fct&gt;</th></tr>\n",
       "</thead>\n",
       "<tbody>\n",
       "\t<tr><th scope=row>1</th><td>1990</td><td> 0.816</td><td> 1.572</td><td>-3.936</td><td>-0.229</td><td>-3.484</td><td>0.1549760</td><td>-0.270</td><td>Down</td></tr>\n",
       "\t<tr><th scope=row>2</th><td>1990</td><td>-0.270</td><td> 0.816</td><td> 1.572</td><td>-3.936</td><td>-0.229</td><td>0.1485740</td><td>-2.576</td><td>Down</td></tr>\n",
       "\t<tr><th scope=row>3</th><td>1990</td><td>-2.576</td><td>-0.270</td><td> 0.816</td><td> 1.572</td><td>-3.936</td><td>0.1598375</td><td> 3.514</td><td>Up  </td></tr>\n",
       "\t<tr><th scope=row>4</th><td>1990</td><td> 3.514</td><td>-2.576</td><td>-0.270</td><td> 0.816</td><td> 1.572</td><td>0.1616300</td><td> 0.712</td><td>Up  </td></tr>\n",
       "\t<tr><th scope=row>5</th><td>1990</td><td> 0.712</td><td> 3.514</td><td>-2.576</td><td>-0.270</td><td> 0.816</td><td>0.1537280</td><td> 1.178</td><td>Up  </td></tr>\n",
       "\t<tr><th scope=row>6</th><td>1990</td><td> 1.178</td><td> 0.712</td><td> 3.514</td><td>-2.576</td><td>-0.270</td><td>0.1544440</td><td>-1.372</td><td>Down</td></tr>\n",
       "</tbody>\n",
       "</table>\n"
      ],
      "text/latex": [
       "A data.frame: 6 × 9\n",
       "\\begin{tabular}{r|lllllllll}\n",
       "  & Year & Lag1 & Lag2 & Lag3 & Lag4 & Lag5 & Volume & Today & Direction\\\\\n",
       "  & <dbl> & <dbl> & <dbl> & <dbl> & <dbl> & <dbl> & <dbl> & <dbl> & <fct>\\\\\n",
       "\\hline\n",
       "\t1 & 1990 &  0.816 &  1.572 & -3.936 & -0.229 & -3.484 & 0.1549760 & -0.270 & Down\\\\\n",
       "\t2 & 1990 & -0.270 &  0.816 &  1.572 & -3.936 & -0.229 & 0.1485740 & -2.576 & Down\\\\\n",
       "\t3 & 1990 & -2.576 & -0.270 &  0.816 &  1.572 & -3.936 & 0.1598375 &  3.514 & Up  \\\\\n",
       "\t4 & 1990 &  3.514 & -2.576 & -0.270 &  0.816 &  1.572 & 0.1616300 &  0.712 & Up  \\\\\n",
       "\t5 & 1990 &  0.712 &  3.514 & -2.576 & -0.270 &  0.816 & 0.1537280 &  1.178 & Up  \\\\\n",
       "\t6 & 1990 &  1.178 &  0.712 &  3.514 & -2.576 & -0.270 & 0.1544440 & -1.372 & Down\\\\\n",
       "\\end{tabular}\n"
      ],
      "text/markdown": [
       "\n",
       "A data.frame: 6 × 9\n",
       "\n",
       "| <!--/--> | Year &lt;dbl&gt; | Lag1 &lt;dbl&gt; | Lag2 &lt;dbl&gt; | Lag3 &lt;dbl&gt; | Lag4 &lt;dbl&gt; | Lag5 &lt;dbl&gt; | Volume &lt;dbl&gt; | Today &lt;dbl&gt; | Direction &lt;fct&gt; |\n",
       "|---|---|---|---|---|---|---|---|---|---|\n",
       "| 1 | 1990 |  0.816 |  1.572 | -3.936 | -0.229 | -3.484 | 0.1549760 | -0.270 | Down |\n",
       "| 2 | 1990 | -0.270 |  0.816 |  1.572 | -3.936 | -0.229 | 0.1485740 | -2.576 | Down |\n",
       "| 3 | 1990 | -2.576 | -0.270 |  0.816 |  1.572 | -3.936 | 0.1598375 |  3.514 | Up   |\n",
       "| 4 | 1990 |  3.514 | -2.576 | -0.270 |  0.816 |  1.572 | 0.1616300 |  0.712 | Up   |\n",
       "| 5 | 1990 |  0.712 |  3.514 | -2.576 | -0.270 |  0.816 | 0.1537280 |  1.178 | Up   |\n",
       "| 6 | 1990 |  1.178 |  0.712 |  3.514 | -2.576 | -0.270 | 0.1544440 | -1.372 | Down |\n",
       "\n"
      ],
      "text/plain": [
       "  Year Lag1   Lag2   Lag3   Lag4   Lag5   Volume    Today  Direction\n",
       "1 1990  0.816  1.572 -3.936 -0.229 -3.484 0.1549760 -0.270 Down     \n",
       "2 1990 -0.270  0.816  1.572 -3.936 -0.229 0.1485740 -2.576 Down     \n",
       "3 1990 -2.576 -0.270  0.816  1.572 -3.936 0.1598375  3.514 Up       \n",
       "4 1990  3.514 -2.576 -0.270  0.816  1.572 0.1616300  0.712 Up       \n",
       "5 1990  0.712  3.514 -2.576 -0.270  0.816 0.1537280  1.178 Up       \n",
       "6 1990  1.178  0.712  3.514 -2.576 -0.270 0.1544440 -1.372 Down     "
      ]
     },
     "metadata": {},
     "output_type": "display_data"
    }
   ],
   "source": [
    "# inspect the dataset\n",
    "head(Weekly)"
   ]
  },
  {
   "cell_type": "code",
   "execution_count": 43,
   "id": "a83e145a",
   "metadata": {},
   "outputs": [
    {
     "name": "stdout",
     "output_type": "stream",
     "text": [
      "'data.frame':\t1089 obs. of  9 variables:\n",
      " $ Year     : num  1990 1990 1990 1990 1990 1990 1990 1990 1990 1990 ...\n",
      " $ Lag1     : num  0.816 -0.27 -2.576 3.514 0.712 ...\n",
      " $ Lag2     : num  1.572 0.816 -0.27 -2.576 3.514 ...\n",
      " $ Lag3     : num  -3.936 1.572 0.816 -0.27 -2.576 ...\n",
      " $ Lag4     : num  -0.229 -3.936 1.572 0.816 -0.27 ...\n",
      " $ Lag5     : num  -3.484 -0.229 -3.936 1.572 0.816 ...\n",
      " $ Volume   : num  0.155 0.149 0.16 0.162 0.154 ...\n",
      " $ Today    : num  -0.27 -2.576 3.514 0.712 1.178 ...\n",
      " $ Direction: Factor w/ 2 levels \"Down\",\"Up\": 1 1 2 2 2 1 2 2 2 1 ...\n"
     ]
    }
   ],
   "source": [
    "str(Weekly)"
   ]
  },
  {
   "cell_type": "code",
   "execution_count": 44,
   "id": "12475d50",
   "metadata": {},
   "outputs": [
    {
     "data": {
      "text/html": [
       "<table class=\"dataframe\">\n",
       "<caption>A matrix: 8 × 8 of type dbl</caption>\n",
       "<thead>\n",
       "\t<tr><th></th><th scope=col>Year</th><th scope=col>Lag1</th><th scope=col>Lag2</th><th scope=col>Lag3</th><th scope=col>Lag4</th><th scope=col>Lag5</th><th scope=col>Volume</th><th scope=col>Today</th></tr>\n",
       "</thead>\n",
       "<tbody>\n",
       "\t<tr><th scope=row>Year</th><td> 1.00000000</td><td>-0.032289274</td><td>-0.03339001</td><td>-0.03000649</td><td>-0.031127923</td><td>-0.030519101</td><td> 0.84194162</td><td>-0.032459894</td></tr>\n",
       "\t<tr><th scope=row>Lag1</th><td>-0.03228927</td><td> 1.000000000</td><td>-0.07485305</td><td> 0.05863568</td><td>-0.071273876</td><td>-0.008183096</td><td>-0.06495131</td><td>-0.075031842</td></tr>\n",
       "\t<tr><th scope=row>Lag2</th><td>-0.03339001</td><td>-0.074853051</td><td> 1.00000000</td><td>-0.07572091</td><td> 0.058381535</td><td>-0.072499482</td><td>-0.08551314</td><td> 0.059166717</td></tr>\n",
       "\t<tr><th scope=row>Lag3</th><td>-0.03000649</td><td> 0.058635682</td><td>-0.07572091</td><td> 1.00000000</td><td>-0.075395865</td><td> 0.060657175</td><td>-0.06928771</td><td>-0.071243639</td></tr>\n",
       "\t<tr><th scope=row>Lag4</th><td>-0.03112792</td><td>-0.071273876</td><td> 0.05838153</td><td>-0.07539587</td><td> 1.000000000</td><td>-0.075675027</td><td>-0.06107462</td><td>-0.007825873</td></tr>\n",
       "\t<tr><th scope=row>Lag5</th><td>-0.03051910</td><td>-0.008183096</td><td>-0.07249948</td><td> 0.06065717</td><td>-0.075675027</td><td> 1.000000000</td><td>-0.05851741</td><td> 0.011012698</td></tr>\n",
       "\t<tr><th scope=row>Volume</th><td> 0.84194162</td><td>-0.064951313</td><td>-0.08551314</td><td>-0.06928771</td><td>-0.061074617</td><td>-0.058517414</td><td> 1.00000000</td><td>-0.033077783</td></tr>\n",
       "\t<tr><th scope=row>Today</th><td>-0.03245989</td><td>-0.075031842</td><td> 0.05916672</td><td>-0.07124364</td><td>-0.007825873</td><td> 0.011012698</td><td>-0.03307778</td><td> 1.000000000</td></tr>\n",
       "</tbody>\n",
       "</table>\n"
      ],
      "text/latex": [
       "A matrix: 8 × 8 of type dbl\n",
       "\\begin{tabular}{r|llllllll}\n",
       "  & Year & Lag1 & Lag2 & Lag3 & Lag4 & Lag5 & Volume & Today\\\\\n",
       "\\hline\n",
       "\tYear &  1.00000000 & -0.032289274 & -0.03339001 & -0.03000649 & -0.031127923 & -0.030519101 &  0.84194162 & -0.032459894\\\\\n",
       "\tLag1 & -0.03228927 &  1.000000000 & -0.07485305 &  0.05863568 & -0.071273876 & -0.008183096 & -0.06495131 & -0.075031842\\\\\n",
       "\tLag2 & -0.03339001 & -0.074853051 &  1.00000000 & -0.07572091 &  0.058381535 & -0.072499482 & -0.08551314 &  0.059166717\\\\\n",
       "\tLag3 & -0.03000649 &  0.058635682 & -0.07572091 &  1.00000000 & -0.075395865 &  0.060657175 & -0.06928771 & -0.071243639\\\\\n",
       "\tLag4 & -0.03112792 & -0.071273876 &  0.05838153 & -0.07539587 &  1.000000000 & -0.075675027 & -0.06107462 & -0.007825873\\\\\n",
       "\tLag5 & -0.03051910 & -0.008183096 & -0.07249948 &  0.06065717 & -0.075675027 &  1.000000000 & -0.05851741 &  0.011012698\\\\\n",
       "\tVolume &  0.84194162 & -0.064951313 & -0.08551314 & -0.06928771 & -0.061074617 & -0.058517414 &  1.00000000 & -0.033077783\\\\\n",
       "\tToday & -0.03245989 & -0.075031842 &  0.05916672 & -0.07124364 & -0.007825873 &  0.011012698 & -0.03307778 &  1.000000000\\\\\n",
       "\\end{tabular}\n"
      ],
      "text/markdown": [
       "\n",
       "A matrix: 8 × 8 of type dbl\n",
       "\n",
       "| <!--/--> | Year | Lag1 | Lag2 | Lag3 | Lag4 | Lag5 | Volume | Today |\n",
       "|---|---|---|---|---|---|---|---|---|\n",
       "| Year |  1.00000000 | -0.032289274 | -0.03339001 | -0.03000649 | -0.031127923 | -0.030519101 |  0.84194162 | -0.032459894 |\n",
       "| Lag1 | -0.03228927 |  1.000000000 | -0.07485305 |  0.05863568 | -0.071273876 | -0.008183096 | -0.06495131 | -0.075031842 |\n",
       "| Lag2 | -0.03339001 | -0.074853051 |  1.00000000 | -0.07572091 |  0.058381535 | -0.072499482 | -0.08551314 |  0.059166717 |\n",
       "| Lag3 | -0.03000649 |  0.058635682 | -0.07572091 |  1.00000000 | -0.075395865 |  0.060657175 | -0.06928771 | -0.071243639 |\n",
       "| Lag4 | -0.03112792 | -0.071273876 |  0.05838153 | -0.07539587 |  1.000000000 | -0.075675027 | -0.06107462 | -0.007825873 |\n",
       "| Lag5 | -0.03051910 | -0.008183096 | -0.07249948 |  0.06065717 | -0.075675027 |  1.000000000 | -0.05851741 |  0.011012698 |\n",
       "| Volume |  0.84194162 | -0.064951313 | -0.08551314 | -0.06928771 | -0.061074617 | -0.058517414 |  1.00000000 | -0.033077783 |\n",
       "| Today | -0.03245989 | -0.075031842 |  0.05916672 | -0.07124364 | -0.007825873 |  0.011012698 | -0.03307778 |  1.000000000 |\n",
       "\n"
      ],
      "text/plain": [
       "       Year        Lag1         Lag2        Lag3        Lag4        \n",
       "Year    1.00000000 -0.032289274 -0.03339001 -0.03000649 -0.031127923\n",
       "Lag1   -0.03228927  1.000000000 -0.07485305  0.05863568 -0.071273876\n",
       "Lag2   -0.03339001 -0.074853051  1.00000000 -0.07572091  0.058381535\n",
       "Lag3   -0.03000649  0.058635682 -0.07572091  1.00000000 -0.075395865\n",
       "Lag4   -0.03112792 -0.071273876  0.05838153 -0.07539587  1.000000000\n",
       "Lag5   -0.03051910 -0.008183096 -0.07249948  0.06065717 -0.075675027\n",
       "Volume  0.84194162 -0.064951313 -0.08551314 -0.06928771 -0.061074617\n",
       "Today  -0.03245989 -0.075031842  0.05916672 -0.07124364 -0.007825873\n",
       "       Lag5         Volume      Today       \n",
       "Year   -0.030519101  0.84194162 -0.032459894\n",
       "Lag1   -0.008183096 -0.06495131 -0.075031842\n",
       "Lag2   -0.072499482 -0.08551314  0.059166717\n",
       "Lag3    0.060657175 -0.06928771 -0.071243639\n",
       "Lag4   -0.075675027 -0.06107462 -0.007825873\n",
       "Lag5    1.000000000 -0.05851741  0.011012698\n",
       "Volume -0.058517414  1.00000000 -0.033077783\n",
       "Today   0.011012698 -0.03307778  1.000000000"
      ]
     },
     "metadata": {},
     "output_type": "display_data"
    }
   ],
   "source": [
    "# A\n",
    "cor(Weekly[,-9])"
   ]
  },
  {
   "cell_type": "code",
   "execution_count": 45,
   "id": "71de4107",
   "metadata": {},
   "outputs": [
    {
     "data": {
      "image/png": "[encoded data removed]",
      "text/plain": [
       "plot without title"
      ]
     },
     "metadata": {
      "image/png": {
       "height": 420,
       "width": 420
      }
     },
     "output_type": "display_data"
    }
   ],
   "source": [
    "pairs(Weekly)"
   ]
  },
  {
   "cell_type": "code",
   "execution_count": 46,
   "id": "54fbcaeb",
   "metadata": {},
   "outputs": [
    {
     "name": "stderr",
     "output_type": "stream",
     "text": [
      "The following objects are masked from Weekly (pos = 3):\n",
      "\n",
      "    Direction, Lag1, Lag2, Lag3, Lag4, Lag5, Today, Volume, Year\n",
      "\n",
      "\n"
     ]
    },
    {
     "data": {
      "image/png": "[encoded data removed]",
      "text/plain": [
       "plot without title"
      ]
     },
     "metadata": {
      "image/png": {
       "height": 420,
       "width": 420
      }
     },
     "output_type": "display_data"
    }
   ],
   "source": [
    "attach(Weekly)\n",
    "plot(Volume)"
   ]
  },
  {
   "cell_type": "code",
   "execution_count": 49,
   "id": "cb1ae102",
   "metadata": {},
   "outputs": [
    {
     "data": {
      "text/plain": [
       "\n",
       "Call:\n",
       "glm(formula = Direction ~ Lag1 + Lag2 + Lag3 + Lag4 + Lag5 + \n",
       "    Volume, family = binomial, data = Weekly)\n",
       "\n",
       "Deviance Residuals: \n",
       "    Min       1Q   Median       3Q      Max  \n",
       "-1.6949  -1.2565   0.9913   1.0849   1.4579  \n",
       "\n",
       "Coefficients:\n",
       "            Estimate Std. Error z value Pr(>|z|)   \n",
       "(Intercept)  0.26686    0.08593   3.106   0.0019 **\n",
       "Lag1        -0.04127    0.02641  -1.563   0.1181   \n",
       "Lag2         0.05844    0.02686   2.175   0.0296 * \n",
       "Lag3        -0.01606    0.02666  -0.602   0.5469   \n",
       "Lag4        -0.02779    0.02646  -1.050   0.2937   \n",
       "Lag5        -0.01447    0.02638  -0.549   0.5833   \n",
       "Volume      -0.02274    0.03690  -0.616   0.5377   \n",
       "---\n",
       "Signif. codes:  0 '***' 0.001 '**' 0.01 '*' 0.05 '.' 0.1 ' ' 1\n",
       "\n",
       "(Dispersion parameter for binomial family taken to be 1)\n",
       "\n",
       "    Null deviance: 1496.2  on 1088  degrees of freedom\n",
       "Residual deviance: 1486.4  on 1082  degrees of freedom\n",
       "AIC: 1500.4\n",
       "\n",
       "Number of Fisher Scoring iterations: 4\n"
      ]
     },
     "metadata": {},
     "output_type": "display_data"
    }
   ],
   "source": [
    "# B\n",
    "glm.fits=glm(Direction∼Lag1+Lag2+Lag3+Lag4+Lag5+Volume ,\n",
    "data=Weekly ,family=binomial )\n",
    "summary (glm.fits)"
   ]
  },
  {
   "cell_type": "code",
   "execution_count": 50,
   "id": "0953e8d3",
   "metadata": {},
   "outputs": [
    {
     "data": {
      "text/html": [
       "<style>\n",
       ".dl-inline {width: auto; margin:0; padding: 0}\n",
       ".dl-inline>dt, .dl-inline>dd {float: none; width: auto; display: inline-block}\n",
       ".dl-inline>dt::after {content: \":\\0020\"; padding-right: .5ex}\n",
       ".dl-inline>dt:not(:first-of-type) {padding-left: .5ex}\n",
       "</style><dl class=dl-inline><dt>1</dt><dd>0.608624944335381</dd><dt>2</dt><dd>0.601031436565434</dd><dt>3</dt><dd>0.587569945934812</dd><dt>4</dt><dd>0.481641563622447</dd><dt>5</dt><dd>0.61690129222657</dd><dt>6</dt><dd>0.568419018945013</dd><dt>7</dt><dd>0.578609714614269</dd><dt>8</dt><dd>0.515197243692007</dd><dt>9</dt><dd>0.571519975294155</dd><dt>10</dt><dd>0.555428733703301</dd></dl>\n"
      ],
      "text/latex": [
       "\\begin{description*}\n",
       "\\item[1] 0.608624944335381\n",
       "\\item[2] 0.601031436565434\n",
       "\\item[3] 0.587569945934812\n",
       "\\item[4] 0.481641563622447\n",
       "\\item[5] 0.61690129222657\n",
       "\\item[6] 0.568419018945013\n",
       "\\item[7] 0.578609714614269\n",
       "\\item[8] 0.515197243692007\n",
       "\\item[9] 0.571519975294155\n",
       "\\item[10] 0.555428733703301\n",
       "\\end{description*}\n"
      ],
      "text/markdown": [
       "1\n",
       ":   0.6086249443353812\n",
       ":   0.6010314365654343\n",
       ":   0.5875699459348124\n",
       ":   0.4816415636224475\n",
       ":   0.616901292226576\n",
       ":   0.5684190189450137\n",
       ":   0.5786097146142698\n",
       ":   0.5151972436920079\n",
       ":   0.57151997529415510\n",
       ":   0.555428733703301\n",
       "\n"
      ],
      "text/plain": [
       "        1         2         3         4         5         6         7         8 \n",
       "0.6086249 0.6010314 0.5875699 0.4816416 0.6169013 0.5684190 0.5786097 0.5151972 \n",
       "        9        10 \n",
       "0.5715200 0.5554287 "
      ]
     },
     "metadata": {},
     "output_type": "display_data"
    }
   ],
   "source": [
    "# C\n",
    "glm.probs=predict (glm.fits,type=\"response\")\n",
    "glm.probs [1:10]"
   ]
  },
  {
   "cell_type": "code",
   "execution_count": 51,
   "id": "f1f9c0bb",
   "metadata": {},
   "outputs": [
    {
     "data": {
      "text/plain": [
       "        Direction\n",
       "glm.pred Down  Up\n",
       "     Up   430 557\n",
       "    Down   54  48"
      ]
     },
     "metadata": {},
     "output_type": "display_data"
    }
   ],
   "source": [
    "glm.pred=rep(\"Down\" ,1089)\n",
    "glm.pred[glm.probs >.5]=\" Up\"\n",
    "\n",
    "table(glm.pred ,Direction )"
   ]
  },
  {
   "cell_type": "code",
   "execution_count": 52,
   "id": "e35bea5e",
   "metadata": {},
   "outputs": [],
   "source": [
    "# D\n",
    "train <- (Year < 2009)\n",
    "Weekly.2009 <- Weekly[!train, ]\n",
    "Direction.2009 <- Direction[!train]"
   ]
  },
  {
   "cell_type": "code",
   "execution_count": 53,
   "id": "741595ea",
   "metadata": {},
   "outputs": [
    {
     "data": {
      "text/plain": [
       "         Direction.2009\n",
       "glm.probs Down Up\n",
       "     Down   17 13\n",
       "     Up     26 48"
      ]
     },
     "metadata": {},
     "output_type": "display_data"
    }
   ],
   "source": [
    "prob <- predict(glm.fits, Weekly.2009, type = \"response\")\n",
    "glm.probs <- rep(\"Down\", length(prob))\n",
    "glm.probs[prob > 0.5] <- \"Up\"\n",
    "table(glm.probs, Direction.2009)"
   ]
  },
  {
   "cell_type": "code",
   "execution_count": 55,
   "id": "5856dc60",
   "metadata": {},
   "outputs": [],
   "source": [
    "# E\n",
    "library(MASS)"
   ]
  },
  {
   "cell_type": "code",
   "execution_count": 56,
   "id": "07a39329",
   "metadata": {},
   "outputs": [
    {
     "data": {
      "text/plain": [
       "Call:\n",
       "lda(Direction ~ Lag2, data = Weekly, subset = train)\n",
       "\n",
       "Prior probabilities of groups:\n",
       "     Down        Up \n",
       "0.4477157 0.5522843 \n",
       "\n",
       "Group means:\n",
       "            Lag2\n",
       "Down -0.03568254\n",
       "Up    0.26036581\n",
       "\n",
       "Coefficients of linear discriminants:\n",
       "           LD1\n",
       "Lag2 0.4414162"
      ]
     },
     "metadata": {},
     "output_type": "display_data"
    }
   ],
   "source": [
    "fit.lda <- lda(Direction ~ Lag2, data = Weekly, subset = train)\n",
    "fit.lda"
   ]
  },
  {
   "cell_type": "code",
   "execution_count": 57,
   "id": "2d52f651",
   "metadata": {},
   "outputs": [
    {
     "data": {
      "text/plain": [
       "      Direction.2009\n",
       "       Down Up\n",
       "  Down    9  5\n",
       "  Up     34 56"
      ]
     },
     "metadata": {},
     "output_type": "display_data"
    }
   ],
   "source": [
    "pred.lda <- predict(fit.lda, Weekly.2009)\n",
    "table(pred.lda$class, Direction.2009)"
   ]
  },
  {
   "cell_type": "code",
   "execution_count": 58,
   "id": "464eaf41",
   "metadata": {},
   "outputs": [
    {
     "data": {
      "text/plain": [
       "Call:\n",
       "qda(Direction ~ Lag2, data = Weekly, subset = train)\n",
       "\n",
       "Prior probabilities of groups:\n",
       "     Down        Up \n",
       "0.4477157 0.5522843 \n",
       "\n",
       "Group means:\n",
       "            Lag2\n",
       "Down -0.03568254\n",
       "Up    0.26036581"
      ]
     },
     "metadata": {},
     "output_type": "display_data"
    }
   ],
   "source": [
    "# F\n",
    "fit.qda <- qda(Direction ~ Lag2, data = Weekly, subset = train)\n",
    "fit.qda"
   ]
  },
  {
   "cell_type": "code",
   "execution_count": 59,
   "id": "f9a64a3c",
   "metadata": {},
   "outputs": [
    {
     "data": {
      "text/plain": [
       "      Direction.2009\n",
       "       Down Up\n",
       "  Down    0  0\n",
       "  Up     43 61"
      ]
     },
     "metadata": {},
     "output_type": "display_data"
    }
   ],
   "source": [
    "pred.qda <- predict(fit.qda, Weekly.2009)\n",
    "table(pred.qda$class, Direction.2009)"
   ]
  },
  {
   "cell_type": "code",
   "execution_count": 60,
   "id": "82d0185c",
   "metadata": {},
   "outputs": [
    {
     "data": {
      "text/plain": [
       "        Direction.2009\n",
       "pred.knn Down Up\n",
       "    Down   21 30\n",
       "    Up     22 31"
      ]
     },
     "metadata": {},
     "output_type": "display_data"
    }
   ],
   "source": [
    "# G\n",
    "library(class)\n",
    "train.X <- as.matrix(Lag2[train])\n",
    "test.X <- as.matrix(Lag2[!train])\n",
    "train.Y <- Direction[train]\n",
    "set.seed(1)\n",
    "pred.knn <- knn(train.X, test.X, train.Y, k = 1)\n",
    "table(pred.knn, Direction.2009)"
   ]
  },
  {
   "cell_type": "code",
   "execution_count": 61,
   "id": "20fb88b0",
   "metadata": {},
   "outputs": [],
   "source": [
    "# Exercise 11 (p.171, Chap.4)"
   ]
  },
  {
   "cell_type": "code",
   "execution_count": 62,
   "id": "54302796",
   "metadata": {},
   "outputs": [],
   "source": [
    "library(ISLR)"
   ]
  },
  {
   "cell_type": "code",
   "execution_count": 63,
   "id": "e1c40247",
   "metadata": {},
   "outputs": [
    {
     "name": "stdout",
     "output_type": "stream",
     "text": [
      "'data.frame':\t392 obs. of  9 variables:\n",
      " $ mpg         : num  18 15 18 16 17 15 14 14 14 15 ...\n",
      " $ cylinders   : num  8 8 8 8 8 8 8 8 8 8 ...\n",
      " $ displacement: num  307 350 318 304 302 429 454 440 455 390 ...\n",
      " $ horsepower  : num  130 165 150 150 140 198 220 215 225 190 ...\n",
      " $ weight      : num  3504 3693 3436 3433 3449 ...\n",
      " $ acceleration: num  12 11.5 11 12 10.5 10 9 8.5 10 8.5 ...\n",
      " $ year        : num  70 70 70 70 70 70 70 70 70 70 ...\n",
      " $ origin      : num  1 1 1 1 1 1 1 1 1 1 ...\n",
      " $ name        : Factor w/ 304 levels \"amc ambassador brougham\",..: 49 36 231 14 161 141 54 223 241 2 ...\n"
     ]
    }
   ],
   "source": [
    "# Take a look at the dataset\n",
    "str(Auto)"
   ]
  },
  {
   "cell_type": "code",
   "execution_count": 64,
   "id": "702c08d5",
   "metadata": {},
   "outputs": [],
   "source": [
    "# A\n",
    "auto_df <- Auto\n",
    "auto_df$mpg01 <- as.numeric(auto_df$mpg > median(auto_df$mpg))"
   ]
  },
  {
   "cell_type": "code",
   "execution_count": 65,
   "id": "5c121470",
   "metadata": {},
   "outputs": [
    {
     "data": {
      "text/html": [
       "<table class=\"dataframe\">\n",
       "<caption>A matrix: 8 × 8 of type dbl</caption>\n",
       "<thead>\n",
       "\t<tr><th></th><th scope=col>mpg</th><th scope=col>cylinders</th><th scope=col>displacement</th><th scope=col>horsepower</th><th scope=col>weight</th><th scope=col>acceleration</th><th scope=col>year</th><th scope=col>origin</th></tr>\n",
       "</thead>\n",
       "<tbody>\n",
       "\t<tr><th scope=row>mpg</th><td> 1.0000000</td><td>-0.7776175</td><td>-0.8051269</td><td>-0.7784268</td><td>-0.8322442</td><td> 0.4233285</td><td> 0.5805410</td><td> 0.5652088</td></tr>\n",
       "\t<tr><th scope=row>cylinders</th><td>-0.7776175</td><td> 1.0000000</td><td> 0.9508233</td><td> 0.8429834</td><td> 0.8975273</td><td>-0.5046834</td><td>-0.3456474</td><td>-0.5689316</td></tr>\n",
       "\t<tr><th scope=row>displacement</th><td>-0.8051269</td><td> 0.9508233</td><td> 1.0000000</td><td> 0.8972570</td><td> 0.9329944</td><td>-0.5438005</td><td>-0.3698552</td><td>-0.6145351</td></tr>\n",
       "\t<tr><th scope=row>horsepower</th><td>-0.7784268</td><td> 0.8429834</td><td> 0.8972570</td><td> 1.0000000</td><td> 0.8645377</td><td>-0.6891955</td><td>-0.4163615</td><td>-0.4551715</td></tr>\n",
       "\t<tr><th scope=row>weight</th><td>-0.8322442</td><td> 0.8975273</td><td> 0.9329944</td><td> 0.8645377</td><td> 1.0000000</td><td>-0.4168392</td><td>-0.3091199</td><td>-0.5850054</td></tr>\n",
       "\t<tr><th scope=row>acceleration</th><td> 0.4233285</td><td>-0.5046834</td><td>-0.5438005</td><td>-0.6891955</td><td>-0.4168392</td><td> 1.0000000</td><td> 0.2903161</td><td> 0.2127458</td></tr>\n",
       "\t<tr><th scope=row>year</th><td> 0.5805410</td><td>-0.3456474</td><td>-0.3698552</td><td>-0.4163615</td><td>-0.3091199</td><td> 0.2903161</td><td> 1.0000000</td><td> 0.1815277</td></tr>\n",
       "\t<tr><th scope=row>origin</th><td> 0.5652088</td><td>-0.5689316</td><td>-0.6145351</td><td>-0.4551715</td><td>-0.5850054</td><td> 0.2127458</td><td> 0.1815277</td><td> 1.0000000</td></tr>\n",
       "</tbody>\n",
       "</table>\n"
      ],
      "text/latex": [
       "A matrix: 8 × 8 of type dbl\n",
       "\\begin{tabular}{r|llllllll}\n",
       "  & mpg & cylinders & displacement & horsepower & weight & acceleration & year & origin\\\\\n",
       "\\hline\n",
       "\tmpg &  1.0000000 & -0.7776175 & -0.8051269 & -0.7784268 & -0.8322442 &  0.4233285 &  0.5805410 &  0.5652088\\\\\n",
       "\tcylinders & -0.7776175 &  1.0000000 &  0.9508233 &  0.8429834 &  0.8975273 & -0.5046834 & -0.3456474 & -0.5689316\\\\\n",
       "\tdisplacement & -0.8051269 &  0.9508233 &  1.0000000 &  0.8972570 &  0.9329944 & -0.5438005 & -0.3698552 & -0.6145351\\\\\n",
       "\thorsepower & -0.7784268 &  0.8429834 &  0.8972570 &  1.0000000 &  0.8645377 & -0.6891955 & -0.4163615 & -0.4551715\\\\\n",
       "\tweight & -0.8322442 &  0.8975273 &  0.9329944 &  0.8645377 &  1.0000000 & -0.4168392 & -0.3091199 & -0.5850054\\\\\n",
       "\tacceleration &  0.4233285 & -0.5046834 & -0.5438005 & -0.6891955 & -0.4168392 &  1.0000000 &  0.2903161 &  0.2127458\\\\\n",
       "\tyear &  0.5805410 & -0.3456474 & -0.3698552 & -0.4163615 & -0.3091199 &  0.2903161 &  1.0000000 &  0.1815277\\\\\n",
       "\torigin &  0.5652088 & -0.5689316 & -0.6145351 & -0.4551715 & -0.5850054 &  0.2127458 &  0.1815277 &  1.0000000\\\\\n",
       "\\end{tabular}\n"
      ],
      "text/markdown": [
       "\n",
       "A matrix: 8 × 8 of type dbl\n",
       "\n",
       "| <!--/--> | mpg | cylinders | displacement | horsepower | weight | acceleration | year | origin |\n",
       "|---|---|---|---|---|---|---|---|---|\n",
       "| mpg |  1.0000000 | -0.7776175 | -0.8051269 | -0.7784268 | -0.8322442 |  0.4233285 |  0.5805410 |  0.5652088 |\n",
       "| cylinders | -0.7776175 |  1.0000000 |  0.9508233 |  0.8429834 |  0.8975273 | -0.5046834 | -0.3456474 | -0.5689316 |\n",
       "| displacement | -0.8051269 |  0.9508233 |  1.0000000 |  0.8972570 |  0.9329944 | -0.5438005 | -0.3698552 | -0.6145351 |\n",
       "| horsepower | -0.7784268 |  0.8429834 |  0.8972570 |  1.0000000 |  0.8645377 | -0.6891955 | -0.4163615 | -0.4551715 |\n",
       "| weight | -0.8322442 |  0.8975273 |  0.9329944 |  0.8645377 |  1.0000000 | -0.4168392 | -0.3091199 | -0.5850054 |\n",
       "| acceleration |  0.4233285 | -0.5046834 | -0.5438005 | -0.6891955 | -0.4168392 |  1.0000000 |  0.2903161 |  0.2127458 |\n",
       "| year |  0.5805410 | -0.3456474 | -0.3698552 | -0.4163615 | -0.3091199 |  0.2903161 |  1.0000000 |  0.1815277 |\n",
       "| origin |  0.5652088 | -0.5689316 | -0.6145351 | -0.4551715 | -0.5850054 |  0.2127458 |  0.1815277 |  1.0000000 |\n",
       "\n"
      ],
      "text/plain": [
       "             mpg        cylinders  displacement horsepower weight    \n",
       "mpg           1.0000000 -0.7776175 -0.8051269   -0.7784268 -0.8322442\n",
       "cylinders    -0.7776175  1.0000000  0.9508233    0.8429834  0.8975273\n",
       "displacement -0.8051269  0.9508233  1.0000000    0.8972570  0.9329944\n",
       "horsepower   -0.7784268  0.8429834  0.8972570    1.0000000  0.8645377\n",
       "weight       -0.8322442  0.8975273  0.9329944    0.8645377  1.0000000\n",
       "acceleration  0.4233285 -0.5046834 -0.5438005   -0.6891955 -0.4168392\n",
       "year          0.5805410 -0.3456474 -0.3698552   -0.4163615 -0.3091199\n",
       "origin        0.5652088 -0.5689316 -0.6145351   -0.4551715 -0.5850054\n",
       "             acceleration year       origin    \n",
       "mpg           0.4233285    0.5805410  0.5652088\n",
       "cylinders    -0.5046834   -0.3456474 -0.5689316\n",
       "displacement -0.5438005   -0.3698552 -0.6145351\n",
       "horsepower   -0.6891955   -0.4163615 -0.4551715\n",
       "weight       -0.4168392   -0.3091199 -0.5850054\n",
       "acceleration  1.0000000    0.2903161  0.2127458\n",
       "year          0.2903161    1.0000000  0.1815277\n",
       "origin        0.2127458    0.1815277  1.0000000"
      ]
     },
     "metadata": {},
     "output_type": "display_data"
    }
   ],
   "source": [
    "# B\n",
    "cor(Auto[, -9])"
   ]
  },
  {
   "cell_type": "code",
   "execution_count": 66,
   "id": "a8c093f3",
   "metadata": {},
   "outputs": [
    {
     "data": {
      "image/png": "[encoded data removed]",
      "text/plain": [
       "plot without title"
      ]
     },
     "metadata": {
      "image/png": {
       "height": 420,
       "width": 420
      }
     },
     "output_type": "display_data"
    }
   ],
   "source": [
    "pairs(Auto)"
   ]
  },
  {
   "cell_type": "code",
   "execution_count": 67,
   "id": "9fee40ae",
   "metadata": {},
   "outputs": [],
   "source": [
    "# C\n",
    "# Split the data by 50:50\n",
    "set.seed(1)\n",
    "train_index <- sample(1:nrow(auto_df), nrow(auto_df) * 0.5)\n",
    "train <- auto_df[train_index, ]\n",
    "test <- auto_df[-train_index, ]"
   ]
  },
  {
   "cell_type": "code",
   "execution_count": 68,
   "id": "13bbb7eb",
   "metadata": {},
   "outputs": [
    {
     "data": {
      "text/plain": [
       "Call:\n",
       "lda(mpg01 ~ cylinders + weight + displacement + horsepower, data = train)\n",
       "\n",
       "Prior probabilities of groups:\n",
       "        0         1 \n",
       "0.4795918 0.5204082 \n",
       "\n",
       "Group means:\n",
       "  cylinders   weight displacement horsepower\n",
       "0  6.872340 3620.723     276.8404  129.40426\n",
       "1  4.137255 2319.118     113.6275   77.92157\n",
       "\n",
       "Coefficients of linear discriminants:\n",
       "                       LD1\n",
       "cylinders    -0.4495275445\n",
       "weight       -0.0005339524\n",
       "displacement -0.0080629902\n",
       "horsepower    0.0100691240"
      ]
     },
     "metadata": {},
     "output_type": "display_data"
    }
   ],
   "source": [
    "# D\n",
    "fit.lda <- lda(mpg01 ~ cylinders + weight + displacement + horsepower, data = train)\n",
    "fit.lda"
   ]
  },
  {
   "cell_type": "code",
   "execution_count": 69,
   "id": "99462db9",
   "metadata": {},
   "outputs": [
    {
     "data": {
      "text/plain": [
       "        \n",
       "pred.lda  0  1\n",
       "       0 83  6\n",
       "       1 19 88"
      ]
     },
     "metadata": {},
     "output_type": "display_data"
    }
   ],
   "source": [
    "pred.lda <- predict(fit.lda, test)$class\n",
    "table(pred.lda ,test$mpg01)"
   ]
  },
  {
   "cell_type": "code",
   "execution_count": 74,
   "id": "224a8d61",
   "metadata": {},
   "outputs": [
    {
     "data": {
      "text/plain": [
       "Call:\n",
       "qda(mpg01 ~ cylinders + weight + displacement + horsepower, data = train)\n",
       "\n",
       "Prior probabilities of groups:\n",
       "        0         1 \n",
       "0.4795918 0.5204082 \n",
       "\n",
       "Group means:\n",
       "  cylinders   weight displacement horsepower\n",
       "0  6.872340 3620.723     276.8404  129.40426\n",
       "1  4.137255 2319.118     113.6275   77.92157"
      ]
     },
     "metadata": {},
     "output_type": "display_data"
    }
   ],
   "source": [
    "# E\n",
    "fit.qda = qda(mpg01 ~ cylinders + weight + displacement + horsepower, data=train)\n",
    "fit.qda"
   ]
  },
  {
   "cell_type": "code",
   "execution_count": 76,
   "id": "8df585e6",
   "metadata": {},
   "outputs": [
    {
     "data": {
      "text/plain": [
       "        \n",
       "pred.qda  0  1\n",
       "       0 89 10\n",
       "       1 13 84"
      ]
     },
     "metadata": {},
     "output_type": "display_data"
    }
   ],
   "source": [
    "pred.qda=predict(fit.qda,test)$class\n",
    "table(pred.qda,test$mpg01)"
   ]
  },
  {
   "cell_type": "code",
   "execution_count": 79,
   "id": "bba6f560",
   "metadata": {},
   "outputs": [
    {
     "data": {
      "text/plain": [
       "\n",
       "Call:\n",
       "glm(formula = mpg01 ~ cylinders + weight + displacement + horsepower, \n",
       "    family = binomial, data = train)\n",
       "\n",
       "Deviance Residuals: \n",
       "    Min       1Q   Median       3Q      Max  \n",
       "-2.5768  -0.1043   0.1291   0.3476   2.2602  \n",
       "\n",
       "Coefficients:\n",
       "               Estimate Std. Error z value Pr(>|z|)    \n",
       "(Intercept)  11.3034129  2.6683207   4.236 2.27e-05 ***\n",
       "cylinders    -0.0517713  0.5239294  -0.099   0.9213    \n",
       "weight       -0.0013873  0.0009885  -1.403   0.1605    \n",
       "displacement -0.0194725  0.0124725  -1.561   0.1185    \n",
       "horsepower   -0.0395012  0.0224692  -1.758   0.0787 .  \n",
       "---\n",
       "Signif. codes:  0 '***' 0.001 '**' 0.01 '*' 0.05 '.' 0.1 ' ' 1\n",
       "\n",
       "(Dispersion parameter for binomial family taken to be 1)\n",
       "\n",
       "    Null deviance: 271.387  on 195  degrees of freedom\n",
       "Residual deviance:  94.438  on 191  degrees of freedom\n",
       "AIC: 104.44\n",
       "\n",
       "Number of Fisher Scoring iterations: 7\n"
      ]
     },
     "metadata": {},
     "output_type": "display_data"
    }
   ],
   "source": [
    "# F\n",
    "logit.fit = glm(mpg01 ~ cylinders + weight + displacement + horsepower, family=binomial, data=train)\n",
    "summary(logit.fit)"
   ]
  },
  {
   "cell_type": "code",
   "execution_count": 82,
   "id": "75390d51",
   "metadata": {},
   "outputs": [
    {
     "data": {
      "text/plain": [
       "        \n",
       "glm.pred  0  1\n",
       "       0 86  8\n",
       "       1 16 86"
      ]
     },
     "metadata": {},
     "output_type": "display_data"
    }
   ],
   "source": [
    "glm.probs=predict(logit.fit,test,type=\"response\")\n",
    "glm.pred=rep(0,nrow(test))\n",
    "glm.pred[glm.probs > 0.50]=1\n",
    "table(glm.pred,test$mpg01)"
   ]
  },
  {
   "cell_type": "code",
   "execution_count": null,
   "id": "abe2ad55",
   "metadata": {},
   "outputs": [],
   "source": []
  }
 ],
 "metadata": {
  "kernelspec": {
   "display_name": "R",
   "language": "R",
   "name": "ir"
  },
  "language_info": {
   "codemirror_mode": "r",
   "file_extension": ".r",
   "mimetype": "text/x-r-source",
   "name": "R",
   "pygments_lexer": "r",
   "version": "4.0.5"
  }
 },
 "nbformat": 4,
 "nbformat_minor": 5
}
