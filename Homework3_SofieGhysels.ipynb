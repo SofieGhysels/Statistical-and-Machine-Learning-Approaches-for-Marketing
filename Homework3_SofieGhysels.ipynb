{
 "cells": [
  {
   "cell_type": "code",
   "execution_count": null,
   "id": "b9c80814",
   "metadata": {},
   "outputs": [],
   "source": [
    "# Homework 3 / Sofie Ghysels "
   ]
  },
  {
   "cell_type": "code",
   "execution_count": null,
   "id": "63844a0c",
   "metadata": {},
   "outputs": [],
   "source": [
    "# Exercise 3 (p.198, Chap.5)"
   ]
  },
  {
   "cell_type": "code",
   "execution_count": null,
   "id": "4f1ab12b",
   "metadata": {},
   "outputs": [],
   "source": [
    "# A\n",
    "# k-fold cross-validation takes n observations and randomly splits it into k non-overlapping groups. The k-groups acts as a validation set and the remainder as a training set. "
   ]
  },
  {
   "cell_type": "code",
   "execution_count": null,
   "id": "88ab1860",
   "metadata": {},
   "outputs": [],
   "source": [
    "# B\n",
    "# i. The training data is divided into two sets. There are two cons: it depends a lot on which observations are included in the training and test sets & the test set error rate can be unusually high and therefore the entire dataset might be overestimated \n",
    "# ii. With LOOCV you have k = n. It takes a lot of time because you must fit the model n times. High variance and low bias. "
   ]
  },
  {
   "cell_type": "code",
   "execution_count": null,
   "id": "83ce173d",
   "metadata": {},
   "outputs": [],
   "source": [
    "# Exercise 8 (p.200, Chap.5)"
   ]
  },
  {
   "cell_type": "code",
   "execution_count": null,
   "id": "73466dd9",
   "metadata": {},
   "outputs": [],
   "source": [
    "# A"
   ]
  },
  {
   "cell_type": "code",
   "execution_count": 1,
   "id": "251b64f2",
   "metadata": {},
   "outputs": [],
   "source": [
    "set.seed(1)\n",
    "x=rnorm(100)\n",
    "y=x-2*x^2+rnorm(100)"
   ]
  },
  {
   "cell_type": "code",
   "execution_count": null,
   "id": "8e0ccae2",
   "metadata": {},
   "outputs": [],
   "source": [
    "# B"
   ]
  },
  {
   "cell_type": "code",
   "execution_count": 2,
   "id": "5120724d",
   "metadata": {},
   "outputs": [
    {
     "data": {
      "image/png": "[encoded data removed]",
      "text/plain": [
       "plot without title"
      ]
     },
     "metadata": {
      "image/png": {
       "height": 420,
       "width": 420
      }
     },
     "output_type": "display_data"
    }
   ],
   "source": [
    "plot(x, y)"
   ]
  },
  {
   "cell_type": "code",
   "execution_count": null,
   "id": "e277f63a",
   "metadata": {},
   "outputs": [],
   "source": [
    "# C"
   ]
  },
  {
   "cell_type": "code",
   "execution_count": 7,
   "id": "eedb2ee1",
   "metadata": {},
   "outputs": [
    {
     "name": "stderr",
     "output_type": "stream",
     "text": [
      "Warning message:\n",
      "\"package 'boot' is in use and will not be installed\"\n"
     ]
    }
   ],
   "source": [
    "install.packages('boot')\n",
    "library(boot)\n",
    "set.seed(1)\n",
    "Data <- data.frame(x, y)"
   ]
  },
  {
   "cell_type": "code",
   "execution_count": 8,
   "id": "a3a454bd",
   "metadata": {},
   "outputs": [
    {
     "data": {
      "text/html": [
       "7.28816160667281"
      ],
      "text/latex": [
       "7.28816160667281"
      ],
      "text/markdown": [
       "7.28816160667281"
      ],
      "text/plain": [
       "[1] 7.288162"
      ]
     },
     "metadata": {},
     "output_type": "display_data"
    }
   ],
   "source": [
    "fit.glm.1 <- glm(y ~ x)\n",
    "cv.glm(Data, fit.glm.1)$delta[1]"
   ]
  },
  {
   "cell_type": "code",
   "execution_count": 9,
   "id": "781ada35",
   "metadata": {},
   "outputs": [
    {
     "data": {
      "text/html": [
       "0.937423637615552"
      ],
      "text/latex": [
       "0.937423637615552"
      ],
      "text/markdown": [
       "0.937423637615552"
      ],
      "text/plain": [
       "[1] 0.9374236"
      ]
     },
     "metadata": {},
     "output_type": "display_data"
    }
   ],
   "source": [
    "fit.glm.2 <- glm(y ~ poly(x, 2))\n",
    "cv.glm(Data, fit.glm.2)$delta[1]"
   ]
  },
  {
   "cell_type": "code",
   "execution_count": 10,
   "id": "e2825db8",
   "metadata": {},
   "outputs": [
    {
     "data": {
      "text/html": [
       "0.956621830108939"
      ],
      "text/latex": [
       "0.956621830108939"
      ],
      "text/markdown": [
       "0.956621830108939"
      ],
      "text/plain": [
       "[1] 0.9566218"
      ]
     },
     "metadata": {},
     "output_type": "display_data"
    }
   ],
   "source": [
    "fit.glm.3 <- glm(y ~ poly(x, 3))\n",
    "cv.glm(Data, fit.glm.3)$delta[1]"
   ]
  },
  {
   "cell_type": "code",
   "execution_count": 11,
   "id": "c0785859",
   "metadata": {},
   "outputs": [
    {
     "data": {
      "text/html": [
       "0.95662183010894"
      ],
      "text/latex": [
       "0.95662183010894"
      ],
      "text/markdown": [
       "0.95662183010894"
      ],
      "text/plain": [
       "[1] 0.9566218"
      ]
     },
     "metadata": {},
     "output_type": "display_data"
    }
   ],
   "source": [
    "fit.glm.4 <- glm(y ~ poly(x, 4))\n",
    "cv.glm(Data, fit.glm.3)$delta[1]"
   ]
  },
  {
   "cell_type": "code",
   "execution_count": null,
   "id": "4d2213b3",
   "metadata": {},
   "outputs": [],
   "source": [
    "# D"
   ]
  },
  {
   "cell_type": "code",
   "execution_count": 13,
   "id": "226dd210",
   "metadata": {},
   "outputs": [],
   "source": [
    "set.seed(3)\n",
    "Data <- data.frame(x, y)"
   ]
  },
  {
   "cell_type": "code",
   "execution_count": 14,
   "id": "32f3c3b6",
   "metadata": {},
   "outputs": [
    {
     "data": {
      "text/html": [
       "7.28816160667281"
      ],
      "text/latex": [
       "7.28816160667281"
      ],
      "text/markdown": [
       "7.28816160667281"
      ],
      "text/plain": [
       "[1] 7.288162"
      ]
     },
     "metadata": {},
     "output_type": "display_data"
    }
   ],
   "source": [
    "fit.glm.1 <- glm(y ~ x)\n",
    "cv.glm(Data, fit.glm.1)$delta[1]"
   ]
  },
  {
   "cell_type": "code",
   "execution_count": 15,
   "id": "7f36ff57",
   "metadata": {},
   "outputs": [
    {
     "data": {
      "text/html": [
       "0.937423637615552"
      ],
      "text/latex": [
       "0.937423637615552"
      ],
      "text/markdown": [
       "0.937423637615552"
      ],
      "text/plain": [
       "[1] 0.9374236"
      ]
     },
     "metadata": {},
     "output_type": "display_data"
    }
   ],
   "source": [
    "fit.glm.2 <- glm(y ~ poly(x, 2))\n",
    "cv.glm(Data, fit.glm.2)$delta[1]"
   ]
  },
  {
   "cell_type": "code",
   "execution_count": 16,
   "id": "7f106e6d",
   "metadata": {},
   "outputs": [
    {
     "data": {
      "text/html": [
       "0.95662183010894"
      ],
      "text/latex": [
       "0.95662183010894"
      ],
      "text/markdown": [
       "0.95662183010894"
      ],
      "text/plain": [
       "[1] 0.9566218"
      ]
     },
     "metadata": {},
     "output_type": "display_data"
    }
   ],
   "source": [
    "fit.glm.3 <- glm(y ~ poly(x, 3))\n",
    "cv.glm(Data, fit.glm.3)$delta[1]"
   ]
  },
  {
   "cell_type": "code",
   "execution_count": 17,
   "id": "8649d00e",
   "metadata": {},
   "outputs": [
    {
     "data": {
      "text/html": [
       "0.956621830108939"
      ],
      "text/latex": [
       "0.956621830108939"
      ],
      "text/markdown": [
       "0.956621830108939"
      ],
      "text/plain": [
       "[1] 0.9566218"
      ]
     },
     "metadata": {},
     "output_type": "display_data"
    }
   ],
   "source": [
    "fit.glm.4 <- glm(y ~ poly(x, 4))\n",
    "cv.glm(Data, fit.glm.3)$delta[1]"
   ]
  },
  {
   "cell_type": "code",
   "execution_count": null,
   "id": "4a566120",
   "metadata": {},
   "outputs": [],
   "source": [
    "# Exact same, because LOOCV will be the same since it evaluates n folds of a single observation"
   ]
  },
  {
   "cell_type": "code",
   "execution_count": null,
   "id": "82f467a7",
   "metadata": {},
   "outputs": [],
   "source": [
    "# E"
   ]
  },
  {
   "cell_type": "code",
   "execution_count": null,
   "id": "511be406",
   "metadata": {},
   "outputs": [],
   "source": [
    "# The quadratic polynomial had the lowest LOOCV test error rate. This was expected because it matches the true form of Y."
   ]
  },
  {
   "cell_type": "code",
   "execution_count": null,
   "id": "920a25fa",
   "metadata": {},
   "outputs": [],
   "source": [
    "# F"
   ]
  },
  {
   "cell_type": "code",
   "execution_count": 18,
   "id": "00b8079b",
   "metadata": {},
   "outputs": [
    {
     "data": {
      "text/plain": [
       "\n",
       "Call:\n",
       "glm(formula = y ~ poly(x, 4))\n",
       "\n",
       "Deviance Residuals: \n",
       "    Min       1Q   Median       3Q      Max  \n",
       "-2.0550  -0.6212  -0.1567   0.5952   2.2267  \n",
       "\n",
       "Coefficients:\n",
       "             Estimate Std. Error t value Pr(>|t|)    \n",
       "(Intercept)  -1.55002    0.09591 -16.162  < 2e-16 ***\n",
       "poly(x, 4)1   6.18883    0.95905   6.453 4.59e-09 ***\n",
       "poly(x, 4)2 -23.94830    0.95905 -24.971  < 2e-16 ***\n",
       "poly(x, 4)3   0.26411    0.95905   0.275    0.784    \n",
       "poly(x, 4)4   1.25710    0.95905   1.311    0.193    \n",
       "---\n",
       "Signif. codes:  0 '***' 0.001 '**' 0.01 '*' 0.05 '.' 0.1 ' ' 1\n",
       "\n",
       "(Dispersion parameter for gaussian family taken to be 0.9197797)\n",
       "\n",
       "    Null deviance: 700.852  on 99  degrees of freedom\n",
       "Residual deviance:  87.379  on 95  degrees of freedom\n",
       "AIC: 282.3\n",
       "\n",
       "Number of Fisher Scoring iterations: 2\n"
      ]
     },
     "metadata": {},
     "output_type": "display_data"
    }
   ],
   "source": [
    "summary(fit.glm.4)"
   ]
  },
  {
   "cell_type": "code",
   "execution_count": null,
   "id": "55a2d7f6",
   "metadata": {},
   "outputs": [],
   "source": [
    "# Exercise 1 (p.259, Chap.6)"
   ]
  },
  {
   "cell_type": "code",
   "execution_count": null,
   "id": "c48e6239",
   "metadata": {},
   "outputs": [],
   "source": [
    "# A\n",
    "# Best subset selection has the smallest training RSS because the other two methods determine models with a path dependency on which predictors they pick first as they iterate to the k'th model."
   ]
  },
  {
   "cell_type": "code",
   "execution_count": null,
   "id": "7588809f",
   "metadata": {},
   "outputs": [],
   "source": [
    "# B\n",
    "# Best subset selection may have the smallest test RSS because it considers more models then the other methods. However, the other models might have better luck picking a model that fits the test data better."
   ]
  },
  {
   "cell_type": "code",
   "execution_count": null,
   "id": "fd1ac19f",
   "metadata": {},
   "outputs": [],
   "source": [
    "# C\n",
    "# i. True. ii. True. iii. False. iv. False. v. False"
   ]
  },
  {
   "cell_type": "code",
   "execution_count": null,
   "id": "c3f9cc07",
   "metadata": {},
   "outputs": [],
   "source": [
    "# Exercise 9 (p.263, Chap.6)"
   ]
  },
  {
   "cell_type": "code",
   "execution_count": 1,
   "id": "2b1b00ec",
   "metadata": {},
   "outputs": [],
   "source": [
    "# A\n",
    "library(ISLR)\n",
    "attach(College)\n",
    "set.seed(11)\n",
    "subset<-sample(nrow(College),nrow(College)*0.7)\n",
    "train_set<-College[subset,]\n",
    "test_set<-College[-subset,]"
   ]
  },
  {
   "cell_type": "code",
   "execution_count": 2,
   "id": "884a3125",
   "metadata": {},
   "outputs": [
    {
     "data": {
      "text/html": [
       "<table class=\"dataframe\">\n",
       "<caption>A data.frame: 543 × 18</caption>\n",
       "<thead>\n",
       "\t<tr><th></th><th scope=col>Private</th><th scope=col>Apps</th><th scope=col>Accept</th><th scope=col>Enroll</th><th scope=col>Top10perc</th><th scope=col>Top25perc</th><th scope=col>F.Undergrad</th><th scope=col>P.Undergrad</th><th scope=col>Outstate</th><th scope=col>Room.Board</th><th scope=col>Books</th><th scope=col>Personal</th><th scope=col>PhD</th><th scope=col>Terminal</th><th scope=col>S.F.Ratio</th><th scope=col>perc.alumni</th><th scope=col>Expend</th><th scope=col>Grad.Rate</th></tr>\n",
       "\t<tr><th></th><th scope=col>&lt;fct&gt;</th><th scope=col>&lt;dbl&gt;</th><th scope=col>&lt;dbl&gt;</th><th scope=col>&lt;dbl&gt;</th><th scope=col>&lt;dbl&gt;</th><th scope=col>&lt;dbl&gt;</th><th scope=col>&lt;dbl&gt;</th><th scope=col>&lt;dbl&gt;</th><th scope=col>&lt;dbl&gt;</th><th scope=col>&lt;dbl&gt;</th><th scope=col>&lt;dbl&gt;</th><th scope=col>&lt;dbl&gt;</th><th scope=col>&lt;dbl&gt;</th><th scope=col>&lt;dbl&gt;</th><th scope=col>&lt;dbl&gt;</th><th scope=col>&lt;dbl&gt;</th><th scope=col>&lt;dbl&gt;</th><th scope=col>&lt;dbl&gt;</th></tr>\n",
       "</thead>\n",
       "<tbody>\n",
       "\t<tr><th scope=row>William Jewell College</th><td>Yes</td><td>  663</td><td> 547</td><td> 315</td><td>32</td><td>67</td><td> 1279</td><td>  75</td><td>10060</td><td>2970</td><td> 500</td><td>2600</td><td>74</td><td>80</td><td>11.2</td><td>19</td><td> 7885</td><td>59</td></tr>\n",
       "\t<tr><th scope=row>Baker University</th><td>Yes</td><td>  602</td><td> 483</td><td> 206</td><td>21</td><td>47</td><td>  958</td><td> 466</td><td> 8620</td><td>4100</td><td> 400</td><td>2250</td><td>58</td><td>68</td><td>11.0</td><td>21</td><td> 6136</td><td>65</td></tr>\n",
       "\t<tr><th scope=row>University of West Florida</th><td>No </td><td> 1558</td><td>1254</td><td> 472</td><td>20</td><td>57</td><td> 3754</td><td>2477</td><td> 6172</td><td>3994</td><td> 541</td><td>1387</td><td>83</td><td>87</td><td>23.4</td><td>12</td><td> 8488</td><td>53</td></tr>\n",
       "\t<tr><th scope=row>Columbia College</th><td>Yes</td><td>  737</td><td> 614</td><td> 242</td><td>21</td><td>67</td><td>  968</td><td> 237</td><td>10425</td><td>3975</td><td> 500</td><td>1500</td><td>61</td><td>77</td><td>14.7</td><td>34</td><td> 8693</td><td>76</td></tr>\n",
       "\t<tr><th scope=row>Christopher Newport University</th><td>No </td><td>  883</td><td> 766</td><td> 428</td><td> 3</td><td>37</td><td> 2910</td><td>1749</td><td> 7860</td><td>4750</td><td> 525</td><td>1889</td><td>80</td><td>82</td><td>21.2</td><td>16</td><td> 4639</td><td>48</td></tr>\n",
       "\t<tr><th scope=row>St. Martin's College</th><td>Yes</td><td>  191</td><td> 165</td><td>  63</td><td> 5</td><td>25</td><td>  494</td><td> 574</td><td>11550</td><td>4270</td><td> 300</td><td> 500</td><td>43</td><td>77</td><td>14.5</td><td> 8</td><td> 9209</td><td>40</td></tr>\n",
       "\t<tr><th scope=row>SUNY College at Plattsburgh</th><td>No </td><td> 5549</td><td>3583</td><td> 853</td><td> 9</td><td>40</td><td> 5004</td><td> 475</td><td> 6550</td><td>4176</td><td> 600</td><td>1380</td><td>80</td><td>90</td><td>17.9</td><td>16</td><td> 6174</td><td>65</td></tr>\n",
       "\t<tr><th scope=row>Milwaukee School of Engineering</th><td>Yes</td><td> 1217</td><td>1088</td><td> 496</td><td>36</td><td>69</td><td> 1773</td><td> 884</td><td>11505</td><td>3255</td><td>1000</td><td>2075</td><td>35</td><td>46</td><td>16.7</td><td>23</td><td> 7140</td><td>67</td></tr>\n",
       "\t<tr><th scope=row>Fresno Pacific College</th><td>Yes</td><td>  346</td><td> 274</td><td> 146</td><td>51</td><td>87</td><td>  704</td><td>  63</td><td> 9900</td><td>3670</td><td> 630</td><td>1818</td><td>59</td><td>59</td><td>10.5</td><td>14</td><td> 8095</td><td>54</td></tr>\n",
       "\t<tr><th scope=row>Furman University</th><td>Yes</td><td> 2161</td><td>1951</td><td> 685</td><td>56</td><td>82</td><td> 2371</td><td> 175</td><td>13440</td><td>4048</td><td> 600</td><td>1250</td><td>92</td><td>95</td><td>13.5</td><td>28</td><td>12940</td><td>82</td></tr>\n",
       "\t<tr><th scope=row>Bowling Green State University</th><td>No </td><td> 9251</td><td>7333</td><td>3076</td><td>14</td><td>45</td><td>13699</td><td>1213</td><td> 7452</td><td>3352</td><td> 600</td><td>1700</td><td>81</td><td>89</td><td>21.1</td><td>14</td><td> 6918</td><td>67</td></tr>\n",
       "\t<tr><th scope=row>Rockhurst College</th><td>Yes</td><td>  935</td><td> 858</td><td> 345</td><td>22</td><td>50</td><td> 1127</td><td> 754</td><td> 9490</td><td>4100</td><td> 500</td><td>1500</td><td>60</td><td>79</td><td>10.7</td><td>21</td><td> 7519</td><td>79</td></tr>\n",
       "\t<tr><th scope=row>Wellesley College</th><td>Yes</td><td> 2895</td><td>1249</td><td> 579</td><td>80</td><td>96</td><td> 2195</td><td> 156</td><td>18345</td><td>5995</td><td> 500</td><td> 700</td><td>94</td><td>98</td><td>10.6</td><td>51</td><td>21409</td><td>91</td></tr>\n",
       "\t<tr><th scope=row>Denison University</th><td>Yes</td><td> 2762</td><td>2279</td><td> 533</td><td>32</td><td>60</td><td> 1835</td><td>  14</td><td>16900</td><td>4720</td><td> 500</td><td> 600</td><td>88</td><td>97</td><td>11.6</td><td>45</td><td>12423</td><td>81</td></tr>\n",
       "\t<tr><th scope=row>Castleton State College</th><td>No </td><td> 1257</td><td> 940</td><td> 363</td><td> 9</td><td>22</td><td> 1547</td><td> 294</td><td> 7656</td><td>4690</td><td> 400</td><td> 700</td><td>89</td><td>91</td><td>14.7</td><td> 8</td><td> 6318</td><td>79</td></tr>\n",
       "\t<tr><th scope=row>Western Washington University</th><td>No </td><td> 5548</td><td>3563</td><td>1549</td><td>30</td><td>71</td><td> 8909</td><td> 506</td><td> 8124</td><td>4144</td><td> 639</td><td>2385</td><td>83</td><td>89</td><td>22.7</td><td>10</td><td> 7203</td><td>61</td></tr>\n",
       "\t<tr><th scope=row>Barry University</th><td>Yes</td><td>  990</td><td> 784</td><td> 279</td><td>18</td><td>45</td><td> 1811</td><td>3144</td><td>11290</td><td>5360</td><td> 600</td><td>1800</td><td>76</td><td>78</td><td>12.6</td><td>11</td><td> 9084</td><td>72</td></tr>\n",
       "\t<tr><th scope=row>Stetson University</th><td>Yes</td><td> 1557</td><td>1227</td><td> 489</td><td>37</td><td>69</td><td> 1964</td><td>  81</td><td>12315</td><td>4565</td><td> 600</td><td>1365</td><td>85</td><td>90</td><td>12.5</td><td>24</td><td>10307</td><td>73</td></tr>\n",
       "\t<tr><th scope=row>Kansas Wesleyan University</th><td>Yes</td><td>  589</td><td> 575</td><td> 148</td><td>16</td><td>40</td><td>  474</td><td> 258</td><td> 8400</td><td>3250</td><td> 500</td><td>1400</td><td>63</td><td>55</td><td>12.4</td><td>14</td><td> 6535</td><td>68</td></tr>\n",
       "\t<tr><th scope=row>Ohio University</th><td>No </td><td>11023</td><td>8298</td><td>3183</td><td>21</td><td>54</td><td>14861</td><td>1310</td><td> 7629</td><td>4095</td><td> 550</td><td>2300</td><td>79</td><td>87</td><td>20.4</td><td>13</td><td> 8811</td><td>64</td></tr>\n",
       "\t<tr><th scope=row>Stockton College of New Jersey</th><td>No </td><td> 4019</td><td>1579</td><td> 710</td><td>23</td><td>65</td><td> 4365</td><td> 765</td><td> 3040</td><td>4351</td><td> 711</td><td>1125</td><td>78</td><td>92</td><td>19.5</td><td> 7</td><td> 5599</td><td>64</td></tr>\n",
       "\t<tr><th scope=row>Willamette University</th><td>Yes</td><td> 1658</td><td>1327</td><td> 395</td><td>49</td><td>80</td><td> 1595</td><td> 159</td><td>14800</td><td>4620</td><td> 400</td><td> 790</td><td>91</td><td>94</td><td>13.3</td><td>37</td><td>10779</td><td>68</td></tr>\n",
       "\t<tr><th scope=row>Albertson College</th><td>Yes</td><td>  587</td><td> 479</td><td> 158</td><td>38</td><td>62</td><td>  678</td><td>  41</td><td>13500</td><td>3335</td><td> 500</td><td> 675</td><td>67</td><td>73</td><td> 9.4</td><td>11</td><td> 9727</td><td>55</td></tr>\n",
       "\t<tr><th scope=row>Saint Joseph's College IN</th><td>Yes</td><td>  920</td><td> 684</td><td> 225</td><td>24</td><td>42</td><td>  815</td><td> 222</td><td>11200</td><td>4250</td><td> 600</td><td> 950</td><td>55</td><td>60</td><td>14.8</td><td>19</td><td> 7360</td><td>67</td></tr>\n",
       "\t<tr><th scope=row>Loras College</th><td>Yes</td><td> 1641</td><td>1283</td><td> 527</td><td>20</td><td>39</td><td> 1663</td><td> 170</td><td>11200</td><td>4000</td><td> 500</td><td>1200</td><td>61</td><td>62</td><td>14.2</td><td>24</td><td> 7578</td><td>70</td></tr>\n",
       "\t<tr><th scope=row>Merrimack College</th><td>Yes</td><td> 1981</td><td>1541</td><td> 514</td><td>18</td><td>36</td><td> 1927</td><td>1084</td><td>12500</td><td>6200</td><td> 375</td><td>1000</td><td>73</td><td>75</td><td>16.8</td><td>22</td><td> 8707</td><td>80</td></tr>\n",
       "\t<tr><th scope=row>Allegheny College</th><td>Yes</td><td> 2652</td><td>1900</td><td> 484</td><td>44</td><td>77</td><td> 1707</td><td>  44</td><td>17080</td><td>4440</td><td> 400</td><td> 600</td><td>73</td><td>91</td><td> 9.9</td><td>41</td><td>11711</td><td>76</td></tr>\n",
       "\t<tr><th scope=row>William Woods University</th><td>Yes</td><td>  469</td><td> 435</td><td> 227</td><td>17</td><td>39</td><td>  851</td><td> 120</td><td>10535</td><td>4365</td><td> 550</td><td>3700</td><td>39</td><td>66</td><td>12.9</td><td>16</td><td> 7438</td><td>52</td></tr>\n",
       "\t<tr><th scope=row>Wesleyan University</th><td>Yes</td><td> 4772</td><td>1973</td><td> 712</td><td>60</td><td>86</td><td> 2714</td><td>  27</td><td>19130</td><td>5600</td><td>1400</td><td>1400</td><td>90</td><td>94</td><td>12.1</td><td>39</td><td>16262</td><td>92</td></tr>\n",
       "\t<tr><th scope=row>University of Missouri at Columbia</th><td>No </td><td> 6574</td><td>4637</td><td>2940</td><td>32</td><td>62</td><td>14782</td><td>1583</td><td> 9057</td><td>3485</td><td> 600</td><td>1983</td><td>87</td><td>87</td><td>12.7</td><td>15</td><td>10145</td><td>58</td></tr>\n",
       "\t<tr><th scope=row>⋮</th><td>⋮</td><td>⋮</td><td>⋮</td><td>⋮</td><td>⋮</td><td>⋮</td><td>⋮</td><td>⋮</td><td>⋮</td><td>⋮</td><td>⋮</td><td>⋮</td><td>⋮</td><td>⋮</td><td>⋮</td><td>⋮</td><td>⋮</td><td>⋮</td></tr>\n",
       "\t<tr><th scope=row>University of Miami</th><td>Yes</td><td> 7122</td><td> 5386</td><td>1643</td><td>42</td><td>69</td><td> 7760</td><td> 876</td><td>16500</td><td>6526</td><td>630</td><td>1985</td><td>82</td><td> 94</td><td> 5.9</td><td>17</td><td>17500</td><td>59</td></tr>\n",
       "\t<tr><th scope=row>Lake Forest College</th><td>Yes</td><td>  979</td><td>  638</td><td> 271</td><td>31</td><td>70</td><td>  968</td><td>  20</td><td>16880</td><td>3970</td><td>920</td><td>1320</td><td>91</td><td> 94</td><td>10.7</td><td>19</td><td>15687</td><td>77</td></tr>\n",
       "\t<tr><th scope=row>Notre Dame College</th><td>Yes</td><td>  379</td><td>  324</td><td> 107</td><td>15</td><td>37</td><td>  500</td><td> 311</td><td> 9990</td><td>4900</td><td>400</td><td> 600</td><td>44</td><td> 47</td><td>12.1</td><td>26</td><td> 4948</td><td>33</td></tr>\n",
       "\t<tr><th scope=row>University of Illinois - Urbana</th><td>No </td><td>14939</td><td>11652</td><td>5705</td><td>52</td><td>88</td><td>25422</td><td> 911</td><td> 7560</td><td>4574</td><td>500</td><td>1982</td><td>87</td><td> 90</td><td>17.4</td><td>13</td><td> 8559</td><td>81</td></tr>\n",
       "\t<tr><th scope=row>Westminster College of Salt Lake City</th><td>Yes</td><td>  917</td><td>  720</td><td> 213</td><td>21</td><td>60</td><td>  979</td><td> 743</td><td> 8820</td><td>4050</td><td>600</td><td>2025</td><td>68</td><td> 83</td><td>10.5</td><td>34</td><td> 7170</td><td>50</td></tr>\n",
       "\t<tr><th scope=row>College of St. Joseph</th><td>Yes</td><td>  141</td><td>  118</td><td>  55</td><td>12</td><td>21</td><td>  201</td><td> 173</td><td> 8300</td><td>4850</td><td>450</td><td>1300</td><td>53</td><td> 53</td><td> 9.5</td><td>19</td><td> 6936</td><td>76</td></tr>\n",
       "\t<tr><th scope=row>SUNY College at Geneseo</th><td>No </td><td> 8598</td><td> 4562</td><td>1143</td><td>56</td><td>93</td><td> 5060</td><td> 146</td><td> 6550</td><td>4170</td><td>600</td><td> 650</td><td>79</td><td> 84</td><td>19.1</td><td>25</td><td> 5716</td><td>76</td></tr>\n",
       "\t<tr><th scope=row>Our Lady of the Lake University</th><td>Yes</td><td> 2308</td><td> 1336</td><td> 295</td><td>22</td><td>46</td><td> 1202</td><td> 942</td><td> 8530</td><td>3644</td><td>616</td><td>1576</td><td>56</td><td> 64</td><td>14.9</td><td>25</td><td> 7114</td><td>37</td></tr>\n",
       "\t<tr><th scope=row>Graceland College</th><td>Yes</td><td>  555</td><td>  414</td><td> 242</td><td>14</td><td>41</td><td>  996</td><td>2281</td><td> 9100</td><td>3100</td><td>550</td><td> 880</td><td>51</td><td> 61</td><td>23.6</td><td>24</td><td> 5609</td><td>47</td></tr>\n",
       "\t<tr><th scope=row>University of Indianapolis</th><td>Yes</td><td> 1487</td><td> 1276</td><td> 388</td><td>26</td><td>51</td><td> 1417</td><td>1646</td><td>11120</td><td>4080</td><td>525</td><td>1405</td><td>55</td><td> 56</td><td>11.1</td><td>23</td><td> 6735</td><td>69</td></tr>\n",
       "\t<tr><th scope=row>Scripps College</th><td>Yes</td><td>  855</td><td>  632</td><td> 139</td><td>60</td><td>83</td><td>  569</td><td>   7</td><td>17238</td><td>7350</td><td>600</td><td> 800</td><td>95</td><td>100</td><td> 8.2</td><td>41</td><td>18372</td><td>73</td></tr>\n",
       "\t<tr><th scope=row>Manhattanville College</th><td>Yes</td><td>  962</td><td>  750</td><td> 212</td><td>21</td><td>54</td><td>  830</td><td> 150</td><td>14700</td><td>6550</td><td>450</td><td> 400</td><td>97</td><td> 97</td><td>11.3</td><td>24</td><td>11291</td><td>70</td></tr>\n",
       "\t<tr><th scope=row>Fairfield University</th><td>Yes</td><td> 4784</td><td> 3346</td><td> 781</td><td>30</td><td>66</td><td> 2984</td><td>1037</td><td>15000</td><td>6200</td><td>700</td><td>1100</td><td>86</td><td> 90</td><td>15.1</td><td>30</td><td>11220</td><td>94</td></tr>\n",
       "\t<tr><th scope=row>Viterbo College</th><td>Yes</td><td>  647</td><td>  518</td><td> 271</td><td>17</td><td>43</td><td> 1014</td><td> 387</td><td> 9140</td><td>3365</td><td>500</td><td>2245</td><td>51</td><td> 65</td><td>10.7</td><td>31</td><td> 8050</td><td>73</td></tr>\n",
       "\t<tr><th scope=row>University of South Carolina at Aiken</th><td>No </td><td>  848</td><td>  560</td><td> 377</td><td>14</td><td>24</td><td> 1855</td><td>1412</td><td> 5800</td><td>3066</td><td>500</td><td>1500</td><td>62</td><td> 62</td><td>14.8</td><td> 3</td><td> 5035</td><td>48</td></tr>\n",
       "\t<tr><th scope=row>La Roche College</th><td>Yes</td><td>  361</td><td>  321</td><td> 185</td><td>10</td><td>41</td><td>  650</td><td> 819</td><td> 8842</td><td>4782</td><td>600</td><td>1100</td><td>57</td><td> 73</td><td>14.2</td><td>14</td><td> 7022</td><td>52</td></tr>\n",
       "\t<tr><th scope=row>Mount Union College</th><td>Yes</td><td> 1310</td><td> 1086</td><td> 458</td><td>26</td><td>61</td><td> 1365</td><td> 144</td><td>12250</td><td>3530</td><td>400</td><td>1150</td><td>85</td><td> 87</td><td>16.7</td><td>35</td><td> 7215</td><td>81</td></tr>\n",
       "\t<tr><th scope=row>Marquette University</th><td>Yes</td><td> 5152</td><td> 4600</td><td>1685</td><td>36</td><td>71</td><td> 7016</td><td> 804</td><td>11610</td><td>4760</td><td>600</td><td>1950</td><td>86</td><td> 94</td><td>13.5</td><td>25</td><td> 9982</td><td>77</td></tr>\n",
       "\t<tr><th scope=row>North Dakota State University</th><td>No </td><td> 2968</td><td> 2297</td><td>1610</td><td>13</td><td>47</td><td> 7368</td><td>1128</td><td> 5834</td><td>2744</td><td>600</td><td>2000</td><td>79</td><td> 83</td><td>17.0</td><td>24</td><td> 6310</td><td>42</td></tr>\n",
       "\t<tr><th scope=row>University of Scranton</th><td>Yes</td><td> 4471</td><td> 2942</td><td> 910</td><td>29</td><td>60</td><td> 3674</td><td> 493</td><td>11584</td><td>5986</td><td>650</td><td> 800</td><td>83</td><td> 83</td><td>14.1</td><td>41</td><td> 9131</td><td>92</td></tr>\n",
       "\t<tr><th scope=row>Stonehill College</th><td>Yes</td><td> 3646</td><td> 2300</td><td> 585</td><td>25</td><td>69</td><td> 2022</td><td> 926</td><td>12170</td><td>6172</td><td>480</td><td> 800</td><td>79</td><td> 79</td><td>13.0</td><td>30</td><td> 7495</td><td>97</td></tr>\n",
       "\t<tr><th scope=row>Oakland University</th><td>No </td><td> 3041</td><td> 2581</td><td>1173</td><td>16</td><td>56</td><td> 6441</td><td>3982</td><td> 9114</td><td>4030</td><td>400</td><td> 650</td><td>88</td><td> 90</td><td>19.7</td><td>13</td><td> 6637</td><td>53</td></tr>\n",
       "\t<tr><th scope=row>Gettysburg College</th><td>Yes</td><td> 3596</td><td> 2466</td><td> 575</td><td>42</td><td>78</td><td> 1944</td><td>  46</td><td>19964</td><td>4328</td><td>500</td><td> 500</td><td>94</td><td> 95</td><td>12.1</td><td>32</td><td>14720</td><td>83</td></tr>\n",
       "\t<tr><th scope=row>Le Moyne College</th><td>Yes</td><td> 1470</td><td> 1199</td><td> 425</td><td>21</td><td>76</td><td> 1820</td><td> 558</td><td>11040</td><td>4840</td><td>400</td><td> 900</td><td>89</td><td> 92</td><td>13.3</td><td>28</td><td> 8118</td><td>94</td></tr>\n",
       "\t<tr><th scope=row>Tennessee Wesleyan College</th><td>Yes</td><td>  232</td><td>  182</td><td>  99</td><td> 7</td><td>29</td><td>  402</td><td> 237</td><td> 7070</td><td>3640</td><td>400</td><td>3158</td><td>59</td><td> 65</td><td> 8.9</td><td>16</td><td> 6286</td><td>36</td></tr>\n",
       "\t<tr><th scope=row>New Mexico Institute of Mining and Tech.</th><td>No </td><td>  787</td><td>  601</td><td> 233</td><td>40</td><td>73</td><td> 1017</td><td> 411</td><td> 5376</td><td>3214</td><td>600</td><td>1100</td><td>99</td><td>100</td><td>13.7</td><td>11</td><td> 9241</td><td>34</td></tr>\n",
       "\t<tr><th scope=row>Washington State University</th><td>No </td><td> 6540</td><td> 5839</td><td>2440</td><td>31</td><td>70</td><td>14445</td><td>1344</td><td> 8200</td><td>4210</td><td>800</td><td>2719</td><td>84</td><td> 87</td><td>16.9</td><td>30</td><td>10912</td><td>56</td></tr>\n",
       "\t<tr><th scope=row>McMurry University</th><td>Yes</td><td>  578</td><td>  411</td><td> 187</td><td>25</td><td>50</td><td>  880</td><td> 477</td><td> 6930</td><td>3452</td><td>400</td><td>1525</td><td>57</td><td> 64</td><td>11.0</td><td>11</td><td> 6383</td><td>32</td></tr>\n",
       "\t<tr><th scope=row>North Carolina State University at Raleigh</th><td>No </td><td>10634</td><td> 7064</td><td>3176</td><td>39</td><td>78</td><td>16505</td><td>5481</td><td> 8400</td><td>6540</td><td>600</td><td>1300</td><td>92</td><td> 98</td><td>17.5</td><td>21</td><td> 9670</td><td>62</td></tr>\n",
       "\t<tr><th scope=row>Whittier College</th><td>Yes</td><td> 1681</td><td> 1069</td><td> 344</td><td>35</td><td>63</td><td> 1235</td><td>  30</td><td>16249</td><td>5699</td><td>500</td><td>1998</td><td>84</td><td> 92</td><td>13.6</td><td>29</td><td>11778</td><td>52</td></tr>\n",
       "</tbody>\n",
       "</table>\n"
      ],
      "text/latex": [
       "A data.frame: 543 × 18\n",
       "\\begin{tabular}{r|llllllllllllllllll}\n",
       "  & Private & Apps & Accept & Enroll & Top10perc & Top25perc & F.Undergrad & P.Undergrad & Outstate & Room.Board & Books & Personal & PhD & Terminal & S.F.Ratio & perc.alumni & Expend & Grad.Rate\\\\\n",
       "  & <fct> & <dbl> & <dbl> & <dbl> & <dbl> & <dbl> & <dbl> & <dbl> & <dbl> & <dbl> & <dbl> & <dbl> & <dbl> & <dbl> & <dbl> & <dbl> & <dbl> & <dbl>\\\\\n",
       "\\hline\n",
       "\tWilliam Jewell College & Yes &   663 &  547 &  315 & 32 & 67 &  1279 &   75 & 10060 & 2970 &  500 & 2600 & 74 & 80 & 11.2 & 19 &  7885 & 59\\\\\n",
       "\tBaker University & Yes &   602 &  483 &  206 & 21 & 47 &   958 &  466 &  8620 & 4100 &  400 & 2250 & 58 & 68 & 11.0 & 21 &  6136 & 65\\\\\n",
       "\tUniversity of West Florida & No  &  1558 & 1254 &  472 & 20 & 57 &  3754 & 2477 &  6172 & 3994 &  541 & 1387 & 83 & 87 & 23.4 & 12 &  8488 & 53\\\\\n",
       "\tColumbia College & Yes &   737 &  614 &  242 & 21 & 67 &   968 &  237 & 10425 & 3975 &  500 & 1500 & 61 & 77 & 14.7 & 34 &  8693 & 76\\\\\n",
       "\tChristopher Newport University & No  &   883 &  766 &  428 &  3 & 37 &  2910 & 1749 &  7860 & 4750 &  525 & 1889 & 80 & 82 & 21.2 & 16 &  4639 & 48\\\\\n",
       "\tSt. Martin's College & Yes &   191 &  165 &   63 &  5 & 25 &   494 &  574 & 11550 & 4270 &  300 &  500 & 43 & 77 & 14.5 &  8 &  9209 & 40\\\\\n",
       "\tSUNY College at Plattsburgh & No  &  5549 & 3583 &  853 &  9 & 40 &  5004 &  475 &  6550 & 4176 &  600 & 1380 & 80 & 90 & 17.9 & 16 &  6174 & 65\\\\\n",
       "\tMilwaukee School of Engineering & Yes &  1217 & 1088 &  496 & 36 & 69 &  1773 &  884 & 11505 & 3255 & 1000 & 2075 & 35 & 46 & 16.7 & 23 &  7140 & 67\\\\\n",
       "\tFresno Pacific College & Yes &   346 &  274 &  146 & 51 & 87 &   704 &   63 &  9900 & 3670 &  630 & 1818 & 59 & 59 & 10.5 & 14 &  8095 & 54\\\\\n",
       "\tFurman University & Yes &  2161 & 1951 &  685 & 56 & 82 &  2371 &  175 & 13440 & 4048 &  600 & 1250 & 92 & 95 & 13.5 & 28 & 12940 & 82\\\\\n",
       "\tBowling Green State University & No  &  9251 & 7333 & 3076 & 14 & 45 & 13699 & 1213 &  7452 & 3352 &  600 & 1700 & 81 & 89 & 21.1 & 14 &  6918 & 67\\\\\n",
       "\tRockhurst College & Yes &   935 &  858 &  345 & 22 & 50 &  1127 &  754 &  9490 & 4100 &  500 & 1500 & 60 & 79 & 10.7 & 21 &  7519 & 79\\\\\n",
       "\tWellesley College & Yes &  2895 & 1249 &  579 & 80 & 96 &  2195 &  156 & 18345 & 5995 &  500 &  700 & 94 & 98 & 10.6 & 51 & 21409 & 91\\\\\n",
       "\tDenison University & Yes &  2762 & 2279 &  533 & 32 & 60 &  1835 &   14 & 16900 & 4720 &  500 &  600 & 88 & 97 & 11.6 & 45 & 12423 & 81\\\\\n",
       "\tCastleton State College & No  &  1257 &  940 &  363 &  9 & 22 &  1547 &  294 &  7656 & 4690 &  400 &  700 & 89 & 91 & 14.7 &  8 &  6318 & 79\\\\\n",
       "\tWestern Washington University & No  &  5548 & 3563 & 1549 & 30 & 71 &  8909 &  506 &  8124 & 4144 &  639 & 2385 & 83 & 89 & 22.7 & 10 &  7203 & 61\\\\\n",
       "\tBarry University & Yes &   990 &  784 &  279 & 18 & 45 &  1811 & 3144 & 11290 & 5360 &  600 & 1800 & 76 & 78 & 12.6 & 11 &  9084 & 72\\\\\n",
       "\tStetson University & Yes &  1557 & 1227 &  489 & 37 & 69 &  1964 &   81 & 12315 & 4565 &  600 & 1365 & 85 & 90 & 12.5 & 24 & 10307 & 73\\\\\n",
       "\tKansas Wesleyan University & Yes &   589 &  575 &  148 & 16 & 40 &   474 &  258 &  8400 & 3250 &  500 & 1400 & 63 & 55 & 12.4 & 14 &  6535 & 68\\\\\n",
       "\tOhio University & No  & 11023 & 8298 & 3183 & 21 & 54 & 14861 & 1310 &  7629 & 4095 &  550 & 2300 & 79 & 87 & 20.4 & 13 &  8811 & 64\\\\\n",
       "\tStockton College of New Jersey & No  &  4019 & 1579 &  710 & 23 & 65 &  4365 &  765 &  3040 & 4351 &  711 & 1125 & 78 & 92 & 19.5 &  7 &  5599 & 64\\\\\n",
       "\tWillamette University & Yes &  1658 & 1327 &  395 & 49 & 80 &  1595 &  159 & 14800 & 4620 &  400 &  790 & 91 & 94 & 13.3 & 37 & 10779 & 68\\\\\n",
       "\tAlbertson College & Yes &   587 &  479 &  158 & 38 & 62 &   678 &   41 & 13500 & 3335 &  500 &  675 & 67 & 73 &  9.4 & 11 &  9727 & 55\\\\\n",
       "\tSaint Joseph's College IN & Yes &   920 &  684 &  225 & 24 & 42 &   815 &  222 & 11200 & 4250 &  600 &  950 & 55 & 60 & 14.8 & 19 &  7360 & 67\\\\\n",
       "\tLoras College & Yes &  1641 & 1283 &  527 & 20 & 39 &  1663 &  170 & 11200 & 4000 &  500 & 1200 & 61 & 62 & 14.2 & 24 &  7578 & 70\\\\\n",
       "\tMerrimack College & Yes &  1981 & 1541 &  514 & 18 & 36 &  1927 & 1084 & 12500 & 6200 &  375 & 1000 & 73 & 75 & 16.8 & 22 &  8707 & 80\\\\\n",
       "\tAllegheny College & Yes &  2652 & 1900 &  484 & 44 & 77 &  1707 &   44 & 17080 & 4440 &  400 &  600 & 73 & 91 &  9.9 & 41 & 11711 & 76\\\\\n",
       "\tWilliam Woods University & Yes &   469 &  435 &  227 & 17 & 39 &   851 &  120 & 10535 & 4365 &  550 & 3700 & 39 & 66 & 12.9 & 16 &  7438 & 52\\\\\n",
       "\tWesleyan University & Yes &  4772 & 1973 &  712 & 60 & 86 &  2714 &   27 & 19130 & 5600 & 1400 & 1400 & 90 & 94 & 12.1 & 39 & 16262 & 92\\\\\n",
       "\tUniversity of Missouri at Columbia & No  &  6574 & 4637 & 2940 & 32 & 62 & 14782 & 1583 &  9057 & 3485 &  600 & 1983 & 87 & 87 & 12.7 & 15 & 10145 & 58\\\\\n",
       "\t⋮ & ⋮ & ⋮ & ⋮ & ⋮ & ⋮ & ⋮ & ⋮ & ⋮ & ⋮ & ⋮ & ⋮ & ⋮ & ⋮ & ⋮ & ⋮ & ⋮ & ⋮ & ⋮\\\\\n",
       "\tUniversity of Miami & Yes &  7122 &  5386 & 1643 & 42 & 69 &  7760 &  876 & 16500 & 6526 & 630 & 1985 & 82 &  94 &  5.9 & 17 & 17500 & 59\\\\\n",
       "\tLake Forest College & Yes &   979 &   638 &  271 & 31 & 70 &   968 &   20 & 16880 & 3970 & 920 & 1320 & 91 &  94 & 10.7 & 19 & 15687 & 77\\\\\n",
       "\tNotre Dame College & Yes &   379 &   324 &  107 & 15 & 37 &   500 &  311 &  9990 & 4900 & 400 &  600 & 44 &  47 & 12.1 & 26 &  4948 & 33\\\\\n",
       "\tUniversity of Illinois - Urbana & No  & 14939 & 11652 & 5705 & 52 & 88 & 25422 &  911 &  7560 & 4574 & 500 & 1982 & 87 &  90 & 17.4 & 13 &  8559 & 81\\\\\n",
       "\tWestminster College of Salt Lake City & Yes &   917 &   720 &  213 & 21 & 60 &   979 &  743 &  8820 & 4050 & 600 & 2025 & 68 &  83 & 10.5 & 34 &  7170 & 50\\\\\n",
       "\tCollege of St. Joseph & Yes &   141 &   118 &   55 & 12 & 21 &   201 &  173 &  8300 & 4850 & 450 & 1300 & 53 &  53 &  9.5 & 19 &  6936 & 76\\\\\n",
       "\tSUNY College at Geneseo & No  &  8598 &  4562 & 1143 & 56 & 93 &  5060 &  146 &  6550 & 4170 & 600 &  650 & 79 &  84 & 19.1 & 25 &  5716 & 76\\\\\n",
       "\tOur Lady of the Lake University & Yes &  2308 &  1336 &  295 & 22 & 46 &  1202 &  942 &  8530 & 3644 & 616 & 1576 & 56 &  64 & 14.9 & 25 &  7114 & 37\\\\\n",
       "\tGraceland College & Yes &   555 &   414 &  242 & 14 & 41 &   996 & 2281 &  9100 & 3100 & 550 &  880 & 51 &  61 & 23.6 & 24 &  5609 & 47\\\\\n",
       "\tUniversity of Indianapolis & Yes &  1487 &  1276 &  388 & 26 & 51 &  1417 & 1646 & 11120 & 4080 & 525 & 1405 & 55 &  56 & 11.1 & 23 &  6735 & 69\\\\\n",
       "\tScripps College & Yes &   855 &   632 &  139 & 60 & 83 &   569 &    7 & 17238 & 7350 & 600 &  800 & 95 & 100 &  8.2 & 41 & 18372 & 73\\\\\n",
       "\tManhattanville College & Yes &   962 &   750 &  212 & 21 & 54 &   830 &  150 & 14700 & 6550 & 450 &  400 & 97 &  97 & 11.3 & 24 & 11291 & 70\\\\\n",
       "\tFairfield University & Yes &  4784 &  3346 &  781 & 30 & 66 &  2984 & 1037 & 15000 & 6200 & 700 & 1100 & 86 &  90 & 15.1 & 30 & 11220 & 94\\\\\n",
       "\tViterbo College & Yes &   647 &   518 &  271 & 17 & 43 &  1014 &  387 &  9140 & 3365 & 500 & 2245 & 51 &  65 & 10.7 & 31 &  8050 & 73\\\\\n",
       "\tUniversity of South Carolina at Aiken & No  &   848 &   560 &  377 & 14 & 24 &  1855 & 1412 &  5800 & 3066 & 500 & 1500 & 62 &  62 & 14.8 &  3 &  5035 & 48\\\\\n",
       "\tLa Roche College & Yes &   361 &   321 &  185 & 10 & 41 &   650 &  819 &  8842 & 4782 & 600 & 1100 & 57 &  73 & 14.2 & 14 &  7022 & 52\\\\\n",
       "\tMount Union College & Yes &  1310 &  1086 &  458 & 26 & 61 &  1365 &  144 & 12250 & 3530 & 400 & 1150 & 85 &  87 & 16.7 & 35 &  7215 & 81\\\\\n",
       "\tMarquette University & Yes &  5152 &  4600 & 1685 & 36 & 71 &  7016 &  804 & 11610 & 4760 & 600 & 1950 & 86 &  94 & 13.5 & 25 &  9982 & 77\\\\\n",
       "\tNorth Dakota State University & No  &  2968 &  2297 & 1610 & 13 & 47 &  7368 & 1128 &  5834 & 2744 & 600 & 2000 & 79 &  83 & 17.0 & 24 &  6310 & 42\\\\\n",
       "\tUniversity of Scranton & Yes &  4471 &  2942 &  910 & 29 & 60 &  3674 &  493 & 11584 & 5986 & 650 &  800 & 83 &  83 & 14.1 & 41 &  9131 & 92\\\\\n",
       "\tStonehill College & Yes &  3646 &  2300 &  585 & 25 & 69 &  2022 &  926 & 12170 & 6172 & 480 &  800 & 79 &  79 & 13.0 & 30 &  7495 & 97\\\\\n",
       "\tOakland University & No  &  3041 &  2581 & 1173 & 16 & 56 &  6441 & 3982 &  9114 & 4030 & 400 &  650 & 88 &  90 & 19.7 & 13 &  6637 & 53\\\\\n",
       "\tGettysburg College & Yes &  3596 &  2466 &  575 & 42 & 78 &  1944 &   46 & 19964 & 4328 & 500 &  500 & 94 &  95 & 12.1 & 32 & 14720 & 83\\\\\n",
       "\tLe Moyne College & Yes &  1470 &  1199 &  425 & 21 & 76 &  1820 &  558 & 11040 & 4840 & 400 &  900 & 89 &  92 & 13.3 & 28 &  8118 & 94\\\\\n",
       "\tTennessee Wesleyan College & Yes &   232 &   182 &   99 &  7 & 29 &   402 &  237 &  7070 & 3640 & 400 & 3158 & 59 &  65 &  8.9 & 16 &  6286 & 36\\\\\n",
       "\tNew Mexico Institute of Mining and Tech. & No  &   787 &   601 &  233 & 40 & 73 &  1017 &  411 &  5376 & 3214 & 600 & 1100 & 99 & 100 & 13.7 & 11 &  9241 & 34\\\\\n",
       "\tWashington State University & No  &  6540 &  5839 & 2440 & 31 & 70 & 14445 & 1344 &  8200 & 4210 & 800 & 2719 & 84 &  87 & 16.9 & 30 & 10912 & 56\\\\\n",
       "\tMcMurry University & Yes &   578 &   411 &  187 & 25 & 50 &   880 &  477 &  6930 & 3452 & 400 & 1525 & 57 &  64 & 11.0 & 11 &  6383 & 32\\\\\n",
       "\tNorth Carolina State University at Raleigh & No  & 10634 &  7064 & 3176 & 39 & 78 & 16505 & 5481 &  8400 & 6540 & 600 & 1300 & 92 &  98 & 17.5 & 21 &  9670 & 62\\\\\n",
       "\tWhittier College & Yes &  1681 &  1069 &  344 & 35 & 63 &  1235 &   30 & 16249 & 5699 & 500 & 1998 & 84 &  92 & 13.6 & 29 & 11778 & 52\\\\\n",
       "\\end{tabular}\n"
      ],
      "text/markdown": [
       "\n",
       "A data.frame: 543 × 18\n",
       "\n",
       "| <!--/--> | Private &lt;fct&gt; | Apps &lt;dbl&gt; | Accept &lt;dbl&gt; | Enroll &lt;dbl&gt; | Top10perc &lt;dbl&gt; | Top25perc &lt;dbl&gt; | F.Undergrad &lt;dbl&gt; | P.Undergrad &lt;dbl&gt; | Outstate &lt;dbl&gt; | Room.Board &lt;dbl&gt; | Books &lt;dbl&gt; | Personal &lt;dbl&gt; | PhD &lt;dbl&gt; | Terminal &lt;dbl&gt; | S.F.Ratio &lt;dbl&gt; | perc.alumni &lt;dbl&gt; | Expend &lt;dbl&gt; | Grad.Rate &lt;dbl&gt; |\n",
       "|---|---|---|---|---|---|---|---|---|---|---|---|---|---|---|---|---|---|---|\n",
       "| William Jewell College | Yes |   663 |  547 |  315 | 32 | 67 |  1279 |   75 | 10060 | 2970 |  500 | 2600 | 74 | 80 | 11.2 | 19 |  7885 | 59 |\n",
       "| Baker University | Yes |   602 |  483 |  206 | 21 | 47 |   958 |  466 |  8620 | 4100 |  400 | 2250 | 58 | 68 | 11.0 | 21 |  6136 | 65 |\n",
       "| University of West Florida | No  |  1558 | 1254 |  472 | 20 | 57 |  3754 | 2477 |  6172 | 3994 |  541 | 1387 | 83 | 87 | 23.4 | 12 |  8488 | 53 |\n",
       "| Columbia College | Yes |   737 |  614 |  242 | 21 | 67 |   968 |  237 | 10425 | 3975 |  500 | 1500 | 61 | 77 | 14.7 | 34 |  8693 | 76 |\n",
       "| Christopher Newport University | No  |   883 |  766 |  428 |  3 | 37 |  2910 | 1749 |  7860 | 4750 |  525 | 1889 | 80 | 82 | 21.2 | 16 |  4639 | 48 |\n",
       "| St. Martin's College | Yes |   191 |  165 |   63 |  5 | 25 |   494 |  574 | 11550 | 4270 |  300 |  500 | 43 | 77 | 14.5 |  8 |  9209 | 40 |\n",
       "| SUNY College at Plattsburgh | No  |  5549 | 3583 |  853 |  9 | 40 |  5004 |  475 |  6550 | 4176 |  600 | 1380 | 80 | 90 | 17.9 | 16 |  6174 | 65 |\n",
       "| Milwaukee School of Engineering | Yes |  1217 | 1088 |  496 | 36 | 69 |  1773 |  884 | 11505 | 3255 | 1000 | 2075 | 35 | 46 | 16.7 | 23 |  7140 | 67 |\n",
       "| Fresno Pacific College | Yes |   346 |  274 |  146 | 51 | 87 |   704 |   63 |  9900 | 3670 |  630 | 1818 | 59 | 59 | 10.5 | 14 |  8095 | 54 |\n",
       "| Furman University | Yes |  2161 | 1951 |  685 | 56 | 82 |  2371 |  175 | 13440 | 4048 |  600 | 1250 | 92 | 95 | 13.5 | 28 | 12940 | 82 |\n",
       "| Bowling Green State University | No  |  9251 | 7333 | 3076 | 14 | 45 | 13699 | 1213 |  7452 | 3352 |  600 | 1700 | 81 | 89 | 21.1 | 14 |  6918 | 67 |\n",
       "| Rockhurst College | Yes |   935 |  858 |  345 | 22 | 50 |  1127 |  754 |  9490 | 4100 |  500 | 1500 | 60 | 79 | 10.7 | 21 |  7519 | 79 |\n",
       "| Wellesley College | Yes |  2895 | 1249 |  579 | 80 | 96 |  2195 |  156 | 18345 | 5995 |  500 |  700 | 94 | 98 | 10.6 | 51 | 21409 | 91 |\n",
       "| Denison University | Yes |  2762 | 2279 |  533 | 32 | 60 |  1835 |   14 | 16900 | 4720 |  500 |  600 | 88 | 97 | 11.6 | 45 | 12423 | 81 |\n",
       "| Castleton State College | No  |  1257 |  940 |  363 |  9 | 22 |  1547 |  294 |  7656 | 4690 |  400 |  700 | 89 | 91 | 14.7 |  8 |  6318 | 79 |\n",
       "| Western Washington University | No  |  5548 | 3563 | 1549 | 30 | 71 |  8909 |  506 |  8124 | 4144 |  639 | 2385 | 83 | 89 | 22.7 | 10 |  7203 | 61 |\n",
       "| Barry University | Yes |   990 |  784 |  279 | 18 | 45 |  1811 | 3144 | 11290 | 5360 |  600 | 1800 | 76 | 78 | 12.6 | 11 |  9084 | 72 |\n",
       "| Stetson University | Yes |  1557 | 1227 |  489 | 37 | 69 |  1964 |   81 | 12315 | 4565 |  600 | 1365 | 85 | 90 | 12.5 | 24 | 10307 | 73 |\n",
       "| Kansas Wesleyan University | Yes |   589 |  575 |  148 | 16 | 40 |   474 |  258 |  8400 | 3250 |  500 | 1400 | 63 | 55 | 12.4 | 14 |  6535 | 68 |\n",
       "| Ohio University | No  | 11023 | 8298 | 3183 | 21 | 54 | 14861 | 1310 |  7629 | 4095 |  550 | 2300 | 79 | 87 | 20.4 | 13 |  8811 | 64 |\n",
       "| Stockton College of New Jersey | No  |  4019 | 1579 |  710 | 23 | 65 |  4365 |  765 |  3040 | 4351 |  711 | 1125 | 78 | 92 | 19.5 |  7 |  5599 | 64 |\n",
       "| Willamette University | Yes |  1658 | 1327 |  395 | 49 | 80 |  1595 |  159 | 14800 | 4620 |  400 |  790 | 91 | 94 | 13.3 | 37 | 10779 | 68 |\n",
       "| Albertson College | Yes |   587 |  479 |  158 | 38 | 62 |   678 |   41 | 13500 | 3335 |  500 |  675 | 67 | 73 |  9.4 | 11 |  9727 | 55 |\n",
       "| Saint Joseph's College IN | Yes |   920 |  684 |  225 | 24 | 42 |   815 |  222 | 11200 | 4250 |  600 |  950 | 55 | 60 | 14.8 | 19 |  7360 | 67 |\n",
       "| Loras College | Yes |  1641 | 1283 |  527 | 20 | 39 |  1663 |  170 | 11200 | 4000 |  500 | 1200 | 61 | 62 | 14.2 | 24 |  7578 | 70 |\n",
       "| Merrimack College | Yes |  1981 | 1541 |  514 | 18 | 36 |  1927 | 1084 | 12500 | 6200 |  375 | 1000 | 73 | 75 | 16.8 | 22 |  8707 | 80 |\n",
       "| Allegheny College | Yes |  2652 | 1900 |  484 | 44 | 77 |  1707 |   44 | 17080 | 4440 |  400 |  600 | 73 | 91 |  9.9 | 41 | 11711 | 76 |\n",
       "| William Woods University | Yes |   469 |  435 |  227 | 17 | 39 |   851 |  120 | 10535 | 4365 |  550 | 3700 | 39 | 66 | 12.9 | 16 |  7438 | 52 |\n",
       "| Wesleyan University | Yes |  4772 | 1973 |  712 | 60 | 86 |  2714 |   27 | 19130 | 5600 | 1400 | 1400 | 90 | 94 | 12.1 | 39 | 16262 | 92 |\n",
       "| University of Missouri at Columbia | No  |  6574 | 4637 | 2940 | 32 | 62 | 14782 | 1583 |  9057 | 3485 |  600 | 1983 | 87 | 87 | 12.7 | 15 | 10145 | 58 |\n",
       "| ⋮ | ⋮ | ⋮ | ⋮ | ⋮ | ⋮ | ⋮ | ⋮ | ⋮ | ⋮ | ⋮ | ⋮ | ⋮ | ⋮ | ⋮ | ⋮ | ⋮ | ⋮ | ⋮ |\n",
       "| University of Miami | Yes |  7122 |  5386 | 1643 | 42 | 69 |  7760 |  876 | 16500 | 6526 | 630 | 1985 | 82 |  94 |  5.9 | 17 | 17500 | 59 |\n",
       "| Lake Forest College | Yes |   979 |   638 |  271 | 31 | 70 |   968 |   20 | 16880 | 3970 | 920 | 1320 | 91 |  94 | 10.7 | 19 | 15687 | 77 |\n",
       "| Notre Dame College | Yes |   379 |   324 |  107 | 15 | 37 |   500 |  311 |  9990 | 4900 | 400 |  600 | 44 |  47 | 12.1 | 26 |  4948 | 33 |\n",
       "| University of Illinois - Urbana | No  | 14939 | 11652 | 5705 | 52 | 88 | 25422 |  911 |  7560 | 4574 | 500 | 1982 | 87 |  90 | 17.4 | 13 |  8559 | 81 |\n",
       "| Westminster College of Salt Lake City | Yes |   917 |   720 |  213 | 21 | 60 |   979 |  743 |  8820 | 4050 | 600 | 2025 | 68 |  83 | 10.5 | 34 |  7170 | 50 |\n",
       "| College of St. Joseph | Yes |   141 |   118 |   55 | 12 | 21 |   201 |  173 |  8300 | 4850 | 450 | 1300 | 53 |  53 |  9.5 | 19 |  6936 | 76 |\n",
       "| SUNY College at Geneseo | No  |  8598 |  4562 | 1143 | 56 | 93 |  5060 |  146 |  6550 | 4170 | 600 |  650 | 79 |  84 | 19.1 | 25 |  5716 | 76 |\n",
       "| Our Lady of the Lake University | Yes |  2308 |  1336 |  295 | 22 | 46 |  1202 |  942 |  8530 | 3644 | 616 | 1576 | 56 |  64 | 14.9 | 25 |  7114 | 37 |\n",
       "| Graceland College | Yes |   555 |   414 |  242 | 14 | 41 |   996 | 2281 |  9100 | 3100 | 550 |  880 | 51 |  61 | 23.6 | 24 |  5609 | 47 |\n",
       "| University of Indianapolis | Yes |  1487 |  1276 |  388 | 26 | 51 |  1417 | 1646 | 11120 | 4080 | 525 | 1405 | 55 |  56 | 11.1 | 23 |  6735 | 69 |\n",
       "| Scripps College | Yes |   855 |   632 |  139 | 60 | 83 |   569 |    7 | 17238 | 7350 | 600 |  800 | 95 | 100 |  8.2 | 41 | 18372 | 73 |\n",
       "| Manhattanville College | Yes |   962 |   750 |  212 | 21 | 54 |   830 |  150 | 14700 | 6550 | 450 |  400 | 97 |  97 | 11.3 | 24 | 11291 | 70 |\n",
       "| Fairfield University | Yes |  4784 |  3346 |  781 | 30 | 66 |  2984 | 1037 | 15000 | 6200 | 700 | 1100 | 86 |  90 | 15.1 | 30 | 11220 | 94 |\n",
       "| Viterbo College | Yes |   647 |   518 |  271 | 17 | 43 |  1014 |  387 |  9140 | 3365 | 500 | 2245 | 51 |  65 | 10.7 | 31 |  8050 | 73 |\n",
       "| University of South Carolina at Aiken | No  |   848 |   560 |  377 | 14 | 24 |  1855 | 1412 |  5800 | 3066 | 500 | 1500 | 62 |  62 | 14.8 |  3 |  5035 | 48 |\n",
       "| La Roche College | Yes |   361 |   321 |  185 | 10 | 41 |   650 |  819 |  8842 | 4782 | 600 | 1100 | 57 |  73 | 14.2 | 14 |  7022 | 52 |\n",
       "| Mount Union College | Yes |  1310 |  1086 |  458 | 26 | 61 |  1365 |  144 | 12250 | 3530 | 400 | 1150 | 85 |  87 | 16.7 | 35 |  7215 | 81 |\n",
       "| Marquette University | Yes |  5152 |  4600 | 1685 | 36 | 71 |  7016 |  804 | 11610 | 4760 | 600 | 1950 | 86 |  94 | 13.5 | 25 |  9982 | 77 |\n",
       "| North Dakota State University | No  |  2968 |  2297 | 1610 | 13 | 47 |  7368 | 1128 |  5834 | 2744 | 600 | 2000 | 79 |  83 | 17.0 | 24 |  6310 | 42 |\n",
       "| University of Scranton | Yes |  4471 |  2942 |  910 | 29 | 60 |  3674 |  493 | 11584 | 5986 | 650 |  800 | 83 |  83 | 14.1 | 41 |  9131 | 92 |\n",
       "| Stonehill College | Yes |  3646 |  2300 |  585 | 25 | 69 |  2022 |  926 | 12170 | 6172 | 480 |  800 | 79 |  79 | 13.0 | 30 |  7495 | 97 |\n",
       "| Oakland University | No  |  3041 |  2581 | 1173 | 16 | 56 |  6441 | 3982 |  9114 | 4030 | 400 |  650 | 88 |  90 | 19.7 | 13 |  6637 | 53 |\n",
       "| Gettysburg College | Yes |  3596 |  2466 |  575 | 42 | 78 |  1944 |   46 | 19964 | 4328 | 500 |  500 | 94 |  95 | 12.1 | 32 | 14720 | 83 |\n",
       "| Le Moyne College | Yes |  1470 |  1199 |  425 | 21 | 76 |  1820 |  558 | 11040 | 4840 | 400 |  900 | 89 |  92 | 13.3 | 28 |  8118 | 94 |\n",
       "| Tennessee Wesleyan College | Yes |   232 |   182 |   99 |  7 | 29 |   402 |  237 |  7070 | 3640 | 400 | 3158 | 59 |  65 |  8.9 | 16 |  6286 | 36 |\n",
       "| New Mexico Institute of Mining and Tech. | No  |   787 |   601 |  233 | 40 | 73 |  1017 |  411 |  5376 | 3214 | 600 | 1100 | 99 | 100 | 13.7 | 11 |  9241 | 34 |\n",
       "| Washington State University | No  |  6540 |  5839 | 2440 | 31 | 70 | 14445 | 1344 |  8200 | 4210 | 800 | 2719 | 84 |  87 | 16.9 | 30 | 10912 | 56 |\n",
       "| McMurry University | Yes |   578 |   411 |  187 | 25 | 50 |   880 |  477 |  6930 | 3452 | 400 | 1525 | 57 |  64 | 11.0 | 11 |  6383 | 32 |\n",
       "| North Carolina State University at Raleigh | No  | 10634 |  7064 | 3176 | 39 | 78 | 16505 | 5481 |  8400 | 6540 | 600 | 1300 | 92 |  98 | 17.5 | 21 |  9670 | 62 |\n",
       "| Whittier College | Yes |  1681 |  1069 |  344 | 35 | 63 |  1235 |   30 | 16249 | 5699 | 500 | 1998 | 84 |  92 | 13.6 | 29 | 11778 | 52 |\n",
       "\n"
      ],
      "text/plain": [
       "                                           Private Apps  Accept Enroll\n",
       "William Jewell College                     Yes       663  547    315  \n",
       "Baker University                           Yes       602  483    206  \n",
       "University of West Florida                 No       1558 1254    472  \n",
       "Columbia College                           Yes       737  614    242  \n",
       "Christopher Newport University             No        883  766    428  \n",
       "St. Martin's College                       Yes       191  165     63  \n",
       "SUNY College at Plattsburgh                No       5549 3583    853  \n",
       "Milwaukee School of Engineering            Yes      1217 1088    496  \n",
       "Fresno Pacific College                     Yes       346  274    146  \n",
       "Furman University                          Yes      2161 1951    685  \n",
       "Bowling Green State University             No       9251 7333   3076  \n",
       "Rockhurst College                          Yes       935  858    345  \n",
       "Wellesley College                          Yes      2895 1249    579  \n",
       "Denison University                         Yes      2762 2279    533  \n",
       "Castleton State College                    No       1257  940    363  \n",
       "Western Washington University              No       5548 3563   1549  \n",
       "Barry University                           Yes       990  784    279  \n",
       "Stetson University                         Yes      1557 1227    489  \n",
       "Kansas Wesleyan University                 Yes       589  575    148  \n",
       "Ohio University                            No      11023 8298   3183  \n",
       "Stockton College of New Jersey             No       4019 1579    710  \n",
       "Willamette University                      Yes      1658 1327    395  \n",
       "Albertson College                          Yes       587  479    158  \n",
       "Saint Joseph's College IN                  Yes       920  684    225  \n",
       "Loras College                              Yes      1641 1283    527  \n",
       "Merrimack College                          Yes      1981 1541    514  \n",
       "Allegheny College                          Yes      2652 1900    484  \n",
       "William Woods University                   Yes       469  435    227  \n",
       "Wesleyan University                        Yes      4772 1973    712  \n",
       "University of Missouri at Columbia         No       6574 4637   2940  \n",
       "<U+22EE>                                          <U+22EE> <U+22EE> <U+22EE> <U+22EE>\n",
       "University of Miami                        Yes      7122  5386  1643  \n",
       "Lake Forest College                        Yes       979   638   271  \n",
       "Notre Dame College                         Yes       379   324   107  \n",
       "University of Illinois - Urbana            No      14939 11652  5705  \n",
       "Westminster College of Salt Lake City      Yes       917   720   213  \n",
       "College of St. Joseph                      Yes       141   118    55  \n",
       "SUNY College at Geneseo                    No       8598  4562  1143  \n",
       "Our Lady of the Lake University            Yes      2308  1336   295  \n",
       "Graceland College                          Yes       555   414   242  \n",
       "University of Indianapolis                 Yes      1487  1276   388  \n",
       "Scripps College                            Yes       855   632   139  \n",
       "Manhattanville College                     Yes       962   750   212  \n",
       "Fairfield University                       Yes      4784  3346   781  \n",
       "Viterbo College                            Yes       647   518   271  \n",
       "University of South Carolina at Aiken      No        848   560   377  \n",
       "La Roche College                           Yes       361   321   185  \n",
       "Mount Union College                        Yes      1310  1086   458  \n",
       "Marquette University                       Yes      5152  4600  1685  \n",
       "North Dakota State University              No       2968  2297  1610  \n",
       "University of Scranton                     Yes      4471  2942   910  \n",
       "Stonehill College                          Yes      3646  2300   585  \n",
       "Oakland University                         No       3041  2581  1173  \n",
       "Gettysburg College                         Yes      3596  2466   575  \n",
       "Le Moyne College                           Yes      1470  1199   425  \n",
       "Tennessee Wesleyan College                 Yes       232   182    99  \n",
       "New Mexico Institute of Mining and Tech.   No        787   601   233  \n",
       "Washington State University                No       6540  5839  2440  \n",
       "McMurry University                         Yes       578   411   187  \n",
       "North Carolina State University at Raleigh No      10634  7064  3176  \n",
       "Whittier College                           Yes      1681  1069   344  \n",
       "                                           Top10perc Top25perc F.Undergrad\n",
       "William Jewell College                     32        67         1279      \n",
       "Baker University                           21        47          958      \n",
       "University of West Florida                 20        57         3754      \n",
       "Columbia College                           21        67          968      \n",
       "Christopher Newport University              3        37         2910      \n",
       "St. Martin's College                        5        25          494      \n",
       "SUNY College at Plattsburgh                 9        40         5004      \n",
       "Milwaukee School of Engineering            36        69         1773      \n",
       "Fresno Pacific College                     51        87          704      \n",
       "Furman University                          56        82         2371      \n",
       "Bowling Green State University             14        45        13699      \n",
       "Rockhurst College                          22        50         1127      \n",
       "Wellesley College                          80        96         2195      \n",
       "Denison University                         32        60         1835      \n",
       "Castleton State College                     9        22         1547      \n",
       "Western Washington University              30        71         8909      \n",
       "Barry University                           18        45         1811      \n",
       "Stetson University                         37        69         1964      \n",
       "Kansas Wesleyan University                 16        40          474      \n",
       "Ohio University                            21        54        14861      \n",
       "Stockton College of New Jersey             23        65         4365      \n",
       "Willamette University                      49        80         1595      \n",
       "Albertson College                          38        62          678      \n",
       "Saint Joseph's College IN                  24        42          815      \n",
       "Loras College                              20        39         1663      \n",
       "Merrimack College                          18        36         1927      \n",
       "Allegheny College                          44        77         1707      \n",
       "William Woods University                   17        39          851      \n",
       "Wesleyan University                        60        86         2714      \n",
       "University of Missouri at Columbia         32        62        14782      \n",
       "<U+22EE>                                          <U+22EE>  <U+22EE>  <U+22EE>   \n",
       "University of Miami                        42        69         7760      \n",
       "Lake Forest College                        31        70          968      \n",
       "Notre Dame College                         15        37          500      \n",
       "University of Illinois - Urbana            52        88        25422      \n",
       "Westminster College of Salt Lake City      21        60          979      \n",
       "College of St. Joseph                      12        21          201      \n",
       "SUNY College at Geneseo                    56        93         5060      \n",
       "Our Lady of the Lake University            22        46         1202      \n",
       "Graceland College                          14        41          996      \n",
       "University of Indianapolis                 26        51         1417      \n",
       "Scripps College                            60        83          569      \n",
       "Manhattanville College                     21        54          830      \n",
       "Fairfield University                       30        66         2984      \n",
       "Viterbo College                            17        43         1014      \n",
       "University of South Carolina at Aiken      14        24         1855      \n",
       "La Roche College                           10        41          650      \n",
       "Mount Union College                        26        61         1365      \n",
       "Marquette University                       36        71         7016      \n",
       "North Dakota State University              13        47         7368      \n",
       "University of Scranton                     29        60         3674      \n",
       "Stonehill College                          25        69         2022      \n",
       "Oakland University                         16        56         6441      \n",
       "Gettysburg College                         42        78         1944      \n",
       "Le Moyne College                           21        76         1820      \n",
       "Tennessee Wesleyan College                  7        29          402      \n",
       "New Mexico Institute of Mining and Tech.   40        73         1017      \n",
       "Washington State University                31        70        14445      \n",
       "McMurry University                         25        50          880      \n",
       "North Carolina State University at Raleigh 39        78        16505      \n",
       "Whittier College                           35        63         1235      \n",
       "                                           P.Undergrad Outstate Room.Board\n",
       "William Jewell College                       75        10060    2970      \n",
       "Baker University                            466         8620    4100      \n",
       "University of West Florida                 2477         6172    3994      \n",
       "Columbia College                            237        10425    3975      \n",
       "Christopher Newport University             1749         7860    4750      \n",
       "St. Martin's College                        574        11550    4270      \n",
       "SUNY College at Plattsburgh                 475         6550    4176      \n",
       "Milwaukee School of Engineering             884        11505    3255      \n",
       "Fresno Pacific College                       63         9900    3670      \n",
       "Furman University                           175        13440    4048      \n",
       "Bowling Green State University             1213         7452    3352      \n",
       "Rockhurst College                           754         9490    4100      \n",
       "Wellesley College                           156        18345    5995      \n",
       "Denison University                           14        16900    4720      \n",
       "Castleton State College                     294         7656    4690      \n",
       "Western Washington University               506         8124    4144      \n",
       "Barry University                           3144        11290    5360      \n",
       "Stetson University                           81        12315    4565      \n",
       "Kansas Wesleyan University                  258         8400    3250      \n",
       "Ohio University                            1310         7629    4095      \n",
       "Stockton College of New Jersey              765         3040    4351      \n",
       "Willamette University                       159        14800    4620      \n",
       "Albertson College                            41        13500    3335      \n",
       "Saint Joseph's College IN                   222        11200    4250      \n",
       "Loras College                               170        11200    4000      \n",
       "Merrimack College                          1084        12500    6200      \n",
       "Allegheny College                            44        17080    4440      \n",
       "William Woods University                    120        10535    4365      \n",
       "Wesleyan University                          27        19130    5600      \n",
       "University of Missouri at Columbia         1583         9057    3485      \n",
       "<U+22EE>                                          <U+22EE>    <U+22EE> <U+22EE>  \n",
       "University of Miami                         876        16500    6526      \n",
       "Lake Forest College                          20        16880    3970      \n",
       "Notre Dame College                          311         9990    4900      \n",
       "University of Illinois - Urbana             911         7560    4574      \n",
       "Westminster College of Salt Lake City       743         8820    4050      \n",
       "College of St. Joseph                       173         8300    4850      \n",
       "SUNY College at Geneseo                     146         6550    4170      \n",
       "Our Lady of the Lake University             942         8530    3644      \n",
       "Graceland College                          2281         9100    3100      \n",
       "University of Indianapolis                 1646        11120    4080      \n",
       "Scripps College                               7        17238    7350      \n",
       "Manhattanville College                      150        14700    6550      \n",
       "Fairfield University                       1037        15000    6200      \n",
       "Viterbo College                             387         9140    3365      \n",
       "University of South Carolina at Aiken      1412         5800    3066      \n",
       "La Roche College                            819         8842    4782      \n",
       "Mount Union College                         144        12250    3530      \n",
       "Marquette University                        804        11610    4760      \n",
       "North Dakota State University              1128         5834    2744      \n",
       "University of Scranton                      493        11584    5986      \n",
       "Stonehill College                           926        12170    6172      \n",
       "Oakland University                         3982         9114    4030      \n",
       "Gettysburg College                           46        19964    4328      \n",
       "Le Moyne College                            558        11040    4840      \n",
       "Tennessee Wesleyan College                  237         7070    3640      \n",
       "New Mexico Institute of Mining and Tech.    411         5376    3214      \n",
       "Washington State University                1344         8200    4210      \n",
       "McMurry University                          477         6930    3452      \n",
       "North Carolina State University at Raleigh 5481         8400    6540      \n",
       "Whittier College                             30        16249    5699      \n",
       "                                           Books Personal PhD Terminal\n",
       "William Jewell College                      500  2600     74  80      \n",
       "Baker University                            400  2250     58  68      \n",
       "University of West Florida                  541  1387     83  87      \n",
       "Columbia College                            500  1500     61  77      \n",
       "Christopher Newport University              525  1889     80  82      \n",
       "St. Martin's College                        300   500     43  77      \n",
       "SUNY College at Plattsburgh                 600  1380     80  90      \n",
       "Milwaukee School of Engineering            1000  2075     35  46      \n",
       "Fresno Pacific College                      630  1818     59  59      \n",
       "Furman University                           600  1250     92  95      \n",
       "Bowling Green State University              600  1700     81  89      \n",
       "Rockhurst College                           500  1500     60  79      \n",
       "Wellesley College                           500   700     94  98      \n",
       "Denison University                          500   600     88  97      \n",
       "Castleton State College                     400   700     89  91      \n",
       "Western Washington University               639  2385     83  89      \n",
       "Barry University                            600  1800     76  78      \n",
       "Stetson University                          600  1365     85  90      \n",
       "Kansas Wesleyan University                  500  1400     63  55      \n",
       "Ohio University                             550  2300     79  87      \n",
       "Stockton College of New Jersey              711  1125     78  92      \n",
       "Willamette University                       400   790     91  94      \n",
       "Albertson College                           500   675     67  73      \n",
       "Saint Joseph's College IN                   600   950     55  60      \n",
       "Loras College                               500  1200     61  62      \n",
       "Merrimack College                           375  1000     73  75      \n",
       "Allegheny College                           400   600     73  91      \n",
       "William Woods University                    550  3700     39  66      \n",
       "Wesleyan University                        1400  1400     90  94      \n",
       "University of Missouri at Columbia          600  1983     87  87      \n",
       "<U+22EE>                                          <U+22EE> <U+22EE> <U+22EE> <U+22EE>\n",
       "University of Miami                        630   1985     82   94     \n",
       "Lake Forest College                        920   1320     91   94     \n",
       "Notre Dame College                         400    600     44   47     \n",
       "University of Illinois - Urbana            500   1982     87   90     \n",
       "Westminster College of Salt Lake City      600   2025     68   83     \n",
       "College of St. Joseph                      450   1300     53   53     \n",
       "SUNY College at Geneseo                    600    650     79   84     \n",
       "Our Lady of the Lake University            616   1576     56   64     \n",
       "Graceland College                          550    880     51   61     \n",
       "University of Indianapolis                 525   1405     55   56     \n",
       "Scripps College                            600    800     95  100     \n",
       "Manhattanville College                     450    400     97   97     \n",
       "Fairfield University                       700   1100     86   90     \n",
       "Viterbo College                            500   2245     51   65     \n",
       "University of South Carolina at Aiken      500   1500     62   62     \n",
       "La Roche College                           600   1100     57   73     \n",
       "Mount Union College                        400   1150     85   87     \n",
       "Marquette University                       600   1950     86   94     \n",
       "North Dakota State University              600   2000     79   83     \n",
       "University of Scranton                     650    800     83   83     \n",
       "Stonehill College                          480    800     79   79     \n",
       "Oakland University                         400    650     88   90     \n",
       "Gettysburg College                         500    500     94   95     \n",
       "Le Moyne College                           400    900     89   92     \n",
       "Tennessee Wesleyan College                 400   3158     59   65     \n",
       "New Mexico Institute of Mining and Tech.   600   1100     99  100     \n",
       "Washington State University                800   2719     84   87     \n",
       "McMurry University                         400   1525     57   64     \n",
       "North Carolina State University at Raleigh 600   1300     92   98     \n",
       "Whittier College                           500   1998     84   92     \n",
       "                                           S.F.Ratio perc.alumni Expend\n",
       "William Jewell College                     11.2      19           7885 \n",
       "Baker University                           11.0      21           6136 \n",
       "University of West Florida                 23.4      12           8488 \n",
       "Columbia College                           14.7      34           8693 \n",
       "Christopher Newport University             21.2      16           4639 \n",
       "St. Martin's College                       14.5       8           9209 \n",
       "SUNY College at Plattsburgh                17.9      16           6174 \n",
       "Milwaukee School of Engineering            16.7      23           7140 \n",
       "Fresno Pacific College                     10.5      14           8095 \n",
       "Furman University                          13.5      28          12940 \n",
       "Bowling Green State University             21.1      14           6918 \n",
       "Rockhurst College                          10.7      21           7519 \n",
       "Wellesley College                          10.6      51          21409 \n",
       "Denison University                         11.6      45          12423 \n",
       "Castleton State College                    14.7       8           6318 \n",
       "Western Washington University              22.7      10           7203 \n",
       "Barry University                           12.6      11           9084 \n",
       "Stetson University                         12.5      24          10307 \n",
       "Kansas Wesleyan University                 12.4      14           6535 \n",
       "Ohio University                            20.4      13           8811 \n",
       "Stockton College of New Jersey             19.5       7           5599 \n",
       "Willamette University                      13.3      37          10779 \n",
       "Albertson College                           9.4      11           9727 \n",
       "Saint Joseph's College IN                  14.8      19           7360 \n",
       "Loras College                              14.2      24           7578 \n",
       "Merrimack College                          16.8      22           8707 \n",
       "Allegheny College                           9.9      41          11711 \n",
       "William Woods University                   12.9      16           7438 \n",
       "Wesleyan University                        12.1      39          16262 \n",
       "University of Missouri at Columbia         12.7      15          10145 \n",
       "<U+22EE>                                          <U+22EE>  <U+22EE>    <U+22EE>\n",
       "University of Miami                         5.9      17          17500 \n",
       "Lake Forest College                        10.7      19          15687 \n",
       "Notre Dame College                         12.1      26           4948 \n",
       "University of Illinois - Urbana            17.4      13           8559 \n",
       "Westminster College of Salt Lake City      10.5      34           7170 \n",
       "College of St. Joseph                       9.5      19           6936 \n",
       "SUNY College at Geneseo                    19.1      25           5716 \n",
       "Our Lady of the Lake University            14.9      25           7114 \n",
       "Graceland College                          23.6      24           5609 \n",
       "University of Indianapolis                 11.1      23           6735 \n",
       "Scripps College                             8.2      41          18372 \n",
       "Manhattanville College                     11.3      24          11291 \n",
       "Fairfield University                       15.1      30          11220 \n",
       "Viterbo College                            10.7      31           8050 \n",
       "University of South Carolina at Aiken      14.8       3           5035 \n",
       "La Roche College                           14.2      14           7022 \n",
       "Mount Union College                        16.7      35           7215 \n",
       "Marquette University                       13.5      25           9982 \n",
       "North Dakota State University              17.0      24           6310 \n",
       "University of Scranton                     14.1      41           9131 \n",
       "Stonehill College                          13.0      30           7495 \n",
       "Oakland University                         19.7      13           6637 \n",
       "Gettysburg College                         12.1      32          14720 \n",
       "Le Moyne College                           13.3      28           8118 \n",
       "Tennessee Wesleyan College                  8.9      16           6286 \n",
       "New Mexico Institute of Mining and Tech.   13.7      11           9241 \n",
       "Washington State University                16.9      30          10912 \n",
       "McMurry University                         11.0      11           6383 \n",
       "North Carolina State University at Raleigh 17.5      21           9670 \n",
       "Whittier College                           13.6      29          11778 \n",
       "                                           Grad.Rate\n",
       "William Jewell College                     59       \n",
       "Baker University                           65       \n",
       "University of West Florida                 53       \n",
       "Columbia College                           76       \n",
       "Christopher Newport University             48       \n",
       "St. Martin's College                       40       \n",
       "SUNY College at Plattsburgh                65       \n",
       "Milwaukee School of Engineering            67       \n",
       "Fresno Pacific College                     54       \n",
       "Furman University                          82       \n",
       "Bowling Green State University             67       \n",
       "Rockhurst College                          79       \n",
       "Wellesley College                          91       \n",
       "Denison University                         81       \n",
       "Castleton State College                    79       \n",
       "Western Washington University              61       \n",
       "Barry University                           72       \n",
       "Stetson University                         73       \n",
       "Kansas Wesleyan University                 68       \n",
       "Ohio University                            64       \n",
       "Stockton College of New Jersey             64       \n",
       "Willamette University                      68       \n",
       "Albertson College                          55       \n",
       "Saint Joseph's College IN                  67       \n",
       "Loras College                              70       \n",
       "Merrimack College                          80       \n",
       "Allegheny College                          76       \n",
       "William Woods University                   52       \n",
       "Wesleyan University                        92       \n",
       "University of Missouri at Columbia         58       \n",
       "<U+22EE>                                          <U+22EE> \n",
       "University of Miami                        59       \n",
       "Lake Forest College                        77       \n",
       "Notre Dame College                         33       \n",
       "University of Illinois - Urbana            81       \n",
       "Westminster College of Salt Lake City      50       \n",
       "College of St. Joseph                      76       \n",
       "SUNY College at Geneseo                    76       \n",
       "Our Lady of the Lake University            37       \n",
       "Graceland College                          47       \n",
       "University of Indianapolis                 69       \n",
       "Scripps College                            73       \n",
       "Manhattanville College                     70       \n",
       "Fairfield University                       94       \n",
       "Viterbo College                            73       \n",
       "University of South Carolina at Aiken      48       \n",
       "La Roche College                           52       \n",
       "Mount Union College                        81       \n",
       "Marquette University                       77       \n",
       "North Dakota State University              42       \n",
       "University of Scranton                     92       \n",
       "Stonehill College                          97       \n",
       "Oakland University                         53       \n",
       "Gettysburg College                         83       \n",
       "Le Moyne College                           94       \n",
       "Tennessee Wesleyan College                 36       \n",
       "New Mexico Institute of Mining and Tech.   34       \n",
       "Washington State University                56       \n",
       "McMurry University                         32       \n",
       "North Carolina State University at Raleigh 62       \n",
       "Whittier College                           52       "
      ]
     },
     "metadata": {},
     "output_type": "display_data"
    }
   ],
   "source": [
    "train_set"
   ]
  },
  {
   "cell_type": "code",
   "execution_count": 3,
   "id": "ea29671d",
   "metadata": {},
   "outputs": [
    {
     "data": {
      "text/html": [
       "<table class=\"dataframe\">\n",
       "<caption>A data.frame: 234 × 18</caption>\n",
       "<thead>\n",
       "\t<tr><th></th><th scope=col>Private</th><th scope=col>Apps</th><th scope=col>Accept</th><th scope=col>Enroll</th><th scope=col>Top10perc</th><th scope=col>Top25perc</th><th scope=col>F.Undergrad</th><th scope=col>P.Undergrad</th><th scope=col>Outstate</th><th scope=col>Room.Board</th><th scope=col>Books</th><th scope=col>Personal</th><th scope=col>PhD</th><th scope=col>Terminal</th><th scope=col>S.F.Ratio</th><th scope=col>perc.alumni</th><th scope=col>Expend</th><th scope=col>Grad.Rate</th></tr>\n",
       "\t<tr><th></th><th scope=col>&lt;fct&gt;</th><th scope=col>&lt;dbl&gt;</th><th scope=col>&lt;dbl&gt;</th><th scope=col>&lt;dbl&gt;</th><th scope=col>&lt;dbl&gt;</th><th scope=col>&lt;dbl&gt;</th><th scope=col>&lt;dbl&gt;</th><th scope=col>&lt;dbl&gt;</th><th scope=col>&lt;dbl&gt;</th><th scope=col>&lt;dbl&gt;</th><th scope=col>&lt;dbl&gt;</th><th scope=col>&lt;dbl&gt;</th><th scope=col>&lt;dbl&gt;</th><th scope=col>&lt;dbl&gt;</th><th scope=col>&lt;dbl&gt;</th><th scope=col>&lt;dbl&gt;</th><th scope=col>&lt;dbl&gt;</th><th scope=col>&lt;dbl&gt;</th></tr>\n",
       "</thead>\n",
       "<tbody>\n",
       "\t<tr><th scope=row>Alaska Pacific University</th><td>Yes</td><td> 193</td><td> 146</td><td>  55</td><td>16</td><td>44</td><td>  249</td><td> 869</td><td> 7560</td><td>4120</td><td>800</td><td>1500</td><td>76</td><td>72</td><td>11.9</td><td> 2</td><td>10922</td><td>15</td></tr>\n",
       "\t<tr><th scope=row>Albright College</th><td>Yes</td><td>1038</td><td> 839</td><td> 227</td><td>30</td><td>63</td><td>  973</td><td> 306</td><td>15595</td><td>4400</td><td>300</td><td> 500</td><td>79</td><td>84</td><td>11.3</td><td>23</td><td>11644</td><td>80</td></tr>\n",
       "\t<tr><th scope=row>Alderson-Broaddus College</th><td>Yes</td><td> 582</td><td> 498</td><td> 172</td><td>21</td><td>44</td><td>  799</td><td>  78</td><td>10468</td><td>3380</td><td>660</td><td>1800</td><td>40</td><td>41</td><td>11.5</td><td>15</td><td> 8991</td><td>52</td></tr>\n",
       "\t<tr><th scope=row>Alfred University</th><td>Yes</td><td>1732</td><td>1425</td><td> 472</td><td>37</td><td>75</td><td> 1830</td><td> 110</td><td>16548</td><td>5406</td><td>500</td><td> 600</td><td>82</td><td>88</td><td>11.3</td><td>31</td><td>10932</td><td>73</td></tr>\n",
       "\t<tr><th scope=row>Alma College</th><td>Yes</td><td>1267</td><td>1080</td><td> 385</td><td>44</td><td>73</td><td> 1306</td><td>  28</td><td>12572</td><td>4552</td><td>400</td><td> 400</td><td>79</td><td>87</td><td>15.3</td><td>32</td><td> 9305</td><td>68</td></tr>\n",
       "\t<tr><th scope=row>Angelo State University</th><td>No </td><td>3540</td><td>2001</td><td>1016</td><td>24</td><td>54</td><td> 4190</td><td>1512</td><td> 5130</td><td>3592</td><td>500</td><td>2000</td><td>60</td><td>62</td><td>23.1</td><td> 5</td><td> 4010</td><td>34</td></tr>\n",
       "\t<tr><th scope=row>Assumption College</th><td>Yes</td><td>2135</td><td>1700</td><td> 491</td><td>23</td><td>59</td><td> 1708</td><td> 689</td><td>12000</td><td>5920</td><td>500</td><td> 500</td><td>93</td><td>93</td><td>13.8</td><td>30</td><td> 7100</td><td>88</td></tr>\n",
       "\t<tr><th scope=row>Augustana College IL</th><td>Yes</td><td>1879</td><td>1658</td><td> 497</td><td>36</td><td>69</td><td> 1950</td><td>  38</td><td>13353</td><td>4173</td><td>540</td><td> 821</td><td>78</td><td>83</td><td>12.7</td><td>40</td><td> 9220</td><td>71</td></tr>\n",
       "\t<tr><th scope=row>Barat College</th><td>Yes</td><td> 261</td><td> 192</td><td> 111</td><td>15</td><td>36</td><td>  453</td><td> 266</td><td> 9690</td><td>4300</td><td>500</td><td> 500</td><td>57</td><td>77</td><td> 9.7</td><td>35</td><td> 9337</td><td>71</td></tr>\n",
       "\t<tr><th scope=row>Bard College</th><td>Yes</td><td>1910</td><td> 838</td><td> 285</td><td>50</td><td>85</td><td> 1004</td><td>  15</td><td>19264</td><td>6206</td><td>750</td><td> 750</td><td>98</td><td>98</td><td>10.4</td><td>30</td><td>13894</td><td>79</td></tr>\n",
       "\t<tr><th scope=row>Bellarmine College</th><td>Yes</td><td> 807</td><td> 707</td><td> 308</td><td>39</td><td>63</td><td> 1198</td><td> 605</td><td> 8840</td><td>2950</td><td>750</td><td>1290</td><td>74</td><td>82</td><td>13.1</td><td>31</td><td> 6668</td><td>84</td></tr>\n",
       "\t<tr><th scope=row>Belmont Abbey College</th><td>Yes</td><td> 632</td><td> 494</td><td> 129</td><td>17</td><td>36</td><td>  709</td><td> 131</td><td> 9000</td><td>4850</td><td>300</td><td>2480</td><td>78</td><td>85</td><td>13.2</td><td>10</td><td> 7550</td><td>52</td></tr>\n",
       "\t<tr><th scope=row>Beloit College</th><td>Yes</td><td>1320</td><td> 923</td><td> 284</td><td>26</td><td>54</td><td> 1085</td><td>  81</td><td>16304</td><td>3616</td><td>355</td><td> 715</td><td>87</td><td>95</td><td>11.1</td><td>26</td><td>12957</td><td>69</td></tr>\n",
       "\t<tr><th scope=row>Benedictine College</th><td>Yes</td><td> 632</td><td> 620</td><td> 222</td><td>14</td><td>24</td><td>  702</td><td> 501</td><td> 9550</td><td>3850</td><td>350</td><td> 250</td><td>64</td><td>84</td><td>14.1</td><td>18</td><td> 5922</td><td>58</td></tr>\n",
       "\t<tr><th scope=row>Bennington College</th><td>Yes</td><td> 519</td><td> 327</td><td> 114</td><td>25</td><td>53</td><td>  457</td><td>   2</td><td>21700</td><td>4100</td><td>600</td><td> 500</td><td>35</td><td>59</td><td>10.1</td><td>33</td><td>16364</td><td>55</td></tr>\n",
       "\t<tr><th scope=row>Bethel College</th><td>Yes</td><td> 502</td><td> 384</td><td> 104</td><td>11</td><td>28</td><td>  347</td><td>  74</td><td> 6200</td><td>2900</td><td>600</td><td> 800</td><td>63</td><td>63</td><td>11.7</td><td>13</td><td> 7623</td><td>35</td></tr>\n",
       "\t<tr><th scope=row>Birmingham-Southern College</th><td>Yes</td><td> 805</td><td> 588</td><td> 287</td><td>67</td><td>88</td><td> 1376</td><td> 207</td><td>11660</td><td>4325</td><td>400</td><td> 900</td><td>74</td><td>79</td><td>14.0</td><td>34</td><td> 8649</td><td>72</td></tr>\n",
       "\t<tr><th scope=row>Blackburn College</th><td>Yes</td><td> 500</td><td> 336</td><td> 156</td><td>25</td><td>55</td><td>  421</td><td>  27</td><td> 6500</td><td>2700</td><td>500</td><td>1000</td><td>76</td><td>76</td><td>14.3</td><td>53</td><td> 8377</td><td>51</td></tr>\n",
       "\t<tr><th scope=row>Brandeis University</th><td>Yes</td><td>4186</td><td>2743</td><td> 740</td><td>48</td><td>77</td><td> 2819</td><td>  62</td><td>19380</td><td>6750</td><td>410</td><td>1000</td><td>90</td><td>97</td><td> 9.8</td><td>24</td><td>17150</td><td>84</td></tr>\n",
       "\t<tr><th scope=row>Brenau University</th><td>Yes</td><td> 367</td><td> 274</td><td> 158</td><td>12</td><td>41</td><td>  917</td><td> 479</td><td> 9592</td><td>5879</td><td>500</td><td> 700</td><td>71</td><td>80</td><td>13.7</td><td>12</td><td> 5935</td><td>49</td></tr>\n",
       "\t<tr><th scope=row>Briar Cliff College</th><td>Yes</td><td> 392</td><td> 351</td><td> 155</td><td>16</td><td>44</td><td>  738</td><td> 430</td><td>10260</td><td>3597</td><td>600</td><td>1500</td><td>39</td><td>66</td><td>13.1</td><td>26</td><td> 8355</td><td>58</td></tr>\n",
       "\t<tr><th scope=row>Brigham Young University at Provo</th><td>Yes</td><td>7365</td><td>5402</td><td>4615</td><td>48</td><td>82</td><td>27378</td><td>1253</td><td> 2340</td><td>3580</td><td>860</td><td>1220</td><td>76</td><td>76</td><td>20.5</td><td>40</td><td> 7916</td><td>33</td></tr>\n",
       "\t<tr><th scope=row>Bucknell University</th><td>Yes</td><td>6548</td><td>3813</td><td> 862</td><td>49</td><td>85</td><td> 3316</td><td>  31</td><td>18550</td><td>4750</td><td>800</td><td>1200</td><td>95</td><td>97</td><td>14.2</td><td>36</td><td>13675</td><td>93</td></tr>\n",
       "\t<tr><th scope=row>Butler University</th><td>Yes</td><td>2362</td><td>2037</td><td> 700</td><td>40</td><td>68</td><td> 2607</td><td> 148</td><td>13130</td><td>4650</td><td>500</td><td>1600</td><td>77</td><td>81</td><td>10.9</td><td>29</td><td> 9511</td><td>83</td></tr>\n",
       "\t<tr><th scope=row>California Lutheran University</th><td>Yes</td><td> 563</td><td> 247</td><td> 247</td><td>23</td><td>52</td><td> 1427</td><td> 432</td><td>12950</td><td>5300</td><td>612</td><td> 576</td><td>72</td><td>74</td><td>12.4</td><td>17</td><td> 8985</td><td>60</td></tr>\n",
       "\t<tr><th scope=row>California Polytechnic-San Luis</th><td>No </td><td>7811</td><td>3817</td><td>1650</td><td>47</td><td>73</td><td>12911</td><td>1404</td><td> 7380</td><td>4877</td><td>612</td><td>2091</td><td>72</td><td>81</td><td>19.8</td><td>13</td><td> 8453</td><td>59</td></tr>\n",
       "\t<tr><th scope=row>Campbellsville College</th><td>Yes</td><td> 848</td><td> 587</td><td> 298</td><td>25</td><td>55</td><td>  935</td><td> 184</td><td> 6060</td><td>3070</td><td>600</td><td>1300</td><td>62</td><td>66</td><td>17.7</td><td>13</td><td> 5391</td><td>49</td></tr>\n",
       "\t<tr><th scope=row>Canisius College</th><td>Yes</td><td>2853</td><td>2193</td><td> 753</td><td>16</td><td>34</td><td> 2978</td><td> 434</td><td>10750</td><td>5340</td><td>400</td><td>1130</td><td>90</td><td>92</td><td>14.6</td><td>26</td><td> 7972</td><td>64</td></tr>\n",
       "\t<tr><th scope=row>Capital University</th><td>Yes</td><td>1747</td><td>1382</td><td> 449</td><td>34</td><td>66</td><td> 1662</td><td> 960</td><td>13050</td><td>4000</td><td>500</td><td> 800</td><td>64</td><td>69</td><td>12.1</td><td>27</td><td> 9557</td><td>83</td></tr>\n",
       "\t<tr><th scope=row>Carroll College</th><td>Yes</td><td>1160</td><td> 991</td><td> 352</td><td>19</td><td>55</td><td> 1357</td><td> 737</td><td>12200</td><td>3880</td><td>480</td><td> 930</td><td>74</td><td>81</td><td>17.8</td><td>25</td><td> 7666</td><td>79</td></tr>\n",
       "\t<tr><th scope=row>⋮</th><td>⋮</td><td>⋮</td><td>⋮</td><td>⋮</td><td>⋮</td><td>⋮</td><td>⋮</td><td>⋮</td><td>⋮</td><td>⋮</td><td>⋮</td><td>⋮</td><td>⋮</td><td>⋮</td><td>⋮</td><td>⋮</td><td>⋮</td><td>⋮</td></tr>\n",
       "\t<tr><th scope=row>University of Texas at San Antonio</th><td>No </td><td> 4217</td><td> 3100</td><td>1686</td><td>17</td><td>46</td><td> 9375</td><td>5457</td><td> 4104</td><td>5376</td><td> 452</td><td>1200</td><td>94</td><td>100</td><td>25.3</td><td> 3</td><td> 4329</td><td>50</td></tr>\n",
       "\t<tr><th scope=row>University of the Arts</th><td>Yes</td><td>  974</td><td>  704</td><td> 290</td><td> 5</td><td>22</td><td> 1145</td><td>  39</td><td>12520</td><td>3860</td><td>1300</td><td> 700</td><td>16</td><td> 59</td><td> 7.5</td><td> 9</td><td>11641</td><td>57</td></tr>\n",
       "\t<tr><th scope=row>University of the Pacific</th><td>Yes</td><td> 2459</td><td> 1997</td><td> 582</td><td>36</td><td>66</td><td> 2664</td><td> 299</td><td>16320</td><td>5326</td><td> 646</td><td>1171</td><td>87</td><td> 94</td><td>11.2</td><td>14</td><td>13706</td><td>65</td></tr>\n",
       "\t<tr><th scope=row>University of Tulsa</th><td>Yes</td><td> 1712</td><td> 1557</td><td> 696</td><td>41</td><td>68</td><td> 2936</td><td> 433</td><td>11750</td><td>4160</td><td>1200</td><td>2350</td><td>94</td><td> 96</td><td>11.5</td><td>10</td><td>11743</td><td>47</td></tr>\n",
       "\t<tr><th scope=row>University of Utah</th><td>No </td><td> 5095</td><td> 4491</td><td>2400</td><td>27</td><td>53</td><td>13894</td><td>8374</td><td> 6857</td><td>3975</td><td> 858</td><td>3093</td><td>89</td><td> 93</td><td>12.8</td><td> 9</td><td> 9275</td><td>37</td></tr>\n",
       "\t<tr><th scope=row>University of Washington</th><td>No </td><td>12749</td><td> 7025</td><td>3343</td><td>40</td><td>81</td><td>20356</td><td>4582</td><td> 8199</td><td>4218</td><td> 708</td><td>2172</td><td>96</td><td> 94</td><td> 9.0</td><td>10</td><td>16527</td><td>65</td></tr>\n",
       "\t<tr><th scope=row>University of Wisconsin-Superior</th><td>No </td><td>  910</td><td>  910</td><td> 342</td><td>14</td><td>53</td><td> 1434</td><td> 417</td><td> 7032</td><td>2780</td><td> 550</td><td>1960</td><td>75</td><td> 81</td><td>15.2</td><td>15</td><td> 6490</td><td>36</td></tr>\n",
       "\t<tr><th scope=row>University of Wisconsin-Whitewater</th><td>No </td><td> 4400</td><td> 3719</td><td>1472</td><td>12</td><td>38</td><td> 7804</td><td>1552</td><td> 6950</td><td>2500</td><td> 300</td><td>1200</td><td>90</td><td> 95</td><td>23.1</td><td>16</td><td> 5559</td><td>67</td></tr>\n",
       "\t<tr><th scope=row>University of Wisconsin at Green Bay</th><td>No </td><td> 2409</td><td> 1939</td><td> 759</td><td>17</td><td>50</td><td> 3819</td><td>1347</td><td> 6900</td><td>2800</td><td> 475</td><td>1200</td><td>81</td><td> 89</td><td>22.2</td><td> 1</td><td> 5968</td><td>46</td></tr>\n",
       "\t<tr><th scope=row>University of Wisconsin at Madison</th><td>No </td><td>14901</td><td>10932</td><td>4631</td><td>36</td><td>80</td><td>23945</td><td>2200</td><td> 9096</td><td>4290</td><td> 535</td><td>1545</td><td>93</td><td> 96</td><td>11.5</td><td>20</td><td>11006</td><td>72</td></tr>\n",
       "\t<tr><th scope=row>Upper Iowa University</th><td>Yes</td><td>  663</td><td>  452</td><td> 192</td><td>10</td><td>35</td><td> 1481</td><td>1160</td><td> 8840</td><td>3060</td><td> 500</td><td>1000</td><td>69</td><td> 75</td><td>17.4</td><td>19</td><td> 3733</td><td>78</td></tr>\n",
       "\t<tr><th scope=row>Ursinus College</th><td>Yes</td><td> 1399</td><td> 1026</td><td> 308</td><td>44</td><td>77</td><td> 1131</td><td>  17</td><td>14900</td><td>5160</td><td> 500</td><td> 800</td><td>82</td><td> 85</td><td>11.6</td><td>40</td><td>12082</td><td>79</td></tr>\n",
       "\t<tr><th scope=row>Vanderbilt University</th><td>Yes</td><td> 7791</td><td> 4690</td><td>1499</td><td>71</td><td>92</td><td> 5500</td><td>  90</td><td>17865</td><td>6525</td><td> 630</td><td> 952</td><td>93</td><td> 98</td><td> 5.8</td><td>26</td><td>23850</td><td>83</td></tr>\n",
       "\t<tr><th scope=row>Villanova University</th><td>Yes</td><td> 7759</td><td> 5588</td><td>1477</td><td>30</td><td>68</td><td> 6362</td><td>1292</td><td>15925</td><td>6507</td><td> 400</td><td> 300</td><td>89</td><td> 90</td><td>13.4</td><td>24</td><td>10458</td><td>96</td></tr>\n",
       "\t<tr><th scope=row>Virginia Tech</th><td>No </td><td>15712</td><td>11719</td><td>4277</td><td>29</td><td>53</td><td>18511</td><td> 604</td><td>10260</td><td>3176</td><td> 740</td><td>2200</td><td>85</td><td> 89</td><td>13.8</td><td>20</td><td> 8944</td><td>73</td></tr>\n",
       "\t<tr><th scope=row>Wabash College</th><td>Yes</td><td>  800</td><td>  623</td><td> 256</td><td>41</td><td>76</td><td>  801</td><td>   5</td><td>12925</td><td>4195</td><td> 500</td><td> 635</td><td>78</td><td> 85</td><td> 9.9</td><td>55</td><td>14904</td><td>72</td></tr>\n",
       "\t<tr><th scope=row>Wake Forest University</th><td>Yes</td><td> 5661</td><td> 2392</td><td> 903</td><td>75</td><td>88</td><td> 3499</td><td> 172</td><td>13850</td><td>4360</td><td> 500</td><td>1250</td><td>95</td><td> 97</td><td> 4.3</td><td>37</td><td>41766</td><td>89</td></tr>\n",
       "\t<tr><th scope=row>Washington College</th><td>Yes</td><td> 1209</td><td>  942</td><td> 214</td><td>31</td><td>60</td><td>  822</td><td>  46</td><td>15276</td><td>5318</td><td> 500</td><td> 300</td><td>79</td><td> 86</td><td>11.2</td><td>37</td><td>10830</td><td>65</td></tr>\n",
       "\t<tr><th scope=row>Wayne State College</th><td>No </td><td> 1373</td><td> 1373</td><td> 724</td><td> 6</td><td>21</td><td> 2754</td><td> 474</td><td> 2700</td><td>2660</td><td> 540</td><td>1660</td><td>60</td><td> 68</td><td>20.3</td><td>29</td><td> 4550</td><td>52</td></tr>\n",
       "\t<tr><th scope=row>Waynesburg College</th><td>Yes</td><td> 1190</td><td>  978</td><td> 324</td><td>12</td><td>30</td><td> 1280</td><td>  61</td><td> 8840</td><td>3620</td><td> 500</td><td>1200</td><td>57</td><td> 58</td><td>16.2</td><td>26</td><td> 6563</td><td>63</td></tr>\n",
       "\t<tr><th scope=row>Webster University</th><td>Yes</td><td>  665</td><td>  462</td><td> 226</td><td>17</td><td>44</td><td> 1739</td><td>1550</td><td> 9160</td><td>4340</td><td> 500</td><td> 500</td><td>68</td><td> 68</td><td>20.6</td><td>14</td><td> 6951</td><td>48</td></tr>\n",
       "\t<tr><th scope=row>Western Michigan University</th><td>No </td><td> 9167</td><td> 7191</td><td>2738</td><td>24</td><td>53</td><td>15739</td><td>4278</td><td> 6940</td><td>4100</td><td> 500</td><td>1700</td><td>80</td><td> 84</td><td>24.7</td><td>11</td><td> 5983</td><td>55</td></tr>\n",
       "\t<tr><th scope=row>Western New England College</th><td>Yes</td><td> 1650</td><td> 1471</td><td> 409</td><td> 7</td><td>21</td><td> 1803</td><td>1116</td><td> 8994</td><td>5500</td><td> 498</td><td>2065</td><td>74</td><td> 97</td><td>15.4</td><td>15</td><td> 8409</td><td>59</td></tr>\n",
       "\t<tr><th scope=row>Western State College of Colorado</th><td>No </td><td> 2702</td><td> 1623</td><td> 604</td><td> 7</td><td>24</td><td> 2315</td><td> 146</td><td> 5918</td><td>3755</td><td> 500</td><td>2050</td><td>76</td><td> 79</td><td>19.4</td><td> 4</td><td> 4599</td><td>52</td></tr>\n",
       "\t<tr><th scope=row>Wheaton College IL</th><td>Yes</td><td> 1432</td><td>  920</td><td> 548</td><td>56</td><td>84</td><td> 2200</td><td>  56</td><td>11480</td><td>4200</td><td> 530</td><td>1400</td><td>81</td><td> 83</td><td>12.7</td><td>40</td><td>11916</td><td>85</td></tr>\n",
       "\t<tr><th scope=row>Whitworth College</th><td>Yes</td><td> 1121</td><td>  926</td><td> 372</td><td>43</td><td>70</td><td> 1270</td><td> 160</td><td>12660</td><td>4500</td><td> 678</td><td>2424</td><td>80</td><td> 80</td><td>16.9</td><td>20</td><td> 8328</td><td>80</td></tr>\n",
       "\t<tr><th scope=row>Wilkes University</th><td>Yes</td><td> 1631</td><td> 1431</td><td> 434</td><td>15</td><td>36</td><td> 1803</td><td> 603</td><td>11150</td><td>5130</td><td> 550</td><td>1260</td><td>78</td><td> 92</td><td>13.3</td><td>24</td><td> 8543</td><td>67</td></tr>\n",
       "\t<tr><th scope=row>Wilson College</th><td>Yes</td><td>  167</td><td>  130</td><td>  46</td><td>16</td><td>50</td><td>  199</td><td> 676</td><td>11428</td><td>5084</td><td> 450</td><td> 475</td><td>67</td><td> 76</td><td> 8.3</td><td>43</td><td>10291</td><td>67</td></tr>\n",
       "\t<tr><th scope=row>Wingate College</th><td>Yes</td><td> 1239</td><td> 1017</td><td> 383</td><td>10</td><td>34</td><td> 1207</td><td> 157</td><td> 7820</td><td>3400</td><td> 550</td><td>1550</td><td>69</td><td> 81</td><td>13.9</td><td> 8</td><td> 7264</td><td>91</td></tr>\n",
       "\t<tr><th scope=row>Winona State University</th><td>No </td><td> 3325</td><td> 2047</td><td>1301</td><td>20</td><td>45</td><td> 5800</td><td> 872</td><td> 4200</td><td>2700</td><td> 300</td><td>1200</td><td>53</td><td> 60</td><td>20.2</td><td>18</td><td> 5318</td><td>58</td></tr>\n",
       "</tbody>\n",
       "</table>\n"
      ],
      "text/latex": [
       "A data.frame: 234 × 18\n",
       "\\begin{tabular}{r|llllllllllllllllll}\n",
       "  & Private & Apps & Accept & Enroll & Top10perc & Top25perc & F.Undergrad & P.Undergrad & Outstate & Room.Board & Books & Personal & PhD & Terminal & S.F.Ratio & perc.alumni & Expend & Grad.Rate\\\\\n",
       "  & <fct> & <dbl> & <dbl> & <dbl> & <dbl> & <dbl> & <dbl> & <dbl> & <dbl> & <dbl> & <dbl> & <dbl> & <dbl> & <dbl> & <dbl> & <dbl> & <dbl> & <dbl>\\\\\n",
       "\\hline\n",
       "\tAlaska Pacific University & Yes &  193 &  146 &   55 & 16 & 44 &   249 &  869 &  7560 & 4120 & 800 & 1500 & 76 & 72 & 11.9 &  2 & 10922 & 15\\\\\n",
       "\tAlbright College & Yes & 1038 &  839 &  227 & 30 & 63 &   973 &  306 & 15595 & 4400 & 300 &  500 & 79 & 84 & 11.3 & 23 & 11644 & 80\\\\\n",
       "\tAlderson-Broaddus College & Yes &  582 &  498 &  172 & 21 & 44 &   799 &   78 & 10468 & 3380 & 660 & 1800 & 40 & 41 & 11.5 & 15 &  8991 & 52\\\\\n",
       "\tAlfred University & Yes & 1732 & 1425 &  472 & 37 & 75 &  1830 &  110 & 16548 & 5406 & 500 &  600 & 82 & 88 & 11.3 & 31 & 10932 & 73\\\\\n",
       "\tAlma College & Yes & 1267 & 1080 &  385 & 44 & 73 &  1306 &   28 & 12572 & 4552 & 400 &  400 & 79 & 87 & 15.3 & 32 &  9305 & 68\\\\\n",
       "\tAngelo State University & No  & 3540 & 2001 & 1016 & 24 & 54 &  4190 & 1512 &  5130 & 3592 & 500 & 2000 & 60 & 62 & 23.1 &  5 &  4010 & 34\\\\\n",
       "\tAssumption College & Yes & 2135 & 1700 &  491 & 23 & 59 &  1708 &  689 & 12000 & 5920 & 500 &  500 & 93 & 93 & 13.8 & 30 &  7100 & 88\\\\\n",
       "\tAugustana College IL & Yes & 1879 & 1658 &  497 & 36 & 69 &  1950 &   38 & 13353 & 4173 & 540 &  821 & 78 & 83 & 12.7 & 40 &  9220 & 71\\\\\n",
       "\tBarat College & Yes &  261 &  192 &  111 & 15 & 36 &   453 &  266 &  9690 & 4300 & 500 &  500 & 57 & 77 &  9.7 & 35 &  9337 & 71\\\\\n",
       "\tBard College & Yes & 1910 &  838 &  285 & 50 & 85 &  1004 &   15 & 19264 & 6206 & 750 &  750 & 98 & 98 & 10.4 & 30 & 13894 & 79\\\\\n",
       "\tBellarmine College & Yes &  807 &  707 &  308 & 39 & 63 &  1198 &  605 &  8840 & 2950 & 750 & 1290 & 74 & 82 & 13.1 & 31 &  6668 & 84\\\\\n",
       "\tBelmont Abbey College & Yes &  632 &  494 &  129 & 17 & 36 &   709 &  131 &  9000 & 4850 & 300 & 2480 & 78 & 85 & 13.2 & 10 &  7550 & 52\\\\\n",
       "\tBeloit College & Yes & 1320 &  923 &  284 & 26 & 54 &  1085 &   81 & 16304 & 3616 & 355 &  715 & 87 & 95 & 11.1 & 26 & 12957 & 69\\\\\n",
       "\tBenedictine College & Yes &  632 &  620 &  222 & 14 & 24 &   702 &  501 &  9550 & 3850 & 350 &  250 & 64 & 84 & 14.1 & 18 &  5922 & 58\\\\\n",
       "\tBennington College & Yes &  519 &  327 &  114 & 25 & 53 &   457 &    2 & 21700 & 4100 & 600 &  500 & 35 & 59 & 10.1 & 33 & 16364 & 55\\\\\n",
       "\tBethel College & Yes &  502 &  384 &  104 & 11 & 28 &   347 &   74 &  6200 & 2900 & 600 &  800 & 63 & 63 & 11.7 & 13 &  7623 & 35\\\\\n",
       "\tBirmingham-Southern College & Yes &  805 &  588 &  287 & 67 & 88 &  1376 &  207 & 11660 & 4325 & 400 &  900 & 74 & 79 & 14.0 & 34 &  8649 & 72\\\\\n",
       "\tBlackburn College & Yes &  500 &  336 &  156 & 25 & 55 &   421 &   27 &  6500 & 2700 & 500 & 1000 & 76 & 76 & 14.3 & 53 &  8377 & 51\\\\\n",
       "\tBrandeis University & Yes & 4186 & 2743 &  740 & 48 & 77 &  2819 &   62 & 19380 & 6750 & 410 & 1000 & 90 & 97 &  9.8 & 24 & 17150 & 84\\\\\n",
       "\tBrenau University & Yes &  367 &  274 &  158 & 12 & 41 &   917 &  479 &  9592 & 5879 & 500 &  700 & 71 & 80 & 13.7 & 12 &  5935 & 49\\\\\n",
       "\tBriar Cliff College & Yes &  392 &  351 &  155 & 16 & 44 &   738 &  430 & 10260 & 3597 & 600 & 1500 & 39 & 66 & 13.1 & 26 &  8355 & 58\\\\\n",
       "\tBrigham Young University at Provo & Yes & 7365 & 5402 & 4615 & 48 & 82 & 27378 & 1253 &  2340 & 3580 & 860 & 1220 & 76 & 76 & 20.5 & 40 &  7916 & 33\\\\\n",
       "\tBucknell University & Yes & 6548 & 3813 &  862 & 49 & 85 &  3316 &   31 & 18550 & 4750 & 800 & 1200 & 95 & 97 & 14.2 & 36 & 13675 & 93\\\\\n",
       "\tButler University & Yes & 2362 & 2037 &  700 & 40 & 68 &  2607 &  148 & 13130 & 4650 & 500 & 1600 & 77 & 81 & 10.9 & 29 &  9511 & 83\\\\\n",
       "\tCalifornia Lutheran University & Yes &  563 &  247 &  247 & 23 & 52 &  1427 &  432 & 12950 & 5300 & 612 &  576 & 72 & 74 & 12.4 & 17 &  8985 & 60\\\\\n",
       "\tCalifornia Polytechnic-San Luis & No  & 7811 & 3817 & 1650 & 47 & 73 & 12911 & 1404 &  7380 & 4877 & 612 & 2091 & 72 & 81 & 19.8 & 13 &  8453 & 59\\\\\n",
       "\tCampbellsville College & Yes &  848 &  587 &  298 & 25 & 55 &   935 &  184 &  6060 & 3070 & 600 & 1300 & 62 & 66 & 17.7 & 13 &  5391 & 49\\\\\n",
       "\tCanisius College & Yes & 2853 & 2193 &  753 & 16 & 34 &  2978 &  434 & 10750 & 5340 & 400 & 1130 & 90 & 92 & 14.6 & 26 &  7972 & 64\\\\\n",
       "\tCapital University & Yes & 1747 & 1382 &  449 & 34 & 66 &  1662 &  960 & 13050 & 4000 & 500 &  800 & 64 & 69 & 12.1 & 27 &  9557 & 83\\\\\n",
       "\tCarroll College & Yes & 1160 &  991 &  352 & 19 & 55 &  1357 &  737 & 12200 & 3880 & 480 &  930 & 74 & 81 & 17.8 & 25 &  7666 & 79\\\\\n",
       "\t⋮ & ⋮ & ⋮ & ⋮ & ⋮ & ⋮ & ⋮ & ⋮ & ⋮ & ⋮ & ⋮ & ⋮ & ⋮ & ⋮ & ⋮ & ⋮ & ⋮ & ⋮ & ⋮\\\\\n",
       "\tUniversity of Texas at San Antonio & No  &  4217 &  3100 & 1686 & 17 & 46 &  9375 & 5457 &  4104 & 5376 &  452 & 1200 & 94 & 100 & 25.3 &  3 &  4329 & 50\\\\\n",
       "\tUniversity of the Arts & Yes &   974 &   704 &  290 &  5 & 22 &  1145 &   39 & 12520 & 3860 & 1300 &  700 & 16 &  59 &  7.5 &  9 & 11641 & 57\\\\\n",
       "\tUniversity of the Pacific & Yes &  2459 &  1997 &  582 & 36 & 66 &  2664 &  299 & 16320 & 5326 &  646 & 1171 & 87 &  94 & 11.2 & 14 & 13706 & 65\\\\\n",
       "\tUniversity of Tulsa & Yes &  1712 &  1557 &  696 & 41 & 68 &  2936 &  433 & 11750 & 4160 & 1200 & 2350 & 94 &  96 & 11.5 & 10 & 11743 & 47\\\\\n",
       "\tUniversity of Utah & No  &  5095 &  4491 & 2400 & 27 & 53 & 13894 & 8374 &  6857 & 3975 &  858 & 3093 & 89 &  93 & 12.8 &  9 &  9275 & 37\\\\\n",
       "\tUniversity of Washington & No  & 12749 &  7025 & 3343 & 40 & 81 & 20356 & 4582 &  8199 & 4218 &  708 & 2172 & 96 &  94 &  9.0 & 10 & 16527 & 65\\\\\n",
       "\tUniversity of Wisconsin-Superior & No  &   910 &   910 &  342 & 14 & 53 &  1434 &  417 &  7032 & 2780 &  550 & 1960 & 75 &  81 & 15.2 & 15 &  6490 & 36\\\\\n",
       "\tUniversity of Wisconsin-Whitewater & No  &  4400 &  3719 & 1472 & 12 & 38 &  7804 & 1552 &  6950 & 2500 &  300 & 1200 & 90 &  95 & 23.1 & 16 &  5559 & 67\\\\\n",
       "\tUniversity of Wisconsin at Green Bay & No  &  2409 &  1939 &  759 & 17 & 50 &  3819 & 1347 &  6900 & 2800 &  475 & 1200 & 81 &  89 & 22.2 &  1 &  5968 & 46\\\\\n",
       "\tUniversity of Wisconsin at Madison & No  & 14901 & 10932 & 4631 & 36 & 80 & 23945 & 2200 &  9096 & 4290 &  535 & 1545 & 93 &  96 & 11.5 & 20 & 11006 & 72\\\\\n",
       "\tUpper Iowa University & Yes &   663 &   452 &  192 & 10 & 35 &  1481 & 1160 &  8840 & 3060 &  500 & 1000 & 69 &  75 & 17.4 & 19 &  3733 & 78\\\\\n",
       "\tUrsinus College & Yes &  1399 &  1026 &  308 & 44 & 77 &  1131 &   17 & 14900 & 5160 &  500 &  800 & 82 &  85 & 11.6 & 40 & 12082 & 79\\\\\n",
       "\tVanderbilt University & Yes &  7791 &  4690 & 1499 & 71 & 92 &  5500 &   90 & 17865 & 6525 &  630 &  952 & 93 &  98 &  5.8 & 26 & 23850 & 83\\\\\n",
       "\tVillanova University & Yes &  7759 &  5588 & 1477 & 30 & 68 &  6362 & 1292 & 15925 & 6507 &  400 &  300 & 89 &  90 & 13.4 & 24 & 10458 & 96\\\\\n",
       "\tVirginia Tech & No  & 15712 & 11719 & 4277 & 29 & 53 & 18511 &  604 & 10260 & 3176 &  740 & 2200 & 85 &  89 & 13.8 & 20 &  8944 & 73\\\\\n",
       "\tWabash College & Yes &   800 &   623 &  256 & 41 & 76 &   801 &    5 & 12925 & 4195 &  500 &  635 & 78 &  85 &  9.9 & 55 & 14904 & 72\\\\\n",
       "\tWake Forest University & Yes &  5661 &  2392 &  903 & 75 & 88 &  3499 &  172 & 13850 & 4360 &  500 & 1250 & 95 &  97 &  4.3 & 37 & 41766 & 89\\\\\n",
       "\tWashington College & Yes &  1209 &   942 &  214 & 31 & 60 &   822 &   46 & 15276 & 5318 &  500 &  300 & 79 &  86 & 11.2 & 37 & 10830 & 65\\\\\n",
       "\tWayne State College & No  &  1373 &  1373 &  724 &  6 & 21 &  2754 &  474 &  2700 & 2660 &  540 & 1660 & 60 &  68 & 20.3 & 29 &  4550 & 52\\\\\n",
       "\tWaynesburg College & Yes &  1190 &   978 &  324 & 12 & 30 &  1280 &   61 &  8840 & 3620 &  500 & 1200 & 57 &  58 & 16.2 & 26 &  6563 & 63\\\\\n",
       "\tWebster University & Yes &   665 &   462 &  226 & 17 & 44 &  1739 & 1550 &  9160 & 4340 &  500 &  500 & 68 &  68 & 20.6 & 14 &  6951 & 48\\\\\n",
       "\tWestern Michigan University & No  &  9167 &  7191 & 2738 & 24 & 53 & 15739 & 4278 &  6940 & 4100 &  500 & 1700 & 80 &  84 & 24.7 & 11 &  5983 & 55\\\\\n",
       "\tWestern New England College & Yes &  1650 &  1471 &  409 &  7 & 21 &  1803 & 1116 &  8994 & 5500 &  498 & 2065 & 74 &  97 & 15.4 & 15 &  8409 & 59\\\\\n",
       "\tWestern State College of Colorado & No  &  2702 &  1623 &  604 &  7 & 24 &  2315 &  146 &  5918 & 3755 &  500 & 2050 & 76 &  79 & 19.4 &  4 &  4599 & 52\\\\\n",
       "\tWheaton College IL & Yes &  1432 &   920 &  548 & 56 & 84 &  2200 &   56 & 11480 & 4200 &  530 & 1400 & 81 &  83 & 12.7 & 40 & 11916 & 85\\\\\n",
       "\tWhitworth College & Yes &  1121 &   926 &  372 & 43 & 70 &  1270 &  160 & 12660 & 4500 &  678 & 2424 & 80 &  80 & 16.9 & 20 &  8328 & 80\\\\\n",
       "\tWilkes University & Yes &  1631 &  1431 &  434 & 15 & 36 &  1803 &  603 & 11150 & 5130 &  550 & 1260 & 78 &  92 & 13.3 & 24 &  8543 & 67\\\\\n",
       "\tWilson College & Yes &   167 &   130 &   46 & 16 & 50 &   199 &  676 & 11428 & 5084 &  450 &  475 & 67 &  76 &  8.3 & 43 & 10291 & 67\\\\\n",
       "\tWingate College & Yes &  1239 &  1017 &  383 & 10 & 34 &  1207 &  157 &  7820 & 3400 &  550 & 1550 & 69 &  81 & 13.9 &  8 &  7264 & 91\\\\\n",
       "\tWinona State University & No  &  3325 &  2047 & 1301 & 20 & 45 &  5800 &  872 &  4200 & 2700 &  300 & 1200 & 53 &  60 & 20.2 & 18 &  5318 & 58\\\\\n",
       "\\end{tabular}\n"
      ],
      "text/markdown": [
       "\n",
       "A data.frame: 234 × 18\n",
       "\n",
       "| <!--/--> | Private &lt;fct&gt; | Apps &lt;dbl&gt; | Accept &lt;dbl&gt; | Enroll &lt;dbl&gt; | Top10perc &lt;dbl&gt; | Top25perc &lt;dbl&gt; | F.Undergrad &lt;dbl&gt; | P.Undergrad &lt;dbl&gt; | Outstate &lt;dbl&gt; | Room.Board &lt;dbl&gt; | Books &lt;dbl&gt; | Personal &lt;dbl&gt; | PhD &lt;dbl&gt; | Terminal &lt;dbl&gt; | S.F.Ratio &lt;dbl&gt; | perc.alumni &lt;dbl&gt; | Expend &lt;dbl&gt; | Grad.Rate &lt;dbl&gt; |\n",
       "|---|---|---|---|---|---|---|---|---|---|---|---|---|---|---|---|---|---|---|\n",
       "| Alaska Pacific University | Yes |  193 |  146 |   55 | 16 | 44 |   249 |  869 |  7560 | 4120 | 800 | 1500 | 76 | 72 | 11.9 |  2 | 10922 | 15 |\n",
       "| Albright College | Yes | 1038 |  839 |  227 | 30 | 63 |   973 |  306 | 15595 | 4400 | 300 |  500 | 79 | 84 | 11.3 | 23 | 11644 | 80 |\n",
       "| Alderson-Broaddus College | Yes |  582 |  498 |  172 | 21 | 44 |   799 |   78 | 10468 | 3380 | 660 | 1800 | 40 | 41 | 11.5 | 15 |  8991 | 52 |\n",
       "| Alfred University | Yes | 1732 | 1425 |  472 | 37 | 75 |  1830 |  110 | 16548 | 5406 | 500 |  600 | 82 | 88 | 11.3 | 31 | 10932 | 73 |\n",
       "| Alma College | Yes | 1267 | 1080 |  385 | 44 | 73 |  1306 |   28 | 12572 | 4552 | 400 |  400 | 79 | 87 | 15.3 | 32 |  9305 | 68 |\n",
       "| Angelo State University | No  | 3540 | 2001 | 1016 | 24 | 54 |  4190 | 1512 |  5130 | 3592 | 500 | 2000 | 60 | 62 | 23.1 |  5 |  4010 | 34 |\n",
       "| Assumption College | Yes | 2135 | 1700 |  491 | 23 | 59 |  1708 |  689 | 12000 | 5920 | 500 |  500 | 93 | 93 | 13.8 | 30 |  7100 | 88 |\n",
       "| Augustana College IL | Yes | 1879 | 1658 |  497 | 36 | 69 |  1950 |   38 | 13353 | 4173 | 540 |  821 | 78 | 83 | 12.7 | 40 |  9220 | 71 |\n",
       "| Barat College | Yes |  261 |  192 |  111 | 15 | 36 |   453 |  266 |  9690 | 4300 | 500 |  500 | 57 | 77 |  9.7 | 35 |  9337 | 71 |\n",
       "| Bard College | Yes | 1910 |  838 |  285 | 50 | 85 |  1004 |   15 | 19264 | 6206 | 750 |  750 | 98 | 98 | 10.4 | 30 | 13894 | 79 |\n",
       "| Bellarmine College | Yes |  807 |  707 |  308 | 39 | 63 |  1198 |  605 |  8840 | 2950 | 750 | 1290 | 74 | 82 | 13.1 | 31 |  6668 | 84 |\n",
       "| Belmont Abbey College | Yes |  632 |  494 |  129 | 17 | 36 |   709 |  131 |  9000 | 4850 | 300 | 2480 | 78 | 85 | 13.2 | 10 |  7550 | 52 |\n",
       "| Beloit College | Yes | 1320 |  923 |  284 | 26 | 54 |  1085 |   81 | 16304 | 3616 | 355 |  715 | 87 | 95 | 11.1 | 26 | 12957 | 69 |\n",
       "| Benedictine College | Yes |  632 |  620 |  222 | 14 | 24 |   702 |  501 |  9550 | 3850 | 350 |  250 | 64 | 84 | 14.1 | 18 |  5922 | 58 |\n",
       "| Bennington College | Yes |  519 |  327 |  114 | 25 | 53 |   457 |    2 | 21700 | 4100 | 600 |  500 | 35 | 59 | 10.1 | 33 | 16364 | 55 |\n",
       "| Bethel College | Yes |  502 |  384 |  104 | 11 | 28 |   347 |   74 |  6200 | 2900 | 600 |  800 | 63 | 63 | 11.7 | 13 |  7623 | 35 |\n",
       "| Birmingham-Southern College | Yes |  805 |  588 |  287 | 67 | 88 |  1376 |  207 | 11660 | 4325 | 400 |  900 | 74 | 79 | 14.0 | 34 |  8649 | 72 |\n",
       "| Blackburn College | Yes |  500 |  336 |  156 | 25 | 55 |   421 |   27 |  6500 | 2700 | 500 | 1000 | 76 | 76 | 14.3 | 53 |  8377 | 51 |\n",
       "| Brandeis University | Yes | 4186 | 2743 |  740 | 48 | 77 |  2819 |   62 | 19380 | 6750 | 410 | 1000 | 90 | 97 |  9.8 | 24 | 17150 | 84 |\n",
       "| Brenau University | Yes |  367 |  274 |  158 | 12 | 41 |   917 |  479 |  9592 | 5879 | 500 |  700 | 71 | 80 | 13.7 | 12 |  5935 | 49 |\n",
       "| Briar Cliff College | Yes |  392 |  351 |  155 | 16 | 44 |   738 |  430 | 10260 | 3597 | 600 | 1500 | 39 | 66 | 13.1 | 26 |  8355 | 58 |\n",
       "| Brigham Young University at Provo | Yes | 7365 | 5402 | 4615 | 48 | 82 | 27378 | 1253 |  2340 | 3580 | 860 | 1220 | 76 | 76 | 20.5 | 40 |  7916 | 33 |\n",
       "| Bucknell University | Yes | 6548 | 3813 |  862 | 49 | 85 |  3316 |   31 | 18550 | 4750 | 800 | 1200 | 95 | 97 | 14.2 | 36 | 13675 | 93 |\n",
       "| Butler University | Yes | 2362 | 2037 |  700 | 40 | 68 |  2607 |  148 | 13130 | 4650 | 500 | 1600 | 77 | 81 | 10.9 | 29 |  9511 | 83 |\n",
       "| California Lutheran University | Yes |  563 |  247 |  247 | 23 | 52 |  1427 |  432 | 12950 | 5300 | 612 |  576 | 72 | 74 | 12.4 | 17 |  8985 | 60 |\n",
       "| California Polytechnic-San Luis | No  | 7811 | 3817 | 1650 | 47 | 73 | 12911 | 1404 |  7380 | 4877 | 612 | 2091 | 72 | 81 | 19.8 | 13 |  8453 | 59 |\n",
       "| Campbellsville College | Yes |  848 |  587 |  298 | 25 | 55 |   935 |  184 |  6060 | 3070 | 600 | 1300 | 62 | 66 | 17.7 | 13 |  5391 | 49 |\n",
       "| Canisius College | Yes | 2853 | 2193 |  753 | 16 | 34 |  2978 |  434 | 10750 | 5340 | 400 | 1130 | 90 | 92 | 14.6 | 26 |  7972 | 64 |\n",
       "| Capital University | Yes | 1747 | 1382 |  449 | 34 | 66 |  1662 |  960 | 13050 | 4000 | 500 |  800 | 64 | 69 | 12.1 | 27 |  9557 | 83 |\n",
       "| Carroll College | Yes | 1160 |  991 |  352 | 19 | 55 |  1357 |  737 | 12200 | 3880 | 480 |  930 | 74 | 81 | 17.8 | 25 |  7666 | 79 |\n",
       "| ⋮ | ⋮ | ⋮ | ⋮ | ⋮ | ⋮ | ⋮ | ⋮ | ⋮ | ⋮ | ⋮ | ⋮ | ⋮ | ⋮ | ⋮ | ⋮ | ⋮ | ⋮ | ⋮ |\n",
       "| University of Texas at San Antonio | No  |  4217 |  3100 | 1686 | 17 | 46 |  9375 | 5457 |  4104 | 5376 |  452 | 1200 | 94 | 100 | 25.3 |  3 |  4329 | 50 |\n",
       "| University of the Arts | Yes |   974 |   704 |  290 |  5 | 22 |  1145 |   39 | 12520 | 3860 | 1300 |  700 | 16 |  59 |  7.5 |  9 | 11641 | 57 |\n",
       "| University of the Pacific | Yes |  2459 |  1997 |  582 | 36 | 66 |  2664 |  299 | 16320 | 5326 |  646 | 1171 | 87 |  94 | 11.2 | 14 | 13706 | 65 |\n",
       "| University of Tulsa | Yes |  1712 |  1557 |  696 | 41 | 68 |  2936 |  433 | 11750 | 4160 | 1200 | 2350 | 94 |  96 | 11.5 | 10 | 11743 | 47 |\n",
       "| University of Utah | No  |  5095 |  4491 | 2400 | 27 | 53 | 13894 | 8374 |  6857 | 3975 |  858 | 3093 | 89 |  93 | 12.8 |  9 |  9275 | 37 |\n",
       "| University of Washington | No  | 12749 |  7025 | 3343 | 40 | 81 | 20356 | 4582 |  8199 | 4218 |  708 | 2172 | 96 |  94 |  9.0 | 10 | 16527 | 65 |\n",
       "| University of Wisconsin-Superior | No  |   910 |   910 |  342 | 14 | 53 |  1434 |  417 |  7032 | 2780 |  550 | 1960 | 75 |  81 | 15.2 | 15 |  6490 | 36 |\n",
       "| University of Wisconsin-Whitewater | No  |  4400 |  3719 | 1472 | 12 | 38 |  7804 | 1552 |  6950 | 2500 |  300 | 1200 | 90 |  95 | 23.1 | 16 |  5559 | 67 |\n",
       "| University of Wisconsin at Green Bay | No  |  2409 |  1939 |  759 | 17 | 50 |  3819 | 1347 |  6900 | 2800 |  475 | 1200 | 81 |  89 | 22.2 |  1 |  5968 | 46 |\n",
       "| University of Wisconsin at Madison | No  | 14901 | 10932 | 4631 | 36 | 80 | 23945 | 2200 |  9096 | 4290 |  535 | 1545 | 93 |  96 | 11.5 | 20 | 11006 | 72 |\n",
       "| Upper Iowa University | Yes |   663 |   452 |  192 | 10 | 35 |  1481 | 1160 |  8840 | 3060 |  500 | 1000 | 69 |  75 | 17.4 | 19 |  3733 | 78 |\n",
       "| Ursinus College | Yes |  1399 |  1026 |  308 | 44 | 77 |  1131 |   17 | 14900 | 5160 |  500 |  800 | 82 |  85 | 11.6 | 40 | 12082 | 79 |\n",
       "| Vanderbilt University | Yes |  7791 |  4690 | 1499 | 71 | 92 |  5500 |   90 | 17865 | 6525 |  630 |  952 | 93 |  98 |  5.8 | 26 | 23850 | 83 |\n",
       "| Villanova University | Yes |  7759 |  5588 | 1477 | 30 | 68 |  6362 | 1292 | 15925 | 6507 |  400 |  300 | 89 |  90 | 13.4 | 24 | 10458 | 96 |\n",
       "| Virginia Tech | No  | 15712 | 11719 | 4277 | 29 | 53 | 18511 |  604 | 10260 | 3176 |  740 | 2200 | 85 |  89 | 13.8 | 20 |  8944 | 73 |\n",
       "| Wabash College | Yes |   800 |   623 |  256 | 41 | 76 |   801 |    5 | 12925 | 4195 |  500 |  635 | 78 |  85 |  9.9 | 55 | 14904 | 72 |\n",
       "| Wake Forest University | Yes |  5661 |  2392 |  903 | 75 | 88 |  3499 |  172 | 13850 | 4360 |  500 | 1250 | 95 |  97 |  4.3 | 37 | 41766 | 89 |\n",
       "| Washington College | Yes |  1209 |   942 |  214 | 31 | 60 |   822 |   46 | 15276 | 5318 |  500 |  300 | 79 |  86 | 11.2 | 37 | 10830 | 65 |\n",
       "| Wayne State College | No  |  1373 |  1373 |  724 |  6 | 21 |  2754 |  474 |  2700 | 2660 |  540 | 1660 | 60 |  68 | 20.3 | 29 |  4550 | 52 |\n",
       "| Waynesburg College | Yes |  1190 |   978 |  324 | 12 | 30 |  1280 |   61 |  8840 | 3620 |  500 | 1200 | 57 |  58 | 16.2 | 26 |  6563 | 63 |\n",
       "| Webster University | Yes |   665 |   462 |  226 | 17 | 44 |  1739 | 1550 |  9160 | 4340 |  500 |  500 | 68 |  68 | 20.6 | 14 |  6951 | 48 |\n",
       "| Western Michigan University | No  |  9167 |  7191 | 2738 | 24 | 53 | 15739 | 4278 |  6940 | 4100 |  500 | 1700 | 80 |  84 | 24.7 | 11 |  5983 | 55 |\n",
       "| Western New England College | Yes |  1650 |  1471 |  409 |  7 | 21 |  1803 | 1116 |  8994 | 5500 |  498 | 2065 | 74 |  97 | 15.4 | 15 |  8409 | 59 |\n",
       "| Western State College of Colorado | No  |  2702 |  1623 |  604 |  7 | 24 |  2315 |  146 |  5918 | 3755 |  500 | 2050 | 76 |  79 | 19.4 |  4 |  4599 | 52 |\n",
       "| Wheaton College IL | Yes |  1432 |   920 |  548 | 56 | 84 |  2200 |   56 | 11480 | 4200 |  530 | 1400 | 81 |  83 | 12.7 | 40 | 11916 | 85 |\n",
       "| Whitworth College | Yes |  1121 |   926 |  372 | 43 | 70 |  1270 |  160 | 12660 | 4500 |  678 | 2424 | 80 |  80 | 16.9 | 20 |  8328 | 80 |\n",
       "| Wilkes University | Yes |  1631 |  1431 |  434 | 15 | 36 |  1803 |  603 | 11150 | 5130 |  550 | 1260 | 78 |  92 | 13.3 | 24 |  8543 | 67 |\n",
       "| Wilson College | Yes |   167 |   130 |   46 | 16 | 50 |   199 |  676 | 11428 | 5084 |  450 |  475 | 67 |  76 |  8.3 | 43 | 10291 | 67 |\n",
       "| Wingate College | Yes |  1239 |  1017 |  383 | 10 | 34 |  1207 |  157 |  7820 | 3400 |  550 | 1550 | 69 |  81 | 13.9 |  8 |  7264 | 91 |\n",
       "| Winona State University | No  |  3325 |  2047 | 1301 | 20 | 45 |  5800 |  872 |  4200 | 2700 |  300 | 1200 | 53 |  60 | 20.2 | 18 |  5318 | 58 |\n",
       "\n"
      ],
      "text/plain": [
       "                                     Private Apps  Accept Enroll Top10perc\n",
       "Alaska Pacific University            Yes      193   146     55   16       \n",
       "Albright College                     Yes     1038   839    227   30       \n",
       "Alderson-Broaddus College            Yes      582   498    172   21       \n",
       "Alfred University                    Yes     1732  1425    472   37       \n",
       "Alma College                         Yes     1267  1080    385   44       \n",
       "Angelo State University              No      3540  2001   1016   24       \n",
       "Assumption College                   Yes     2135  1700    491   23       \n",
       "Augustana College IL                 Yes     1879  1658    497   36       \n",
       "Barat College                        Yes      261   192    111   15       \n",
       "Bard College                         Yes     1910   838    285   50       \n",
       "Bellarmine College                   Yes      807   707    308   39       \n",
       "Belmont Abbey College                Yes      632   494    129   17       \n",
       "Beloit College                       Yes     1320   923    284   26       \n",
       "Benedictine College                  Yes      632   620    222   14       \n",
       "Bennington College                   Yes      519   327    114   25       \n",
       "Bethel College                       Yes      502   384    104   11       \n",
       "Birmingham-Southern College          Yes      805   588    287   67       \n",
       "Blackburn College                    Yes      500   336    156   25       \n",
       "Brandeis University                  Yes     4186  2743    740   48       \n",
       "Brenau University                    Yes      367   274    158   12       \n",
       "Briar Cliff College                  Yes      392   351    155   16       \n",
       "Brigham Young University at Provo    Yes     7365  5402   4615   48       \n",
       "Bucknell University                  Yes     6548  3813    862   49       \n",
       "Butler University                    Yes     2362  2037    700   40       \n",
       "California Lutheran University       Yes      563   247    247   23       \n",
       "California Polytechnic-San Luis      No      7811  3817   1650   47       \n",
       "Campbellsville College               Yes      848   587    298   25       \n",
       "Canisius College                     Yes     2853  2193    753   16       \n",
       "Capital University                   Yes     1747  1382    449   34       \n",
       "Carroll College                      Yes     1160   991    352   19       \n",
       "<U+22EE>                                    <U+22EE> <U+22EE> <U+22EE> <U+22EE> <U+22EE> \n",
       "University of Texas at San Antonio   No       4217  3100  1686   17       \n",
       "University of the Arts               Yes       974   704   290    5       \n",
       "University of the Pacific            Yes      2459  1997   582   36       \n",
       "University of Tulsa                  Yes      1712  1557   696   41       \n",
       "University of Utah                   No       5095  4491  2400   27       \n",
       "University of Washington             No      12749  7025  3343   40       \n",
       "University of Wisconsin-Superior     No        910   910   342   14       \n",
       "University of Wisconsin-Whitewater   No       4400  3719  1472   12       \n",
       "University of Wisconsin at Green Bay No       2409  1939   759   17       \n",
       "University of Wisconsin at Madison   No      14901 10932  4631   36       \n",
       "Upper Iowa University                Yes       663   452   192   10       \n",
       "Ursinus College                      Yes      1399  1026   308   44       \n",
       "Vanderbilt University                Yes      7791  4690  1499   71       \n",
       "Villanova University                 Yes      7759  5588  1477   30       \n",
       "Virginia Tech                        No      15712 11719  4277   29       \n",
       "Wabash College                       Yes       800   623   256   41       \n",
       "Wake Forest University               Yes      5661  2392   903   75       \n",
       "Washington College                   Yes      1209   942   214   31       \n",
       "Wayne State College                  No       1373  1373   724    6       \n",
       "Waynesburg College                   Yes      1190   978   324   12       \n",
       "Webster University                   Yes       665   462   226   17       \n",
       "Western Michigan University          No       9167  7191  2738   24       \n",
       "Western New England College          Yes      1650  1471   409    7       \n",
       "Western State College of Colorado    No       2702  1623   604    7       \n",
       "Wheaton College IL                   Yes      1432   920   548   56       \n",
       "Whitworth College                    Yes      1121   926   372   43       \n",
       "Wilkes University                    Yes      1631  1431   434   15       \n",
       "Wilson College                       Yes       167   130    46   16       \n",
       "Wingate College                      Yes      1239  1017   383   10       \n",
       "Winona State University              No       3325  2047  1301   20       \n",
       "                                     Top25perc F.Undergrad P.Undergrad Outstate\n",
       "Alaska Pacific University            44          249        869         7560   \n",
       "Albright College                     63          973        306        15595   \n",
       "Alderson-Broaddus College            44          799         78        10468   \n",
       "Alfred University                    75         1830        110        16548   \n",
       "Alma College                         73         1306         28        12572   \n",
       "Angelo State University              54         4190       1512         5130   \n",
       "Assumption College                   59         1708        689        12000   \n",
       "Augustana College IL                 69         1950         38        13353   \n",
       "Barat College                        36          453        266         9690   \n",
       "Bard College                         85         1004         15        19264   \n",
       "Bellarmine College                   63         1198        605         8840   \n",
       "Belmont Abbey College                36          709        131         9000   \n",
       "Beloit College                       54         1085         81        16304   \n",
       "Benedictine College                  24          702        501         9550   \n",
       "Bennington College                   53          457          2        21700   \n",
       "Bethel College                       28          347         74         6200   \n",
       "Birmingham-Southern College          88         1376        207        11660   \n",
       "Blackburn College                    55          421         27         6500   \n",
       "Brandeis University                  77         2819         62        19380   \n",
       "Brenau University                    41          917        479         9592   \n",
       "Briar Cliff College                  44          738        430        10260   \n",
       "Brigham Young University at Provo    82        27378       1253         2340   \n",
       "Bucknell University                  85         3316         31        18550   \n",
       "Butler University                    68         2607        148        13130   \n",
       "California Lutheran University       52         1427        432        12950   \n",
       "California Polytechnic-San Luis      73        12911       1404         7380   \n",
       "Campbellsville College               55          935        184         6060   \n",
       "Canisius College                     34         2978        434        10750   \n",
       "Capital University                   66         1662        960        13050   \n",
       "Carroll College                      55         1357        737        12200   \n",
       "<U+22EE>                                    <U+22EE>  <U+22EE>    <U+22EE>    <U+22EE>\n",
       "University of Texas at San Antonio   46         9375       5457         4104   \n",
       "University of the Arts               22         1145         39        12520   \n",
       "University of the Pacific            66         2664        299        16320   \n",
       "University of Tulsa                  68         2936        433        11750   \n",
       "University of Utah                   53        13894       8374         6857   \n",
       "University of Washington             81        20356       4582         8199   \n",
       "University of Wisconsin-Superior     53         1434        417         7032   \n",
       "University of Wisconsin-Whitewater   38         7804       1552         6950   \n",
       "University of Wisconsin at Green Bay 50         3819       1347         6900   \n",
       "University of Wisconsin at Madison   80        23945       2200         9096   \n",
       "Upper Iowa University                35         1481       1160         8840   \n",
       "Ursinus College                      77         1131         17        14900   \n",
       "Vanderbilt University                92         5500         90        17865   \n",
       "Villanova University                 68         6362       1292        15925   \n",
       "Virginia Tech                        53        18511        604        10260   \n",
       "Wabash College                       76          801          5        12925   \n",
       "Wake Forest University               88         3499        172        13850   \n",
       "Washington College                   60          822         46        15276   \n",
       "Wayne State College                  21         2754        474         2700   \n",
       "Waynesburg College                   30         1280         61         8840   \n",
       "Webster University                   44         1739       1550         9160   \n",
       "Western Michigan University          53        15739       4278         6940   \n",
       "Western New England College          21         1803       1116         8994   \n",
       "Western State College of Colorado    24         2315        146         5918   \n",
       "Wheaton College IL                   84         2200         56        11480   \n",
       "Whitworth College                    70         1270        160        12660   \n",
       "Wilkes University                    36         1803        603        11150   \n",
       "Wilson College                       50          199        676        11428   \n",
       "Wingate College                      34         1207        157         7820   \n",
       "Winona State University              45         5800        872         4200   \n",
       "                                     Room.Board Books Personal PhD Terminal\n",
       "Alaska Pacific University            4120       800   1500     76  72      \n",
       "Albright College                     4400       300    500     79  84      \n",
       "Alderson-Broaddus College            3380       660   1800     40  41      \n",
       "Alfred University                    5406       500    600     82  88      \n",
       "Alma College                         4552       400    400     79  87      \n",
       "Angelo State University              3592       500   2000     60  62      \n",
       "Assumption College                   5920       500    500     93  93      \n",
       "Augustana College IL                 4173       540    821     78  83      \n",
       "Barat College                        4300       500    500     57  77      \n",
       "Bard College                         6206       750    750     98  98      \n",
       "Bellarmine College                   2950       750   1290     74  82      \n",
       "Belmont Abbey College                4850       300   2480     78  85      \n",
       "Beloit College                       3616       355    715     87  95      \n",
       "Benedictine College                  3850       350    250     64  84      \n",
       "Bennington College                   4100       600    500     35  59      \n",
       "Bethel College                       2900       600    800     63  63      \n",
       "Birmingham-Southern College          4325       400    900     74  79      \n",
       "Blackburn College                    2700       500   1000     76  76      \n",
       "Brandeis University                  6750       410   1000     90  97      \n",
       "Brenau University                    5879       500    700     71  80      \n",
       "Briar Cliff College                  3597       600   1500     39  66      \n",
       "Brigham Young University at Provo    3580       860   1220     76  76      \n",
       "Bucknell University                  4750       800   1200     95  97      \n",
       "Butler University                    4650       500   1600     77  81      \n",
       "California Lutheran University       5300       612    576     72  74      \n",
       "California Polytechnic-San Luis      4877       612   2091     72  81      \n",
       "Campbellsville College               3070       600   1300     62  66      \n",
       "Canisius College                     5340       400   1130     90  92      \n",
       "Capital University                   4000       500    800     64  69      \n",
       "Carroll College                      3880       480    930     74  81      \n",
       "<U+22EE>                                    <U+22EE>   <U+22EE> <U+22EE> <U+22EE> <U+22EE>\n",
       "University of Texas at San Antonio   5376        452  1200     94  100     \n",
       "University of the Arts               3860       1300   700     16   59     \n",
       "University of the Pacific            5326        646  1171     87   94     \n",
       "University of Tulsa                  4160       1200  2350     94   96     \n",
       "University of Utah                   3975        858  3093     89   93     \n",
       "University of Washington             4218        708  2172     96   94     \n",
       "University of Wisconsin-Superior     2780        550  1960     75   81     \n",
       "University of Wisconsin-Whitewater   2500        300  1200     90   95     \n",
       "University of Wisconsin at Green Bay 2800        475  1200     81   89     \n",
       "University of Wisconsin at Madison   4290        535  1545     93   96     \n",
       "Upper Iowa University                3060        500  1000     69   75     \n",
       "Ursinus College                      5160        500   800     82   85     \n",
       "Vanderbilt University                6525        630   952     93   98     \n",
       "Villanova University                 6507        400   300     89   90     \n",
       "Virginia Tech                        3176        740  2200     85   89     \n",
       "Wabash College                       4195        500   635     78   85     \n",
       "Wake Forest University               4360        500  1250     95   97     \n",
       "Washington College                   5318        500   300     79   86     \n",
       "Wayne State College                  2660        540  1660     60   68     \n",
       "Waynesburg College                   3620        500  1200     57   58     \n",
       "Webster University                   4340        500   500     68   68     \n",
       "Western Michigan University          4100        500  1700     80   84     \n",
       "Western New England College          5500        498  2065     74   97     \n",
       "Western State College of Colorado    3755        500  2050     76   79     \n",
       "Wheaton College IL                   4200        530  1400     81   83     \n",
       "Whitworth College                    4500        678  2424     80   80     \n",
       "Wilkes University                    5130        550  1260     78   92     \n",
       "Wilson College                       5084        450   475     67   76     \n",
       "Wingate College                      3400        550  1550     69   81     \n",
       "Winona State University              2700        300  1200     53   60     \n",
       "                                     S.F.Ratio perc.alumni Expend Grad.Rate\n",
       "Alaska Pacific University            11.9       2          10922  15       \n",
       "Albright College                     11.3      23          11644  80       \n",
       "Alderson-Broaddus College            11.5      15           8991  52       \n",
       "Alfred University                    11.3      31          10932  73       \n",
       "Alma College                         15.3      32           9305  68       \n",
       "Angelo State University              23.1       5           4010  34       \n",
       "Assumption College                   13.8      30           7100  88       \n",
       "Augustana College IL                 12.7      40           9220  71       \n",
       "Barat College                         9.7      35           9337  71       \n",
       "Bard College                         10.4      30          13894  79       \n",
       "Bellarmine College                   13.1      31           6668  84       \n",
       "Belmont Abbey College                13.2      10           7550  52       \n",
       "Beloit College                       11.1      26          12957  69       \n",
       "Benedictine College                  14.1      18           5922  58       \n",
       "Bennington College                   10.1      33          16364  55       \n",
       "Bethel College                       11.7      13           7623  35       \n",
       "Birmingham-Southern College          14.0      34           8649  72       \n",
       "Blackburn College                    14.3      53           8377  51       \n",
       "Brandeis University                   9.8      24          17150  84       \n",
       "Brenau University                    13.7      12           5935  49       \n",
       "Briar Cliff College                  13.1      26           8355  58       \n",
       "Brigham Young University at Provo    20.5      40           7916  33       \n",
       "Bucknell University                  14.2      36          13675  93       \n",
       "Butler University                    10.9      29           9511  83       \n",
       "California Lutheran University       12.4      17           8985  60       \n",
       "California Polytechnic-San Luis      19.8      13           8453  59       \n",
       "Campbellsville College               17.7      13           5391  49       \n",
       "Canisius College                     14.6      26           7972  64       \n",
       "Capital University                   12.1      27           9557  83       \n",
       "Carroll College                      17.8      25           7666  79       \n",
       "<U+22EE>                                    <U+22EE>  <U+22EE>    <U+22EE> <U+22EE> \n",
       "University of Texas at San Antonio   25.3       3           4329  50       \n",
       "University of the Arts                7.5       9          11641  57       \n",
       "University of the Pacific            11.2      14          13706  65       \n",
       "University of Tulsa                  11.5      10          11743  47       \n",
       "University of Utah                   12.8       9           9275  37       \n",
       "University of Washington              9.0      10          16527  65       \n",
       "University of Wisconsin-Superior     15.2      15           6490  36       \n",
       "University of Wisconsin-Whitewater   23.1      16           5559  67       \n",
       "University of Wisconsin at Green Bay 22.2       1           5968  46       \n",
       "University of Wisconsin at Madison   11.5      20          11006  72       \n",
       "Upper Iowa University                17.4      19           3733  78       \n",
       "Ursinus College                      11.6      40          12082  79       \n",
       "Vanderbilt University                 5.8      26          23850  83       \n",
       "Villanova University                 13.4      24          10458  96       \n",
       "Virginia Tech                        13.8      20           8944  73       \n",
       "Wabash College                        9.9      55          14904  72       \n",
       "Wake Forest University                4.3      37          41766  89       \n",
       "Washington College                   11.2      37          10830  65       \n",
       "Wayne State College                  20.3      29           4550  52       \n",
       "Waynesburg College                   16.2      26           6563  63       \n",
       "Webster University                   20.6      14           6951  48       \n",
       "Western Michigan University          24.7      11           5983  55       \n",
       "Western New England College          15.4      15           8409  59       \n",
       "Western State College of Colorado    19.4       4           4599  52       \n",
       "Wheaton College IL                   12.7      40          11916  85       \n",
       "Whitworth College                    16.9      20           8328  80       \n",
       "Wilkes University                    13.3      24           8543  67       \n",
       "Wilson College                        8.3      43          10291  67       \n",
       "Wingate College                      13.9       8           7264  91       \n",
       "Winona State University              20.2      18           5318  58       "
      ]
     },
     "metadata": {},
     "output_type": "display_data"
    }
   ],
   "source": [
    "test_set"
   ]
  },
  {
   "cell_type": "code",
   "execution_count": 8,
   "id": "7947f25a",
   "metadata": {},
   "outputs": [
    {
     "data": {
      "text/html": [
       "680349.549952722"
      ],
      "text/latex": [
       "680349.549952722"
      ],
      "text/markdown": [
       "680349.549952722"
      ],
      "text/plain": [
       "[1] 680349.5"
      ]
     },
     "metadata": {},
     "output_type": "display_data"
    }
   ],
   "source": [
    "# B\n",
    "#fit the model on the train set\n",
    "lm.fit = lm(Apps~., data=train_set)\n",
    "#fit the model on the test set\n",
    "lm.pred = predict(lm.fit, test_set)\n",
    "#calculate the test error\n",
    "testerror <- mean((test_set[, \"Apps\"] - lm.pred)^2)\n",
    "testerror"
   ]
  },
  {
   "cell_type": "code",
   "execution_count": 10,
   "id": "f45930f3",
   "metadata": {},
   "outputs": [
    {
     "name": "stdout",
     "output_type": "stream",
     "text": [
      "package 'glmnet' successfully unpacked and MD5 sums checked\n",
      "\n",
      "The downloaded binary packages are in\n",
      "\tC:\\Users\\sghysels\\AppData\\Local\\Temp\\RtmpMxzGVq\\downloaded_packages\n"
     ]
    },
    {
     "name": "stderr",
     "output_type": "stream",
     "text": [
      "Loading required package: Matrix\n",
      "\n",
      "Loaded glmnet 4.1-3\n",
      "\n"
     ]
    },
    {
     "data": {
      "text/html": [
       "0.01"
      ],
      "text/latex": [
       "0.01"
      ],
      "text/markdown": [
       "0.01"
      ],
      "text/plain": [
       "[1] 0.01"
      ]
     },
     "metadata": {},
     "output_type": "display_data"
    },
    {
     "data": {
      "text/html": [
       "680303.984827706"
      ],
      "text/latex": [
       "680303.984827706"
      ],
      "text/markdown": [
       "680303.984827706"
      ],
      "text/plain": [
       "[1] 680304"
      ]
     },
     "metadata": {},
     "output_type": "display_data"
    }
   ],
   "source": [
    "# C\n",
    "install.packages(\"glmnet\")\n",
    "library(glmnet)\n",
    "train.mat <- model.matrix(Apps ~ ., data = train_set)\n",
    "test.mat <- model.matrix(Apps ~ ., data = test_set)\n",
    "grid <- 10 ^ seq(4, -2, length = 100)\n",
    "fit.ridge <- glmnet(train.mat, train_set$Apps, alpha = 0, lambda = grid, thresh = 1e-12)\n",
    "cv.ridge <- cv.glmnet(train.mat, train_set$Apps, alpha = 0, lambda = grid, thresh = 1e-12)\n",
    "bestlambda.ridge <- cv.ridge$lambda.min\n",
    "bestlambda.ridge\n",
    "\n",
    "pred.ridge <- predict(fit.ridge, s = bestlambda.ridge, newx = test.mat)\n",
    "mean((pred.ridge - test_set$Apps)^2)"
   ]
  },
  {
   "cell_type": "code",
   "execution_count": 12,
   "id": "cd9b2d56",
   "metadata": {},
   "outputs": [
    {
     "data": {
      "text/html": [
       "0.01"
      ],
      "text/latex": [
       "0.01"
      ],
      "text/markdown": [
       "0.01"
      ],
      "text/plain": [
       "[1] 0.01"
      ]
     },
     "metadata": {},
     "output_type": "display_data"
    },
    {
     "data": {
      "text/html": [
       "680231.606830966"
      ],
      "text/latex": [
       "680231.606830966"
      ],
      "text/markdown": [
       "680231.606830966"
      ],
      "text/plain": [
       "[1] 680231.6"
      ]
     },
     "metadata": {},
     "output_type": "display_data"
    }
   ],
   "source": [
    "# D\n",
    "fit.lasso <- glmnet(train.mat, train_set$Apps, alpha = 1, lambda = grid, thresh = 1e-12)\n",
    "cv.lasso <- cv.glmnet(train.mat, train_set$Apps, alpha = 1, lambda = grid, thresh = 1e-12)\n",
    "bestlambda.lasso <- cv.lasso$lambda.min\n",
    "bestlambda.lasso\n",
    "pred.lasso <- predict(fit.lasso, s = bestlambda.lasso, newx = test.mat)\n",
    "mean((pred.lasso - test_set$Apps)^2)"
   ]
  },
  {
   "cell_type": "code",
   "execution_count": 18,
   "id": "610c8d5f",
   "metadata": {},
   "outputs": [
    {
     "name": "stderr",
     "output_type": "stream",
     "text": [
      "Warning message in mean.default((test_set[, \"Apps\"] - data.frame(pcr.pred))^2):\n",
      "\"argument is not numeric or logical: returning NA\"\n"
     ]
    },
    {
     "data": {
      "text/html": [
       "&lt;NA&gt;"
      ],
      "text/latex": [
       "<NA>"
      ],
      "text/markdown": [
       "&lt;NA&gt;"
      ],
      "text/plain": [
       "[1] NA"
      ]
     },
     "metadata": {},
     "output_type": "display_data"
    },
    {
     "data": {
      "image/png": "[encoded data removed]",
      "text/plain": [
       "Plot with title \"Apps\""
      ]
     },
     "metadata": {
      "image/png": {
       "height": 420,
       "width": 420
      }
     },
     "output_type": "display_data"
    }
   ],
   "source": [
    "# E\n",
    "library(pls)\n",
    "pcr.fit = pcr(Apps~., data=train_set, scale=T, validation=\"CV\")\n",
    "validationplot(pcr.fit, val.type=\"MSEP\")\n",
    "pcr.pred = predict(pcr.fit, test_set, ncomp=10)\n",
    "mean((test_set[, \"Apps\"] - data.frame(pcr.pred))^2)"
   ]
  },
  {
   "cell_type": "code",
   "execution_count": 20,
   "id": "189d51f0",
   "metadata": {},
   "outputs": [
    {
     "ename": "ERROR",
     "evalue": "Error in h(simpleError(msg, call)): error in evaluating the argument 'x' in selecting a method for function 'mean': object 'pred.lm' not found\n",
     "output_type": "error",
     "traceback": [
      "Error in h(simpleError(msg, call)): error in evaluating the argument 'x' in selecting a method for function 'mean': object 'pred.lm' not found\nTraceback:\n",
      "1. mean((pred.lm - test_set$Apps)^2)",
      "2. .handleSimpleError(function (cond) \n . .Internal(C_tryCatchHelper(addr, 1L, cond)), \"object 'pred.lm' not found\", \n .     base::quote(mean((pred.lm - test_set$Apps)^2)))",
      "3. h(simpleError(msg, call))"
     ]
    }
   ],
   "source": [
    "# F\n",
    "test.avg <- mean(test_set$Apps)\n",
    "lm.r2 <- 1 - mean((pred.lm - test_set$Apps)^2) / mean((test.avg - test_set$Apps)^2)\n",
    "lm.r2\n",
    "ridge.r2 <- 1 - mean((pred.ridge - test_set$Apps)^2) / mean((test.avg - test_set$Apps)^2)\n",
    "ridge.r2\n",
    "lasso.r2 <- 1 - mean((pred.lasso - test_set$Apps)^2) / mean((test.avg - test_set$Apps)^2)\n",
    "lasso.r2\n",
    "pcr.r2 <- 1 - mean((pred.pcr - test_set$Apps)^2) / mean((test.avg - test_set$Apps)^2)\n",
    "pcr.r2\n",
    "pls.r2 <- 1 - mean((pred.pls - test_set$Apps)^2) / mean((test.avg - test_set$Apps)^2)\n",
    "pls.r2"
   ]
  },
  {
   "cell_type": "code",
   "execution_count": null,
   "id": "bbfad692",
   "metadata": {},
   "outputs": [],
   "source": [
    "# G\n",
    "# Results for OLS, Lasso, Ridge are comparable. Lasso reduces the F.Undergrad and Books variables to zero and shrinks coefficients of other variables. Here are the test R2 for all models."
   ]
  },
  {
   "cell_type": "code",
   "execution_count": null,
   "id": "13122495",
   "metadata": {},
   "outputs": [],
   "source": [
    "# Exercise 9 (p.299, Chap.7)"
   ]
  },
  {
   "cell_type": "code",
   "execution_count": 21,
   "id": "467e8ae0",
   "metadata": {},
   "outputs": [
    {
     "name": "stderr",
     "output_type": "stream",
     "text": [
      "Loading required package: MASS\n",
      "\n",
      "Loading required package: tidyverse\n",
      "\n",
      "-- \u001b[1mAttaching packages\u001b[22m ------------------------------------------------------------------------------- tidyverse 1.3.1 --\n",
      "\n",
      "\u001b[32mv\u001b[39m \u001b[34mggplot2\u001b[39m 3.3.5     \u001b[32mv\u001b[39m \u001b[34mpurrr  \u001b[39m 0.3.4\n",
      "\u001b[32mv\u001b[39m \u001b[34mtibble \u001b[39m 3.1.6     \u001b[32mv\u001b[39m \u001b[34mdplyr  \u001b[39m 1.0.7\n",
      "\u001b[32mv\u001b[39m \u001b[34mtidyr  \u001b[39m 1.1.4     \u001b[32mv\u001b[39m \u001b[34mstringr\u001b[39m 1.4.0\n",
      "\u001b[32mv\u001b[39m \u001b[34mreadr  \u001b[39m 2.1.1     \u001b[32mv\u001b[39m \u001b[34mforcats\u001b[39m 0.5.1\n",
      "\n",
      "-- \u001b[1mConflicts\u001b[22m ---------------------------------------------------------------------------------- tidyverse_conflicts() --\n",
      "\u001b[31mx\u001b[39m \u001b[34mtidyr\u001b[39m::\u001b[32mexpand()\u001b[39m masks \u001b[34mMatrix\u001b[39m::expand()\n",
      "\u001b[31mx\u001b[39m \u001b[34mdplyr\u001b[39m::\u001b[32mfilter()\u001b[39m masks \u001b[34mstats\u001b[39m::filter()\n",
      "\u001b[31mx\u001b[39m \u001b[34mdplyr\u001b[39m::\u001b[32mlag()\u001b[39m    masks \u001b[34mstats\u001b[39m::lag()\n",
      "\u001b[31mx\u001b[39m \u001b[34mtidyr\u001b[39m::\u001b[32mpack()\u001b[39m   masks \u001b[34mMatrix\u001b[39m::pack()\n",
      "\u001b[31mx\u001b[39m \u001b[34mdplyr\u001b[39m::\u001b[32mselect()\u001b[39m masks \u001b[34mMASS\u001b[39m::select()\n",
      "\u001b[31mx\u001b[39m \u001b[34mtidyr\u001b[39m::\u001b[32munpack()\u001b[39m masks \u001b[34mMatrix\u001b[39m::unpack()\n",
      "\n",
      "Loading required package: ggthemes\n",
      "\n",
      "Warning message in library(package, lib.loc = lib.loc, character.only = TRUE, logical.return = TRUE, :\n",
      "\"there is no package called 'ggthemes'\"\n",
      "Loading required package: broom\n",
      "\n",
      "Loading required package: knitr\n",
      "\n",
      "Loading required package: caret\n",
      "\n",
      "Loading required package: lattice\n",
      "\n",
      "\n",
      "Attaching package: 'caret'\n",
      "\n",
      "\n",
      "The following object is masked from 'package:purrr':\n",
      "\n",
      "    lift\n",
      "\n",
      "\n",
      "The following object is masked from 'package:pls':\n",
      "\n",
      "    R2\n",
      "\n",
      "\n"
     ]
    },
    {
     "data": {
      "image/png": "[encoded data removed]",
      "text/plain": [
       "plot without title"
      ]
     },
     "metadata": {
      "image/png": {
       "height": 420,
       "width": 420
      }
     },
     "output_type": "display_data"
    }
   ],
   "source": [
    "# A\n",
    "set.seed(1)\n",
    "require(MASS); require(tidyverse); require(ggplot2); require(ggthemes)\n",
    "require(broom); require(knitr); require(caret); require(dplyr)\n",
    "model <- lm(nox ~ poly(dis, 3), data = Boston)\n",
    "plot(nox ~ dis, data = Boston, col = \"green\")\n",
    "points(Boston$dis, model$fitted.values, col = 'red')\n",
    "# Plot shows a smooth curve fitting the data fairly well"
   ]
  },
  {
   "cell_type": "code",
   "execution_count": 22,
   "id": "bdc354f5",
   "metadata": {},
   "outputs": [
    {
     "data": {
      "image/png": "[encoded data removed]",
      "text/plain": [
       "plot without title"
      ]
     },
     "metadata": {
      "image/png": {
       "height": 420,
       "width": 420
      }
     },
     "output_type": "display_data"
    }
   ],
   "source": [
    "# B\n",
    "rss <- rep(NA, 10)\n",
    "for (i in 1:10) {\n",
    "  fit <- lm(nox ~ poly(dis, i), data = Boston)\n",
    "  rss[i] <- sum(fit$residuals ^ 2)\n",
    "}\n",
    "plot(1:10, rss, type = 'l', xlab = \"Degree\", ylab = \"RSS\")"
   ]
  },
  {
   "cell_type": "code",
   "execution_count": 23,
   "id": "90ec64a1",
   "metadata": {},
   "outputs": [
    {
     "name": "stderr",
     "output_type": "stream",
     "text": [
      "\n",
      "Attaching package: 'boot'\n",
      "\n",
      "\n",
      "The following object is masked from 'package:lattice':\n",
      "\n",
      "    melanoma\n",
      "\n",
      "\n"
     ]
    },
    {
     "data": {
      "image/png": "[encoded data removed]",
      "text/plain": [
       "plot without title"
      ]
     },
     "metadata": {
      "image/png": {
       "height": 420,
       "width": 420
      }
     },
     "output_type": "display_data"
    }
   ],
   "source": [
    "# C\n",
    "library(boot)\n",
    "all.deltas = rep(NA, 10)\n",
    "for (i in 1:10) {\n",
    "    glm.fit = glm(nox ~ poly(dis, i), data = Boston)\n",
    "    all.deltas[i] = cv.glm(Boston, glm.fit, K = 10)$delta[2]\n",
    "}\n",
    "plot(1:10, all.deltas, xlab = \"Degree\", ylab = \"CV error\", type = \"l\", pch = 20, \n",
    "    lwd = 2)\n",
    "# A 10-fold CV shows that the CV error reduces as we increase degree from 1 to 3, stay almost constant till degree 5, and the starts increasing for higher degrees. We pick 4 as the best polynomial degree"
   ]
  },
  {
   "cell_type": "code",
   "execution_count": 27,
   "id": "5d75cf14",
   "metadata": {},
   "outputs": [
    {
     "data": {
      "text/plain": [
       "\n",
       "Call:\n",
       "lm(formula = nox ~ bs(dis, df = 4, knots = c(4, 7, 11)), data = Boston)\n",
       "\n",
       "Residuals:\n",
       "      Min        1Q    Median        3Q       Max \n",
       "-0.124567 -0.040355 -0.008702  0.024740  0.192920 \n",
       "\n",
       "Coefficients:\n",
       "                                      Estimate Std. Error t value Pr(>|t|)    \n",
       "(Intercept)                            0.73926    0.01331  55.537  < 2e-16 ***\n",
       "bs(dis, df = 4, knots = c(4, 7, 11))1 -0.08861    0.02504  -3.539  0.00044 ***\n",
       "bs(dis, df = 4, knots = c(4, 7, 11))2 -0.31341    0.01680 -18.658  < 2e-16 ***\n",
       "bs(dis, df = 4, knots = c(4, 7, 11))3 -0.26618    0.03147  -8.459 3.00e-16 ***\n",
       "bs(dis, df = 4, knots = c(4, 7, 11))4 -0.39802    0.04647  -8.565  < 2e-16 ***\n",
       "bs(dis, df = 4, knots = c(4, 7, 11))5 -0.25681    0.09001  -2.853  0.00451 ** \n",
       "bs(dis, df = 4, knots = c(4, 7, 11))6 -0.32926    0.06327  -5.204 2.85e-07 ***\n",
       "---\n",
       "Signif. codes:  0 '***' 0.001 '**' 0.01 '*' 0.05 '.' 0.1 ' ' 1\n",
       "\n",
       "Residual standard error: 0.06185 on 499 degrees of freedom\n",
       "Multiple R-squared:  0.7185,\tAdjusted R-squared:  0.7151 \n",
       "F-statistic: 212.3 on 6 and 499 DF,  p-value: < 2.2e-16\n"
      ]
     },
     "metadata": {},
     "output_type": "display_data"
    },
    {
     "data": {
      "image/png": "[encoded data removed]",
      "text/plain": [
       "plot without title"
      ]
     },
     "metadata": {
      "image/png": {
       "height": 420,
       "width": 420
      }
     },
     "output_type": "display_data"
    }
   ],
   "source": [
    "# D\n",
    "library(splines)\n",
    "sp.fit = lm(nox ~ bs(dis, df = 4, knots = c(4, 7, 11)), data = Boston)\n",
    "summary(sp.fit)\n",
    "sp.pred <- predict(sp.fit, data.frame(dis = Boston$dis))\n",
    "plot(nox ~ dis, data = Boston, col = \"green\")\n",
    "points(Boston$dis, sp.fit$fitted.values, col = 'red')"
   ]
  },
  {
   "cell_type": "code",
   "execution_count": 28,
   "id": "38409b61",
   "metadata": {},
   "outputs": [
    {
     "data": {
      "text/html": [
       "<style>\n",
       ".list-inline {list-style: none; margin:0; padding: 0}\n",
       ".list-inline>li {display: inline-block}\n",
       ".list-inline>li:not(:last-child)::after {content: \"\\00b7\"; padding: 0 .5ex}\n",
       "</style>\n",
       "<ol class=list-inline><li>1.93410670717907</li><li>1.92277499281193</li><li>1.84017280148852</li><li>1.83396590316021</li><li>1.82988444592328</li><li>1.81699505672523</li><li>1.82565251038706</li><li>1.79253488955613</li><li>1.79699182173143</li><li>1.78899914528888</li><li>1.78235042874344</li><li>1.78183805686312</li><li>1.78279784044131</li><li>1.78354576630177</li></ol>\n"
      ],
      "text/latex": [
       "\\begin{enumerate*}\n",
       "\\item 1.93410670717907\n",
       "\\item 1.92277499281193\n",
       "\\item 1.84017280148852\n",
       "\\item 1.83396590316021\n",
       "\\item 1.82988444592328\n",
       "\\item 1.81699505672523\n",
       "\\item 1.82565251038706\n",
       "\\item 1.79253488955613\n",
       "\\item 1.79699182173143\n",
       "\\item 1.78899914528888\n",
       "\\item 1.78235042874344\n",
       "\\item 1.78183805686312\n",
       "\\item 1.78279784044131\n",
       "\\item 1.78354576630177\n",
       "\\end{enumerate*}\n"
      ],
      "text/markdown": [
       "1. 1.93410670717907\n",
       "2. 1.92277499281193\n",
       "3. 1.84017280148852\n",
       "4. 1.83396590316021\n",
       "5. 1.82988444592328\n",
       "6. 1.81699505672523\n",
       "7. 1.82565251038706\n",
       "8. 1.79253488955613\n",
       "9. 1.79699182173143\n",
       "10. 1.78899914528888\n",
       "11. 1.78235042874344\n",
       "12. 1.78183805686312\n",
       "13. 1.78279784044131\n",
       "14. 1.78354576630177\n",
       "\n",
       "\n"
      ],
      "text/plain": [
       " [1] 1.934107 1.922775 1.840173 1.833966 1.829884 1.816995 1.825653 1.792535\n",
       " [9] 1.796992 1.788999 1.782350 1.781838 1.782798 1.783546"
      ]
     },
     "metadata": {},
     "output_type": "display_data"
    }
   ],
   "source": [
    "# E\n",
    "all.cv = rep(NA, 16)\n",
    "for (i in 3:16) {\n",
    "    lm.fit = lm(nox ~ bs(dis, df = i), data = Boston)\n",
    "    all.cv[i] = sum(lm.fit$residuals^2)\n",
    "}\n",
    "all.cv[-c(1, 2)]"
   ]
  },
  {
   "cell_type": "code",
   "execution_count": 30,
   "id": "dac2c7ab",
   "metadata": {},
   "outputs": [
    {
     "name": "stderr",
     "output_type": "stream",
     "text": [
      "Warning message in bs(dis, degree = 3L, knots = numeric(0), Boundary.knots = c(1.137, :\n",
      "\"some 'x' values beyond boundary knots may cause ill-conditioned bases\"\n",
      "Warning message in bs(dis, degree = 3L, knots = numeric(0), Boundary.knots = c(1.137, :\n",
      "\"some 'x' values beyond boundary knots may cause ill-conditioned bases\"\n",
      "Warning message in bs(dis, degree = 3L, knots = numeric(0), Boundary.knots = c(1.1296, :\n",
      "\"some 'x' values beyond boundary knots may cause ill-conditioned bases\"\n",
      "Warning message in bs(dis, degree = 3L, knots = numeric(0), Boundary.knots = c(1.1296, :\n",
      "\"some 'x' values beyond boundary knots may cause ill-conditioned bases\"\n",
      "Warning message in bs(dis, degree = 3L, knots = c(`50%` = 3.2157), Boundary.knots = c(1.1296, :\n",
      "\"some 'x' values beyond boundary knots may cause ill-conditioned bases\"\n",
      "Warning message in bs(dis, degree = 3L, knots = c(`50%` = 3.2157), Boundary.knots = c(1.1296, :\n",
      "\"some 'x' values beyond boundary knots may cause ill-conditioned bases\"\n",
      "Warning message in bs(dis, degree = 3L, knots = c(`50%` = 3.2797), Boundary.knots = c(1.137, :\n",
      "\"some 'x' values beyond boundary knots may cause ill-conditioned bases\"\n",
      "Warning message in bs(dis, degree = 3L, knots = c(`50%` = 3.2797), Boundary.knots = c(1.137, :\n",
      "\"some 'x' values beyond boundary knots may cause ill-conditioned bases\"\n",
      "Warning message in bs(dis, degree = 3L, knots = c(`33.33333%` = 2.3727, `66.66667%` = 4.36263333333333:\n",
      "\"some 'x' values beyond boundary knots may cause ill-conditioned bases\"\n",
      "Warning message in bs(dis, degree = 3L, knots = c(`33.33333%` = 2.3727, `66.66667%` = 4.36263333333333:\n",
      "\"some 'x' values beyond boundary knots may cause ill-conditioned bases\"\n",
      "Warning message in bs(dis, degree = 3L, knots = c(`25%` = 2.06855, `50%` = 3.1523, :\n",
      "\"some 'x' values beyond boundary knots may cause ill-conditioned bases\"\n",
      "Warning message in bs(dis, degree = 3L, knots = c(`25%` = 2.06855, `50%` = 3.1523, :\n",
      "\"some 'x' values beyond boundary knots may cause ill-conditioned bases\"\n",
      "Warning message in bs(dis, degree = 3L, knots = c(`25%` = 2.087875, `50%` = 3.1675, :\n",
      "\"some 'x' values beyond boundary knots may cause ill-conditioned bases\"\n",
      "Warning message in bs(dis, degree = 3L, knots = c(`25%` = 2.087875, `50%` = 3.1675, :\n",
      "\"some 'x' values beyond boundary knots may cause ill-conditioned bases\"\n",
      "Warning message in bs(dis, degree = 3L, knots = c(`20%` = 1.9512, `40%` = 2.7147, :\n",
      "\"some 'x' values beyond boundary knots may cause ill-conditioned bases\"\n",
      "Warning message in bs(dis, degree = 3L, knots = c(`20%` = 1.9512, `40%` = 2.7147, :\n",
      "\"some 'x' values beyond boundary knots may cause ill-conditioned bases\"\n",
      "Warning message in bs(dis, degree = 3L, knots = c(`20%` = 1.92938, `40%` = 2.55946, :\n",
      "\"some 'x' values beyond boundary knots may cause ill-conditioned bases\"\n",
      "Warning message in bs(dis, degree = 3L, knots = c(`20%` = 1.92938, `40%` = 2.55946, :\n",
      "\"some 'x' values beyond boundary knots may cause ill-conditioned bases\"\n",
      "Warning message in bs(dis, degree = 3L, knots = c(`16.66667%` = 1.8651, `33.33333%` = 2.40296666666667, :\n",
      "\"some 'x' values beyond boundary knots may cause ill-conditioned bases\"\n",
      "Warning message in bs(dis, degree = 3L, knots = c(`16.66667%` = 1.8651, `33.33333%` = 2.40296666666667, :\n",
      "\"some 'x' values beyond boundary knots may cause ill-conditioned bases\"\n",
      "Warning message in bs(dis, degree = 3L, knots = c(`16.66667%` = 1.86223333333333, :\n",
      "\"some 'x' values beyond boundary knots may cause ill-conditioned bases\"\n",
      "Warning message in bs(dis, degree = 3L, knots = c(`16.66667%` = 1.86223333333333, :\n",
      "\"some 'x' values beyond boundary knots may cause ill-conditioned bases\"\n",
      "Warning message in bs(dis, degree = 3L, knots = c(`14.28571%` = 1.76467142857143, :\n",
      "\"some 'x' values beyond boundary knots may cause ill-conditioned bases\"\n",
      "Warning message in bs(dis, degree = 3L, knots = c(`14.28571%` = 1.76467142857143, :\n",
      "\"some 'x' values beyond boundary knots may cause ill-conditioned bases\"\n",
      "Warning message in bs(dis, degree = 3L, knots = c(`14.28571%` = 1.7912, `28.57143%` = 2.1705, :\n",
      "\"some 'x' values beyond boundary knots may cause ill-conditioned bases\"\n",
      "Warning message in bs(dis, degree = 3L, knots = c(`14.28571%` = 1.7912, `28.57143%` = 2.1705, :\n",
      "\"some 'x' values beyond boundary knots may cause ill-conditioned bases\"\n",
      "Warning message in bs(dis, degree = 3L, knots = c(`12.5%` = 1.756975, `25%` = 2.10915, :\n",
      "\"some 'x' values beyond boundary knots may cause ill-conditioned bases\"\n",
      "Warning message in bs(dis, degree = 3L, knots = c(`12.5%` = 1.756975, `25%` = 2.10915, :\n",
      "\"some 'x' values beyond boundary knots may cause ill-conditioned bases\"\n",
      "Warning message in bs(dis, degree = 3L, knots = c(`12.5%` = 1.748425, `25%` = 2.0754, :\n",
      "\"some 'x' values beyond boundary knots may cause ill-conditioned bases\"\n",
      "Warning message in bs(dis, degree = 3L, knots = c(`12.5%` = 1.748425, `25%` = 2.0754, :\n",
      "\"some 'x' values beyond boundary knots may cause ill-conditioned bases\"\n",
      "Warning message in bs(dis, degree = 3L, knots = c(`11.11111%` = 1.66282222222222, :\n",
      "\"some 'x' values beyond boundary knots may cause ill-conditioned bases\"\n",
      "Warning message in bs(dis, degree = 3L, knots = c(`11.11111%` = 1.66282222222222, :\n",
      "\"some 'x' values beyond boundary knots may cause ill-conditioned bases\"\n",
      "Warning message in bs(dis, degree = 3L, knots = c(`11.11111%` = 1.75101111111111, :\n",
      "\"some 'x' values beyond boundary knots may cause ill-conditioned bases\"\n",
      "Warning message in bs(dis, degree = 3L, knots = c(`11.11111%` = 1.75101111111111, :\n",
      "\"some 'x' values beyond boundary knots may cause ill-conditioned bases\"\n",
      "Warning message in bs(dis, degree = 3L, knots = c(`10%` = 1.65285, `20%` = 1.9669, :\n",
      "\"some 'x' values beyond boundary knots may cause ill-conditioned bases\"\n",
      "Warning message in bs(dis, degree = 3L, knots = c(`10%` = 1.65285, `20%` = 1.9669, :\n",
      "\"some 'x' values beyond boundary knots may cause ill-conditioned bases\"\n",
      "Warning message in bs(dis, degree = 3L, knots = c(`10%` = 1.6424, `20%` = 1.94984, :\n",
      "\"some 'x' values beyond boundary knots may cause ill-conditioned bases\"\n",
      "Warning message in bs(dis, degree = 3L, knots = c(`10%` = 1.6424, `20%` = 1.94984, :\n",
      "\"some 'x' values beyond boundary knots may cause ill-conditioned bases\"\n",
      "Warning message in bs(dis, degree = 3L, knots = c(`9.090909%` = 1.59026363636364, :\n",
      "\"some 'x' values beyond boundary knots may cause ill-conditioned bases\"\n",
      "Warning message in bs(dis, degree = 3L, knots = c(`9.090909%` = 1.59026363636364, :\n",
      "\"some 'x' values beyond boundary knots may cause ill-conditioned bases\"\n",
      "Warning message in bs(dis, degree = 3L, knots = c(`9.090909%` = 1.61237272727273, :\n",
      "\"some 'x' values beyond boundary knots may cause ill-conditioned bases\"\n",
      "Warning message in bs(dis, degree = 3L, knots = c(`9.090909%` = 1.61237272727273, :\n",
      "\"some 'x' values beyond boundary knots may cause ill-conditioned bases\"\n",
      "Warning message in bs(dis, degree = 3L, knots = c(`8.333333%` = 1.58948333333333, :\n",
      "\"some 'x' values beyond boundary knots may cause ill-conditioned bases\"\n",
      "Warning message in bs(dis, degree = 3L, knots = c(`8.333333%` = 1.58948333333333, :\n",
      "\"some 'x' values beyond boundary knots may cause ill-conditioned bases\"\n",
      "Warning message in bs(dis, degree = 3L, knots = c(`8.333333%` = 1.57935, `16.66667%` = 1.83066666666667, :\n",
      "\"some 'x' values beyond boundary knots may cause ill-conditioned bases\"\n",
      "Warning message in bs(dis, degree = 3L, knots = c(`8.333333%` = 1.57935, `16.66667%` = 1.83066666666667, :\n",
      "\"some 'x' values beyond boundary knots may cause ill-conditioned bases\"\n",
      "Warning message in bs(dis, degree = 3L, knots = c(`7.692308%` = 1.58935384615385, :\n",
      "\"some 'x' values beyond boundary knots may cause ill-conditioned bases\"\n",
      "Warning message in bs(dis, degree = 3L, knots = c(`7.692308%` = 1.58935384615385, :\n",
      "\"some 'x' values beyond boundary knots may cause ill-conditioned bases\"\n",
      "Warning message in bs(dis, degree = 3L, knots = c(`7.692308%` = 1.58766923076923, :\n",
      "\"some 'x' values beyond boundary knots may cause ill-conditioned bases\"\n",
      "Warning message in bs(dis, degree = 3L, knots = c(`7.692308%` = 1.58766923076923, :\n",
      "\"some 'x' values beyond boundary knots may cause ill-conditioned bases\"\n",
      "Warning message in bs(dis, degree = 3L, knots = c(`7.142857%` = 1.52291428571429, :\n",
      "\"some 'x' values beyond boundary knots may cause ill-conditioned bases\"\n"
     ]
    },
    {
     "name": "stderr",
     "output_type": "stream",
     "text": [
      "Warning message in bs(dis, degree = 3L, knots = c(`7.142857%` = 1.52291428571429, :\n",
      "\"some 'x' values beyond boundary knots may cause ill-conditioned bases\"\n"
     ]
    },
    {
     "data": {
      "image/png": "[encoded data removed]",
      "text/plain": [
       "plot without title"
      ]
     },
     "metadata": {
      "image/png": {
       "height": 420,
       "width": 420
      }
     },
     "output_type": "display_data"
    }
   ],
   "source": [
    "# F\n",
    "all.cv = rep(NA, 16)\n",
    "for (i in 3:16) {\n",
    "    lm.fit = glm(nox ~ bs(dis, df = i), data = Boston)\n",
    "    all.cv[i] = cv.glm(Boston, lm.fit, K = 10)$delta[2]\n",
    "}\n",
    "plot(3:16, all.cv[-c(1, 2)], lwd = 2, type = \"l\", xlab = \"df\", ylab = \"CV error\")"
   ]
  },
  {
   "cell_type": "code",
   "execution_count": null,
   "id": "8b781d39",
   "metadata": {},
   "outputs": [],
   "source": [
    "# Exercise 10 (p.300, Chap.7)"
   ]
  },
  {
   "cell_type": "code",
   "execution_count": 39,
   "id": "f5d4096c",
   "metadata": {},
   "outputs": [
    {
     "name": "stderr",
     "output_type": "stream",
     "text": [
      "The following objects are masked from College (pos = 4):\n",
      "\n",
      "    Accept, Apps, Books, Enroll, Expend, F.Undergrad, Grad.Rate,\n",
      "    Outstate, P.Undergrad, perc.alumni, Personal, PhD, Private,\n",
      "    Room.Board, S.F.Ratio, Terminal, Top10perc, Top25perc\n",
      "\n",
      "\n",
      "The following objects are masked from College (pos = 25):\n",
      "\n",
      "    Accept, Apps, Books, Enroll, Expend, F.Undergrad, Grad.Rate,\n",
      "    Outstate, P.Undergrad, perc.alumni, Personal, PhD, Private,\n",
      "    Room.Board, S.F.Ratio, Terminal, Top10perc, Top25perc\n",
      "\n",
      "\n"
     ]
    },
    {
     "data": {
      "text/html": [
       "543"
      ],
      "text/latex": [
       "543"
      ],
      "text/markdown": [
       "543"
      ],
      "text/plain": [
       "[1] 543"
      ]
     },
     "metadata": {},
     "output_type": "display_data"
    },
    {
     "data": {
      "text/html": [
       "234"
      ],
      "text/latex": [
       "234"
      ],
      "text/markdown": [
       "234"
      ],
      "text/plain": [
       "[1] 234"
      ]
     },
     "metadata": {},
     "output_type": "display_data"
    }
   ],
   "source": [
    "# A\n",
    "library(ISLR)\n",
    "attach(College)\n",
    "set.seed(5)\n",
    "train <- sample(nrow(College) * 0.7)\n",
    "train_set <- College[train, ]\n",
    "test_set <- College[-train, ]\n",
    "nrow(train_set)\n",
    "nrow(test_set)"
   ]
  },
  {
   "cell_type": "code",
   "execution_count": 40,
   "id": "6f9fa8be",
   "metadata": {},
   "outputs": [
    {
     "name": "stderr",
     "output_type": "stream",
     "text": [
      "Warning message:\n",
      "\"package 'leaps' is in use and will not be installed\"\n"
     ]
    },
    {
     "data": {
      "text/plain": [
       "Subset selection object\n",
       "Call: regsubsets.formula(Outstate ~ ., data = College, subset = train, \n",
       "    method = \"forward\")\n",
       "17 Variables  (and intercept)\n",
       "            Forced in Forced out\n",
       "PrivateYes      FALSE      FALSE\n",
       "Apps            FALSE      FALSE\n",
       "Accept          FALSE      FALSE\n",
       "Enroll          FALSE      FALSE\n",
       "Top10perc       FALSE      FALSE\n",
       "Top25perc       FALSE      FALSE\n",
       "F.Undergrad     FALSE      FALSE\n",
       "P.Undergrad     FALSE      FALSE\n",
       "Room.Board      FALSE      FALSE\n",
       "Books           FALSE      FALSE\n",
       "Personal        FALSE      FALSE\n",
       "PhD             FALSE      FALSE\n",
       "Terminal        FALSE      FALSE\n",
       "S.F.Ratio       FALSE      FALSE\n",
       "perc.alumni     FALSE      FALSE\n",
       "Expend          FALSE      FALSE\n",
       "Grad.Rate       FALSE      FALSE\n",
       "1 subsets of each size up to 8\n",
       "Selection Algorithm: forward\n",
       "         PrivateYes Apps Accept Enroll Top10perc Top25perc F.Undergrad\n",
       "1  ( 1 ) \" \"        \" \"  \" \"    \" \"    \" \"       \" \"       \" \"        \n",
       "2  ( 1 ) \" \"        \" \"  \" \"    \" \"    \" \"       \" \"       \" \"        \n",
       "3  ( 1 ) \"*\"        \" \"  \" \"    \" \"    \" \"       \" \"       \" \"        \n",
       "4  ( 1 ) \"*\"        \" \"  \" \"    \" \"    \" \"       \" \"       \" \"        \n",
       "5  ( 1 ) \"*\"        \" \"  \" \"    \" \"    \" \"       \" \"       \" \"        \n",
       "6  ( 1 ) \"*\"        \" \"  \" \"    \" \"    \" \"       \" \"       \" \"        \n",
       "7  ( 1 ) \"*\"        \" \"  \" \"    \" \"    \" \"       \" \"       \" \"        \n",
       "8  ( 1 ) \"*\"        \" \"  \" \"    \" \"    \" \"       \" \"       \" \"        \n",
       "         P.Undergrad Room.Board Books Personal PhD Terminal S.F.Ratio\n",
       "1  ( 1 ) \" \"         \" \"        \" \"   \" \"      \" \" \" \"      \" \"      \n",
       "2  ( 1 ) \" \"         \"*\"        \" \"   \" \"      \" \" \" \"      \" \"      \n",
       "3  ( 1 ) \" \"         \"*\"        \" \"   \" \"      \" \" \" \"      \" \"      \n",
       "4  ( 1 ) \" \"         \"*\"        \" \"   \" \"      \" \" \" \"      \" \"      \n",
       "5  ( 1 ) \" \"         \"*\"        \" \"   \" \"      \"*\" \" \"      \" \"      \n",
       "6  ( 1 ) \" \"         \"*\"        \" \"   \" \"      \"*\" \" \"      \" \"      \n",
       "7  ( 1 ) \" \"         \"*\"        \" \"   \"*\"      \"*\" \" \"      \" \"      \n",
       "8  ( 1 ) \" \"         \"*\"        \" \"   \"*\"      \"*\" \"*\"      \" \"      \n",
       "         perc.alumni Expend Grad.Rate\n",
       "1  ( 1 ) \" \"         \"*\"    \" \"      \n",
       "2  ( 1 ) \" \"         \"*\"    \" \"      \n",
       "3  ( 1 ) \" \"         \"*\"    \" \"      \n",
       "4  ( 1 ) \"*\"         \"*\"    \" \"      \n",
       "5  ( 1 ) \"*\"         \"*\"    \" \"      \n",
       "6  ( 1 ) \"*\"         \"*\"    \"*\"      \n",
       "7  ( 1 ) \"*\"         \"*\"    \"*\"      \n",
       "8  ( 1 ) \"*\"         \"*\"    \"*\"      "
      ]
     },
     "metadata": {},
     "output_type": "display_data"
    }
   ],
   "source": [
    "install.packages(\"leaps\")\n",
    "library(leaps)\n",
    "regfit.fwd <- regsubsets(Outstate ~ ., data = College, subset = train, method = 'forward')\n",
    "regfit.fwd.summary <- summary(regfit.fwd)\n",
    "regfit.fwd.summary"
   ]
  },
  {
   "cell_type": "code",
   "execution_count": 46,
   "id": "4cb026f5",
   "metadata": {},
   "outputs": [
    {
     "name": "stderr",
     "output_type": "stream",
     "text": [
      "Warning message in smooth.construct.tp.smooth.spec(object, dk$data, dk$knots):\n",
      "\"basis dimension, k, increased to minimum possible\n",
      "\"\n",
      "Warning message in smooth.construct.tp.smooth.spec(object, dk$data, dk$knots):\n",
      "\"basis dimension, k, increased to minimum possible\n",
      "\"\n",
      "Warning message in smooth.construct.tp.smooth.spec(object, dk$data, dk$knots):\n",
      "\"basis dimension, k, increased to minimum possible\n",
      "\"\n",
      "Warning message in smooth.construct.tp.smooth.spec(object, dk$data, dk$knots):\n",
      "\"basis dimension, k, increased to minimum possible\n",
      "\"\n",
      "Warning message in smooth.construct.tp.smooth.spec(object, dk$data, dk$knots):\n",
      "\"basis dimension, k, increased to minimum possible\n",
      "\"\n"
     ]
    },
    {
     "data": {
      "image/png": "[encoded data removed]",
      "text/plain": [
       "plot without title"
      ]
     },
     "metadata": {
      "image/png": {
       "height": 420,
       "width": 420
      }
     },
     "output_type": "display_data"
    }
   ],
   "source": [
    "# B\n",
    "install.packages(\"mgcv\")\n",
    "library(mgcv)\n",
    "gam_model <- gam(Outstate ~ Private + s(Room.Board, k=2) + s(PhD, k=2) + s(perc.alumni, k=2) + s(Expend, k=2) + s(Grad.Rate, k=2), data = train_set)\n",
    "par(mfrow=c(2, 3))\n",
    "plot(gam_model, se = TRUE, col = 'blue')"
   ]
  },
  {
   "cell_type": "code",
   "execution_count": 52,
   "id": "b27426c8",
   "metadata": {},
   "outputs": [
    {
     "data": {
      "text/plain": [
       "\n",
       "Family: gaussian \n",
       "Link function: identity \n",
       "\n",
       "Formula:\n",
       "Outstate ~ Private + s(Room.Board, k = 2) + s(PhD, k = 2) + s(perc.alumni, \n",
       "    k = 2) + s(Expend, k = 2) + s(Grad.Rate, k = 2)\n",
       "\n",
       "Parametric coefficients:\n",
       "            Estimate Std. Error t value Pr(>|t|)    \n",
       "(Intercept)   8800.1      217.7  40.430   <2e-16 ***\n",
       "PrivateYes    2294.4      250.3   9.166   <2e-16 ***\n",
       "---\n",
       "Signif. codes:  0 '***' 0.001 '**' 0.01 '*' 0.05 '.' 0.1 ' ' 1\n",
       "\n",
       "Approximate significance of smooth terms:\n",
       "                 edf Ref.df     F  p-value    \n",
       "s(Room.Board)  1.795  1.958 31.20  < 2e-16 ***\n",
       "s(PhD)         1.834  1.972  8.95 0.000210 ***\n",
       "s(perc.alumni) 1.000  1.000 15.12 0.000114 ***\n",
       "s(Expend)      1.974  1.999 93.45  < 2e-16 ***\n",
       "s(Grad.Rate)   1.189  1.342 21.40 5.33e-07 ***\n",
       "---\n",
       "Signif. codes:  0 '***' 0.001 '**' 0.01 '*' 0.05 '.' 0.1 ' ' 1\n",
       "\n",
       "R-sq.(adj) =  0.781   Deviance explained = 78.4%\n",
       "GCV = 3.5507e+06  Scale est. = 3.4867e+06  n = 543"
      ]
     },
     "metadata": {},
     "output_type": "display_data"
    }
   ],
   "source": [
    "# D\n",
    "summary(gam_model)"
   ]
  }
 ],
 "metadata": {
  "kernelspec": {
   "display_name": "R",
   "language": "R",
   "name": "ir"
  },
  "language_info": {
   "codemirror_mode": "r",
   "file_extension": ".r",
   "mimetype": "text/x-r-source",
   "name": "R",
   "pygments_lexer": "r",
   "version": "4.0.5"
  }
 },
 "nbformat": 4,
 "nbformat_minor": 5
}
